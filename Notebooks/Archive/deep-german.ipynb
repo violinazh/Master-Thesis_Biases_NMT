{
 "cells": [
  {
   "cell_type": "code",
   "execution_count": 2,
   "id": "c6054773-5a0d-4ba7-8515-931d36611fbb",
   "metadata": {},
   "outputs": [],
   "source": [
    "import torch\n",
    "import random\n",
    "import numpy as np\n",
    "import re\n",
    "\n",
    "SEED = 1234\n",
    "\n",
    "random.seed(SEED)\n",
    "np.random.seed(SEED)\n",
    "torch.manual_seed(SEED)\n",
    "torch.cuda.manual_seed_all(SEED)\n",
    "torch.backends.cudnn.enabled = False \n",
    "torch.backends.cudnn.benchmark = False\n",
    "torch.backends.cudnn.deterministic = True\n",
    "\n",
    "PATH=\"/export/data4/vzhekova/biases-data/Test_De/Statistics/Full_ambiguity\"\n",
    "FASTBPE=\"/home/vzhekova/fastBPE/fast\" # path to the fastBPE tool\n",
    "FAST_ALIGN=\"/home/vzhekova/fast_align/build/fast_align\" # path to the fast_align tool"
   ]
  },
  {
   "cell_type": "code",
   "execution_count": 3,
   "id": "df44496c-e232-45ee-9da9-b7b1d849a074",
   "metadata": {},
   "outputs": [
    {
     "name": "stdout",
     "output_type": "stream",
     "text": [
      "Current device: GeForce GTX 1080 Ti\n"
     ]
    }
   ],
   "source": [
    "# check if we can connect to the GPU with PyTorch\n",
    "if torch.cuda.is_available():\n",
    "    device = torch.cuda.current_device()\n",
    "    print('Current device:', torch.cuda.get_device_name(device))\n",
    "else:\n",
    "    print('Failed to find GPU. Will use CPU.')\n",
    "    device = 'cpu'"
   ]
  },
  {
   "cell_type": "code",
   "execution_count": 4,
   "id": "52e1f7bf-c15b-4095-be95-021f4e05c995",
   "metadata": {},
   "outputs": [
    {
     "name": "stdout",
     "output_type": "stream",
     "text": [
      "/export/data4/vzhekova/biases-data/Test_De/Statistics/Full_ambiguity\n"
     ]
    }
   ],
   "source": [
    "%cd $PATH"
   ]
  },
  {
   "cell_type": "markdown",
   "id": "9e47edaa-598d-44de-89e7-312cae0de995",
   "metadata": {},
   "source": [
    "## Testing gender prediction tool deep-german\n",
    "- https://github.com/aakhundov/deep-german/blob/master/evaluate_manual.py"
   ]
  },
  {
   "cell_type": "code",
   "execution_count": 4,
   "id": "42db333c-1db6-46f7-a6a8-cb8b7bbeff26",
   "metadata": {},
   "outputs": [
    {
     "name": "stdout",
     "output_type": "stream",
     "text": [
      "Cloning into 'deep-german'...\n",
      "remote: Enumerating objects: 429, done.\u001b[K\n",
      "remote: Total 429 (delta 0), reused 0 (delta 0), pack-reused 429\u001b[K\n",
      "Receiving objects: 100% (429/429), 146.49 MiB | 22.78 MiB/s, done.\n",
      "Resolving deltas: 100% (206/206), done.\n",
      "Checking connectivity... done.\n"
     ]
    }
   ],
   "source": [
    "!git clone https://github.com/aakhundov/deep-german.git"
   ]
  },
  {
   "cell_type": "code",
   "execution_count": 5,
   "id": "97c7e167-73e2-476f-85ee-76d98386eb64",
   "metadata": {},
   "outputs": [
    {
     "name": "stdout",
     "output_type": "stream",
     "text": [
      "/export/data4/vzhekova/biases-data/Test_De/Statistics/Full_ambiguity/deep-german\n"
     ]
    }
   ],
   "source": [
    "%cd ./deep-german"
   ]
  },
  {
   "cell_type": "code",
   "execution_count": 13,
   "id": "68d1075b-5032-4b65-8bc1-b203768008bd",
   "metadata": {},
   "outputs": [],
   "source": [
    "!chmod +x ./evaluate_manual.py"
   ]
  },
  {
   "cell_type": "code",
   "execution_count": 25,
   "id": "c40f6d31-8b3f-45af-b41e-5ef8b61a7076",
   "metadata": {},
   "outputs": [
    {
     "name": "stdout",
     "output_type": "stream",
     "text": [
      "Collecting package metadata (current_repodata.json): done\n",
      "Solving environment: done\n",
      "\n",
      "\n",
      "==> WARNING: A newer version of conda exists. <==\n",
      "  current version: 22.9.0\n",
      "  latest version: 23.5.0\n",
      "\n",
      "Please update conda by running\n",
      "\n",
      "    $ conda update -n base -c conda-forge conda\n",
      "\n",
      "\n",
      "\n",
      "## Package Plan ##\n",
      "\n",
      "  environment location: /home/vzhekova/miniconda3/envs/nmt\n",
      "\n",
      "  added / updated specs:\n",
      "    - tensorflow\n",
      "\n",
      "\n",
      "The following packages will be downloaded:\n",
      "\n",
      "    package                    |            build\n",
      "    ---------------------------|-----------------\n",
      "    ca-certificates-2023.5.7   |       hbcca054_0         145 KB  conda-forge\n",
      "    certifi-2023.5.7           |     pyhd8ed1ab_0         149 KB  conda-forge\n",
      "    ------------------------------------------------------------\n",
      "                                           Total:         294 KB\n",
      "\n",
      "The following packages will be SUPERSEDED by a higher-priority channel:\n",
      "\n",
      "  ca-certificates    pkgs/main::ca-certificates-2023.05.30~ --> conda-forge::ca-certificates-2023.5.7-hbcca054_0 None\n",
      "  certifi            pkgs/main/linux-64::certifi-2023.5.7-~ --> conda-forge/noarch::certifi-2023.5.7-pyhd8ed1ab_0 None\n",
      "\n",
      "\n",
      "\n",
      "Downloading and Extracting Packages\n",
      "certifi-2023.5.7     | 149 KB    | ##################################### | 100% \n",
      "ca-certificates-2023 | 145 KB    | ##################################### | 100% \n",
      "Preparing transaction: done\n",
      "Verifying transaction: done\n",
      "Executing transaction: done\n",
      "Retrieving notices: ...working... done\n"
     ]
    }
   ],
   "source": [
    "!conda install -c conda-forge tensorflow -y"
   ]
  },
  {
   "cell_type": "code",
   "execution_count": 8,
   "id": "cd95a1d8-d91c-44e8-82f8-dfb81b3e8bd2",
   "metadata": {},
   "outputs": [
    {
     "name": "stdout",
     "output_type": "stream",
     "text": [
      "Traceback (most recent call last):\n",
      "  File \"./evaluate_manual.py\", line 4, in <module>\n",
      "    import tensorflow.contrib.rnn as rnn\n",
      "ModuleNotFoundError: No module named 'tensorflow.contrib'\n"
     ]
    }
   ],
   "source": [
    "!python3 ./evaluate_manual.py"
   ]
  },
  {
   "cell_type": "code",
   "execution_count": null,
   "id": "281259b6-6213-46fe-b701-1b6605eb1fe4",
   "metadata": {},
   "outputs": [],
   "source": []
  }
 ],
 "metadata": {
  "kernelspec": {
   "display_name": "Python 3 (ipykernel)",
   "language": "python",
   "name": "python3"
  },
  "language_info": {
   "codemirror_mode": {
    "name": "ipython",
    "version": 3
   },
   "file_extension": ".py",
   "mimetype": "text/x-python",
   "name": "python",
   "nbconvert_exporter": "python",
   "pygments_lexer": "ipython3",
   "version": "3.8.17"
  }
 },
 "nbformat": 4,
 "nbformat_minor": 5
}
