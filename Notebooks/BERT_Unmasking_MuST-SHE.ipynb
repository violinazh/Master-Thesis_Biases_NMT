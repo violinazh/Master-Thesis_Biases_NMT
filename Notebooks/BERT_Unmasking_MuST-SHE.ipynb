{
 "cells": [
  {
   "cell_type": "code",
   "execution_count": 1,
   "id": "ea107ba1-8d64-4983-8383-c9647dac0715",
   "metadata": {
    "scrolled": true
   },
   "outputs": [
    {
     "name": "stdout",
     "output_type": "stream",
     "text": [
      "\n",
      "     active environment : bert\n",
      "    active env location : /home/vzhekova/miniconda3/envs/bert\n",
      "            shell level : 1\n",
      "       user config file : /home/vzhekova/.condarc\n",
      " populated config files : /home/vzhekova/.condarc\n",
      "          conda version : 23.7.2\n",
      "    conda-build version : not installed\n",
      "         python version : 3.9.16.final.0\n",
      "       virtual packages : __archspec=1=x86_64\n",
      "                          __cuda=11.2=0\n",
      "                          __glibc=2.23=0\n",
      "                          __linux=4.4.0=0\n",
      "                          __unix=0=0\n",
      "       base environment : /home/vzhekova/miniconda3  (writable)\n",
      "      conda av data dir : /home/vzhekova/miniconda3/etc/conda\n",
      "  conda av metadata url : None\n",
      "           channel URLs : https://repo.anaconda.com/pkgs/main/linux-64\n",
      "                          https://repo.anaconda.com/pkgs/main/noarch\n",
      "                          https://repo.anaconda.com/pkgs/r/linux-64\n",
      "                          https://repo.anaconda.com/pkgs/r/noarch\n",
      "          package cache : /home/vzhekova/miniconda3/pkgs\n",
      "                          /home/vzhekova/.conda/pkgs\n",
      "       envs directories : /home/vzhekova/miniconda3/envs\n",
      "                          /home/vzhekova/.conda/envs\n",
      "               platform : linux-64\n",
      "             user-agent : conda/23.7.2 requests/2.31.0 CPython/3.9.16 Linux/4.4.0-133-generic ubuntu/16.04.5 glibc/2.23\n",
      "                UID:GID : 12591:131\n",
      "             netrc file : None\n",
      "           offline mode : False\n",
      "\n",
      "\n"
     ]
    }
   ],
   "source": [
    "!conda info"
   ]
  },
  {
   "cell_type": "code",
   "execution_count": null,
   "id": "536da668-5b89-4966-bbb2-37260cd18e0c",
   "metadata": {},
   "outputs": [],
   "source": [
    "!pip uninstall tensorflow -y"
   ]
  },
  {
   "cell_type": "code",
   "execution_count": 1,
   "id": "57f93f58-b85b-4cc7-b82f-549cb93f7683",
   "metadata": {},
   "outputs": [],
   "source": [
    "PATH=\"/export/data4/vzhekova/biases-data/Test_De/Statistics/BERT\""
   ]
  },
  {
   "cell_type": "code",
   "execution_count": null,
   "id": "818d4dec-995b-42dd-b824-050d02d80cdc",
   "metadata": {},
   "outputs": [],
   "source": [
    "# Test\n",
    "from transformers import pipeline\n",
    "unmasker = pipeline('fill-mask', model='bert-base-uncased')\n",
    "filled = unmasker(\"Hello I'm a [MASK] model.\")\n",
    "for r in filled:\n",
    "    print(r['token_str'], \"->\", r['score'])\n",
    "print(filled[0]['token_str'])"
   ]
  },
  {
   "cell_type": "markdown",
   "id": "50e0424e-2872-4563-a88c-db70bc90af3c",
   "metadata": {},
   "source": [
    "# Extract sentences from MuST-SHE"
   ]
  },
  {
   "cell_type": "code",
   "execution_count": 4,
   "id": "f5ab101e-7d44-4e9c-a64a-bfc427189f86",
   "metadata": {},
   "outputs": [
    {
     "name": "stdout",
     "output_type": "stream",
     "text": [
      "/export/data4/vzhekova/biases-data/Test_De/Statistics/BERT\n"
     ]
    }
   ],
   "source": [
    "%cd $PATH"
   ]
  },
  {
   "cell_type": "code",
   "execution_count": 43,
   "id": "4fc32b51-7307-4824-826b-370853158ea9",
   "metadata": {},
   "outputs": [],
   "source": [
    "# Extract the 4th category of gender phenomena: 14M, 20F => 34 sentences total\n",
    "!awk -F '\\t' '$10 == \"4F\" || $10 == \"4M\" {print $5, $10}' en-fr.tsv > data.txt"
   ]
  },
  {
   "cell_type": "markdown",
   "id": "9b0bd409-9beb-4b36-aa19-fb7f97d462bc",
   "metadata": {},
   "source": [
    "# Masking with BERT"
   ]
  },
  {
   "cell_type": "markdown",
   "id": "d6f34040-fbed-44a1-857a-a12813e18c6e",
   "metadata": {},
   "source": [
    "- For each sentence unmask each word"
   ]
  },
  {
   "cell_type": "code",
   "execution_count": 22,
   "id": "b1c66417-a2a5-47ab-8729-5243376992a9",
   "metadata": {},
   "outputs": [
    {
     "name": "stderr",
     "output_type": "stream",
     "text": [
      "Some weights of the model checkpoint at bert-base-uncased were not used when initializing BertForMaskedLM: ['bert.pooler.dense.weight', 'bert.pooler.dense.bias', 'cls.seq_relationship.weight', 'cls.seq_relationship.bias']\n",
      "- This IS expected if you are initializing BertForMaskedLM from the checkpoint of a model trained on another task or with another architecture (e.g. initializing a BertForSequenceClassification model from a BertForPreTraining model).\n",
      "- This IS NOT expected if you are initializing BertForMaskedLM from the checkpoint of a model that you expect to be exactly identical (initializing a BertForSequenceClassification model from a BertForSequenceClassification model).\n"
     ]
    }
   ],
   "source": [
    "from transformers import pipeline\n",
    "unmasker = pipeline('fill-mask', model='bert-base-uncased')\n",
    "\n",
    "with open('samples.txt') as in_file: \n",
    "    line_counter = 1\n",
    "    for line in in_file:\n",
    "        index_token = 0\n",
    "        sentence = line.split(' ')\n",
    "        #print(sentence)\n",
    "        filename = 'sen' + str(line_counter) + '.txt'\n",
    "        with open(filename, 'w') as out_file:  # Generate a file for each original sentence\n",
    "            for token in sentence:\n",
    "                sentenceWithMask = sentence.copy()\n",
    "                sentenceWithMask[index_token] = '[MASK]'\n",
    "                #print(sentenceWithMask)\n",
    "                unmasked = unmasker(' '.join(sentenceWithMask))\n",
    "                #print(unmasked[0]['token_str'])\n",
    "                index_token += 1\n",
    "                newSentence = list(map(lambda x: x.replace('[MASK]', unmasked[0]['token_str']), sentenceWithMask))\n",
    "                #print(newSentence)\n",
    "                print(' '.join(newSentence).replace('\\n', ''), end='\\n', file=out_file)\n",
    "        line_counter += 1"
   ]
  },
  {
   "cell_type": "code",
   "execution_count": null,
   "id": "97ba342a-f2e3-4789-8ee7-cf405b69cb36",
   "metadata": {},
   "outputs": [],
   "source": []
  }
 ],
 "metadata": {
  "kernelspec": {
   "display_name": "Python 3 (ipykernel)",
   "language": "python",
   "name": "python3"
  },
  "language_info": {
   "codemirror_mode": {
    "name": "ipython",
    "version": 3
   },
   "file_extension": ".py",
   "mimetype": "text/x-python",
   "name": "python",
   "nbconvert_exporter": "python",
   "pygments_lexer": "ipython3",
   "version": "3.8.13"
  }
 },
 "nbformat": 4,
 "nbformat_minor": 5
}
