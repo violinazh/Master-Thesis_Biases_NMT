{
 "cells": [
  {
   "cell_type": "markdown",
   "id": "19617e96-c1bb-4b11-b193-266bf9f2060d",
   "metadata": {},
   "source": [
    "# En-De Translation\n",
    "Generate translations on WinoMT dataset with WMT19 En-De Transformer model"
   ]
  },
  {
   "cell_type": "code",
   "execution_count": 1,
   "id": "784b43da-eb96-4de8-87a4-956a1870103a",
   "metadata": {},
   "outputs": [],
   "source": [
    "import torch\n",
    "\n",
    "PATH=\"/export/data4/vzhekova/biases-data/En-De\""
   ]
  },
  {
   "cell_type": "code",
   "execution_count": 2,
   "id": "a8f99ea0-993e-4957-bca7-42a126f14c86",
   "metadata": {},
   "outputs": [
    {
     "name": "stdout",
     "output_type": "stream",
     "text": [
      "/export/data4/vzhekova/biases-data/En-De\n"
     ]
    }
   ],
   "source": [
    "%cd $PATH"
   ]
  },
  {
   "cell_type": "code",
   "execution_count": null,
   "id": "d2cfc161-738e-45f3-bdc5-d57737288eef",
   "metadata": {},
   "outputs": [],
   "source": []
  }
 ],
 "metadata": {
  "kernelspec": {
   "display_name": "Python 3 (ipykernel)",
   "language": "python",
   "name": "python3"
  },
  "language_info": {
   "codemirror_mode": {
    "name": "ipython",
    "version": 3
   },
   "file_extension": ".py",
   "mimetype": "text/x-python",
   "name": "python",
   "nbconvert_exporter": "python",
   "pygments_lexer": "ipython3",
   "version": "3.8.13"
  }
 },
 "nbformat": 4,
 "nbformat_minor": 5
}
