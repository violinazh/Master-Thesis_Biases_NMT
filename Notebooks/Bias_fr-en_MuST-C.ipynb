{
 "cells": [
  {
   "cell_type": "markdown",
   "id": "1ad2fbce-e9f9-494b-b876-24dd7075c7b0",
   "metadata": {
    "tags": []
   },
   "source": [
    "# Fr-En Translation\n",
    "Generate translations on MuST-C dataset with WMT14 Fr-En Transformer model"
   ]
  },
  {
   "cell_type": "code",
   "execution_count": 1,
   "id": "e383b307-023d-4c61-a0f3-301a7287412f",
   "metadata": {},
   "outputs": [
    {
     "name": "stdout",
     "output_type": "stream",
     "text": [
      "Current device: GeForce GTX 1080 Ti\n"
     ]
    }
   ],
   "source": [
    "import torch\n",
    "\n",
    "# check if we can connect to the GPU with PyTorch\n",
    "if torch.cuda.is_available():\n",
    "    device = torch.cuda.current_device()\n",
    "    print('Current device:', torch.cuda.get_device_name(device))\n",
    "else:\n",
    "    print('Failed to find GPU. Will use CPU.')\n",
    "    device = 'cpu'"
   ]
  },
  {
   "cell_type": "code",
   "execution_count": 2,
   "id": "7b57e468-be43-4174-a0ac-b43f1cd7e060",
   "metadata": {},
   "outputs": [
    {
     "name": "stdout",
     "output_type": "stream",
     "text": [
      "/export/data4/vzhekova/biases-data/Fr-En_MuST-C\n"
     ]
    }
   ],
   "source": [
    "PATH=\"/export/data4/vzhekova/biases-data/Fr-En_MuST-C\"\n",
    "\n",
    "%cd $PATH"
   ]
  },
  {
   "cell_type": "markdown",
   "id": "916fd60e-fd8e-4303-85d9-dd2e0a5f110d",
   "metadata": {},
   "source": [
    "# Data preprocessing"
   ]
  },
  {
   "cell_type": "markdown",
   "id": "63be0f1e-27e5-49fc-860c-d0f50d7f6d02",
   "metadata": {},
   "source": [
    "- Binarize data"
   ]
  },
  {
   "cell_type": "code",
   "execution_count": 8,
   "id": "372e84d2-a0af-489a-b9e8-ccea520e18bc",
   "metadata": {},
   "outputs": [
    {
     "name": "stdout",
     "output_type": "stream",
     "text": [
      "2023-03-10 15:37:31 | INFO | fairseq_cli.preprocess | Namespace(aim_repo=None, aim_run_hash=None, align_suffix=None, alignfile=None, all_gather_list_size=16384, amp=False, amp_batch_retries=2, amp_init_scale=128, amp_scale_window=None, azureml_logging=False, bf16=False, bpe=None, cpu=False, criterion='cross_entropy', dataset_impl='mmap', destdir='data-bin', dict_only=False, empty_cache_freq=0, fp16=False, fp16_init_scale=128, fp16_no_flatten_grads=False, fp16_scale_tolerance=0.0, fp16_scale_window=None, joined_dictionary=False, log_file=None, log_format=None, log_interval=100, lr_scheduler='fixed', memory_efficient_bf16=False, memory_efficient_fp16=False, min_loss_scale=0.0001, model_parallel_size=1, no_progress_bar=False, nwordssrc=-1, nwordstgt=-1, on_cpu_convert_precision=False, only_source=False, optimizer=None, padding_factor=8, plasma_path='/tmp/plasma', profile=False, quantization_config_path=None, reset_logging=False, scoring='bleu', seed=1, source_lang='fr', srcdict='wmt14_fr_en/dict.fr.txt', suppress_crashes=False, target_lang='en', task='translation', tensorboard_logdir=None, testpref='sw.tst.fr-en', tgtdict='wmt14_fr_en/dict.en.txt', threshold_loss_scale=None, thresholdsrc=0, thresholdtgt=0, tokenizer=None, tpu=False, trainpref='sw.train.fr-en', use_plasma_view=False, user_dir=None, validpref='sw.dev.fr-en', wandb_project=None, workers=8)\n",
      "2023-03-10 15:37:31 | INFO | fairseq_cli.preprocess | [fr] Dictionary: 43816 types\n",
      "2023-03-10 15:38:05 | INFO | fairseq_cli.preprocess | [fr] sw.train.fr-en.fr: 275085 sents, 6857439 tokens, 9.6% replaced (by <unk>)\n",
      "2023-03-10 15:38:05 | INFO | fairseq_cli.preprocess | [fr] Dictionary: 43816 types\n",
      "2023-03-10 15:38:05 | INFO | fairseq_cli.preprocess | [fr] sw.dev.fr-en.fr: 1412 sents, 36697 tokens, 9.1% replaced (by <unk>)\n",
      "2023-03-10 15:38:05 | INFO | fairseq_cli.preprocess | [fr] Dictionary: 43816 types\n",
      "2023-03-10 15:38:06 | INFO | fairseq_cli.preprocess | [fr] sw.tst.fr-en.fr: 2632 sents, 63660 tokens, 8.8% replaced (by <unk>)\n",
      "2023-03-10 15:38:06 | INFO | fairseq_cli.preprocess | [en] Dictionary: 43776 types\n",
      "2023-03-10 15:38:44 | INFO | fairseq_cli.preprocess | [en] sw.train.fr-en.en: 275085 sents, 6447032 tokens, 5.55% replaced (by <unk>)\n",
      "2023-03-10 15:38:44 | INFO | fairseq_cli.preprocess | [en] Dictionary: 43776 types\n",
      "2023-03-10 15:38:45 | INFO | fairseq_cli.preprocess | [en] sw.dev.fr-en.en: 1412 sents, 34541 tokens, 5.12% replaced (by <unk>)\n",
      "2023-03-10 15:38:45 | INFO | fairseq_cli.preprocess | [en] Dictionary: 43776 types\n",
      "2023-03-10 15:38:45 | INFO | fairseq_cli.preprocess | [en] sw.tst.fr-en.en: 2632 sents, 58717 tokens, 4.94% replaced (by <unk>)\n",
      "2023-03-10 15:38:45 | INFO | fairseq_cli.preprocess | Wrote preprocessed data to data-bin\n"
     ]
    }
   ],
   "source": [
    "# Binarize the data\n",
    "\n",
    "# map words appearing less than threshold times to unknown \n",
    "# reuse model dict\n",
    "!fairseq-preprocess \\\n",
    "    --source-lang fr \\\n",
    "    --target-lang en \\\n",
    "    --trainpref sw.train.fr-en \\\n",
    "    --validpref sw.dev.fr-en \\\n",
    "    --testpref sw.tst.fr-en \\\n",
    "    --srcdict wmt14_fr_en/dict.fr.txt \\\n",
    "    --tgtdict wmt14_fr_en/dict.en.txt \\\n",
    "    --destdir data-bin \\\n",
    "    --thresholdtgt 0 \\\n",
    "    --thresholdsrc 0 \\\n",
    "    --workers 8"
   ]
  },
  {
   "cell_type": "markdown",
   "id": "b75e2dd5-b616-42a5-8570-cce10ae11369",
   "metadata": {},
   "source": [
    "# Translation"
   ]
  },
  {
   "cell_type": "code",
   "execution_count": 9,
   "id": "7e459653-3fde-457d-af35-9dd5ce568449",
   "metadata": {},
   "outputs": [
    {
     "name": "stdout",
     "output_type": "stream",
     "text": [
      "/export/data4/vzhekova/biases-data/Fr-En_MuST-C\n"
     ]
    }
   ],
   "source": [
    "%cd $PATH"
   ]
  },
  {
   "cell_type": "markdown",
   "id": "b77bc09f-ccb4-4024-a2c8-38d6e5667888",
   "metadata": {},
   "source": [
    "- Beam search"
   ]
  },
  {
   "cell_type": "code",
   "execution_count": 10,
   "id": "6093dc8f-a251-45eb-a241-ededebae018f",
   "metadata": {},
   "outputs": [
    {
     "name": "stdout",
     "output_type": "stream",
     "text": [
      "2023-03-10 15:40:25 | INFO | fairseq_cli.generate | {'_name': None, 'common': {'_name': None, 'no_progress_bar': False, 'log_interval': 100, 'log_format': None, 'log_file': None, 'aim_repo': None, 'aim_run_hash': None, 'tensorboard_logdir': None, 'wandb_project': None, 'azureml_logging': False, 'seed': 1, 'cpu': False, 'tpu': False, 'bf16': False, 'memory_efficient_bf16': False, 'fp16': True, 'memory_efficient_fp16': True, 'fp16_no_flatten_grads': False, 'fp16_init_scale': 128, 'fp16_scale_window': None, 'fp16_scale_tolerance': 0.0, 'on_cpu_convert_precision': False, 'min_loss_scale': 0.0001, 'threshold_loss_scale': None, 'amp': False, 'amp_batch_retries': 2, 'amp_init_scale': 128, 'amp_scale_window': None, 'user_dir': None, 'empty_cache_freq': 0, 'all_gather_list_size': 16384, 'model_parallel_size': 1, 'quantization_config_path': None, 'profile': False, 'reset_logging': False, 'suppress_crashes': False, 'use_plasma_view': False, 'plasma_path': '/tmp/plasma'}, 'common_eval': {'_name': None, 'path': 'wmt14_fr_en/model.pt', 'post_process': 'subword_nmt', 'quiet': False, 'model_overrides': '{}', 'results_path': None}, 'distributed_training': {'_name': None, 'distributed_world_size': 1, 'distributed_num_procs': 1, 'distributed_rank': 0, 'distributed_backend': 'nccl', 'distributed_init_method': None, 'distributed_port': -1, 'device_id': 0, 'distributed_no_spawn': False, 'ddp_backend': 'pytorch_ddp', 'ddp_comm_hook': 'none', 'bucket_cap_mb': 25, 'fix_batches_to_gpus': False, 'find_unused_parameters': False, 'gradient_as_bucket_view': False, 'fast_stat_sync': False, 'heartbeat_timeout': -1, 'broadcast_buffers': False, 'slowmo_momentum': None, 'slowmo_base_algorithm': 'localsgd', 'localsgd_frequency': 3, 'nprocs_per_node': 1, 'pipeline_model_parallel': False, 'pipeline_balance': None, 'pipeline_devices': None, 'pipeline_chunks': 0, 'pipeline_encoder_balance': None, 'pipeline_encoder_devices': None, 'pipeline_decoder_balance': None, 'pipeline_decoder_devices': None, 'pipeline_checkpoint': 'never', 'zero_sharding': 'none', 'fp16': True, 'memory_efficient_fp16': True, 'tpu': False, 'no_reshard_after_forward': False, 'fp32_reduce_scatter': False, 'cpu_offload': False, 'use_sharded_state': False, 'not_fsdp_flatten_parameters': False}, 'dataset': {'_name': None, 'num_workers': 1, 'skip_invalid_size_inputs_valid_test': False, 'max_tokens': None, 'batch_size': 256, 'required_batch_size_multiple': 8, 'required_seq_len_multiple': 1, 'dataset_impl': None, 'data_buffer_size': 10, 'train_subset': 'train', 'valid_subset': 'valid', 'combine_valid_subsets': None, 'ignore_unused_valid_subsets': False, 'validate_interval': 1, 'validate_interval_updates': 0, 'validate_after_updates': 0, 'fixed_validation_seed': None, 'disable_validation': False, 'max_tokens_valid': None, 'batch_size_valid': 256, 'max_valid_steps': None, 'curriculum': 0, 'gen_subset': 'test', 'num_shards': 1, 'shard_id': 0, 'grouped_shuffling': False, 'update_epoch_batch_itr': False, 'update_ordered_indices_seed': False}, 'optimization': {'_name': None, 'max_epoch': 0, 'max_update': 0, 'stop_time_hours': 0.0, 'clip_norm': 0.0, 'sentence_avg': False, 'update_freq': [1], 'lr': [0.25], 'stop_min_lr': -1.0, 'use_bmuf': False, 'skip_remainder_batch': False}, 'checkpoint': {'_name': None, 'save_dir': 'checkpoints', 'restore_file': 'checkpoint_last.pt', 'continue_once': None, 'finetune_from_model': None, 'reset_dataloader': False, 'reset_lr_scheduler': False, 'reset_meters': False, 'reset_optimizer': False, 'optimizer_overrides': '{}', 'save_interval': 1, 'save_interval_updates': 0, 'keep_interval_updates': -1, 'keep_interval_updates_pattern': -1, 'keep_last_epochs': -1, 'keep_best_checkpoints': -1, 'no_save': False, 'no_epoch_checkpoints': False, 'no_last_checkpoints': False, 'no_save_optimizer_state': False, 'best_checkpoint_metric': 'loss', 'maximize_best_checkpoint_metric': False, 'patience': -1, 'checkpoint_suffix': '', 'checkpoint_shard_count': 1, 'load_checkpoint_on_all_dp_ranks': False, 'write_checkpoints_asynchronously': False, 'model_parallel_size': 1}, 'bmuf': {'_name': None, 'block_lr': 1.0, 'block_momentum': 0.875, 'global_sync_iter': 50, 'warmup_iterations': 500, 'use_nbm': False, 'average_sync': False, 'distributed_world_size': 1}, 'generation': {'_name': None, 'beam': 5, 'beam_mt': 0, 'nbest': 1, 'max_len_a': 0.0, 'max_len_b': 200, 'max_len_a_mt': 0.0, 'max_len_b_mt': 200, 'min_len': 1, 'match_source_len': False, 'unnormalized': False, 'no_early_stop': False, 'no_beamable_mm': False, 'lenpen': 1.0, 'lenpen_mt': 1.0, 'unkpen': 0.0, 'replace_unk': None, 'sacrebleu': False, 'score_reference': False, 'prefix_size': 0, 'no_repeat_ngram_size': 0, 'sampling': False, 'sampling_topk': -1, 'sampling_topp': -1.0, 'constraints': None, 'temperature': 1.0, 'diverse_beam_groups': -1, 'diverse_beam_strength': 0.5, 'diversity_rate': -1.0, 'print_alignment': None, 'print_step': False, 'lm_path': None, 'lm_weight': 0.0, 'iter_decode_eos_penalty': 0.0, 'iter_decode_max_iter': 10, 'iter_decode_force_max_iter': False, 'iter_decode_with_beam': 1, 'iter_decode_with_external_reranker': False, 'retain_iter_history': False, 'retain_dropout': False, 'retain_dropout_modules': None, 'decoding_format': None, 'no_seed_provided': False, 'eos_token': None}, 'eval_lm': {'_name': None, 'output_word_probs': False, 'output_word_stats': False, 'context_window': 0, 'softmax_batch': 9223372036854775807}, 'interactive': {'_name': None, 'buffer_size': 0, 'input': '-'}, 'model': {'_name': 'wav2vec2', 'extractor_mode': 'default', 'encoder_layers': 12, 'encoder_embed_dim': 768, 'encoder_ffn_embed_dim': 3072, 'encoder_attention_heads': 12, 'activation_fn': 'gelu', 'layer_type': 'transformer', 'dropout': 0.1, 'attention_dropout': 0.1, 'activation_dropout': 0.0, 'encoder_layerdrop': 0.0, 'dropout_input': 0.0, 'dropout_features': 0.0, 'final_dim': 0, 'layer_norm_first': False, 'conv_feature_layers': '[(512, 10, 5)] + [(512, 3, 2)] * 4 + [(512,2,2)] + [(512,2,2)]', 'conv_bias': False, 'logit_temp': 0.1, 'quantize_targets': False, 'quantize_input': False, 'same_quantizer': False, 'target_glu': False, 'feature_grad_mult': 1.0, 'quantizer_depth': 1, 'quantizer_factor': 3, 'latent_vars': 320, 'latent_groups': 2, 'latent_dim': 0, 'mask_length': 10, 'mask_prob': 0.65, 'mask_selection': 'static', 'mask_other': 0.0, 'no_mask_overlap': False, 'mask_min_space': 1, 'require_same_masks': True, 'mask_dropout': 0.0, 'mask_channel_length': 10, 'mask_channel_prob': 0.0, 'mask_channel_before': False, 'mask_channel_selection': 'static', 'mask_channel_other': 0.0, 'no_mask_channel_overlap': False, 'mask_channel_min_space': 1, 'num_negatives': 100, 'negatives_from_everywhere': False, 'cross_sample_negatives': 0, 'codebook_negatives': 0, 'conv_pos': 128, 'conv_pos_groups': 16, 'pos_conv_depth': 1, 'latent_temp': [2.0, 0.5, 0.999995], 'max_positions': 100000, 'checkpoint_activations': False, 'required_seq_len_multiple': 1, 'crop_seq_to_multiple': 1, 'depthwise_conv_kernel_size': 31, 'attn_type': '', 'pos_enc_type': 'abs', 'fp16': True}, 'task': {'_name': 'translation', 'data': 'data-bin', 'source_lang': 'fr', 'target_lang': 'en', 'load_alignments': False, 'left_pad_source': True, 'left_pad_target': False, 'max_source_positions': 1024, 'max_target_positions': 1024, 'upsample_primary': -1, 'truncate_source': False, 'num_batch_buckets': 0, 'train_subset': 'train', 'dataset_impl': None, 'required_seq_len_multiple': 1, 'eval_bleu': False, 'eval_bleu_args': '{}', 'eval_bleu_detok': 'space', 'eval_bleu_detok_args': '{}', 'eval_tokenized_bleu': False, 'eval_bleu_remove_bpe': None, 'eval_bleu_print_samples': False}, 'criterion': {'_name': 'cross_entropy', 'sentence_avg': True}, 'optimizer': None, 'lr_scheduler': {'_name': 'fixed', 'force_anneal': None, 'lr_shrink': 0.1, 'warmup_updates': 0, 'lr': [0.25]}, 'scoring': {'_name': 'bleu', 'pad': 1, 'eos': 2, 'unk': 3}, 'bpe': None, 'tokenizer': None, 'ema': {'_name': None, 'store_ema': False, 'ema_decay': 0.9999, 'ema_start_update': 0, 'ema_seed_model': None, 'ema_update_freq': 1, 'ema_fp32': False}}\n",
      "2023-03-10 15:40:27 | INFO | fairseq.tasks.translation | [fr] dictionary: 43816 types\n",
      "2023-03-10 15:40:27 | INFO | fairseq.tasks.translation | [en] dictionary: 43776 types\n",
      "2023-03-10 15:40:27 | INFO | fairseq_cli.generate | loading model(s) from wmt14_fr_en/model.pt\n",
      "2023-03-10 15:40:33 | INFO | fairseq.data.data_utils | loaded 2,632 examples from: data-bin/test.fr-en.fr\n",
      "2023-03-10 15:40:33 | INFO | fairseq.data.data_utils | loaded 2,632 examples from: data-bin/test.fr-en.en\n",
      "2023-03-10 15:40:33 | INFO | fairseq.tasks.translation | data-bin test fr-en 2632 examples\n",
      "2023-03-10 15:41:30 | INFO | fairseq_cli.generate | NOTE: hypothesis and token scores are output in base 2\n",
      "2023-03-10 15:41:30 | INFO | fairseq_cli.generate | Translated 2,632 sentences (56,292 tokens) in 21.5s (122.50 sentences/s, 2620.08 tokens/s)\n"
     ]
    }
   ],
   "source": [
    "# Generate translations\n",
    "!fairseq-generate data-bin  \\\n",
    "    --task translation \\\n",
    "    --source-lang fr \\\n",
    "    --target-lang en \\\n",
    "    --path wmt14_fr_en/model.pt \\\n",
    "    --beam 5 \\\n",
    "    --batch-size 256 \\\n",
    "    --memory-efficient-fp16 \\\n",
    "    --remove-bpe=subword_nmt > fr-en.decode.log"
   ]
  },
  {
   "cell_type": "markdown",
   "id": "c2a85b67-85b7-484a-af96-aae4afbb33e0",
   "metadata": {},
   "source": [
    "# Evaluation"
   ]
  },
  {
   "cell_type": "code",
   "execution_count": 11,
   "id": "7c00bfaa-2597-4023-8425-57cbc9e05f8e",
   "metadata": {},
   "outputs": [
    {
     "name": "stdout",
     "output_type": "stream",
     "text": [
      "LEGO has made it accessible .\n",
      "He will withdraw in silence .\n",
      "I am constantly getting back on track .\n",
      "The country is South Korea .\n",
      "This does not limit our burden .\n",
      "Why chose medicine ? &quot;\n",
      "This does not undermine our struggle .\n",
      "I sometimes go too strong .\n",
      "It is getting worse .\n",
      "So Scott takes this appeal .\n",
      "..........\n",
      "<<unk>> made it accessible .\n",
      "He <<unk>> into silence .\n",
      "He kept pointing here .\n",
      "One is South Korea .\n",
      "It &apos;s not our burden .\n",
      "Why did I go into medicine ?\n",
      "It &apos;s not our struggle .\n",
      "I sometimes push too hard .\n",
      "It &apos;s spreading virally .\n",
      "So Scott gets this call .\n"
     ]
    }
   ],
   "source": [
    "# Extract the hypotheses and references from the decoding log file\n",
    "!grep ^H fr-en.decode.log | sed 's/^H-//g' | cut -f 3 | sed 's/ @@//g' > ./hyp.txt\n",
    "!grep ^T fr-en.decode.log | sed 's/^T-//g' | cut -f 2 | sed 's/ @@//g' > ./ref.txt\n",
    "\n",
    "!head ./hyp.txt\n",
    "print(\"..........\")\n",
    "!head ./ref.txt"
   ]
  },
  {
   "cell_type": "code",
   "execution_count": 12,
   "id": "29d72a95-0425-43db-8b55-1601efc57145",
   "metadata": {},
   "outputs": [
    {
     "name": "stdout",
     "output_type": "stream",
     "text": [
      "Finished detokenizing.\n"
     ]
    }
   ],
   "source": [
    "# Detokenize text        \n",
    "\n",
    "md_en = MosesDetokenizer(lang='en')\n",
    "md_fr = MosesDetokenizer(lang='fr')\n",
    "\n",
    "with open('hyp.txt', encoding='utf8') as fin, open('hyp_detok.txt','w', encoding='utf8') as fout:\n",
    "    for line in fin:\n",
    "        tokens = md_en.detokenize(line.split(), return_str=True)\n",
    "        print(tokens, end='\\n', file=fout)\n",
    "        \n",
    "with open('ref.txt', encoding='utf8') as fin, open('ref_detok.txt','w', encoding='utf8') as fout:\n",
    "    for line in fin:\n",
    "        tokens = md_fr.detokenize(line.split(), return_str=True)\n",
    "        print(tokens, end='\\n', file=fout)\n",
    "\n",
    "print('Finished detokenizing.')"
   ]
  },
  {
   "cell_type": "code",
   "execution_count": 13,
   "id": "ce65399a-cded-4dd5-af53-08100b1ac838",
   "metadata": {},
   "outputs": [
    {
     "name": "stdout",
     "output_type": "stream",
     "text": [
      "LEGO has made it accessible.\n",
      "He will withdraw in silence.\n",
      "I am constantly getting back on track.\n",
      "The country is South Korea.\n",
      "This does not limit our burden.\n",
      "Why chose medicine? \"\n",
      "This does not undermine our struggle.\n",
      "I sometimes go too strong.\n",
      "It is getting worse.\n",
      "So Scott takes this appeal.\n",
      "..........\n",
      "<<unk>> made it accessible.\n",
      "He <<unk>> into silence.\n",
      "He kept pointing here.\n",
      "One is South Korea.\n",
      "It 's not our burden.\n",
      "Why did I go into medicine ?\n",
      "It 's not our struggle.\n",
      "I sometimes push too hard.\n",
      "It 's spreading virally.\n",
      "So Scott gets this call.\n"
     ]
    }
   ],
   "source": [
    "!head ./hyp_detok.txt\n",
    "print(\"..........\")\n",
    "!head ./ref_detok.txt"
   ]
  },
  {
   "cell_type": "code",
   "execution_count": 14,
   "id": "d090e99a-dc99-4b7b-a98d-3a7a25990d0f",
   "metadata": {},
   "outputs": [
    {
     "name": "stdout",
     "output_type": "stream",
     "text": [
      "{\n",
      " \"name\": \"BLEU\",\n",
      " \"score\": 19.9,\n",
      " \"signature\": \"nrefs:1|case:mixed|eff:no|tok:13a|smooth:exp|version:2.3.1\",\n",
      " \"verbose_score\": \"60.7/33.3/20.3/12.7 (BP = 0.738 ratio = 0.767 hyp_len = 50992 ref_len = 66451)\",\n",
      " \"nrefs\": \"1\",\n",
      " \"case\": \"mixed\",\n",
      " \"eff\": \"no\",\n",
      " \"tok\": \"13a\",\n",
      " \"smooth\": \"exp\",\n",
      " \"version\": \"2.3.1\"\n",
      "}\n",
      "\u001b[0m"
     ]
    }
   ],
   "source": [
    "# Evaluate the model\n",
    "# BLEU score of 19.9 (beam=5)\n",
    "!cat ./hyp_detok.txt | sacrebleu ./ref_detok.txt"
   ]
  },
  {
   "cell_type": "markdown",
   "id": "0130756d-f791-4beb-8070-9094a60b1da3",
   "metadata": {},
   "source": [
    "# Finetuning WMT14 En-Fr model on MuST-C"
   ]
  },
  {
   "cell_type": "code",
   "execution_count": 15,
   "id": "add3dc69-3afd-4c32-8ce0-6e0d87b46efc",
   "metadata": {},
   "outputs": [
    {
     "name": "stdout",
     "output_type": "stream",
     "text": [
      "2023-03-10 15:44:18 | INFO | fairseq_cli.train | {'_name': None, 'common': {'_name': None, 'no_progress_bar': False, 'log_interval': 100, 'log_format': None, 'log_file': None, 'aim_repo': None, 'aim_run_hash': None, 'tensorboard_logdir': None, 'wandb_project': None, 'azureml_logging': False, 'seed': 1, 'cpu': False, 'tpu': False, 'bf16': False, 'memory_efficient_bf16': False, 'fp16': False, 'memory_efficient_fp16': False, 'fp16_no_flatten_grads': False, 'fp16_init_scale': 128, 'fp16_scale_window': None, 'fp16_scale_tolerance': 0.0, 'on_cpu_convert_precision': False, 'min_loss_scale': 0.0001, 'threshold_loss_scale': None, 'amp': False, 'amp_batch_retries': 2, 'amp_init_scale': 128, 'amp_scale_window': None, 'user_dir': None, 'empty_cache_freq': 0, 'all_gather_list_size': 16384, 'model_parallel_size': 1, 'quantization_config_path': None, 'profile': False, 'reset_logging': False, 'suppress_crashes': False, 'use_plasma_view': False, 'plasma_path': '/tmp/plasma'}, 'common_eval': {'_name': None, 'path': None, 'post_process': None, 'quiet': False, 'model_overrides': '{}', 'results_path': None}, 'distributed_training': {'_name': None, 'distributed_world_size': 1, 'distributed_num_procs': 1, 'distributed_rank': 0, 'distributed_backend': 'nccl', 'distributed_init_method': None, 'distributed_port': -1, 'device_id': 0, 'distributed_no_spawn': False, 'ddp_backend': 'pytorch_ddp', 'ddp_comm_hook': 'none', 'bucket_cap_mb': 25, 'fix_batches_to_gpus': False, 'find_unused_parameters': False, 'gradient_as_bucket_view': False, 'fast_stat_sync': False, 'heartbeat_timeout': -1, 'broadcast_buffers': False, 'slowmo_momentum': None, 'slowmo_base_algorithm': 'localsgd', 'localsgd_frequency': 3, 'nprocs_per_node': 1, 'pipeline_model_parallel': False, 'pipeline_balance': None, 'pipeline_devices': None, 'pipeline_chunks': 0, 'pipeline_encoder_balance': None, 'pipeline_encoder_devices': None, 'pipeline_decoder_balance': None, 'pipeline_decoder_devices': None, 'pipeline_checkpoint': 'never', 'zero_sharding': 'none', 'fp16': False, 'memory_efficient_fp16': False, 'tpu': False, 'no_reshard_after_forward': False, 'fp32_reduce_scatter': False, 'cpu_offload': False, 'use_sharded_state': False, 'not_fsdp_flatten_parameters': False}, 'dataset': {'_name': None, 'num_workers': 1, 'skip_invalid_size_inputs_valid_test': False, 'max_tokens': 4096, 'batch_size': None, 'required_batch_size_multiple': 8, 'required_seq_len_multiple': 1, 'dataset_impl': None, 'data_buffer_size': 10, 'train_subset': 'train', 'valid_subset': 'valid', 'combine_valid_subsets': None, 'ignore_unused_valid_subsets': False, 'validate_interval': 1, 'validate_interval_updates': 0, 'validate_after_updates': 0, 'fixed_validation_seed': None, 'disable_validation': False, 'max_tokens_valid': 4096, 'batch_size_valid': None, 'max_valid_steps': None, 'curriculum': 0, 'gen_subset': 'test', 'num_shards': 1, 'shard_id': 0, 'grouped_shuffling': False, 'update_epoch_batch_itr': False, 'update_ordered_indices_seed': False}, 'optimization': {'_name': None, 'max_epoch': 5, 'max_update': 0, 'stop_time_hours': 0.0, 'clip_norm': 0.0, 'sentence_avg': False, 'update_freq': [1], 'lr': [0.0005], 'stop_min_lr': -1.0, 'use_bmuf': False, 'skip_remainder_batch': False}, 'checkpoint': {'_name': None, 'save_dir': 'checkpoints', 'restore_file': 'checkpoint_last.pt', 'continue_once': None, 'finetune_from_model': 'wmt14_fr_en/model.pt', 'reset_dataloader': False, 'reset_lr_scheduler': False, 'reset_meters': False, 'reset_optimizer': False, 'optimizer_overrides': '{}', 'save_interval': 1, 'save_interval_updates': 0, 'keep_interval_updates': -1, 'keep_interval_updates_pattern': -1, 'keep_last_epochs': 2, 'keep_best_checkpoints': -1, 'no_save': False, 'no_epoch_checkpoints': False, 'no_last_checkpoints': False, 'no_save_optimizer_state': False, 'best_checkpoint_metric': 'loss', 'maximize_best_checkpoint_metric': False, 'patience': -1, 'checkpoint_suffix': '', 'checkpoint_shard_count': 1, 'load_checkpoint_on_all_dp_ranks': False, 'write_checkpoints_asynchronously': False, 'model_parallel_size': 1}, 'bmuf': {'_name': None, 'block_lr': 1.0, 'block_momentum': 0.875, 'global_sync_iter': 50, 'warmup_iterations': 500, 'use_nbm': False, 'average_sync': False, 'distributed_world_size': 1}, 'generation': {'_name': None, 'beam': 5, 'beam_mt': 0, 'nbest': 1, 'max_len_a': 0.0, 'max_len_b': 200, 'max_len_a_mt': 0.0, 'max_len_b_mt': 200, 'min_len': 1, 'match_source_len': False, 'unnormalized': False, 'no_early_stop': False, 'no_beamable_mm': False, 'lenpen': 1.0, 'lenpen_mt': 1.0, 'unkpen': 0.0, 'replace_unk': None, 'sacrebleu': False, 'score_reference': False, 'prefix_size': 0, 'no_repeat_ngram_size': 0, 'sampling': False, 'sampling_topk': -1, 'sampling_topp': -1.0, 'constraints': None, 'temperature': 1.0, 'diverse_beam_groups': -1, 'diverse_beam_strength': 0.5, 'diversity_rate': -1.0, 'print_alignment': None, 'print_step': False, 'lm_path': None, 'lm_weight': 0.0, 'iter_decode_eos_penalty': 0.0, 'iter_decode_max_iter': 10, 'iter_decode_force_max_iter': False, 'iter_decode_with_beam': 1, 'iter_decode_with_external_reranker': False, 'retain_iter_history': False, 'retain_dropout': False, 'retain_dropout_modules': None, 'decoding_format': None, 'no_seed_provided': False, 'eos_token': None}, 'eval_lm': {'_name': None, 'output_word_probs': False, 'output_word_stats': False, 'context_window': 0, 'softmax_batch': 9223372036854775807}, 'interactive': {'_name': None, 'buffer_size': 0, 'input': '-'}, 'model': Namespace(_name='transformer', activation_dropout=0.0, activation_fn='relu', adam_betas='(0.9, 0.98)', adam_eps=1e-08, adaptive_input=False, adaptive_softmax_cutoff=None, adaptive_softmax_dropout=0, aim_repo=None, aim_run_hash=None, all_gather_list_size=16384, amp=False, amp_batch_retries=2, amp_init_scale=128, amp_scale_window=None, arch='transformer', attention_dropout=0.0, azureml_logging=False, batch_size=None, batch_size_valid=None, best_checkpoint_metric='loss', bf16=False, bpe=None, broadcast_buffers=False, bucket_cap_mb=25, checkpoint_activations=False, checkpoint_shard_count=1, checkpoint_suffix='', clip_norm=0.0, combine_valid_subsets=None, continue_once=None, cpu=False, cpu_offload=False, criterion='label_smoothed_cross_entropy', cross_self_attention=False, curriculum=0, data='data-bin', data_buffer_size=10, dataset_impl=None, ddp_backend='pytorch_ddp', ddp_comm_hook='none', decoder_attention_heads=8, decoder_embed_dim=512, decoder_embed_path=None, decoder_ffn_embed_dim=2048, decoder_input_dim=512, decoder_layerdrop=0, decoder_layers=6, decoder_layers_to_keep=None, decoder_learned_pos=False, decoder_normalize_before=False, decoder_output_dim=512, device_id=0, disable_validation=False, distributed_backend='nccl', distributed_init_method=None, distributed_no_spawn=False, distributed_num_procs=1, distributed_port=-1, distributed_rank=0, distributed_world_size=1, dropout=0.3, ema_decay=0.9999, ema_fp32=False, ema_seed_model=None, ema_start_update=0, ema_update_freq=1, empty_cache_freq=0, encoder_attention_heads=8, encoder_embed_dim=512, encoder_embed_path=None, encoder_ffn_embed_dim=2048, encoder_layerdrop=0, encoder_layers=6, encoder_layers_to_keep=None, encoder_learned_pos=False, encoder_normalize_before=False, eos=2, eval_bleu=False, eval_bleu_args='{}', eval_bleu_detok='space', eval_bleu_detok_args='{}', eval_bleu_print_samples=False, eval_bleu_remove_bpe=None, eval_tokenized_bleu=False, fast_stat_sync=False, find_unused_parameters=False, finetune_from_model='wmt14_fr_en/model.pt', fix_batches_to_gpus=False, fixed_validation_seed=None, fp16=False, fp16_adam_stats=False, fp16_init_scale=128, fp16_no_flatten_grads=False, fp16_scale_tolerance=0.0, fp16_scale_window=None, fp32_reduce_scatter=False, gen_subset='test', gradient_as_bucket_view=False, grouped_shuffling=False, heartbeat_timeout=-1, ignore_prefix_size=0, ignore_unused_valid_subsets=False, keep_best_checkpoints=-1, keep_interval_updates=-1, keep_interval_updates_pattern=-1, keep_last_epochs=2, label_smoothing=0.1, layernorm_embedding=False, left_pad_source=True, left_pad_target=False, load_alignments=False, load_checkpoint_on_all_dp_ranks=False, localsgd_frequency=3, log_file=None, log_format=None, log_interval=100, lr=[0.0005], lr_scheduler='inverse_sqrt', max_epoch=5, max_tokens=4096, max_tokens_valid=4096, max_update=0, max_valid_steps=None, maximize_best_checkpoint_metric=False, memory_efficient_bf16=False, memory_efficient_fp16=False, merge_src_tgt_embed=False, min_loss_scale=0.0001, model_parallel_size=1, no_cross_attention=False, no_epoch_checkpoints=False, no_last_checkpoints=False, no_progress_bar=False, no_reshard_after_forward=False, no_save=False, no_save_optimizer_state=False, no_scale_embedding=False, no_seed_provided=False, no_token_positional_embeddings=False, not_fsdp_flatten_parameters=False, nprocs_per_node=1, num_batch_buckets=0, num_shards=1, num_workers=1, offload_activations=False, on_cpu_convert_precision=False, optimizer='adam', optimizer_overrides='{}', pad=1, patience=-1, pipeline_balance=None, pipeline_checkpoint='never', pipeline_chunks=0, pipeline_decoder_balance=None, pipeline_decoder_devices=None, pipeline_devices=None, pipeline_encoder_balance=None, pipeline_encoder_devices=None, pipeline_model_parallel=False, plasma_path='/tmp/plasma', profile=False, quant_noise_pq=0, quant_noise_pq_block_size=8, quant_noise_scalar=0, quantization_config_path=None, report_accuracy=False, required_batch_size_multiple=8, required_seq_len_multiple=1, reset_dataloader=False, reset_logging=False, reset_lr_scheduler=False, reset_meters=False, reset_optimizer=False, restore_file='checkpoint_last.pt', save_dir='checkpoints', save_interval=1, save_interval_updates=0, scoring='bleu', seed=1, sentence_avg=False, shard_id=0, share_all_embeddings=False, share_decoder_input_output_embed=True, skip_invalid_size_inputs_valid_test=False, skip_remainder_batch=False, slowmo_base_algorithm='localsgd', slowmo_momentum=None, source_lang=None, stop_min_lr=-1.0, stop_time_hours=0, store_ema=False, suppress_crashes=False, target_lang=None, task='translation', tensorboard_logdir=None, threshold_loss_scale=None, tie_adaptive_weights=False, tokenizer=None, tpu=False, train_subset='train', truncate_source=False, unk=3, update_epoch_batch_itr=False, update_freq=[1], update_ordered_indices_seed=False, upsample_primary=-1, use_bmuf=False, use_old_adam=False, use_plasma_view=False, use_sharded_state=False, user_dir=None, valid_subset='valid', validate_after_updates=0, validate_interval=1, validate_interval_updates=0, wandb_project=None, warmup_init_lr=-1, warmup_updates=4000, weight_decay=0.0001, write_checkpoints_asynchronously=False, zero_sharding='none'), 'task': {'_name': 'translation', 'data': 'data-bin', 'source_lang': None, 'target_lang': None, 'load_alignments': False, 'left_pad_source': True, 'left_pad_target': False, 'max_source_positions': 1024, 'max_target_positions': 1024, 'upsample_primary': -1, 'truncate_source': False, 'num_batch_buckets': 0, 'train_subset': 'train', 'dataset_impl': None, 'required_seq_len_multiple': 1, 'eval_bleu': False, 'eval_bleu_args': '{}', 'eval_bleu_detok': 'space', 'eval_bleu_detok_args': '{}', 'eval_tokenized_bleu': False, 'eval_bleu_remove_bpe': None, 'eval_bleu_print_samples': False}, 'criterion': {'_name': 'label_smoothed_cross_entropy', 'label_smoothing': 0.1, 'report_accuracy': False, 'ignore_prefix_size': 0, 'sentence_avg': False}, 'optimizer': {'_name': 'adam', 'adam_betas': '(0.9, 0.98)', 'adam_eps': 1e-08, 'weight_decay': 0.0001, 'use_old_adam': False, 'fp16_adam_stats': False, 'tpu': False, 'lr': [0.0005]}, 'lr_scheduler': {'_name': 'inverse_sqrt', 'warmup_updates': 4000, 'warmup_init_lr': -1.0, 'lr': [0.0005]}, 'scoring': {'_name': 'bleu', 'pad': 1, 'eos': 2, 'unk': 3}, 'bpe': None, 'tokenizer': None, 'ema': {'_name': None, 'store_ema': False, 'ema_decay': 0.9999, 'ema_start_update': 0, 'ema_seed_model': None, 'ema_update_freq': 1, 'ema_fp32': False}}\n",
      "2023-03-10 15:44:19 | INFO | fairseq.tasks.translation | [fr] dictionary: 43816 types\n",
      "2023-03-10 15:44:19 | INFO | fairseq.tasks.translation | [en] dictionary: 43776 types\n",
      "2023-03-10 15:44:22 | INFO | fairseq_cli.train | TransformerModel(\n",
      "  (encoder): TransformerEncoderBase(\n",
      "    (dropout_module): FairseqDropout()\n",
      "    (embed_tokens): Embedding(43816, 512, padding_idx=1)\n",
      "    (embed_positions): SinusoidalPositionalEmbedding()\n",
      "    (layers): ModuleList(\n",
      "      (0): TransformerEncoderLayerBase(\n",
      "        (self_attn): MultiheadAttention(\n",
      "          (dropout_module): FairseqDropout()\n",
      "          (k_proj): Linear(in_features=512, out_features=512, bias=True)\n",
      "          (v_proj): Linear(in_features=512, out_features=512, bias=True)\n",
      "          (q_proj): Linear(in_features=512, out_features=512, bias=True)\n",
      "          (out_proj): Linear(in_features=512, out_features=512, bias=True)\n",
      "        )\n",
      "        (self_attn_layer_norm): LayerNorm((512,), eps=1e-05, elementwise_affine=True)\n",
      "        (dropout_module): FairseqDropout()\n",
      "        (activation_dropout_module): FairseqDropout()\n",
      "        (fc1): Linear(in_features=512, out_features=2048, bias=True)\n",
      "        (fc2): Linear(in_features=2048, out_features=512, bias=True)\n",
      "        (final_layer_norm): LayerNorm((512,), eps=1e-05, elementwise_affine=True)\n",
      "      )\n",
      "      (1): TransformerEncoderLayerBase(\n",
      "        (self_attn): MultiheadAttention(\n",
      "          (dropout_module): FairseqDropout()\n",
      "          (k_proj): Linear(in_features=512, out_features=512, bias=True)\n",
      "          (v_proj): Linear(in_features=512, out_features=512, bias=True)\n",
      "          (q_proj): Linear(in_features=512, out_features=512, bias=True)\n",
      "          (out_proj): Linear(in_features=512, out_features=512, bias=True)\n",
      "        )\n",
      "        (self_attn_layer_norm): LayerNorm((512,), eps=1e-05, elementwise_affine=True)\n",
      "        (dropout_module): FairseqDropout()\n",
      "        (activation_dropout_module): FairseqDropout()\n",
      "        (fc1): Linear(in_features=512, out_features=2048, bias=True)\n",
      "        (fc2): Linear(in_features=2048, out_features=512, bias=True)\n",
      "        (final_layer_norm): LayerNorm((512,), eps=1e-05, elementwise_affine=True)\n",
      "      )\n",
      "      (2): TransformerEncoderLayerBase(\n",
      "        (self_attn): MultiheadAttention(\n",
      "          (dropout_module): FairseqDropout()\n",
      "          (k_proj): Linear(in_features=512, out_features=512, bias=True)\n",
      "          (v_proj): Linear(in_features=512, out_features=512, bias=True)\n",
      "          (q_proj): Linear(in_features=512, out_features=512, bias=True)\n",
      "          (out_proj): Linear(in_features=512, out_features=512, bias=True)\n",
      "        )\n",
      "        (self_attn_layer_norm): LayerNorm((512,), eps=1e-05, elementwise_affine=True)\n",
      "        (dropout_module): FairseqDropout()\n",
      "        (activation_dropout_module): FairseqDropout()\n",
      "        (fc1): Linear(in_features=512, out_features=2048, bias=True)\n",
      "        (fc2): Linear(in_features=2048, out_features=512, bias=True)\n",
      "        (final_layer_norm): LayerNorm((512,), eps=1e-05, elementwise_affine=True)\n",
      "      )\n",
      "      (3): TransformerEncoderLayerBase(\n",
      "        (self_attn): MultiheadAttention(\n",
      "          (dropout_module): FairseqDropout()\n",
      "          (k_proj): Linear(in_features=512, out_features=512, bias=True)\n",
      "          (v_proj): Linear(in_features=512, out_features=512, bias=True)\n",
      "          (q_proj): Linear(in_features=512, out_features=512, bias=True)\n",
      "          (out_proj): Linear(in_features=512, out_features=512, bias=True)\n",
      "        )\n",
      "        (self_attn_layer_norm): LayerNorm((512,), eps=1e-05, elementwise_affine=True)\n",
      "        (dropout_module): FairseqDropout()\n",
      "        (activation_dropout_module): FairseqDropout()\n",
      "        (fc1): Linear(in_features=512, out_features=2048, bias=True)\n",
      "        (fc2): Linear(in_features=2048, out_features=512, bias=True)\n",
      "        (final_layer_norm): LayerNorm((512,), eps=1e-05, elementwise_affine=True)\n",
      "      )\n",
      "      (4): TransformerEncoderLayerBase(\n",
      "        (self_attn): MultiheadAttention(\n",
      "          (dropout_module): FairseqDropout()\n",
      "          (k_proj): Linear(in_features=512, out_features=512, bias=True)\n",
      "          (v_proj): Linear(in_features=512, out_features=512, bias=True)\n",
      "          (q_proj): Linear(in_features=512, out_features=512, bias=True)\n",
      "          (out_proj): Linear(in_features=512, out_features=512, bias=True)\n",
      "        )\n",
      "        (self_attn_layer_norm): LayerNorm((512,), eps=1e-05, elementwise_affine=True)\n",
      "        (dropout_module): FairseqDropout()\n",
      "        (activation_dropout_module): FairseqDropout()\n",
      "        (fc1): Linear(in_features=512, out_features=2048, bias=True)\n",
      "        (fc2): Linear(in_features=2048, out_features=512, bias=True)\n",
      "        (final_layer_norm): LayerNorm((512,), eps=1e-05, elementwise_affine=True)\n",
      "      )\n",
      "      (5): TransformerEncoderLayerBase(\n",
      "        (self_attn): MultiheadAttention(\n",
      "          (dropout_module): FairseqDropout()\n",
      "          (k_proj): Linear(in_features=512, out_features=512, bias=True)\n",
      "          (v_proj): Linear(in_features=512, out_features=512, bias=True)\n",
      "          (q_proj): Linear(in_features=512, out_features=512, bias=True)\n",
      "          (out_proj): Linear(in_features=512, out_features=512, bias=True)\n",
      "        )\n",
      "        (self_attn_layer_norm): LayerNorm((512,), eps=1e-05, elementwise_affine=True)\n",
      "        (dropout_module): FairseqDropout()\n",
      "        (activation_dropout_module): FairseqDropout()\n",
      "        (fc1): Linear(in_features=512, out_features=2048, bias=True)\n",
      "        (fc2): Linear(in_features=2048, out_features=512, bias=True)\n",
      "        (final_layer_norm): LayerNorm((512,), eps=1e-05, elementwise_affine=True)\n",
      "      )\n",
      "    )\n",
      "  )\n",
      "  (decoder): TransformerDecoderBase(\n",
      "    (dropout_module): FairseqDropout()\n",
      "    (embed_tokens): Embedding(43776, 512, padding_idx=1)\n",
      "    (embed_positions): SinusoidalPositionalEmbedding()\n",
      "    (layers): ModuleList(\n",
      "      (0): TransformerDecoderLayerBase(\n",
      "        (dropout_module): FairseqDropout()\n",
      "        (self_attn): MultiheadAttention(\n",
      "          (dropout_module): FairseqDropout()\n",
      "          (k_proj): Linear(in_features=512, out_features=512, bias=True)\n",
      "          (v_proj): Linear(in_features=512, out_features=512, bias=True)\n",
      "          (q_proj): Linear(in_features=512, out_features=512, bias=True)\n",
      "          (out_proj): Linear(in_features=512, out_features=512, bias=True)\n",
      "        )\n",
      "        (activation_dropout_module): FairseqDropout()\n",
      "        (self_attn_layer_norm): LayerNorm((512,), eps=1e-05, elementwise_affine=True)\n",
      "        (encoder_attn): MultiheadAttention(\n",
      "          (dropout_module): FairseqDropout()\n",
      "          (k_proj): Linear(in_features=512, out_features=512, bias=True)\n",
      "          (v_proj): Linear(in_features=512, out_features=512, bias=True)\n",
      "          (q_proj): Linear(in_features=512, out_features=512, bias=True)\n",
      "          (out_proj): Linear(in_features=512, out_features=512, bias=True)\n",
      "        )\n",
      "        (encoder_attn_layer_norm): LayerNorm((512,), eps=1e-05, elementwise_affine=True)\n",
      "        (fc1): Linear(in_features=512, out_features=2048, bias=True)\n",
      "        (fc2): Linear(in_features=2048, out_features=512, bias=True)\n",
      "        (final_layer_norm): LayerNorm((512,), eps=1e-05, elementwise_affine=True)\n",
      "      )\n",
      "      (1): TransformerDecoderLayerBase(\n",
      "        (dropout_module): FairseqDropout()\n",
      "        (self_attn): MultiheadAttention(\n",
      "          (dropout_module): FairseqDropout()\n",
      "          (k_proj): Linear(in_features=512, out_features=512, bias=True)\n",
      "          (v_proj): Linear(in_features=512, out_features=512, bias=True)\n",
      "          (q_proj): Linear(in_features=512, out_features=512, bias=True)\n",
      "          (out_proj): Linear(in_features=512, out_features=512, bias=True)\n",
      "        )\n",
      "        (activation_dropout_module): FairseqDropout()\n",
      "        (self_attn_layer_norm): LayerNorm((512,), eps=1e-05, elementwise_affine=True)\n",
      "        (encoder_attn): MultiheadAttention(\n",
      "          (dropout_module): FairseqDropout()\n",
      "          (k_proj): Linear(in_features=512, out_features=512, bias=True)\n",
      "          (v_proj): Linear(in_features=512, out_features=512, bias=True)\n",
      "          (q_proj): Linear(in_features=512, out_features=512, bias=True)\n",
      "          (out_proj): Linear(in_features=512, out_features=512, bias=True)\n",
      "        )\n",
      "        (encoder_attn_layer_norm): LayerNorm((512,), eps=1e-05, elementwise_affine=True)\n",
      "        (fc1): Linear(in_features=512, out_features=2048, bias=True)\n",
      "        (fc2): Linear(in_features=2048, out_features=512, bias=True)\n",
      "        (final_layer_norm): LayerNorm((512,), eps=1e-05, elementwise_affine=True)\n",
      "      )\n",
      "      (2): TransformerDecoderLayerBase(\n",
      "        (dropout_module): FairseqDropout()\n",
      "        (self_attn): MultiheadAttention(\n",
      "          (dropout_module): FairseqDropout()\n",
      "          (k_proj): Linear(in_features=512, out_features=512, bias=True)\n",
      "          (v_proj): Linear(in_features=512, out_features=512, bias=True)\n",
      "          (q_proj): Linear(in_features=512, out_features=512, bias=True)\n",
      "          (out_proj): Linear(in_features=512, out_features=512, bias=True)\n",
      "        )\n",
      "        (activation_dropout_module): FairseqDropout()\n",
      "        (self_attn_layer_norm): LayerNorm((512,), eps=1e-05, elementwise_affine=True)\n",
      "        (encoder_attn): MultiheadAttention(\n",
      "          (dropout_module): FairseqDropout()\n",
      "          (k_proj): Linear(in_features=512, out_features=512, bias=True)\n",
      "          (v_proj): Linear(in_features=512, out_features=512, bias=True)\n",
      "          (q_proj): Linear(in_features=512, out_features=512, bias=True)\n",
      "          (out_proj): Linear(in_features=512, out_features=512, bias=True)\n",
      "        )\n",
      "        (encoder_attn_layer_norm): LayerNorm((512,), eps=1e-05, elementwise_affine=True)\n",
      "        (fc1): Linear(in_features=512, out_features=2048, bias=True)\n",
      "        (fc2): Linear(in_features=2048, out_features=512, bias=True)\n",
      "        (final_layer_norm): LayerNorm((512,), eps=1e-05, elementwise_affine=True)\n",
      "      )\n",
      "      (3): TransformerDecoderLayerBase(\n",
      "        (dropout_module): FairseqDropout()\n",
      "        (self_attn): MultiheadAttention(\n",
      "          (dropout_module): FairseqDropout()\n",
      "          (k_proj): Linear(in_features=512, out_features=512, bias=True)\n",
      "          (v_proj): Linear(in_features=512, out_features=512, bias=True)\n",
      "          (q_proj): Linear(in_features=512, out_features=512, bias=True)\n",
      "          (out_proj): Linear(in_features=512, out_features=512, bias=True)\n",
      "        )\n",
      "        (activation_dropout_module): FairseqDropout()\n",
      "        (self_attn_layer_norm): LayerNorm((512,), eps=1e-05, elementwise_affine=True)\n",
      "        (encoder_attn): MultiheadAttention(\n",
      "          (dropout_module): FairseqDropout()\n",
      "          (k_proj): Linear(in_features=512, out_features=512, bias=True)\n",
      "          (v_proj): Linear(in_features=512, out_features=512, bias=True)\n",
      "          (q_proj): Linear(in_features=512, out_features=512, bias=True)\n",
      "          (out_proj): Linear(in_features=512, out_features=512, bias=True)\n",
      "        )\n",
      "        (encoder_attn_layer_norm): LayerNorm((512,), eps=1e-05, elementwise_affine=True)\n",
      "        (fc1): Linear(in_features=512, out_features=2048, bias=True)\n",
      "        (fc2): Linear(in_features=2048, out_features=512, bias=True)\n",
      "        (final_layer_norm): LayerNorm((512,), eps=1e-05, elementwise_affine=True)\n",
      "      )\n",
      "      (4): TransformerDecoderLayerBase(\n",
      "        (dropout_module): FairseqDropout()\n",
      "        (self_attn): MultiheadAttention(\n",
      "          (dropout_module): FairseqDropout()\n",
      "          (k_proj): Linear(in_features=512, out_features=512, bias=True)\n",
      "          (v_proj): Linear(in_features=512, out_features=512, bias=True)\n",
      "          (q_proj): Linear(in_features=512, out_features=512, bias=True)\n",
      "          (out_proj): Linear(in_features=512, out_features=512, bias=True)\n",
      "        )\n",
      "        (activation_dropout_module): FairseqDropout()\n",
      "        (self_attn_layer_norm): LayerNorm((512,), eps=1e-05, elementwise_affine=True)\n",
      "        (encoder_attn): MultiheadAttention(\n",
      "          (dropout_module): FairseqDropout()\n",
      "          (k_proj): Linear(in_features=512, out_features=512, bias=True)\n",
      "          (v_proj): Linear(in_features=512, out_features=512, bias=True)\n",
      "          (q_proj): Linear(in_features=512, out_features=512, bias=True)\n",
      "          (out_proj): Linear(in_features=512, out_features=512, bias=True)\n",
      "        )\n",
      "        (encoder_attn_layer_norm): LayerNorm((512,), eps=1e-05, elementwise_affine=True)\n",
      "        (fc1): Linear(in_features=512, out_features=2048, bias=True)\n",
      "        (fc2): Linear(in_features=2048, out_features=512, bias=True)\n",
      "        (final_layer_norm): LayerNorm((512,), eps=1e-05, elementwise_affine=True)\n",
      "      )\n",
      "      (5): TransformerDecoderLayerBase(\n",
      "        (dropout_module): FairseqDropout()\n",
      "        (self_attn): MultiheadAttention(\n",
      "          (dropout_module): FairseqDropout()\n",
      "          (k_proj): Linear(in_features=512, out_features=512, bias=True)\n",
      "          (v_proj): Linear(in_features=512, out_features=512, bias=True)\n",
      "          (q_proj): Linear(in_features=512, out_features=512, bias=True)\n",
      "          (out_proj): Linear(in_features=512, out_features=512, bias=True)\n",
      "        )\n",
      "        (activation_dropout_module): FairseqDropout()\n",
      "        (self_attn_layer_norm): LayerNorm((512,), eps=1e-05, elementwise_affine=True)\n",
      "        (encoder_attn): MultiheadAttention(\n",
      "          (dropout_module): FairseqDropout()\n",
      "          (k_proj): Linear(in_features=512, out_features=512, bias=True)\n",
      "          (v_proj): Linear(in_features=512, out_features=512, bias=True)\n",
      "          (q_proj): Linear(in_features=512, out_features=512, bias=True)\n",
      "          (out_proj): Linear(in_features=512, out_features=512, bias=True)\n",
      "        )\n",
      "        (encoder_attn_layer_norm): LayerNorm((512,), eps=1e-05, elementwise_affine=True)\n",
      "        (fc1): Linear(in_features=512, out_features=2048, bias=True)\n",
      "        (fc2): Linear(in_features=2048, out_features=512, bias=True)\n",
      "        (final_layer_norm): LayerNorm((512,), eps=1e-05, elementwise_affine=True)\n",
      "      )\n",
      "    )\n",
      "    (output_projection): Linear(in_features=512, out_features=43776, bias=False)\n",
      "  )\n",
      ")\n",
      "2023-03-10 15:44:22 | INFO | fairseq_cli.train | task: TranslationTask\n",
      "2023-03-10 15:44:22 | INFO | fairseq_cli.train | model: TransformerModel\n",
      "2023-03-10 15:44:22 | INFO | fairseq_cli.train | criterion: LabelSmoothedCrossEntropyCriterion\n",
      "2023-03-10 15:44:22 | INFO | fairseq_cli.train | num. shared model params: 88,985,600 (num. trained: 88,985,600)\n",
      "2023-03-10 15:44:22 | INFO | fairseq_cli.train | num. expert model params: 0 (num. trained: 0)\n",
      "2023-03-10 15:44:22 | INFO | fairseq.data.data_utils | loaded 1,412 examples from: data-bin/valid.fr-en.fr\n",
      "2023-03-10 15:44:22 | INFO | fairseq.data.data_utils | loaded 1,412 examples from: data-bin/valid.fr-en.en\n",
      "2023-03-10 15:44:22 | INFO | fairseq.tasks.translation | data-bin valid fr-en 1412 examples\n",
      "2023-03-10 15:44:26 | INFO | fairseq.trainer | detected shared parameter: decoder.embed_tokens.weight <- decoder.output_projection.weight\n",
      "2023-03-10 15:44:26 | INFO | fairseq.utils | ***********************CUDA enviroments for all 1 workers***********************\n",
      "2023-03-10 15:44:26 | INFO | fairseq.utils | rank   0: capabilities =  6.1  ; total memory = 10.917 GB ; name = GeForce GTX 1080 Ti                     \n",
      "2023-03-10 15:44:26 | INFO | fairseq.utils | ***********************CUDA enviroments for all 1 workers***********************\n",
      "2023-03-10 15:44:26 | INFO | fairseq_cli.train | training on 1 devices (GPUs/TPUs)\n",
      "2023-03-10 15:44:26 | INFO | fairseq_cli.train | max tokens per device = 4096 and max sentences per device = None\n",
      "2023-03-10 15:44:26 | INFO | fairseq.checkpoint_utils | loading pretrained model from wmt14_fr_en/model.pt: optimizer, lr scheduler, meters, dataloader will be reset\n",
      "2023-03-10 15:44:26 | INFO | fairseq.trainer | Preparing to load checkpoint wmt14_fr_en/model.pt\n",
      "2023-03-10 15:44:28 | INFO | fairseq.trainer | Loaded checkpoint wmt14_fr_en/model.pt (epoch 6 @ 0 updates)\n",
      "2023-03-10 15:44:28 | INFO | fairseq.trainer | loading train data for epoch 1\n",
      "2023-03-10 15:44:28 | INFO | fairseq.data.data_utils | loaded 275,085 examples from: data-bin/train.fr-en.fr\n",
      "2023-03-10 15:44:28 | INFO | fairseq.data.data_utils | loaded 275,085 examples from: data-bin/train.fr-en.en\n",
      "2023-03-10 15:44:28 | INFO | fairseq.tasks.translation | data-bin train fr-en 275085 examples\n",
      "2023-03-10 15:44:28 | INFO | fairseq.data.iterators | grouped total_num_itrs = 1874\n",
      "epoch 001:   0%|                                       | 0/1874 [00:00<?, ?it/s]2023-03-10 15:44:28 | INFO | fairseq.trainer | begin training epoch 1\n",
      "2023-03-10 15:44:28 | INFO | fairseq_cli.train | Start iterating over samples\n",
      "/home/vzhekova/fairseq/fairseq/utils.py:374: UserWarning: amp_C fused kernels unavailable, disabling multi_tensor_l2norm; you may get better performance by installing NVIDIA's apex library\n",
      "  warnings.warn(\n",
      "epoch 001: 100%|▉| 1873/1874 [10:49<00:00,  2.94it/s, loss=4.51, nll_loss=2.915,2023-03-10 15:55:18 | INFO | fairseq_cli.train | begin validation on \"valid\" subset\n",
      "\n",
      "epoch 001 | valid on 'valid' subset:   0%|               | 0/18 [00:00<?, ?it/s]\u001b[A\n",
      "epoch 001 | valid on 'valid' subset:   6%|▍      | 1/18 [00:00<00:04,  4.00it/s]\u001b[A\n",
      "epoch 001 | valid on 'valid' subset:  17%|█▏     | 3/18 [00:00<00:01,  7.69it/s]\u001b[A\n",
      "epoch 001 | valid on 'valid' subset:  28%|█▉     | 5/18 [00:00<00:01,  9.03it/s]\u001b[A\n",
      "epoch 001 | valid on 'valid' subset:  39%|██▋    | 7/18 [00:00<00:01,  9.78it/s]\u001b[A\n",
      "epoch 001 | valid on 'valid' subset:  50%|███▌   | 9/18 [00:00<00:00, 10.41it/s]\u001b[A\n",
      "epoch 001 | valid on 'valid' subset:  61%|███▋  | 11/18 [00:01<00:00, 10.77it/s]\u001b[A\n",
      "epoch 001 | valid on 'valid' subset:  72%|████▎ | 13/18 [00:01<00:00, 10.59it/s]\u001b[A\n",
      "epoch 001 | valid on 'valid' subset:  83%|█████ | 15/18 [00:01<00:00, 11.06it/s]\u001b[A\n",
      "epoch 001 | valid on 'valid' subset:  94%|█████▋| 17/18 [00:01<00:00, 12.14it/s]\u001b[A\n",
      "                                                                                \u001b[A2023-03-10 15:55:20 | INFO | valid | epoch 001 | valid on 'valid' subset | loss 4.437 | nll_loss 2.785 | ppl 6.89 | wps 22488.7 | wpb 1918.9 | bsz 78.4 | num_updates 1874\n",
      "2023-03-10 15:55:20 | INFO | fairseq.checkpoint_utils | Preparing to save checkpoint for epoch 1 @ 1874 updates\n",
      "2023-03-10 15:55:20 | INFO | fairseq.trainer | Saving checkpoint to /export/data4/vzhekova/biases-data/Fr-En_MuST-C/checkpoints/checkpoint1.pt\n",
      "2023-03-10 15:55:24 | INFO | fairseq.trainer | Finished saving checkpoint to /export/data4/vzhekova/biases-data/Fr-En_MuST-C/checkpoints/checkpoint1.pt\n",
      "2023-03-10 15:55:28 | INFO | fairseq.checkpoint_utils | Saved checkpoint checkpoints/checkpoint1.pt (epoch 1 @ 1874 updates, score 4.437) (writing took 7.886550692841411 seconds)\n",
      "2023-03-10 15:55:28 | INFO | fairseq_cli.train | end of epoch 1 (average epoch stats below)\n",
      "2023-03-10 15:55:28 | INFO | train | epoch 001 | loss 4.692 | nll_loss 3.123 | ppl 8.71 | wps 9798.6 | ups 2.85 | wpb 3440.3 | bsz 146.8 | num_updates 1874 | lr 0.00023425 | gnorm 5.337 | train_wall 639 | gb_free 6.8 | wall 662\n",
      "2023-03-10 15:55:28 | INFO | fairseq.data.iterators | grouped total_num_itrs = 1874\n",
      "epoch 002:   0%|                                       | 0/1874 [00:00<?, ?it/s]2023-03-10 15:55:28 | INFO | fairseq.trainer | begin training epoch 2\n",
      "2023-03-10 15:55:28 | INFO | fairseq_cli.train | Start iterating over samples\n",
      "epoch 002: 100%|▉| 1873/1874 [10:48<00:00,  2.95it/s, loss=4.606, nll_loss=3.0182023-03-10 16:06:17 | INFO | fairseq_cli.train | begin validation on \"valid\" subset\n",
      "\n",
      "epoch 002 | valid on 'valid' subset:   0%|               | 0/18 [00:00<?, ?it/s]\u001b[A\n",
      "epoch 002 | valid on 'valid' subset:   6%|▍      | 1/18 [00:00<00:04,  3.80it/s]\u001b[A\n",
      "epoch 002 | valid on 'valid' subset:  17%|█▏     | 3/18 [00:00<00:02,  7.37it/s]\u001b[A\n",
      "epoch 002 | valid on 'valid' subset:  28%|█▉     | 5/18 [00:00<00:01,  8.77it/s]\u001b[A\n",
      "epoch 002 | valid on 'valid' subset:  39%|██▋    | 7/18 [00:00<00:01,  9.57it/s]\u001b[A\n",
      "epoch 002 | valid on 'valid' subset:  50%|███▌   | 9/18 [00:00<00:00, 10.23it/s]\u001b[A\n",
      "epoch 002 | valid on 'valid' subset:  61%|███▋  | 11/18 [00:01<00:00, 10.65it/s]\u001b[A\n",
      "epoch 002 | valid on 'valid' subset:  72%|████▎ | 13/18 [00:01<00:00, 10.33it/s]\u001b[A\n",
      "epoch 002 | valid on 'valid' subset:  83%|█████ | 15/18 [00:01<00:00, 10.78it/s]\u001b[A\n",
      "epoch 002 | valid on 'valid' subset:  94%|█████▋| 17/18 [00:01<00:00, 11.88it/s]\u001b[A\n",
      "                                                                                \u001b[A2023-03-10 16:06:19 | INFO | valid | epoch 002 | valid on 'valid' subset | loss 4.461 | nll_loss 2.813 | ppl 7.03 | wps 22008.2 | wpb 1918.9 | bsz 78.4 | num_updates 3748 | best_loss 4.437\n",
      "2023-03-10 16:06:19 | INFO | fairseq.checkpoint_utils | Preparing to save checkpoint for epoch 2 @ 3748 updates\n",
      "2023-03-10 16:06:19 | INFO | fairseq.trainer | Saving checkpoint to /export/data4/vzhekova/biases-data/Fr-En_MuST-C/checkpoints/checkpoint2.pt\n",
      "2023-03-10 16:06:23 | INFO | fairseq.trainer | Finished saving checkpoint to /export/data4/vzhekova/biases-data/Fr-En_MuST-C/checkpoints/checkpoint2.pt\n",
      "2023-03-10 16:06:36 | INFO | fairseq.checkpoint_utils | Saved checkpoint checkpoints/checkpoint2.pt (epoch 2 @ 3748 updates, score 4.461) (writing took 17.506878228858113 seconds)\n",
      "2023-03-10 16:06:37 | INFO | fairseq_cli.train | end of epoch 2 (average epoch stats below)\n",
      "2023-03-10 16:06:37 | INFO | train | epoch 002 | loss 4.521 | nll_loss 2.922 | ppl 7.58 | wps 9630.8 | ups 2.8 | wpb 3440.3 | bsz 146.8 | num_updates 3748 | lr 0.0004685 | gnorm 5.231 | train_wall 638 | gb_free 6.4 | wall 1331\n",
      "2023-03-10 16:06:37 | INFO | fairseq.data.iterators | grouped total_num_itrs = 1874\n",
      "epoch 003:   0%|                                       | 0/1874 [00:00<?, ?it/s]2023-03-10 16:06:37 | INFO | fairseq.trainer | begin training epoch 3\n",
      "2023-03-10 16:06:37 | INFO | fairseq_cli.train | Start iterating over samples\n",
      "epoch 003: 100%|▉| 1873/1874 [10:46<00:00,  2.97it/s, loss=4.529, nll_loss=2.9312023-03-10 16:17:24 | INFO | fairseq_cli.train | begin validation on \"valid\" subset\n",
      "\n",
      "epoch 003 | valid on 'valid' subset:   0%|               | 0/18 [00:00<?, ?it/s]\u001b[A\n",
      "epoch 003 | valid on 'valid' subset:   6%|▍      | 1/18 [00:00<00:04,  3.88it/s]\u001b[A\n",
      "epoch 003 | valid on 'valid' subset:  17%|█▏     | 3/18 [00:00<00:02,  7.47it/s]\u001b[A\n",
      "epoch 003 | valid on 'valid' subset:  28%|█▉     | 5/18 [00:00<00:01,  8.86it/s]\u001b[A\n",
      "epoch 003 | valid on 'valid' subset:  39%|██▋    | 7/18 [00:00<00:01,  9.68it/s]\u001b[A\n",
      "epoch 003 | valid on 'valid' subset:  50%|███▌   | 9/18 [00:00<00:00, 10.31it/s]\u001b[A\n",
      "epoch 003 | valid on 'valid' subset:  61%|███▋  | 11/18 [00:01<00:00, 10.76it/s]\u001b[A\n",
      "epoch 003 | valid on 'valid' subset:  72%|████▎ | 13/18 [00:01<00:00, 10.54it/s]\u001b[A\n",
      "epoch 003 | valid on 'valid' subset:  83%|█████ | 15/18 [00:01<00:00, 11.02it/s]\u001b[A\n",
      "epoch 003 | valid on 'valid' subset:  94%|█████▋| 17/18 [00:01<00:00, 12.08it/s]\u001b[A\n",
      "                                                                                \u001b[A2023-03-10 16:17:26 | INFO | valid | epoch 003 | valid on 'valid' subset | loss 4.405 | nll_loss 2.731 | ppl 6.64 | wps 22361.6 | wpb 1918.9 | bsz 78.4 | num_updates 5622 | best_loss 4.405\n",
      "2023-03-10 16:17:26 | INFO | fairseq.checkpoint_utils | Preparing to save checkpoint for epoch 3 @ 5622 updates\n",
      "2023-03-10 16:17:26 | INFO | fairseq.trainer | Saving checkpoint to /export/data4/vzhekova/biases-data/Fr-En_MuST-C/checkpoints/checkpoint3.pt\n",
      "2023-03-10 16:17:30 | INFO | fairseq.trainer | Finished saving checkpoint to /export/data4/vzhekova/biases-data/Fr-En_MuST-C/checkpoints/checkpoint3.pt\n",
      "2023-03-10 16:17:57 | INFO | fairseq.checkpoint_utils | Saved checkpoint checkpoints/checkpoint3.pt (epoch 3 @ 5622 updates, score 4.405) (writing took 31.049599543213844 seconds)\n",
      "2023-03-10 16:18:01 | INFO | fairseq_cli.train | end of epoch 3 (average epoch stats below)\n",
      "2023-03-10 16:18:01 | INFO | train | epoch 003 | loss 4.484 | nll_loss 2.879 | ppl 7.36 | wps 9434.1 | ups 2.74 | wpb 3440.3 | bsz 146.8 | num_updates 5622 | lr 0.00042175 | gnorm 4.756 | train_wall 636 | gb_free 6.6 | wall 2015\n",
      "2023-03-10 16:18:01 | INFO | fairseq.data.iterators | grouped total_num_itrs = 1874\n",
      "epoch 004:   0%|                                       | 0/1874 [00:00<?, ?it/s]2023-03-10 16:18:01 | INFO | fairseq.trainer | begin training epoch 4\n",
      "2023-03-10 16:18:01 | INFO | fairseq_cli.train | Start iterating over samples\n",
      "epoch 004: 100%|▉| 1873/1874 [10:45<00:00,  3.09it/s, loss=4.343, nll_loss=2.7242023-03-10 16:28:46 | INFO | fairseq_cli.train | begin validation on \"valid\" subset\n",
      "\n",
      "epoch 004 | valid on 'valid' subset:   0%|               | 0/18 [00:00<?, ?it/s]\u001b[A\n",
      "epoch 004 | valid on 'valid' subset:   6%|▍      | 1/18 [00:00<00:04,  3.93it/s]\u001b[A\n",
      "epoch 004 | valid on 'valid' subset:  17%|█▏     | 3/18 [00:00<00:02,  7.44it/s]\u001b[A\n",
      "epoch 004 | valid on 'valid' subset:  28%|█▉     | 5/18 [00:00<00:01,  8.85it/s]\u001b[A\n",
      "epoch 004 | valid on 'valid' subset:  39%|██▋    | 7/18 [00:00<00:01,  9.71it/s]\u001b[A\n",
      "epoch 004 | valid on 'valid' subset:  50%|███▌   | 9/18 [00:00<00:00, 10.39it/s]\u001b[A\n",
      "epoch 004 | valid on 'valid' subset:  61%|███▋  | 11/18 [00:01<00:00, 10.74it/s]\u001b[A\n",
      "epoch 004 | valid on 'valid' subset:  72%|████▎ | 13/18 [00:01<00:00, 10.42it/s]\u001b[A\n",
      "epoch 004 | valid on 'valid' subset:  83%|█████ | 15/18 [00:01<00:00, 10.91it/s]\u001b[A\n",
      "epoch 004 | valid on 'valid' subset:  94%|█████▋| 17/18 [00:01<00:00, 12.03it/s]\u001b[A\n",
      "                                                                                \u001b[A2023-03-10 16:28:48 | INFO | valid | epoch 004 | valid on 'valid' subset | loss 4.317 | nll_loss 2.671 | ppl 6.37 | wps 22241.1 | wpb 1918.9 | bsz 78.4 | num_updates 7496 | best_loss 4.317\n",
      "2023-03-10 16:28:48 | INFO | fairseq.checkpoint_utils | Preparing to save checkpoint for epoch 4 @ 7496 updates\n",
      "2023-03-10 16:28:48 | INFO | fairseq.trainer | Saving checkpoint to /export/data4/vzhekova/biases-data/Fr-En_MuST-C/checkpoints/checkpoint4.pt\n",
      "2023-03-10 16:28:52 | INFO | fairseq.trainer | Finished saving checkpoint to /export/data4/vzhekova/biases-data/Fr-En_MuST-C/checkpoints/checkpoint4.pt\n",
      "2023-03-10 16:29:19 | INFO | fairseq.checkpoint_utils | Saved checkpoint checkpoints/checkpoint4.pt (epoch 4 @ 7496 updates, score 4.317) (writing took 30.749444399029016 seconds)\n",
      "2023-03-10 16:29:20 | INFO | fairseq_cli.train | end of epoch 4 (average epoch stats below)\n",
      "2023-03-10 16:29:20 | INFO | train | epoch 004 | loss 4.337 | nll_loss 2.715 | ppl 6.57 | wps 9488.2 | ups 2.76 | wpb 3440.3 | bsz 146.8 | num_updates 7496 | lr 0.000365246 | gnorm 3.894 | train_wall 635 | gb_free 6.4 | wall 2694\n",
      "2023-03-10 16:29:20 | INFO | fairseq.data.iterators | grouped total_num_itrs = 1874\n",
      "epoch 005:   0%|                                       | 0/1874 [00:00<?, ?it/s]2023-03-10 16:29:20 | INFO | fairseq.trainer | begin training epoch 5\n",
      "2023-03-10 16:29:20 | INFO | fairseq_cli.train | Start iterating over samples\n",
      "epoch 005: 100%|▉| 1873/1874 [10:41<00:00,  2.83it/s, loss=4.246, nll_loss=2.6142023-03-10 16:40:02 | INFO | fairseq_cli.train | begin validation on \"valid\" subset\n",
      "\n",
      "epoch 005 | valid on 'valid' subset:   0%|               | 0/18 [00:00<?, ?it/s]\u001b[A\n",
      "epoch 005 | valid on 'valid' subset:   6%|▍      | 1/18 [00:00<00:04,  4.03it/s]\u001b[A\n",
      "epoch 005 | valid on 'valid' subset:  17%|█▏     | 3/18 [00:00<00:02,  7.45it/s]\u001b[A\n",
      "epoch 005 | valid on 'valid' subset:  28%|█▉     | 5/18 [00:00<00:01,  8.76it/s]\u001b[A\n",
      "epoch 005 | valid on 'valid' subset:  39%|██▋    | 7/18 [00:00<00:01,  9.51it/s]\u001b[A\n",
      "epoch 005 | valid on 'valid' subset:  50%|███▌   | 9/18 [00:00<00:00, 10.06it/s]\u001b[A\n",
      "epoch 005 | valid on 'valid' subset:  61%|███▋  | 11/18 [00:01<00:00, 10.56it/s]\u001b[A\n",
      "epoch 005 | valid on 'valid' subset:  72%|████▎ | 13/18 [00:01<00:00, 10.41it/s]\u001b[A\n",
      "epoch 005 | valid on 'valid' subset:  83%|█████ | 15/18 [00:01<00:00, 10.93it/s]\u001b[A\n",
      "epoch 005 | valid on 'valid' subset:  94%|█████▋| 17/18 [00:01<00:00, 12.02it/s]\u001b[A\n",
      "                                                                                \u001b[A2023-03-10 16:40:04 | INFO | valid | epoch 005 | valid on 'valid' subset | loss 4.298 | nll_loss 2.612 | ppl 6.11 | wps 21991.3 | wpb 1918.9 | bsz 78.4 | num_updates 9370 | best_loss 4.298\n",
      "2023-03-10 16:40:04 | INFO | fairseq.checkpoint_utils | Preparing to save checkpoint for epoch 5 @ 9370 updates\n",
      "2023-03-10 16:40:04 | INFO | fairseq.trainer | Saving checkpoint to /export/data4/vzhekova/biases-data/Fr-En_MuST-C/checkpoints/checkpoint5.pt\n",
      "2023-03-10 16:40:08 | INFO | fairseq.trainer | Finished saving checkpoint to /export/data4/vzhekova/biases-data/Fr-En_MuST-C/checkpoints/checkpoint5.pt\n",
      "2023-03-10 16:40:40 | INFO | fairseq.checkpoint_utils | Saved checkpoint checkpoints/checkpoint5.pt (epoch 5 @ 9370 updates, score 4.298) (writing took 36.26152904704213 seconds)\n",
      "2023-03-10 16:40:41 | INFO | fairseq_cli.train | end of epoch 5 (average epoch stats below)\n",
      "2023-03-10 16:40:41 | INFO | train | epoch 005 | loss 4.241 | nll_loss 2.607 | ppl 6.09 | wps 9469.2 | ups 2.75 | wpb 3440.3 | bsz 146.8 | num_updates 9370 | lr 0.000326686 | gnorm 3.513 | train_wall 631 | gb_free 6.5 | wall 3375\n",
      "2023-03-10 16:40:41 | INFO | fairseq_cli.train | done training in 3372.5 seconds\n"
     ]
    }
   ],
   "source": [
    "!CUDA_VISIBLE_DEVICES=0 fairseq-train data-bin \\\n",
    "    --arch transformer --share-decoder-input-output-embed \\\n",
    "    --optimizer adam --adam-betas '(0.9, 0.98)' --clip-norm 0.0 \\\n",
    "    --lr 5e-4 --lr-scheduler inverse_sqrt --warmup-updates 4000 \\\n",
    "    --dropout 0.3 --weight-decay 0.0001 \\\n",
    "    --criterion label_smoothed_cross_entropy --label-smoothing 0.1 \\\n",
    "    --keep-last-epochs 2 \\\n",
    "    --max-tokens 4096 \\\n",
    "    --max-epoch 5 \\\n",
    "    --finetune-from-model wmt14_fr_en/model.pt\t"
   ]
  },
  {
   "cell_type": "markdown",
   "id": "36d79e67-df77-489b-9521-2cd7e99ca688",
   "metadata": {},
   "source": [
    "- Translation"
   ]
  },
  {
   "cell_type": "code",
   "execution_count": 16,
   "id": "67021749-3604-436c-86ab-4b76ffabb068",
   "metadata": {},
   "outputs": [
    {
     "name": "stdout",
     "output_type": "stream",
     "text": [
      "/export/data4/vzhekova/biases-data/Fr-En_MuST-C\n"
     ]
    }
   ],
   "source": [
    "%cd $PATH"
   ]
  },
  {
   "cell_type": "code",
   "execution_count": 18,
   "id": "31c41719-15ec-4a0f-b038-488d7b8f6307",
   "metadata": {},
   "outputs": [
    {
     "name": "stdout",
     "output_type": "stream",
     "text": [
      "2023-03-11 11:27:51 | INFO | fairseq_cli.generate | {'_name': None, 'common': {'_name': None, 'no_progress_bar': False, 'log_interval': 100, 'log_format': None, 'log_file': None, 'aim_repo': None, 'aim_run_hash': None, 'tensorboard_logdir': None, 'wandb_project': None, 'azureml_logging': False, 'seed': 1, 'cpu': False, 'tpu': False, 'bf16': False, 'memory_efficient_bf16': False, 'fp16': True, 'memory_efficient_fp16': True, 'fp16_no_flatten_grads': False, 'fp16_init_scale': 128, 'fp16_scale_window': None, 'fp16_scale_tolerance': 0.0, 'on_cpu_convert_precision': False, 'min_loss_scale': 0.0001, 'threshold_loss_scale': None, 'amp': False, 'amp_batch_retries': 2, 'amp_init_scale': 128, 'amp_scale_window': None, 'user_dir': None, 'empty_cache_freq': 0, 'all_gather_list_size': 16384, 'model_parallel_size': 1, 'quantization_config_path': None, 'profile': False, 'reset_logging': False, 'suppress_crashes': False, 'use_plasma_view': False, 'plasma_path': '/tmp/plasma'}, 'common_eval': {'_name': None, 'path': 'checkpoints/checkpoint_best.pt', 'post_process': 'subword_nmt', 'quiet': False, 'model_overrides': '{}', 'results_path': None}, 'distributed_training': {'_name': None, 'distributed_world_size': 1, 'distributed_num_procs': 1, 'distributed_rank': 0, 'distributed_backend': 'nccl', 'distributed_init_method': None, 'distributed_port': -1, 'device_id': 0, 'distributed_no_spawn': False, 'ddp_backend': 'pytorch_ddp', 'ddp_comm_hook': 'none', 'bucket_cap_mb': 25, 'fix_batches_to_gpus': False, 'find_unused_parameters': False, 'gradient_as_bucket_view': False, 'fast_stat_sync': False, 'heartbeat_timeout': -1, 'broadcast_buffers': False, 'slowmo_momentum': None, 'slowmo_base_algorithm': 'localsgd', 'localsgd_frequency': 3, 'nprocs_per_node': 1, 'pipeline_model_parallel': False, 'pipeline_balance': None, 'pipeline_devices': None, 'pipeline_chunks': 0, 'pipeline_encoder_balance': None, 'pipeline_encoder_devices': None, 'pipeline_decoder_balance': None, 'pipeline_decoder_devices': None, 'pipeline_checkpoint': 'never', 'zero_sharding': 'none', 'fp16': True, 'memory_efficient_fp16': True, 'tpu': False, 'no_reshard_after_forward': False, 'fp32_reduce_scatter': False, 'cpu_offload': False, 'use_sharded_state': False, 'not_fsdp_flatten_parameters': False}, 'dataset': {'_name': None, 'num_workers': 1, 'skip_invalid_size_inputs_valid_test': False, 'max_tokens': None, 'batch_size': 256, 'required_batch_size_multiple': 8, 'required_seq_len_multiple': 1, 'dataset_impl': None, 'data_buffer_size': 10, 'train_subset': 'train', 'valid_subset': 'valid', 'combine_valid_subsets': None, 'ignore_unused_valid_subsets': False, 'validate_interval': 1, 'validate_interval_updates': 0, 'validate_after_updates': 0, 'fixed_validation_seed': None, 'disable_validation': False, 'max_tokens_valid': None, 'batch_size_valid': 256, 'max_valid_steps': None, 'curriculum': 0, 'gen_subset': 'test', 'num_shards': 1, 'shard_id': 0, 'grouped_shuffling': False, 'update_epoch_batch_itr': False, 'update_ordered_indices_seed': False}, 'optimization': {'_name': None, 'max_epoch': 0, 'max_update': 0, 'stop_time_hours': 0.0, 'clip_norm': 0.0, 'sentence_avg': False, 'update_freq': [1], 'lr': [0.25], 'stop_min_lr': -1.0, 'use_bmuf': False, 'skip_remainder_batch': False}, 'checkpoint': {'_name': None, 'save_dir': 'checkpoints', 'restore_file': 'checkpoint_last.pt', 'continue_once': None, 'finetune_from_model': None, 'reset_dataloader': False, 'reset_lr_scheduler': False, 'reset_meters': False, 'reset_optimizer': False, 'optimizer_overrides': '{}', 'save_interval': 1, 'save_interval_updates': 0, 'keep_interval_updates': -1, 'keep_interval_updates_pattern': -1, 'keep_last_epochs': -1, 'keep_best_checkpoints': -1, 'no_save': False, 'no_epoch_checkpoints': False, 'no_last_checkpoints': False, 'no_save_optimizer_state': False, 'best_checkpoint_metric': 'loss', 'maximize_best_checkpoint_metric': False, 'patience': -1, 'checkpoint_suffix': '', 'checkpoint_shard_count': 1, 'load_checkpoint_on_all_dp_ranks': False, 'write_checkpoints_asynchronously': False, 'model_parallel_size': 1}, 'bmuf': {'_name': None, 'block_lr': 1.0, 'block_momentum': 0.875, 'global_sync_iter': 50, 'warmup_iterations': 500, 'use_nbm': False, 'average_sync': False, 'distributed_world_size': 1}, 'generation': {'_name': None, 'beam': 5, 'beam_mt': 0, 'nbest': 1, 'max_len_a': 0.0, 'max_len_b': 200, 'max_len_a_mt': 0.0, 'max_len_b_mt': 200, 'min_len': 1, 'match_source_len': False, 'unnormalized': False, 'no_early_stop': False, 'no_beamable_mm': False, 'lenpen': 1.0, 'lenpen_mt': 1.0, 'unkpen': 0.0, 'replace_unk': None, 'sacrebleu': False, 'score_reference': False, 'prefix_size': 0, 'no_repeat_ngram_size': 0, 'sampling': False, 'sampling_topk': -1, 'sampling_topp': -1.0, 'constraints': None, 'temperature': 1.0, 'diverse_beam_groups': -1, 'diverse_beam_strength': 0.5, 'diversity_rate': -1.0, 'print_alignment': None, 'print_step': False, 'lm_path': None, 'lm_weight': 0.0, 'iter_decode_eos_penalty': 0.0, 'iter_decode_max_iter': 10, 'iter_decode_force_max_iter': False, 'iter_decode_with_beam': 1, 'iter_decode_with_external_reranker': False, 'retain_iter_history': False, 'retain_dropout': False, 'retain_dropout_modules': None, 'decoding_format': None, 'no_seed_provided': False, 'eos_token': None}, 'eval_lm': {'_name': None, 'output_word_probs': False, 'output_word_stats': False, 'context_window': 0, 'softmax_batch': 9223372036854775807}, 'interactive': {'_name': None, 'buffer_size': 0, 'input': '-'}, 'model': {'_name': 'wav2vec2', 'extractor_mode': 'default', 'encoder_layers': 12, 'encoder_embed_dim': 768, 'encoder_ffn_embed_dim': 3072, 'encoder_attention_heads': 12, 'activation_fn': 'gelu', 'layer_type': 'transformer', 'dropout': 0.1, 'attention_dropout': 0.1, 'activation_dropout': 0.0, 'encoder_layerdrop': 0.0, 'dropout_input': 0.0, 'dropout_features': 0.0, 'final_dim': 0, 'layer_norm_first': False, 'conv_feature_layers': '[(512, 10, 5)] + [(512, 3, 2)] * 4 + [(512,2,2)] + [(512,2,2)]', 'conv_bias': False, 'logit_temp': 0.1, 'quantize_targets': False, 'quantize_input': False, 'same_quantizer': False, 'target_glu': False, 'feature_grad_mult': 1.0, 'quantizer_depth': 1, 'quantizer_factor': 3, 'latent_vars': 320, 'latent_groups': 2, 'latent_dim': 0, 'mask_length': 10, 'mask_prob': 0.65, 'mask_selection': 'static', 'mask_other': 0.0, 'no_mask_overlap': False, 'mask_min_space': 1, 'require_same_masks': True, 'mask_dropout': 0.0, 'mask_channel_length': 10, 'mask_channel_prob': 0.0, 'mask_channel_before': False, 'mask_channel_selection': 'static', 'mask_channel_other': 0.0, 'no_mask_channel_overlap': False, 'mask_channel_min_space': 1, 'num_negatives': 100, 'negatives_from_everywhere': False, 'cross_sample_negatives': 0, 'codebook_negatives': 0, 'conv_pos': 128, 'conv_pos_groups': 16, 'pos_conv_depth': 1, 'latent_temp': [2.0, 0.5, 0.999995], 'max_positions': 100000, 'checkpoint_activations': False, 'required_seq_len_multiple': 1, 'crop_seq_to_multiple': 1, 'depthwise_conv_kernel_size': 31, 'attn_type': '', 'pos_enc_type': 'abs', 'fp16': True}, 'task': {'_name': 'translation', 'data': 'data-bin', 'source_lang': 'fr', 'target_lang': 'en', 'load_alignments': False, 'left_pad_source': True, 'left_pad_target': False, 'max_source_positions': 1024, 'max_target_positions': 1024, 'upsample_primary': -1, 'truncate_source': False, 'num_batch_buckets': 0, 'train_subset': 'train', 'dataset_impl': None, 'required_seq_len_multiple': 1, 'eval_bleu': False, 'eval_bleu_args': '{}', 'eval_bleu_detok': 'space', 'eval_bleu_detok_args': '{}', 'eval_tokenized_bleu': False, 'eval_bleu_remove_bpe': None, 'eval_bleu_print_samples': False}, 'criterion': {'_name': 'cross_entropy', 'sentence_avg': True}, 'optimizer': None, 'lr_scheduler': {'_name': 'fixed', 'force_anneal': None, 'lr_shrink': 0.1, 'warmup_updates': 0, 'lr': [0.25]}, 'scoring': {'_name': 'bleu', 'pad': 1, 'eos': 2, 'unk': 3}, 'bpe': None, 'tokenizer': None, 'ema': {'_name': None, 'store_ema': False, 'ema_decay': 0.9999, 'ema_start_update': 0, 'ema_seed_model': None, 'ema_update_freq': 1, 'ema_fp32': False}}\n",
      "2023-03-11 11:27:53 | INFO | fairseq.tasks.translation | [fr] dictionary: 43816 types\n",
      "2023-03-11 11:27:53 | INFO | fairseq.tasks.translation | [en] dictionary: 43776 types\n",
      "2023-03-11 11:27:53 | INFO | fairseq_cli.generate | loading model(s) from checkpoints/checkpoint_best.pt\n",
      "2023-03-11 11:27:59 | INFO | fairseq.data.data_utils | loaded 2,632 examples from: data-bin/test.fr-en.fr\n",
      "2023-03-11 11:27:59 | INFO | fairseq.data.data_utils | loaded 2,632 examples from: data-bin/test.fr-en.en\n",
      "2023-03-11 11:27:59 | INFO | fairseq.tasks.translation | data-bin test fr-en 2632 examples\n",
      "2023-03-11 11:28:52 | INFO | fairseq_cli.generate | NOTE: hypothesis and token scores are output in base 2\n",
      "2023-03-11 11:28:52 | INFO | fairseq_cli.generate | Translated 2,632 sentences (56,320 tokens) in 18.8s (139.76 sentences/s, 2990.65 tokens/s)\n"
     ]
    }
   ],
   "source": [
    "# Generate translations\n",
    "!fairseq-generate data-bin  \\\n",
    "    --task translation \\\n",
    "    --source-lang fr \\\n",
    "    --target-lang en \\\n",
    "    --path checkpoints/checkpoint_best.pt \\\n",
    "    --beam 5 \\\n",
    "    --batch-size 256 \\\n",
    "    --memory-efficient-fp16 \\\n",
    "    --remove-bpe=subword_nmt > fr-en.decode_finetuned.log"
   ]
  },
  {
   "cell_type": "markdown",
   "id": "917b3fa4-7166-4a1b-84c1-04a021289b60",
   "metadata": {},
   "source": [
    "- Evaluation"
   ]
  },
  {
   "cell_type": "code",
   "execution_count": 19,
   "id": "22422024-ea54-4cfd-a353-885b3dd62a11",
   "metadata": {},
   "outputs": [
    {
     "name": "stdout",
     "output_type": "stream",
     "text": [
      "<unk> made it accessible .\n",
      "He <unk> into silence .\n",
      "He was telling me his <unk> all the time .\n",
      "One is South Korea .\n",
      "That &apos;s not our burden .\n",
      "Why have we chosen medicine ? &quot;\n",
      "It &apos;s not our fight .\n",
      "I sometimes go too hard .\n",
      "It &apos;s moving <unk> .\n",
      "And so Scott makes that call .\n",
      "..........\n",
      "<<unk>> made it accessible .\n",
      "He <<unk>> into silence .\n",
      "He kept pointing here .\n",
      "One is South Korea .\n",
      "It &apos;s not our burden .\n",
      "Why did I go into medicine ?\n",
      "It &apos;s not our struggle .\n",
      "I sometimes push too hard .\n",
      "It &apos;s spreading virally .\n",
      "So Scott gets this call .\n"
     ]
    }
   ],
   "source": [
    "# Extract the hypotheses and references from the decoding log file\n",
    "!grep ^H fr-en.decode_finetuned.log | sed 's/^H-//g' | cut -f 3 | sed 's/ @@//g' > ./hyp_finetuned.txt\n",
    "!grep ^T fr-en.decode_finetuned.log | sed 's/^T-//g' | cut -f 2 | sed 's/ @@//g' > ./ref_finetuned.txt\n",
    "\n",
    "!head ./hyp_finetuned.txt\n",
    "print(\"..........\")\n",
    "!head ./ref_finetuned.txt"
   ]
  },
  {
   "cell_type": "code",
   "execution_count": 20,
   "id": "e17b029d-5db3-47fe-8aa7-40e563741132",
   "metadata": {},
   "outputs": [
    {
     "name": "stdout",
     "output_type": "stream",
     "text": [
      "Finished detokenizing.\n"
     ]
    }
   ],
   "source": [
    "# Detokenize text        \n",
    "\n",
    "md_en = MosesDetokenizer(lang='en')\n",
    "md_fr = MosesDetokenizer(lang='fr')\n",
    "\n",
    "with open('hyp_finetuned.txt', encoding='utf8') as fin, open('hyp_finetuned_detok.txt','w', encoding='utf8') as fout:\n",
    "    for line in fin:\n",
    "        tokens = md_en.detokenize(line.split(), return_str=True)\n",
    "        print(tokens, end='\\n', file=fout)\n",
    "        \n",
    "with open('ref_finetuned.txt', encoding='utf8') as fin, open('ref_finetuned_detok.txt','w', encoding='utf8') as fout:\n",
    "    for line in fin:\n",
    "        tokens = md_fr.detokenize(line.split(), return_str=True)\n",
    "        print(tokens, end='\\n', file=fout)\n",
    "\n",
    "print('Finished detokenizing.')"
   ]
  },
  {
   "cell_type": "code",
   "execution_count": 21,
   "id": "eab6f80d-656a-4f13-b4ab-0571770500a7",
   "metadata": {},
   "outputs": [
    {
     "name": "stdout",
     "output_type": "stream",
     "text": [
      "{\n",
      " \"name\": \"BLEU\",\n",
      " \"score\": 32.4,\n",
      " \"signature\": \"nrefs:1|case:mixed|eff:no|tok:13a|smooth:exp|version:2.3.1\",\n",
      " \"verbose_score\": \"72.2/48.8/31.1/18.2 (BP = 0.862 ratio = 0.871 hyp_len = 57866 ref_len = 66451)\",\n",
      " \"nrefs\": \"1\",\n",
      " \"case\": \"mixed\",\n",
      " \"eff\": \"no\",\n",
      " \"tok\": \"13a\",\n",
      " \"smooth\": \"exp\",\n",
      " \"version\": \"2.3.1\"\n",
      "}\n",
      "\u001b[0m"
     ]
    }
   ],
   "source": [
    "# Evaluate the model\n",
    "# BLEU score of 32.4 (beam=5)\n",
    "!cat ./hyp_finetuned_detok.txt | sacrebleu ./ref_finetuned_detok.txt"
   ]
  },
  {
   "cell_type": "code",
   "execution_count": null,
   "id": "3af6f1c3-da70-4c01-88cd-8d9ddbbb3865",
   "metadata": {},
   "outputs": [],
   "source": []
  }
 ],
 "metadata": {
  "kernelspec": {
   "display_name": "Python 3 (ipykernel)",
   "language": "python",
   "name": "python3"
  },
  "language_info": {
   "codemirror_mode": {
    "name": "ipython",
    "version": 3
   },
   "file_extension": ".py",
   "mimetype": "text/x-python",
   "name": "python",
   "nbconvert_exporter": "python",
   "pygments_lexer": "ipython3",
   "version": "3.8.13"
  }
 },
 "nbformat": 4,
 "nbformat_minor": 5
}
