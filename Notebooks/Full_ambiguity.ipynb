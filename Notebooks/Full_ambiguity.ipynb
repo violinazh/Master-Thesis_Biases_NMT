{
 "cells": [
  {
   "cell_type": "code",
   "execution_count": 51,
   "id": "7eb9c1b6-7f4d-468a-984f-e7b61fa4b7c5",
   "metadata": {},
   "outputs": [],
   "source": [
    "import torch\n",
    "import random\n",
    "import numpy as np\n",
    "import re\n",
    "\n",
    "SEED = 1234\n",
    "\n",
    "random.seed(SEED)\n",
    "np.random.seed(SEED)\n",
    "torch.manual_seed(SEED)\n",
    "torch.cuda.manual_seed_all(SEED)\n",
    "torch.backends.cudnn.enabled = False \n",
    "torch.backends.cudnn.benchmark = False\n",
    "torch.backends.cudnn.deterministic = True\n",
    "\n",
    "PATH=\"/export/data4/vzhekova/biases-data/Test_De/Statistics/Full_ambiguity\"\n",
    "FASTBPE=\"/home/vzhekova/fastBPE/fast\" # path to the fastBPE tool\n",
    "FAST_ALIGN=\"/home/vzhekova/fast_align/build/fast_align\" # path to the fast_align tool\n",
    "TERCOM = \"/export/data4/vzhekova/biases-data/Test_De/Statistics/Full_ambiguity_male/Perturbation-basedQE\""
   ]
  },
  {
   "cell_type": "code",
   "execution_count": 52,
   "id": "48aa5a31-2b6f-4744-bd0e-cd820e61740d",
   "metadata": {},
   "outputs": [
    {
     "name": "stdout",
     "output_type": "stream",
     "text": [
      "Current device: GeForce GTX 1080 Ti\n"
     ]
    }
   ],
   "source": [
    "# check if we can connect to the GPU with PyTorch\n",
    "if torch.cuda.is_available():\n",
    "    device = torch.cuda.current_device()\n",
    "    print('Current device:', torch.cuda.get_device_name(device))\n",
    "else:\n",
    "    print('Failed to find GPU. Will use CPU.')\n",
    "    device = 'cpu'"
   ]
  },
  {
   "cell_type": "code",
   "execution_count": 53,
   "id": "c199b4a0-7cab-4d4c-b270-e55ef77d010d",
   "metadata": {},
   "outputs": [
    {
     "name": "stdout",
     "output_type": "stream",
     "text": [
      "/export/data4/vzhekova/biases-data/Test_De/Statistics/Full_ambiguity\n"
     ]
    }
   ],
   "source": [
    "%cd $PATH"
   ]
  },
  {
   "cell_type": "markdown",
   "id": "80d7216b-7ec0-4413-8d16-3a614f287cf5",
   "metadata": {
    "tags": []
   },
   "source": [
    "# Preprocessing"
   ]
  },
  {
   "cell_type": "code",
   "execution_count": 4,
   "id": "8cb551da-0811-4408-83c5-5e88a6c888f0",
   "metadata": {},
   "outputs": [],
   "source": [
    "# Extract sentences\n",
    "!cut -f3 -d'\t' en.txt > en_sentences.txt"
   ]
  },
  {
   "cell_type": "code",
   "execution_count": 25,
   "id": "6f906637-1c4e-4e3c-b6e3-07981f4d5907",
   "metadata": {},
   "outputs": [],
   "source": [
    "# Extract sentences containing 'because' and remove the second part of the clause\n",
    "with open('en_sentences.txt', 'r') as fin, open('en_short.txt', 'w') as fout:\n",
    "    for line in fin:\n",
    "        sentence = ''\n",
    "        tokens = line.split(\" \")\n",
    "        for token in tokens:\n",
    "            if token == 'because':\n",
    "                print(sentence + '.', end='\\n', file=fout)\n",
    "            if token == 'although':\n",
    "                print(sentence + '.', end='\\n', file=fout)\n",
    "            if token == 'so':\n",
    "                print(sentence + '.', end='\\n', file=fout)\n",
    "            # if token == 'and':\n",
    "            #     print(sentence + '.', end='\\n', file=fout)\n",
    "            sentence = sentence + token.replace(',', '') + ' '\n",
    "            \n",
    "# Extract only unique sentences in Sublime\n",
    "# Remove sentences with \"someone\"\n",
    "# Modify sentences not starting with \"the\"\n",
    "# Modify sentences ending weirdly\n",
    "# => # 335 sentences in total"
   ]
  },
  {
   "cell_type": "code",
   "execution_count": 28,
   "id": "eb436825-5fac-4dfc-aee2-d6d4928abcf9",
   "metadata": {},
   "outputs": [],
   "source": [
    "# Modify sentences\n",
    "\n",
    "# List with source words\n",
    "words = set() # set forces uniqueness\n",
    "with open('words.txt', 'r') as fin:\n",
    "    for line in fin:\n",
    "        words.add(line.strip())\n",
    "        \n",
    "# Modify second ambiguous words in sentences with a name\n",
    "with open('en_short.txt') as in_file, open('en_original.txt', 'w') as out_file: \n",
    "    for line in in_file:\n",
    "        sentence = line.split(' ')\n",
    "        for i in range(3, len(sentence)):\n",
    "            if (sentence[i].replace(',', '') in words or sentence[i] == 'construction'): # tokens often contain \",\"\n",
    "                token_pos = sentence.index(sentence[i])\n",
    "                sentence[token_pos - 1] = \"\" # replace \"the\"\n",
    "                sentence[token_pos] = \"John\" # replace 2nd ambiguous word\n",
    "                break\n",
    "        print(' '.join(sentence), end='', file=out_file)\n",
    "\n",
    "# -> Remove spaces before \"John\" and before \".\"\n",
    "# -> Remove \"John woker\" \n",
    "        \n",
    "# Modify gender ambiguous words with gender\n",
    "with open('en_original.txt') as in_file, open('en_disambiguated_male.txt', 'w') as out_file: \n",
    "    for line in in_file:\n",
    "        sentence = line.split(' ')\n",
    "        for token in sentence:\n",
    "            if (token.replace(',', '') in words or token == 'construction'): # tokens often contain \",\"\n",
    "                token_pos = sentence.index(token)\n",
    "                sentence[token_pos] = \"male \" + token\n",
    "                break\n",
    "        print(' '.join(sentence), end='', file=out_file)\n",
    "        \n",
    "with open('en_original.txt') as in_file, open('en_disambiguated_female.txt', 'w') as out_file: \n",
    "    for line in in_file:\n",
    "        sentence = line.split(' ')\n",
    "        for token in sentence:\n",
    "            if (token.replace(',', '') in words or token == 'construction'): # tokens often contain \",\"\n",
    "                token_pos = sentence.index(token)\n",
    "                sentence[token_pos] = \"female \" + token  \n",
    "                break\n",
    "        print(' '.join(sentence), end='', file=out_file)"
   ]
  },
  {
   "cell_type": "markdown",
   "id": "087ec0de-a7d8-4c97-a71f-48fb82d1ac2c",
   "metadata": {
    "tags": []
   },
   "source": [
    "# Translation English-German"
   ]
  },
  {
   "cell_type": "code",
   "execution_count": null,
   "id": "0d4f3657-9c41-4db4-b7a7-c9b69e6d5f1c",
   "metadata": {},
   "outputs": [
    {
     "name": "stdout",
     "output_type": "stream",
     "text": [
      "Finished tokenizing.\n"
     ]
    }
   ],
   "source": [
    "# Tokenization\n",
    "from sacremoses import MosesPunctNormalizer\n",
    "from sacremoses import MosesTokenizer, MosesDetokenizer\n",
    "from __future__ import print_function\n",
    "\n",
    "mpn = MosesPunctNormalizer()\n",
    "mt_en = MosesTokenizer(lang='en')\n",
    "md_en = MosesDetokenizer(lang='en')\n",
    "\n",
    "with open('en_original.txt') as fin, open('tok.en_original.en','w') as fout:\n",
    "    for line in fin:\n",
    "        tokens = mt_en.tokenize(mpn.normalize(line), return_str=True)\n",
    "        print(tokens, end='\\n', file=fout) \n",
    "        \n",
    "with open('en_disambiguated_male.txt') as fin, open('tok.en_disambiguated_male.en','w') as fout:\n",
    "    for line in fin:\n",
    "        tokens = mt_en.tokenize(mpn.normalize(line), return_str=True)\n",
    "        print(tokens, end='\\n', file=fout)\n",
    "        \n",
    "with open('en_disambiguated_female.txt') as fin, open('tok.en_disambiguated_female.en','w') as fout:\n",
    "    for line in fin:\n",
    "        tokens = mt_en.tokenize(mpn.normalize(line), return_str=True)\n",
    "        print(tokens, end='\\n', file=fout)\n",
    "\n",
    "print('Finished tokenizing.')"
   ]
  },
  {
   "cell_type": "code",
   "execution_count": null,
   "id": "c50fa559-689b-4781-aad0-d25b6de74274",
   "metadata": {},
   "outputs": [
    {
     "name": "stdout",
     "output_type": "stream",
     "text": [
      "Loading codes from bpecodes.en ...\n",
      "Read 30000 codes from the codes file.\n",
      "Loading vocabulary from tok.en_original.en ...\n",
      "Read 2423 words (473 unique) from text file.\n",
      "Applying BPE to tok.en_original.en ...\n",
      "Modified 2423 words from text file.\n",
      "Loading codes from bpecodes.en ...\n",
      "Read 30000 codes from the codes file.\n",
      "Loading vocabulary from tok.en_disambiguated_male.en ...\n",
      "Read 2758 words (474 unique) from text file.\n",
      "Applying BPE to tok.en_disambiguated_male.en ...\n",
      "Modified 2758 words from text file.\n",
      "Loading codes from bpecodes.en ...\n",
      "Read 30000 codes from the codes file.\n",
      "Loading vocabulary from tok.en_disambiguated_female.en ...\n",
      "Read 2758 words (474 unique) from text file.\n",
      "Applying BPE to tok.en_disambiguated_female.en ...\n",
      "Modified 2758 words from text file.\n",
      "Finished subword.\n"
     ]
    }
   ],
   "source": [
    "# Dividing text into subword units\n",
    "\n",
    "!$FASTBPE applybpe bpe.en_original.en tok.en_original.en bpecodes.en\n",
    "!$FASTBPE applybpe bpe.en_disambiguated_male.en tok.en_disambiguated_male.en bpecodes.en\n",
    "!$FASTBPE applybpe bpe.en_disambiguated_female.en tok.en_disambiguated_female.en bpecodes.en\n",
    "\n",
    "print('Finished subword.')"
   ]
  },
  {
   "cell_type": "code",
   "execution_count": null,
   "id": "a1ec72fd-81a4-4cd2-93a6-22c47288284f",
   "metadata": {},
   "outputs": [
    {
     "name": "stdout",
     "output_type": "stream",
     "text": [
      "2023-08-29 15:27:00 | INFO | fairseq_cli.preprocess | Namespace(aim_repo=None, aim_run_hash=None, align_suffix=None, alignfile=None, all_gather_list_size=16384, amp=False, amp_batch_retries=2, amp_init_scale=128, amp_scale_window=None, azureml_logging=False, bf16=False, bpe=None, cpu=False, criterion='cross_entropy', dataset_impl='mmap', destdir='data-bin_original_en-de', dict_only=False, empty_cache_freq=0, fp16=False, fp16_init_scale=128, fp16_no_flatten_grads=False, fp16_scale_tolerance=0.0, fp16_scale_window=None, joined_dictionary=False, log_file=None, log_format=None, log_interval=100, lr_scheduler='fixed', memory_efficient_bf16=False, memory_efficient_fp16=False, min_loss_scale=0.0001, model_parallel_size=1, no_progress_bar=False, nwordssrc=-1, nwordstgt=-1, on_cpu_convert_precision=False, only_source=True, optimizer=None, padding_factor=8, plasma_path='/tmp/plasma', profile=False, quantization_config_path=None, reset_logging=False, scoring='bleu', seed=1, source_lang='en', srcdict='/export/data4/vzhekova/biases-data/En-De/wmt19.en-de.joined-dict.ensemble/dict.en.txt', suppress_crashes=False, target_lang='de', task='translation', tensorboard_logdir=None, testpref='bpe.en_original', tgtdict='/export/data4/vzhekova/biases-data/En-De/wmt19.en-de.joined-dict.ensemble/dict.de.txt', threshold_loss_scale=None, thresholdsrc=0, thresholdtgt=0, tokenizer=None, tpu=False, trainpref=None, use_plasma_view=False, user_dir=None, validpref=None, wandb_project=None, workers=8)\n",
      "2023-08-29 15:27:00 | INFO | fairseq_cli.preprocess | [en] Dictionary: 42024 types\n",
      "2023-08-29 15:27:01 | INFO | fairseq_cli.preprocess | [en] bpe.en_original.en: 335 sents, 3130 tokens, 0.0% replaced (by <unk>)\n",
      "2023-08-29 15:27:01 | INFO | fairseq_cli.preprocess | Wrote preprocessed data to data-bin_original_en-de\n",
      "2023-08-29 15:27:08 | INFO | fairseq_cli.preprocess | Namespace(aim_repo=None, aim_run_hash=None, align_suffix=None, alignfile=None, all_gather_list_size=16384, amp=False, amp_batch_retries=2, amp_init_scale=128, amp_scale_window=None, azureml_logging=False, bf16=False, bpe=None, cpu=False, criterion='cross_entropy', dataset_impl='mmap', destdir='data-bin_disambiguated_male_en-de', dict_only=False, empty_cache_freq=0, fp16=False, fp16_init_scale=128, fp16_no_flatten_grads=False, fp16_scale_tolerance=0.0, fp16_scale_window=None, joined_dictionary=False, log_file=None, log_format=None, log_interval=100, lr_scheduler='fixed', memory_efficient_bf16=False, memory_efficient_fp16=False, min_loss_scale=0.0001, model_parallel_size=1, no_progress_bar=False, nwordssrc=-1, nwordstgt=-1, on_cpu_convert_precision=False, only_source=True, optimizer=None, padding_factor=8, plasma_path='/tmp/plasma', profile=False, quantization_config_path=None, reset_logging=False, scoring='bleu', seed=1, source_lang='en', srcdict='/export/data4/vzhekova/biases-data/En-De/wmt19.en-de.joined-dict.ensemble/dict.en.txt', suppress_crashes=False, target_lang='de', task='translation', tensorboard_logdir=None, testpref='bpe.en_disambiguated_male', tgtdict='/export/data4/vzhekova/biases-data/En-De/wmt19.en-de.joined-dict.ensemble/dict.de.txt', threshold_loss_scale=None, thresholdsrc=0, thresholdtgt=0, tokenizer=None, tpu=False, trainpref=None, use_plasma_view=False, user_dir=None, validpref=None, wandb_project=None, workers=8)\n",
      "2023-08-29 15:27:08 | INFO | fairseq_cli.preprocess | [en] Dictionary: 42024 types\n",
      "2023-08-29 15:27:08 | INFO | fairseq_cli.preprocess | [en] bpe.en_disambiguated_male.en: 335 sents, 3465 tokens, 0.0% replaced (by <unk>)\n",
      "2023-08-29 15:27:08 | INFO | fairseq_cli.preprocess | Wrote preprocessed data to data-bin_disambiguated_male_en-de\n",
      "2023-08-29 15:27:14 | INFO | fairseq_cli.preprocess | Namespace(aim_repo=None, aim_run_hash=None, align_suffix=None, alignfile=None, all_gather_list_size=16384, amp=False, amp_batch_retries=2, amp_init_scale=128, amp_scale_window=None, azureml_logging=False, bf16=False, bpe=None, cpu=False, criterion='cross_entropy', dataset_impl='mmap', destdir='data-bin_disambiguated_female_en-de', dict_only=False, empty_cache_freq=0, fp16=False, fp16_init_scale=128, fp16_no_flatten_grads=False, fp16_scale_tolerance=0.0, fp16_scale_window=None, joined_dictionary=False, log_file=None, log_format=None, log_interval=100, lr_scheduler='fixed', memory_efficient_bf16=False, memory_efficient_fp16=False, min_loss_scale=0.0001, model_parallel_size=1, no_progress_bar=False, nwordssrc=-1, nwordstgt=-1, on_cpu_convert_precision=False, only_source=True, optimizer=None, padding_factor=8, plasma_path='/tmp/plasma', profile=False, quantization_config_path=None, reset_logging=False, scoring='bleu', seed=1, source_lang='en', srcdict='/export/data4/vzhekova/biases-data/En-De/wmt19.en-de.joined-dict.ensemble/dict.en.txt', suppress_crashes=False, target_lang='de', task='translation', tensorboard_logdir=None, testpref='bpe.en_disambiguated_female', tgtdict='/export/data4/vzhekova/biases-data/En-De/wmt19.en-de.joined-dict.ensemble/dict.de.txt', threshold_loss_scale=None, thresholdsrc=0, thresholdtgt=0, tokenizer=None, tpu=False, trainpref=None, use_plasma_view=False, user_dir=None, validpref=None, wandb_project=None, workers=8)\n",
      "2023-08-29 15:27:15 | INFO | fairseq_cli.preprocess | [en] Dictionary: 42024 types\n",
      "2023-08-29 15:27:15 | INFO | fairseq_cli.preprocess | [en] bpe.en_disambiguated_female.en: 335 sents, 3465 tokens, 0.0% replaced (by <unk>)\n",
      "2023-08-29 15:27:15 | INFO | fairseq_cli.preprocess | Wrote preprocessed data to data-bin_disambiguated_female_en-de\n",
      "Finished preprocessing.\n"
     ]
    }
   ],
   "source": [
    "# Binarize text\n",
    "!fairseq-preprocess \\\n",
    "    --source-lang en \\\n",
    "    --target-lang de \\\n",
    "    --testpref bpe.en_original \\\n",
    "    --only-source \\\n",
    "    --srcdict /export/data4/vzhekova/biases-data/En-De/wmt19.en-de.joined-dict.ensemble/dict.en.txt \\\n",
    "    --tgtdict /export/data4/vzhekova/biases-data/En-De/wmt19.en-de.joined-dict.ensemble/dict.de.txt \\\n",
    "    --destdir data-bin_original_en-de \\\n",
    "    --workers 8\n",
    "\n",
    "!fairseq-preprocess \\\n",
    "    --source-lang en \\\n",
    "    --target-lang de \\\n",
    "    --testpref bpe.en_disambiguated_male \\\n",
    "    --only-source \\\n",
    "    --srcdict /export/data4/vzhekova/biases-data/En-De/wmt19.en-de.joined-dict.ensemble/dict.en.txt \\\n",
    "    --tgtdict /export/data4/vzhekova/biases-data/En-De/wmt19.en-de.joined-dict.ensemble/dict.de.txt \\\n",
    "    --destdir data-bin_disambiguated_male_en-de \\\n",
    "    --workers 8\n",
    "\n",
    "!fairseq-preprocess \\\n",
    "    --source-lang en \\\n",
    "    --target-lang de \\\n",
    "    --testpref bpe.en_disambiguated_female \\\n",
    "    --only-source \\\n",
    "    --srcdict /export/data4/vzhekova/biases-data/En-De/wmt19.en-de.joined-dict.ensemble/dict.en.txt \\\n",
    "    --tgtdict /export/data4/vzhekova/biases-data/En-De/wmt19.en-de.joined-dict.ensemble/dict.de.txt \\\n",
    "    --destdir data-bin_disambiguated_female_en-de \\\n",
    "    --workers 8\n",
    "\n",
    "print('Finished preprocessing.')"
   ]
  },
  {
   "cell_type": "code",
   "execution_count": 150,
   "id": "0534e037-1503-462b-aacc-bed90ec0118b",
   "metadata": {},
   "outputs": [],
   "source": [
    "MODELS=\"/export/data4/vzhekova/biases-data/En-De/wmt19.en-de.joined-dict.ensemble\"\n",
    "NBEST = 10\n",
    "BEAM = 10"
   ]
  },
  {
   "cell_type": "code",
   "execution_count": 151,
   "id": "1df524a1-a957-45a8-ad21-a362d7abd060",
   "metadata": {},
   "outputs": [
    {
     "name": "stdout",
     "output_type": "stream",
     "text": [
      "2023-08-29 15:32:34 | INFO | fairseq_cli.generate | {'_name': None, 'common': {'_name': None, 'no_progress_bar': False, 'log_interval': 100, 'log_format': None, 'log_file': None, 'aim_repo': None, 'aim_run_hash': None, 'tensorboard_logdir': None, 'wandb_project': None, 'azureml_logging': False, 'seed': 1, 'cpu': False, 'tpu': False, 'bf16': False, 'memory_efficient_bf16': False, 'fp16': True, 'memory_efficient_fp16': True, 'fp16_no_flatten_grads': False, 'fp16_init_scale': 128, 'fp16_scale_window': None, 'fp16_scale_tolerance': 0.0, 'on_cpu_convert_precision': False, 'min_loss_scale': 0.0001, 'threshold_loss_scale': None, 'amp': False, 'amp_batch_retries': 2, 'amp_init_scale': 128, 'amp_scale_window': None, 'user_dir': None, 'empty_cache_freq': 0, 'all_gather_list_size': 16384, 'model_parallel_size': 1, 'quantization_config_path': None, 'profile': False, 'reset_logging': False, 'suppress_crashes': False, 'use_plasma_view': False, 'plasma_path': '/tmp/plasma'}, 'common_eval': {'_name': None, 'path': '/export/data4/vzhekova/biases-data/En-De/wmt19.en-de.joined-dict.ensemble/model1.pt:/export/data4/vzhekova/biases-data/En-De/wmt19.en-de.joined-dict.ensemble/model2.pt:/export/data4/vzhekova/biases-data/En-De/wmt19.en-de.joined-dict.ensemble/model3.pt:/export/data4/vzhekova/biases-data/En-De/wmt19.en-de.joined-dict.ensemble/model4.pt', 'post_process': 'subword_nmt', 'quiet': False, 'model_overrides': '{}', 'results_path': None}, 'distributed_training': {'_name': None, 'distributed_world_size': 1, 'distributed_num_procs': 1, 'distributed_rank': 0, 'distributed_backend': 'nccl', 'distributed_init_method': None, 'distributed_port': -1, 'device_id': 0, 'distributed_no_spawn': False, 'ddp_backend': 'pytorch_ddp', 'ddp_comm_hook': 'none', 'bucket_cap_mb': 25, 'fix_batches_to_gpus': False, 'find_unused_parameters': False, 'gradient_as_bucket_view': False, 'fast_stat_sync': False, 'heartbeat_timeout': -1, 'broadcast_buffers': False, 'slowmo_momentum': None, 'slowmo_base_algorithm': 'localsgd', 'localsgd_frequency': 3, 'nprocs_per_node': 1, 'pipeline_model_parallel': False, 'pipeline_balance': None, 'pipeline_devices': None, 'pipeline_chunks': 0, 'pipeline_encoder_balance': None, 'pipeline_encoder_devices': None, 'pipeline_decoder_balance': None, 'pipeline_decoder_devices': None, 'pipeline_checkpoint': 'never', 'zero_sharding': 'none', 'fp16': True, 'memory_efficient_fp16': True, 'tpu': False, 'no_reshard_after_forward': False, 'fp32_reduce_scatter': False, 'cpu_offload': False, 'use_sharded_state': False, 'not_fsdp_flatten_parameters': False}, 'dataset': {'_name': None, 'num_workers': 1, 'skip_invalid_size_inputs_valid_test': False, 'max_tokens': None, 'batch_size': 64, 'required_batch_size_multiple': 8, 'required_seq_len_multiple': 1, 'dataset_impl': None, 'data_buffer_size': 10, 'train_subset': 'train', 'valid_subset': 'valid', 'combine_valid_subsets': None, 'ignore_unused_valid_subsets': False, 'validate_interval': 1, 'validate_interval_updates': 0, 'validate_after_updates': 0, 'fixed_validation_seed': None, 'disable_validation': False, 'max_tokens_valid': None, 'batch_size_valid': 64, 'max_valid_steps': None, 'curriculum': 0, 'gen_subset': 'test', 'num_shards': 1, 'shard_id': 0, 'grouped_shuffling': False, 'update_epoch_batch_itr': False, 'update_ordered_indices_seed': False}, 'optimization': {'_name': None, 'max_epoch': 0, 'max_update': 0, 'stop_time_hours': 0.0, 'clip_norm': 0.0, 'sentence_avg': False, 'update_freq': [1], 'lr': [0.25], 'stop_min_lr': -1.0, 'use_bmuf': False, 'skip_remainder_batch': False}, 'checkpoint': {'_name': None, 'save_dir': 'checkpoints', 'restore_file': 'checkpoint_last.pt', 'continue_once': None, 'finetune_from_model': None, 'reset_dataloader': False, 'reset_lr_scheduler': False, 'reset_meters': False, 'reset_optimizer': False, 'optimizer_overrides': '{}', 'save_interval': 1, 'save_interval_updates': 0, 'keep_interval_updates': -1, 'keep_interval_updates_pattern': -1, 'keep_last_epochs': -1, 'keep_best_checkpoints': -1, 'no_save': False, 'no_epoch_checkpoints': False, 'no_last_checkpoints': False, 'no_save_optimizer_state': False, 'best_checkpoint_metric': 'loss', 'maximize_best_checkpoint_metric': False, 'patience': -1, 'checkpoint_suffix': '', 'checkpoint_shard_count': 1, 'load_checkpoint_on_all_dp_ranks': False, 'write_checkpoints_asynchronously': False, 'model_parallel_size': 1}, 'bmuf': {'_name': None, 'block_lr': 1.0, 'block_momentum': 0.875, 'global_sync_iter': 50, 'warmup_iterations': 500, 'use_nbm': False, 'average_sync': False, 'distributed_world_size': 1}, 'generation': {'_name': None, 'beam': 10, 'beam_mt': 0, 'nbest': 10, 'max_len_a': 0.0, 'max_len_b': 200, 'max_len_a_mt': 0.0, 'max_len_b_mt': 200, 'min_len': 1, 'match_source_len': False, 'unnormalized': False, 'no_early_stop': False, 'no_beamable_mm': False, 'lenpen': 1.0, 'lenpen_mt': 1.0, 'unkpen': 0.0, 'replace_unk': None, 'sacrebleu': False, 'score_reference': False, 'prefix_size': 0, 'no_repeat_ngram_size': 0, 'sampling': False, 'sampling_topk': -1, 'sampling_topp': -1.0, 'constraints': None, 'temperature': 1.0, 'diverse_beam_groups': -1, 'diverse_beam_strength': 0.5, 'diversity_rate': -1.0, 'print_alignment': None, 'print_step': False, 'lm_path': None, 'lm_weight': 0.0, 'iter_decode_eos_penalty': 0.0, 'iter_decode_max_iter': 10, 'iter_decode_force_max_iter': False, 'iter_decode_with_beam': 1, 'iter_decode_with_external_reranker': False, 'retain_iter_history': False, 'retain_dropout': False, 'retain_dropout_modules': None, 'decoding_format': None, 'no_seed_provided': False, 'eos_token': None}, 'eval_lm': {'_name': None, 'output_word_probs': False, 'output_word_stats': False, 'context_window': 0, 'softmax_batch': 9223372036854775807}, 'interactive': {'_name': None, 'buffer_size': 0, 'input': '-'}, 'model': {'_name': 'wav2vec2', 'extractor_mode': 'default', 'encoder_layers': 12, 'encoder_embed_dim': 768, 'encoder_ffn_embed_dim': 3072, 'encoder_attention_heads': 12, 'activation_fn': 'gelu', 'layer_type': 'transformer', 'dropout': 0.1, 'attention_dropout': 0.1, 'activation_dropout': 0.0, 'encoder_layerdrop': 0.0, 'dropout_input': 0.0, 'dropout_features': 0.0, 'final_dim': 0, 'layer_norm_first': False, 'conv_feature_layers': '[(512, 10, 5)] + [(512, 3, 2)] * 4 + [(512,2,2)] + [(512,2,2)]', 'conv_bias': False, 'logit_temp': 0.1, 'quantize_targets': False, 'quantize_input': False, 'same_quantizer': False, 'target_glu': False, 'feature_grad_mult': 1.0, 'quantizer_depth': 1, 'quantizer_factor': 3, 'latent_vars': 320, 'latent_groups': 2, 'latent_dim': 0, 'mask_length': 10, 'mask_prob': 0.65, 'mask_selection': 'static', 'mask_other': 0.0, 'no_mask_overlap': False, 'mask_min_space': 1, 'require_same_masks': True, 'mask_dropout': 0.0, 'mask_channel_length': 10, 'mask_channel_prob': 0.0, 'mask_channel_before': False, 'mask_channel_selection': 'static', 'mask_channel_other': 0.0, 'no_mask_channel_overlap': False, 'mask_channel_min_space': 1, 'num_negatives': 100, 'negatives_from_everywhere': False, 'cross_sample_negatives': 0, 'codebook_negatives': 0, 'conv_pos': 128, 'conv_pos_groups': 16, 'pos_conv_depth': 1, 'latent_temp': [2.0, 0.5, 0.999995], 'max_positions': 100000, 'checkpoint_activations': False, 'required_seq_len_multiple': 1, 'crop_seq_to_multiple': 1, 'depthwise_conv_kernel_size': 31, 'attn_type': '', 'pos_enc_type': 'abs', 'fp16': True}, 'task': {'_name': 'translation', 'data': 'data-bin_original_en-de', 'source_lang': 'en', 'target_lang': 'de', 'load_alignments': False, 'left_pad_source': True, 'left_pad_target': False, 'max_source_positions': 1024, 'max_target_positions': 1024, 'upsample_primary': -1, 'truncate_source': False, 'num_batch_buckets': 0, 'train_subset': 'train', 'dataset_impl': None, 'required_seq_len_multiple': 1, 'eval_bleu': False, 'eval_bleu_args': '{}', 'eval_bleu_detok': 'space', 'eval_bleu_detok_args': '{}', 'eval_tokenized_bleu': False, 'eval_bleu_remove_bpe': None, 'eval_bleu_print_samples': False}, 'criterion': {'_name': 'cross_entropy', 'sentence_avg': True}, 'optimizer': None, 'lr_scheduler': {'_name': 'fixed', 'force_anneal': None, 'lr_shrink': 0.1, 'warmup_updates': 0, 'lr': [0.25]}, 'scoring': {'_name': 'bleu', 'pad': 1, 'eos': 2, 'unk': 3}, 'bpe': None, 'tokenizer': None, 'ema': {'_name': None, 'store_ema': False, 'ema_decay': 0.9999, 'ema_start_update': 0, 'ema_seed_model': None, 'ema_update_freq': 1, 'ema_fp32': False}}\n",
      "2023-08-29 15:32:34 | INFO | fairseq.tasks.translation | [en] dictionary: 42024 types\n",
      "2023-08-29 15:32:34 | INFO | fairseq.tasks.translation | [de] dictionary: 42024 types\n",
      "2023-08-29 15:32:34 | INFO | fairseq_cli.generate | loading model(s) from /export/data4/vzhekova/biases-data/En-De/wmt19.en-de.joined-dict.ensemble/model1.pt:/export/data4/vzhekova/biases-data/En-De/wmt19.en-de.joined-dict.ensemble/model2.pt:/export/data4/vzhekova/biases-data/En-De/wmt19.en-de.joined-dict.ensemble/model3.pt:/export/data4/vzhekova/biases-data/En-De/wmt19.en-de.joined-dict.ensemble/model4.pt\n",
      "2023-08-29 15:33:38 | INFO | fairseq.data.data_utils | loaded 335 examples from: data-bin_original_en-de/test.en-de.en\n",
      "2023-08-29 15:33:38 | INFO | fairseq.tasks.translation | data-bin_original_en-de test en-de 335 examples\n",
      "2023-08-29 15:34:20 | INFO | fairseq_cli.generate | NOTE: hypothesis and token scores are output in base 2\n",
      "2023-08-29 15:34:20 | INFO | fairseq_cli.generate | Translated 335 sentences (3,398 tokens) in 16.5s (20.31 sentences/s, 206.00 tokens/s)\n"
     ]
    }
   ],
   "source": [
    "# Generate translations\n",
    "# Beam search\n",
    "!fairseq-generate data-bin_original_en-de  \\\n",
    "    --task translation \\\n",
    "    --source-lang en \\\n",
    "    --target-lang de \\\n",
    "    --path $MODELS/model1.pt:$MODELS/model2.pt:$MODELS/model3.pt:$MODELS/model4.pt \\\n",
    "    --beam $BEAM \\\n",
    "    --nbest $NBEST \\\n",
    "    --batch-size 64 \\\n",
    "    --memory-efficient-fp16 \\\n",
    "    --remove-bpe > original_en-de.decode_Beam_10.log\n",
    "\n",
    "!fairseq-generate data-bin_disambiguated_male_en-de  \\\n",
    "    --task translation \\\n",
    "    --source-lang en \\\n",
    "    --target-lang de \\\n",
    "    --path $MODELS/model1.pt:$MODELS/model2.pt:$MODELS/model3.pt:$MODELS/model4.pt \\\n",
    "    --beam $BEAM \\\n",
    "    --nbest $NBEST \\\n",
    "    --batch-size 64 \\\n",
    "    --memory-efficient-fp16 \\\n",
    "    --remove-bpe > disambiguated_male_en-de.decode_Beam_10.log\n",
    "\n",
    "!fairseq-generate data-bin_disambiguated_female_en-de  \\\n",
    "    --task translation \\\n",
    "    --source-lang en \\\n",
    "    --target-lang de \\\n",
    "    --path $MODELS/model1.pt:$MODELS/model2.pt:$MODELS/model3.pt:$MODELS/model4.pt \\\n",
    "    --beam $BEAM \\\n",
    "    --nbest $NBEST \\\n",
    "    --batch-size 64 \\\n",
    "    --memory-efficient-fp16 \\\n",
    "    --remove-bpe > disambiguated_female_en-de.decode_Beam_10.log\n",
    "\n",
    "print('Finished translation.')"
   ]
  },
  {
   "cell_type": "code",
   "execution_count": 81,
   "id": "6efb5c4a-0c37-4a6f-bd00-0aaea4da69fc",
   "metadata": {},
   "outputs": [],
   "source": [
    "# 'LC_ALL=C sort -V' sorts the results in natural order \n",
    "!grep ^H original_en-de.decode_Beam_10.log | LC_ALL=C sort -V | sed 's/^H-//g' | cut -f 3 | sed 's/ @@//g' > ./hyp_original.txt\n",
    "!grep ^H disambiguated_male_en-de.decode_Beam_10.log | LC_ALL=C sort -V | sed 's/^H-//g' | cut -f 3 | sed 's/ @@//g' > ./hyp_disambiguated_male.txt\n",
    "!grep ^H disambiguated_female_en-de.decode_Beam_10.log | LC_ALL=C sort -V | sed 's/^H-//g' | cut -f 3 | sed 's/ @@//g' > ./hyp_disambiguated_female.txt"
   ]
  },
  {
   "cell_type": "markdown",
   "id": "9425c7dc-f10a-4b6f-81e5-f7d89f14d91f",
   "metadata": {
    "tags": []
   },
   "source": [
    "# Backtranslation German-English"
   ]
  },
  {
   "cell_type": "code",
   "execution_count": 82,
   "id": "1b245127-a93d-45e3-b3a7-b9791d8b4189",
   "metadata": {},
   "outputs": [
    {
     "name": "stdout",
     "output_type": "stream",
     "text": [
      "Loading codes from bpecodes.de ...\n",
      "Read 30000 codes from the codes file.\n",
      "Loading vocabulary from hyp_original.txt ...\n",
      "Read 24817 words (1187 unique) from text file.\n",
      "Applying BPE to hyp_original.txt ...\n",
      "Modified 24817 words from text file.\n",
      "Loading codes from bpecodes.de ...\n",
      "Read 30000 codes from the codes file.\n",
      "Loading vocabulary from hyp_disambiguated_male.txt ...\n",
      "Read 27169 words (1107 unique) from text file.\n",
      "Applying BPE to hyp_disambiguated_male.txt ...\n",
      "Modified 27169 words from text file.\n",
      "Loading codes from bpecodes.de ...\n",
      "Read 30000 codes from the codes file.\n",
      "Loading vocabulary from hyp_disambiguated_female.txt ...\n",
      "Read 25342 words (1158 unique) from text file.\n",
      "Applying BPE to hyp_disambiguated_female.txt ...\n",
      "Modified 25342 words from text file.\n",
      "Finished subword.\n"
     ]
    }
   ],
   "source": [
    "# Dividing tokenized text into subword units\n",
    "\n",
    "!$FASTBPE applybpe bpe.hyp_original.de hyp_original.txt bpecodes.de\n",
    "!$FASTBPE applybpe bpe.hyp_disambiguated_male.de hyp_disambiguated_male.txt bpecodes.de\n",
    "!$FASTBPE applybpe bpe.hyp_disambiguated_female.de hyp_disambiguated_female.txt bpecodes.de\n",
    "\n",
    "\n",
    "print('Finished subword.')"
   ]
  },
  {
   "cell_type": "code",
   "execution_count": 83,
   "id": "9dd3cf73-9c96-49df-b749-f2bbe337df62",
   "metadata": {},
   "outputs": [
    {
     "name": "stdout",
     "output_type": "stream",
     "text": [
      "2023-08-21 11:34:42 | INFO | fairseq_cli.preprocess | Namespace(aim_repo=None, aim_run_hash=None, align_suffix=None, alignfile=None, all_gather_list_size=16384, amp=False, amp_batch_retries=2, amp_init_scale=128, amp_scale_window=None, azureml_logging=False, bf16=False, bpe=None, cpu=False, criterion='cross_entropy', dataset_impl='mmap', destdir='data-bin_original_de-en', dict_only=False, empty_cache_freq=0, fp16=False, fp16_init_scale=128, fp16_no_flatten_grads=False, fp16_scale_tolerance=0.0, fp16_scale_window=None, joined_dictionary=False, log_file=None, log_format=None, log_interval=100, lr_scheduler='fixed', memory_efficient_bf16=False, memory_efficient_fp16=False, min_loss_scale=0.0001, model_parallel_size=1, no_progress_bar=False, nwordssrc=-1, nwordstgt=-1, on_cpu_convert_precision=False, only_source=True, optimizer=None, padding_factor=8, plasma_path='/tmp/plasma', profile=False, quantization_config_path=None, reset_logging=False, scoring='bleu', seed=1, source_lang='de', srcdict='/export/data4/vzhekova/biases-data/De-En/wmt19.de-en.joined-dict.ensemble/dict.de.txt', suppress_crashes=False, target_lang='en', task='translation', tensorboard_logdir=None, testpref='bpe.hyp_original', tgtdict='/export/data4/vzhekova/biases-data/De-En/wmt19.de-en.joined-dict.ensemble/dict.en.txt', threshold_loss_scale=None, thresholdsrc=0, thresholdtgt=0, tokenizer=None, tpu=False, trainpref=None, use_plasma_view=False, user_dir=None, validpref=None, wandb_project=None, workers=8)\n",
      "2023-08-21 11:34:42 | INFO | fairseq_cli.preprocess | [de] Dictionary: 42024 types\n",
      "2023-08-21 11:34:42 | INFO | fairseq_cli.preprocess | [de] bpe.hyp_original.de: 3350 sents, 33876 tokens, 0.0% replaced (by <unk>)\n",
      "2023-08-21 11:34:42 | INFO | fairseq_cli.preprocess | Wrote preprocessed data to data-bin_original_de-en\n",
      "2023-08-21 11:34:46 | INFO | fairseq_cli.preprocess | Namespace(aim_repo=None, aim_run_hash=None, align_suffix=None, alignfile=None, all_gather_list_size=16384, amp=False, amp_batch_retries=2, amp_init_scale=128, amp_scale_window=None, azureml_logging=False, bf16=False, bpe=None, cpu=False, criterion='cross_entropy', dataset_impl='mmap', destdir='data-bin_disambiguated_male_de-en', dict_only=False, empty_cache_freq=0, fp16=False, fp16_init_scale=128, fp16_no_flatten_grads=False, fp16_scale_tolerance=0.0, fp16_scale_window=None, joined_dictionary=False, log_file=None, log_format=None, log_interval=100, lr_scheduler='fixed', memory_efficient_bf16=False, memory_efficient_fp16=False, min_loss_scale=0.0001, model_parallel_size=1, no_progress_bar=False, nwordssrc=-1, nwordstgt=-1, on_cpu_convert_precision=False, only_source=True, optimizer=None, padding_factor=8, plasma_path='/tmp/plasma', profile=False, quantization_config_path=None, reset_logging=False, scoring='bleu', seed=1, source_lang='de', srcdict='/export/data4/vzhekova/biases-data/De-En/wmt19.de-en.joined-dict.ensemble/dict.de.txt', suppress_crashes=False, target_lang='en', task='translation', tensorboard_logdir=None, testpref='bpe.hyp_disambiguated_male', tgtdict='/export/data4/vzhekova/biases-data/De-En/wmt19.de-en.joined-dict.ensemble/dict.en.txt', threshold_loss_scale=None, thresholdsrc=0, thresholdtgt=0, tokenizer=None, tpu=False, trainpref=None, use_plasma_view=False, user_dir=None, validpref=None, wandb_project=None, workers=8)\n",
      "2023-08-21 11:34:46 | INFO | fairseq_cli.preprocess | [de] Dictionary: 42024 types\n",
      "2023-08-21 11:34:46 | INFO | fairseq_cli.preprocess | [de] bpe.hyp_disambiguated_male.de: 3350 sents, 38651 tokens, 0.0% replaced (by <unk>)\n",
      "2023-08-21 11:34:46 | INFO | fairseq_cli.preprocess | Wrote preprocessed data to data-bin_disambiguated_male_de-en\n",
      "2023-08-21 11:34:50 | INFO | fairseq_cli.preprocess | Namespace(aim_repo=None, aim_run_hash=None, align_suffix=None, alignfile=None, all_gather_list_size=16384, amp=False, amp_batch_retries=2, amp_init_scale=128, amp_scale_window=None, azureml_logging=False, bf16=False, bpe=None, cpu=False, criterion='cross_entropy', dataset_impl='mmap', destdir='data-bin_disambiguated_female_de-en', dict_only=False, empty_cache_freq=0, fp16=False, fp16_init_scale=128, fp16_no_flatten_grads=False, fp16_scale_tolerance=0.0, fp16_scale_window=None, joined_dictionary=False, log_file=None, log_format=None, log_interval=100, lr_scheduler='fixed', memory_efficient_bf16=False, memory_efficient_fp16=False, min_loss_scale=0.0001, model_parallel_size=1, no_progress_bar=False, nwordssrc=-1, nwordstgt=-1, on_cpu_convert_precision=False, only_source=True, optimizer=None, padding_factor=8, plasma_path='/tmp/plasma', profile=False, quantization_config_path=None, reset_logging=False, scoring='bleu', seed=1, source_lang='de', srcdict='/export/data4/vzhekova/biases-data/De-En/wmt19.de-en.joined-dict.ensemble/dict.de.txt', suppress_crashes=False, target_lang='en', task='translation', tensorboard_logdir=None, testpref='bpe.hyp_disambiguated_female', tgtdict='/export/data4/vzhekova/biases-data/De-En/wmt19.de-en.joined-dict.ensemble/dict.en.txt', threshold_loss_scale=None, thresholdsrc=0, thresholdtgt=0, tokenizer=None, tpu=False, trainpref=None, use_plasma_view=False, user_dir=None, validpref=None, wandb_project=None, workers=8)\n",
      "2023-08-21 11:34:50 | INFO | fairseq_cli.preprocess | [de] Dictionary: 42024 types\n",
      "2023-08-21 11:34:50 | INFO | fairseq_cli.preprocess | [de] bpe.hyp_disambiguated_female.de: 3350 sents, 36808 tokens, 0.0% replaced (by <unk>)\n",
      "2023-08-21 11:34:50 | INFO | fairseq_cli.preprocess | Wrote preprocessed data to data-bin_disambiguated_female_de-en\n",
      "Finished preprocessing.\n"
     ]
    }
   ],
   "source": [
    "!fairseq-preprocess \\\n",
    "    --source-lang de \\\n",
    "    --target-lang en \\\n",
    "    --only-source \\\n",
    "    --testpref bpe.hyp_original \\\n",
    "    --srcdict /export/data4/vzhekova/biases-data/De-En/wmt19.de-en.joined-dict.ensemble/dict.de.txt \\\n",
    "    --tgtdict /export/data4/vzhekova/biases-data/De-En/wmt19.de-en.joined-dict.ensemble/dict.en.txt \\\n",
    "    --destdir data-bin_original_de-en \\\n",
    "    --workers 8\n",
    "\n",
    "!fairseq-preprocess \\\n",
    "    --source-lang de \\\n",
    "    --target-lang en \\\n",
    "    --only-source \\\n",
    "    --testpref bpe.hyp_disambiguated_male \\\n",
    "    --srcdict /export/data4/vzhekova/biases-data/De-En/wmt19.de-en.joined-dict.ensemble/dict.de.txt \\\n",
    "    --tgtdict /export/data4/vzhekova/biases-data/De-En/wmt19.de-en.joined-dict.ensemble/dict.en.txt \\\n",
    "    --destdir data-bin_disambiguated_male_de-en \\\n",
    "    --workers 8\n",
    "\n",
    "!fairseq-preprocess \\\n",
    "    --source-lang de \\\n",
    "    --target-lang en \\\n",
    "    --only-source \\\n",
    "    --testpref bpe.hyp_disambiguated_female \\\n",
    "    --srcdict /export/data4/vzhekova/biases-data/De-En/wmt19.de-en.joined-dict.ensemble/dict.de.txt \\\n",
    "    --tgtdict /export/data4/vzhekova/biases-data/De-En/wmt19.de-en.joined-dict.ensemble/dict.en.txt \\\n",
    "    --destdir data-bin_disambiguated_female_de-en \\\n",
    "    --workers 8\n",
    "\n",
    "print('Finished preprocessing.')"
   ]
  },
  {
   "cell_type": "code",
   "execution_count": 84,
   "id": "852891a2-e6c1-4300-9000-cd8f2a4ad4ec",
   "metadata": {},
   "outputs": [],
   "source": [
    "MODELS=\"/export/data4/vzhekova/biases-data/De-En/wmt19.de-en.joined-dict.ensemble\"\n",
    "NBEST = 10\n",
    "BEAM = 10"
   ]
  },
  {
   "cell_type": "code",
   "execution_count": 85,
   "id": "07103d7f-cbc3-456a-acaa-1618cdcf70c9",
   "metadata": {},
   "outputs": [
    {
     "name": "stdout",
     "output_type": "stream",
     "text": [
      "2023-08-21 11:34:56 | INFO | fairseq_cli.generate | {'_name': None, 'common': {'_name': None, 'no_progress_bar': False, 'log_interval': 100, 'log_format': None, 'log_file': None, 'aim_repo': None, 'aim_run_hash': None, 'tensorboard_logdir': None, 'wandb_project': None, 'azureml_logging': False, 'seed': 1, 'cpu': False, 'tpu': False, 'bf16': False, 'memory_efficient_bf16': False, 'fp16': True, 'memory_efficient_fp16': True, 'fp16_no_flatten_grads': False, 'fp16_init_scale': 128, 'fp16_scale_window': None, 'fp16_scale_tolerance': 0.0, 'on_cpu_convert_precision': False, 'min_loss_scale': 0.0001, 'threshold_loss_scale': None, 'amp': False, 'amp_batch_retries': 2, 'amp_init_scale': 128, 'amp_scale_window': None, 'user_dir': None, 'empty_cache_freq': 0, 'all_gather_list_size': 16384, 'model_parallel_size': 1, 'quantization_config_path': None, 'profile': False, 'reset_logging': False, 'suppress_crashes': False, 'use_plasma_view': False, 'plasma_path': '/tmp/plasma'}, 'common_eval': {'_name': None, 'path': '/export/data4/vzhekova/biases-data/De-En/wmt19.de-en.joined-dict.ensemble/model1.pt:/export/data4/vzhekova/biases-data/De-En/wmt19.de-en.joined-dict.ensemble/model2.pt:/export/data4/vzhekova/biases-data/De-En/wmt19.de-en.joined-dict.ensemble/model3.pt:/export/data4/vzhekova/biases-data/De-En/wmt19.de-en.joined-dict.ensemble/model4.pt', 'post_process': 'subword_nmt', 'quiet': False, 'model_overrides': '{}', 'results_path': None}, 'distributed_training': {'_name': None, 'distributed_world_size': 1, 'distributed_num_procs': 1, 'distributed_rank': 0, 'distributed_backend': 'nccl', 'distributed_init_method': None, 'distributed_port': -1, 'device_id': 0, 'distributed_no_spawn': False, 'ddp_backend': 'pytorch_ddp', 'ddp_comm_hook': 'none', 'bucket_cap_mb': 25, 'fix_batches_to_gpus': False, 'find_unused_parameters': False, 'gradient_as_bucket_view': False, 'fast_stat_sync': False, 'heartbeat_timeout': -1, 'broadcast_buffers': False, 'slowmo_momentum': None, 'slowmo_base_algorithm': 'localsgd', 'localsgd_frequency': 3, 'nprocs_per_node': 1, 'pipeline_model_parallel': False, 'pipeline_balance': None, 'pipeline_devices': None, 'pipeline_chunks': 0, 'pipeline_encoder_balance': None, 'pipeline_encoder_devices': None, 'pipeline_decoder_balance': None, 'pipeline_decoder_devices': None, 'pipeline_checkpoint': 'never', 'zero_sharding': 'none', 'fp16': True, 'memory_efficient_fp16': True, 'tpu': False, 'no_reshard_after_forward': False, 'fp32_reduce_scatter': False, 'cpu_offload': False, 'use_sharded_state': False, 'not_fsdp_flatten_parameters': False}, 'dataset': {'_name': None, 'num_workers': 1, 'skip_invalid_size_inputs_valid_test': False, 'max_tokens': None, 'batch_size': 64, 'required_batch_size_multiple': 8, 'required_seq_len_multiple': 1, 'dataset_impl': None, 'data_buffer_size': 10, 'train_subset': 'train', 'valid_subset': 'valid', 'combine_valid_subsets': None, 'ignore_unused_valid_subsets': False, 'validate_interval': 1, 'validate_interval_updates': 0, 'validate_after_updates': 0, 'fixed_validation_seed': None, 'disable_validation': False, 'max_tokens_valid': None, 'batch_size_valid': 64, 'max_valid_steps': None, 'curriculum': 0, 'gen_subset': 'test', 'num_shards': 1, 'shard_id': 0, 'grouped_shuffling': False, 'update_epoch_batch_itr': False, 'update_ordered_indices_seed': False}, 'optimization': {'_name': None, 'max_epoch': 0, 'max_update': 0, 'stop_time_hours': 0.0, 'clip_norm': 0.0, 'sentence_avg': False, 'update_freq': [1], 'lr': [0.25], 'stop_min_lr': -1.0, 'use_bmuf': False, 'skip_remainder_batch': False}, 'checkpoint': {'_name': None, 'save_dir': 'checkpoints', 'restore_file': 'checkpoint_last.pt', 'continue_once': None, 'finetune_from_model': None, 'reset_dataloader': False, 'reset_lr_scheduler': False, 'reset_meters': False, 'reset_optimizer': False, 'optimizer_overrides': '{}', 'save_interval': 1, 'save_interval_updates': 0, 'keep_interval_updates': -1, 'keep_interval_updates_pattern': -1, 'keep_last_epochs': -1, 'keep_best_checkpoints': -1, 'no_save': False, 'no_epoch_checkpoints': False, 'no_last_checkpoints': False, 'no_save_optimizer_state': False, 'best_checkpoint_metric': 'loss', 'maximize_best_checkpoint_metric': False, 'patience': -1, 'checkpoint_suffix': '', 'checkpoint_shard_count': 1, 'load_checkpoint_on_all_dp_ranks': False, 'write_checkpoints_asynchronously': False, 'model_parallel_size': 1}, 'bmuf': {'_name': None, 'block_lr': 1.0, 'block_momentum': 0.875, 'global_sync_iter': 50, 'warmup_iterations': 500, 'use_nbm': False, 'average_sync': False, 'distributed_world_size': 1}, 'generation': {'_name': None, 'beam': 10, 'beam_mt': 0, 'nbest': 10, 'max_len_a': 0.0, 'max_len_b': 200, 'max_len_a_mt': 0.0, 'max_len_b_mt': 200, 'min_len': 1, 'match_source_len': False, 'unnormalized': False, 'no_early_stop': False, 'no_beamable_mm': False, 'lenpen': 1.0, 'lenpen_mt': 1.0, 'unkpen': 0.0, 'replace_unk': None, 'sacrebleu': False, 'score_reference': False, 'prefix_size': 0, 'no_repeat_ngram_size': 0, 'sampling': False, 'sampling_topk': -1, 'sampling_topp': -1.0, 'constraints': None, 'temperature': 1.0, 'diverse_beam_groups': -1, 'diverse_beam_strength': 0.5, 'diversity_rate': -1.0, 'print_alignment': None, 'print_step': False, 'lm_path': None, 'lm_weight': 0.0, 'iter_decode_eos_penalty': 0.0, 'iter_decode_max_iter': 10, 'iter_decode_force_max_iter': False, 'iter_decode_with_beam': 1, 'iter_decode_with_external_reranker': False, 'retain_iter_history': False, 'retain_dropout': False, 'retain_dropout_modules': None, 'decoding_format': None, 'no_seed_provided': False, 'eos_token': None}, 'eval_lm': {'_name': None, 'output_word_probs': False, 'output_word_stats': False, 'context_window': 0, 'softmax_batch': 9223372036854775807}, 'interactive': {'_name': None, 'buffer_size': 0, 'input': '-'}, 'model': {'_name': 'wav2vec2', 'extractor_mode': 'default', 'encoder_layers': 12, 'encoder_embed_dim': 768, 'encoder_ffn_embed_dim': 3072, 'encoder_attention_heads': 12, 'activation_fn': 'gelu', 'layer_type': 'transformer', 'dropout': 0.1, 'attention_dropout': 0.1, 'activation_dropout': 0.0, 'encoder_layerdrop': 0.0, 'dropout_input': 0.0, 'dropout_features': 0.0, 'final_dim': 0, 'layer_norm_first': False, 'conv_feature_layers': '[(512, 10, 5)] + [(512, 3, 2)] * 4 + [(512,2,2)] + [(512,2,2)]', 'conv_bias': False, 'logit_temp': 0.1, 'quantize_targets': False, 'quantize_input': False, 'same_quantizer': False, 'target_glu': False, 'feature_grad_mult': 1.0, 'quantizer_depth': 1, 'quantizer_factor': 3, 'latent_vars': 320, 'latent_groups': 2, 'latent_dim': 0, 'mask_length': 10, 'mask_prob': 0.65, 'mask_selection': 'static', 'mask_other': 0.0, 'no_mask_overlap': False, 'mask_min_space': 1, 'require_same_masks': True, 'mask_dropout': 0.0, 'mask_channel_length': 10, 'mask_channel_prob': 0.0, 'mask_channel_before': False, 'mask_channel_selection': 'static', 'mask_channel_other': 0.0, 'no_mask_channel_overlap': False, 'mask_channel_min_space': 1, 'num_negatives': 100, 'negatives_from_everywhere': False, 'cross_sample_negatives': 0, 'codebook_negatives': 0, 'conv_pos': 128, 'conv_pos_groups': 16, 'pos_conv_depth': 1, 'latent_temp': [2.0, 0.5, 0.999995], 'max_positions': 100000, 'checkpoint_activations': False, 'required_seq_len_multiple': 1, 'crop_seq_to_multiple': 1, 'depthwise_conv_kernel_size': 31, 'attn_type': '', 'pos_enc_type': 'abs', 'fp16': True}, 'task': {'_name': 'translation', 'data': 'data-bin_original_de-en', 'source_lang': 'de', 'target_lang': 'en', 'load_alignments': False, 'left_pad_source': True, 'left_pad_target': False, 'max_source_positions': 1024, 'max_target_positions': 1024, 'upsample_primary': -1, 'truncate_source': False, 'num_batch_buckets': 0, 'train_subset': 'train', 'dataset_impl': None, 'required_seq_len_multiple': 1, 'eval_bleu': False, 'eval_bleu_args': '{}', 'eval_bleu_detok': 'space', 'eval_bleu_detok_args': '{}', 'eval_tokenized_bleu': False, 'eval_bleu_remove_bpe': None, 'eval_bleu_print_samples': False}, 'criterion': {'_name': 'cross_entropy', 'sentence_avg': True}, 'optimizer': None, 'lr_scheduler': {'_name': 'fixed', 'force_anneal': None, 'lr_shrink': 0.1, 'warmup_updates': 0, 'lr': [0.25]}, 'scoring': {'_name': 'bleu', 'pad': 1, 'eos': 2, 'unk': 3}, 'bpe': None, 'tokenizer': None, 'ema': {'_name': None, 'store_ema': False, 'ema_decay': 0.9999, 'ema_start_update': 0, 'ema_seed_model': None, 'ema_update_freq': 1, 'ema_fp32': False}}\n",
      "2023-08-21 11:34:56 | INFO | fairseq.tasks.translation | [de] dictionary: 42024 types\n",
      "2023-08-21 11:34:56 | INFO | fairseq.tasks.translation | [en] dictionary: 42024 types\n",
      "2023-08-21 11:34:56 | INFO | fairseq_cli.generate | loading model(s) from /export/data4/vzhekova/biases-data/De-En/wmt19.de-en.joined-dict.ensemble/model1.pt:/export/data4/vzhekova/biases-data/De-En/wmt19.de-en.joined-dict.ensemble/model2.pt:/export/data4/vzhekova/biases-data/De-En/wmt19.de-en.joined-dict.ensemble/model3.pt:/export/data4/vzhekova/biases-data/De-En/wmt19.de-en.joined-dict.ensemble/model4.pt\n",
      "2023-08-21 11:35:39 | INFO | fairseq.data.data_utils | loaded 3,350 examples from: data-bin_original_de-en/test.de-en.de\n",
      "2023-08-21 11:35:39 | INFO | fairseq.tasks.translation | data-bin_original_de-en test de-en 3350 examples\n",
      "2023-08-21 11:38:04 | INFO | fairseq_cli.generate | NOTE: hypothesis and token scores are output in base 2\n",
      "2023-08-21 11:38:04 | INFO | fairseq_cli.generate | Translated 3,350 sentences (30,834 tokens) in 93.8s (35.72 sentences/s, 328.77 tokens/s)\n",
      "2023-08-21 11:38:11 | INFO | fairseq_cli.generate | {'_name': None, 'common': {'_name': None, 'no_progress_bar': False, 'log_interval': 100, 'log_format': None, 'log_file': None, 'aim_repo': None, 'aim_run_hash': None, 'tensorboard_logdir': None, 'wandb_project': None, 'azureml_logging': False, 'seed': 1, 'cpu': False, 'tpu': False, 'bf16': False, 'memory_efficient_bf16': False, 'fp16': True, 'memory_efficient_fp16': True, 'fp16_no_flatten_grads': False, 'fp16_init_scale': 128, 'fp16_scale_window': None, 'fp16_scale_tolerance': 0.0, 'on_cpu_convert_precision': False, 'min_loss_scale': 0.0001, 'threshold_loss_scale': None, 'amp': False, 'amp_batch_retries': 2, 'amp_init_scale': 128, 'amp_scale_window': None, 'user_dir': None, 'empty_cache_freq': 0, 'all_gather_list_size': 16384, 'model_parallel_size': 1, 'quantization_config_path': None, 'profile': False, 'reset_logging': False, 'suppress_crashes': False, 'use_plasma_view': False, 'plasma_path': '/tmp/plasma'}, 'common_eval': {'_name': None, 'path': '/export/data4/vzhekova/biases-data/De-En/wmt19.de-en.joined-dict.ensemble/model1.pt:/export/data4/vzhekova/biases-data/De-En/wmt19.de-en.joined-dict.ensemble/model2.pt:/export/data4/vzhekova/biases-data/De-En/wmt19.de-en.joined-dict.ensemble/model3.pt:/export/data4/vzhekova/biases-data/De-En/wmt19.de-en.joined-dict.ensemble/model4.pt', 'post_process': 'subword_nmt', 'quiet': False, 'model_overrides': '{}', 'results_path': None}, 'distributed_training': {'_name': None, 'distributed_world_size': 1, 'distributed_num_procs': 1, 'distributed_rank': 0, 'distributed_backend': 'nccl', 'distributed_init_method': None, 'distributed_port': -1, 'device_id': 0, 'distributed_no_spawn': False, 'ddp_backend': 'pytorch_ddp', 'ddp_comm_hook': 'none', 'bucket_cap_mb': 25, 'fix_batches_to_gpus': False, 'find_unused_parameters': False, 'gradient_as_bucket_view': False, 'fast_stat_sync': False, 'heartbeat_timeout': -1, 'broadcast_buffers': False, 'slowmo_momentum': None, 'slowmo_base_algorithm': 'localsgd', 'localsgd_frequency': 3, 'nprocs_per_node': 1, 'pipeline_model_parallel': False, 'pipeline_balance': None, 'pipeline_devices': None, 'pipeline_chunks': 0, 'pipeline_encoder_balance': None, 'pipeline_encoder_devices': None, 'pipeline_decoder_balance': None, 'pipeline_decoder_devices': None, 'pipeline_checkpoint': 'never', 'zero_sharding': 'none', 'fp16': True, 'memory_efficient_fp16': True, 'tpu': False, 'no_reshard_after_forward': False, 'fp32_reduce_scatter': False, 'cpu_offload': False, 'use_sharded_state': False, 'not_fsdp_flatten_parameters': False}, 'dataset': {'_name': None, 'num_workers': 1, 'skip_invalid_size_inputs_valid_test': False, 'max_tokens': None, 'batch_size': 64, 'required_batch_size_multiple': 8, 'required_seq_len_multiple': 1, 'dataset_impl': None, 'data_buffer_size': 10, 'train_subset': 'train', 'valid_subset': 'valid', 'combine_valid_subsets': None, 'ignore_unused_valid_subsets': False, 'validate_interval': 1, 'validate_interval_updates': 0, 'validate_after_updates': 0, 'fixed_validation_seed': None, 'disable_validation': False, 'max_tokens_valid': None, 'batch_size_valid': 64, 'max_valid_steps': None, 'curriculum': 0, 'gen_subset': 'test', 'num_shards': 1, 'shard_id': 0, 'grouped_shuffling': False, 'update_epoch_batch_itr': False, 'update_ordered_indices_seed': False}, 'optimization': {'_name': None, 'max_epoch': 0, 'max_update': 0, 'stop_time_hours': 0.0, 'clip_norm': 0.0, 'sentence_avg': False, 'update_freq': [1], 'lr': [0.25], 'stop_min_lr': -1.0, 'use_bmuf': False, 'skip_remainder_batch': False}, 'checkpoint': {'_name': None, 'save_dir': 'checkpoints', 'restore_file': 'checkpoint_last.pt', 'continue_once': None, 'finetune_from_model': None, 'reset_dataloader': False, 'reset_lr_scheduler': False, 'reset_meters': False, 'reset_optimizer': False, 'optimizer_overrides': '{}', 'save_interval': 1, 'save_interval_updates': 0, 'keep_interval_updates': -1, 'keep_interval_updates_pattern': -1, 'keep_last_epochs': -1, 'keep_best_checkpoints': -1, 'no_save': False, 'no_epoch_checkpoints': False, 'no_last_checkpoints': False, 'no_save_optimizer_state': False, 'best_checkpoint_metric': 'loss', 'maximize_best_checkpoint_metric': False, 'patience': -1, 'checkpoint_suffix': '', 'checkpoint_shard_count': 1, 'load_checkpoint_on_all_dp_ranks': False, 'write_checkpoints_asynchronously': False, 'model_parallel_size': 1}, 'bmuf': {'_name': None, 'block_lr': 1.0, 'block_momentum': 0.875, 'global_sync_iter': 50, 'warmup_iterations': 500, 'use_nbm': False, 'average_sync': False, 'distributed_world_size': 1}, 'generation': {'_name': None, 'beam': 10, 'beam_mt': 0, 'nbest': 10, 'max_len_a': 0.0, 'max_len_b': 200, 'max_len_a_mt': 0.0, 'max_len_b_mt': 200, 'min_len': 1, 'match_source_len': False, 'unnormalized': False, 'no_early_stop': False, 'no_beamable_mm': False, 'lenpen': 1.0, 'lenpen_mt': 1.0, 'unkpen': 0.0, 'replace_unk': None, 'sacrebleu': False, 'score_reference': False, 'prefix_size': 0, 'no_repeat_ngram_size': 0, 'sampling': False, 'sampling_topk': -1, 'sampling_topp': -1.0, 'constraints': None, 'temperature': 1.0, 'diverse_beam_groups': -1, 'diverse_beam_strength': 0.5, 'diversity_rate': -1.0, 'print_alignment': None, 'print_step': False, 'lm_path': None, 'lm_weight': 0.0, 'iter_decode_eos_penalty': 0.0, 'iter_decode_max_iter': 10, 'iter_decode_force_max_iter': False, 'iter_decode_with_beam': 1, 'iter_decode_with_external_reranker': False, 'retain_iter_history': False, 'retain_dropout': False, 'retain_dropout_modules': None, 'decoding_format': None, 'no_seed_provided': False, 'eos_token': None}, 'eval_lm': {'_name': None, 'output_word_probs': False, 'output_word_stats': False, 'context_window': 0, 'softmax_batch': 9223372036854775807}, 'interactive': {'_name': None, 'buffer_size': 0, 'input': '-'}, 'model': {'_name': 'wav2vec2', 'extractor_mode': 'default', 'encoder_layers': 12, 'encoder_embed_dim': 768, 'encoder_ffn_embed_dim': 3072, 'encoder_attention_heads': 12, 'activation_fn': 'gelu', 'layer_type': 'transformer', 'dropout': 0.1, 'attention_dropout': 0.1, 'activation_dropout': 0.0, 'encoder_layerdrop': 0.0, 'dropout_input': 0.0, 'dropout_features': 0.0, 'final_dim': 0, 'layer_norm_first': False, 'conv_feature_layers': '[(512, 10, 5)] + [(512, 3, 2)] * 4 + [(512,2,2)] + [(512,2,2)]', 'conv_bias': False, 'logit_temp': 0.1, 'quantize_targets': False, 'quantize_input': False, 'same_quantizer': False, 'target_glu': False, 'feature_grad_mult': 1.0, 'quantizer_depth': 1, 'quantizer_factor': 3, 'latent_vars': 320, 'latent_groups': 2, 'latent_dim': 0, 'mask_length': 10, 'mask_prob': 0.65, 'mask_selection': 'static', 'mask_other': 0.0, 'no_mask_overlap': False, 'mask_min_space': 1, 'require_same_masks': True, 'mask_dropout': 0.0, 'mask_channel_length': 10, 'mask_channel_prob': 0.0, 'mask_channel_before': False, 'mask_channel_selection': 'static', 'mask_channel_other': 0.0, 'no_mask_channel_overlap': False, 'mask_channel_min_space': 1, 'num_negatives': 100, 'negatives_from_everywhere': False, 'cross_sample_negatives': 0, 'codebook_negatives': 0, 'conv_pos': 128, 'conv_pos_groups': 16, 'pos_conv_depth': 1, 'latent_temp': [2.0, 0.5, 0.999995], 'max_positions': 100000, 'checkpoint_activations': False, 'required_seq_len_multiple': 1, 'crop_seq_to_multiple': 1, 'depthwise_conv_kernel_size': 31, 'attn_type': '', 'pos_enc_type': 'abs', 'fp16': True}, 'task': {'_name': 'translation', 'data': 'data-bin_disambiguated_male_de-en', 'source_lang': 'de', 'target_lang': 'en', 'load_alignments': False, 'left_pad_source': True, 'left_pad_target': False, 'max_source_positions': 1024, 'max_target_positions': 1024, 'upsample_primary': -1, 'truncate_source': False, 'num_batch_buckets': 0, 'train_subset': 'train', 'dataset_impl': None, 'required_seq_len_multiple': 1, 'eval_bleu': False, 'eval_bleu_args': '{}', 'eval_bleu_detok': 'space', 'eval_bleu_detok_args': '{}', 'eval_tokenized_bleu': False, 'eval_bleu_remove_bpe': None, 'eval_bleu_print_samples': False}, 'criterion': {'_name': 'cross_entropy', 'sentence_avg': True}, 'optimizer': None, 'lr_scheduler': {'_name': 'fixed', 'force_anneal': None, 'lr_shrink': 0.1, 'warmup_updates': 0, 'lr': [0.25]}, 'scoring': {'_name': 'bleu', 'pad': 1, 'eos': 2, 'unk': 3}, 'bpe': None, 'tokenizer': None, 'ema': {'_name': None, 'store_ema': False, 'ema_decay': 0.9999, 'ema_start_update': 0, 'ema_seed_model': None, 'ema_update_freq': 1, 'ema_fp32': False}}\n",
      "2023-08-21 11:38:11 | INFO | fairseq.tasks.translation | [de] dictionary: 42024 types\n",
      "2023-08-21 11:38:11 | INFO | fairseq.tasks.translation | [en] dictionary: 42024 types\n",
      "2023-08-21 11:38:11 | INFO | fairseq_cli.generate | loading model(s) from /export/data4/vzhekova/biases-data/De-En/wmt19.de-en.joined-dict.ensemble/model1.pt:/export/data4/vzhekova/biases-data/De-En/wmt19.de-en.joined-dict.ensemble/model2.pt:/export/data4/vzhekova/biases-data/De-En/wmt19.de-en.joined-dict.ensemble/model3.pt:/export/data4/vzhekova/biases-data/De-En/wmt19.de-en.joined-dict.ensemble/model4.pt\n",
      "2023-08-21 11:38:57 | INFO | fairseq.data.data_utils | loaded 3,350 examples from: data-bin_disambiguated_male_de-en/test.de-en.de\n",
      "2023-08-21 11:38:57 | INFO | fairseq.tasks.translation | data-bin_disambiguated_male_de-en test de-en 3350 examples\n",
      "2023-08-21 11:41:39 | INFO | fairseq_cli.generate | NOTE: hypothesis and token scores are output in base 2\n",
      "2023-08-21 11:41:39 | INFO | fairseq_cli.generate | Translated 3,350 sentences (33,292 tokens) in 104.5s (32.04 sentences/s, 318.44 tokens/s)\n",
      "2023-08-21 11:41:45 | INFO | fairseq_cli.generate | {'_name': None, 'common': {'_name': None, 'no_progress_bar': False, 'log_interval': 100, 'log_format': None, 'log_file': None, 'aim_repo': None, 'aim_run_hash': None, 'tensorboard_logdir': None, 'wandb_project': None, 'azureml_logging': False, 'seed': 1, 'cpu': False, 'tpu': False, 'bf16': False, 'memory_efficient_bf16': False, 'fp16': True, 'memory_efficient_fp16': True, 'fp16_no_flatten_grads': False, 'fp16_init_scale': 128, 'fp16_scale_window': None, 'fp16_scale_tolerance': 0.0, 'on_cpu_convert_precision': False, 'min_loss_scale': 0.0001, 'threshold_loss_scale': None, 'amp': False, 'amp_batch_retries': 2, 'amp_init_scale': 128, 'amp_scale_window': None, 'user_dir': None, 'empty_cache_freq': 0, 'all_gather_list_size': 16384, 'model_parallel_size': 1, 'quantization_config_path': None, 'profile': False, 'reset_logging': False, 'suppress_crashes': False, 'use_plasma_view': False, 'plasma_path': '/tmp/plasma'}, 'common_eval': {'_name': None, 'path': '/export/data4/vzhekova/biases-data/De-En/wmt19.de-en.joined-dict.ensemble/model1.pt:/export/data4/vzhekova/biases-data/De-En/wmt19.de-en.joined-dict.ensemble/model2.pt:/export/data4/vzhekova/biases-data/De-En/wmt19.de-en.joined-dict.ensemble/model3.pt:/export/data4/vzhekova/biases-data/De-En/wmt19.de-en.joined-dict.ensemble/model4.pt', 'post_process': 'subword_nmt', 'quiet': False, 'model_overrides': '{}', 'results_path': None}, 'distributed_training': {'_name': None, 'distributed_world_size': 1, 'distributed_num_procs': 1, 'distributed_rank': 0, 'distributed_backend': 'nccl', 'distributed_init_method': None, 'distributed_port': -1, 'device_id': 0, 'distributed_no_spawn': False, 'ddp_backend': 'pytorch_ddp', 'ddp_comm_hook': 'none', 'bucket_cap_mb': 25, 'fix_batches_to_gpus': False, 'find_unused_parameters': False, 'gradient_as_bucket_view': False, 'fast_stat_sync': False, 'heartbeat_timeout': -1, 'broadcast_buffers': False, 'slowmo_momentum': None, 'slowmo_base_algorithm': 'localsgd', 'localsgd_frequency': 3, 'nprocs_per_node': 1, 'pipeline_model_parallel': False, 'pipeline_balance': None, 'pipeline_devices': None, 'pipeline_chunks': 0, 'pipeline_encoder_balance': None, 'pipeline_encoder_devices': None, 'pipeline_decoder_balance': None, 'pipeline_decoder_devices': None, 'pipeline_checkpoint': 'never', 'zero_sharding': 'none', 'fp16': True, 'memory_efficient_fp16': True, 'tpu': False, 'no_reshard_after_forward': False, 'fp32_reduce_scatter': False, 'cpu_offload': False, 'use_sharded_state': False, 'not_fsdp_flatten_parameters': False}, 'dataset': {'_name': None, 'num_workers': 1, 'skip_invalid_size_inputs_valid_test': False, 'max_tokens': None, 'batch_size': 64, 'required_batch_size_multiple': 8, 'required_seq_len_multiple': 1, 'dataset_impl': None, 'data_buffer_size': 10, 'train_subset': 'train', 'valid_subset': 'valid', 'combine_valid_subsets': None, 'ignore_unused_valid_subsets': False, 'validate_interval': 1, 'validate_interval_updates': 0, 'validate_after_updates': 0, 'fixed_validation_seed': None, 'disable_validation': False, 'max_tokens_valid': None, 'batch_size_valid': 64, 'max_valid_steps': None, 'curriculum': 0, 'gen_subset': 'test', 'num_shards': 1, 'shard_id': 0, 'grouped_shuffling': False, 'update_epoch_batch_itr': False, 'update_ordered_indices_seed': False}, 'optimization': {'_name': None, 'max_epoch': 0, 'max_update': 0, 'stop_time_hours': 0.0, 'clip_norm': 0.0, 'sentence_avg': False, 'update_freq': [1], 'lr': [0.25], 'stop_min_lr': -1.0, 'use_bmuf': False, 'skip_remainder_batch': False}, 'checkpoint': {'_name': None, 'save_dir': 'checkpoints', 'restore_file': 'checkpoint_last.pt', 'continue_once': None, 'finetune_from_model': None, 'reset_dataloader': False, 'reset_lr_scheduler': False, 'reset_meters': False, 'reset_optimizer': False, 'optimizer_overrides': '{}', 'save_interval': 1, 'save_interval_updates': 0, 'keep_interval_updates': -1, 'keep_interval_updates_pattern': -1, 'keep_last_epochs': -1, 'keep_best_checkpoints': -1, 'no_save': False, 'no_epoch_checkpoints': False, 'no_last_checkpoints': False, 'no_save_optimizer_state': False, 'best_checkpoint_metric': 'loss', 'maximize_best_checkpoint_metric': False, 'patience': -1, 'checkpoint_suffix': '', 'checkpoint_shard_count': 1, 'load_checkpoint_on_all_dp_ranks': False, 'write_checkpoints_asynchronously': False, 'model_parallel_size': 1}, 'bmuf': {'_name': None, 'block_lr': 1.0, 'block_momentum': 0.875, 'global_sync_iter': 50, 'warmup_iterations': 500, 'use_nbm': False, 'average_sync': False, 'distributed_world_size': 1}, 'generation': {'_name': None, 'beam': 10, 'beam_mt': 0, 'nbest': 10, 'max_len_a': 0.0, 'max_len_b': 200, 'max_len_a_mt': 0.0, 'max_len_b_mt': 200, 'min_len': 1, 'match_source_len': False, 'unnormalized': False, 'no_early_stop': False, 'no_beamable_mm': False, 'lenpen': 1.0, 'lenpen_mt': 1.0, 'unkpen': 0.0, 'replace_unk': None, 'sacrebleu': False, 'score_reference': False, 'prefix_size': 0, 'no_repeat_ngram_size': 0, 'sampling': False, 'sampling_topk': -1, 'sampling_topp': -1.0, 'constraints': None, 'temperature': 1.0, 'diverse_beam_groups': -1, 'diverse_beam_strength': 0.5, 'diversity_rate': -1.0, 'print_alignment': None, 'print_step': False, 'lm_path': None, 'lm_weight': 0.0, 'iter_decode_eos_penalty': 0.0, 'iter_decode_max_iter': 10, 'iter_decode_force_max_iter': False, 'iter_decode_with_beam': 1, 'iter_decode_with_external_reranker': False, 'retain_iter_history': False, 'retain_dropout': False, 'retain_dropout_modules': None, 'decoding_format': None, 'no_seed_provided': False, 'eos_token': None}, 'eval_lm': {'_name': None, 'output_word_probs': False, 'output_word_stats': False, 'context_window': 0, 'softmax_batch': 9223372036854775807}, 'interactive': {'_name': None, 'buffer_size': 0, 'input': '-'}, 'model': {'_name': 'wav2vec2', 'extractor_mode': 'default', 'encoder_layers': 12, 'encoder_embed_dim': 768, 'encoder_ffn_embed_dim': 3072, 'encoder_attention_heads': 12, 'activation_fn': 'gelu', 'layer_type': 'transformer', 'dropout': 0.1, 'attention_dropout': 0.1, 'activation_dropout': 0.0, 'encoder_layerdrop': 0.0, 'dropout_input': 0.0, 'dropout_features': 0.0, 'final_dim': 0, 'layer_norm_first': False, 'conv_feature_layers': '[(512, 10, 5)] + [(512, 3, 2)] * 4 + [(512,2,2)] + [(512,2,2)]', 'conv_bias': False, 'logit_temp': 0.1, 'quantize_targets': False, 'quantize_input': False, 'same_quantizer': False, 'target_glu': False, 'feature_grad_mult': 1.0, 'quantizer_depth': 1, 'quantizer_factor': 3, 'latent_vars': 320, 'latent_groups': 2, 'latent_dim': 0, 'mask_length': 10, 'mask_prob': 0.65, 'mask_selection': 'static', 'mask_other': 0.0, 'no_mask_overlap': False, 'mask_min_space': 1, 'require_same_masks': True, 'mask_dropout': 0.0, 'mask_channel_length': 10, 'mask_channel_prob': 0.0, 'mask_channel_before': False, 'mask_channel_selection': 'static', 'mask_channel_other': 0.0, 'no_mask_channel_overlap': False, 'mask_channel_min_space': 1, 'num_negatives': 100, 'negatives_from_everywhere': False, 'cross_sample_negatives': 0, 'codebook_negatives': 0, 'conv_pos': 128, 'conv_pos_groups': 16, 'pos_conv_depth': 1, 'latent_temp': [2.0, 0.5, 0.999995], 'max_positions': 100000, 'checkpoint_activations': False, 'required_seq_len_multiple': 1, 'crop_seq_to_multiple': 1, 'depthwise_conv_kernel_size': 31, 'attn_type': '', 'pos_enc_type': 'abs', 'fp16': True}, 'task': {'_name': 'translation', 'data': 'data-bin_disambiguated_female_de-en', 'source_lang': 'de', 'target_lang': 'en', 'load_alignments': False, 'left_pad_source': True, 'left_pad_target': False, 'max_source_positions': 1024, 'max_target_positions': 1024, 'upsample_primary': -1, 'truncate_source': False, 'num_batch_buckets': 0, 'train_subset': 'train', 'dataset_impl': None, 'required_seq_len_multiple': 1, 'eval_bleu': False, 'eval_bleu_args': '{}', 'eval_bleu_detok': 'space', 'eval_bleu_detok_args': '{}', 'eval_tokenized_bleu': False, 'eval_bleu_remove_bpe': None, 'eval_bleu_print_samples': False}, 'criterion': {'_name': 'cross_entropy', 'sentence_avg': True}, 'optimizer': None, 'lr_scheduler': {'_name': 'fixed', 'force_anneal': None, 'lr_shrink': 0.1, 'warmup_updates': 0, 'lr': [0.25]}, 'scoring': {'_name': 'bleu', 'pad': 1, 'eos': 2, 'unk': 3}, 'bpe': None, 'tokenizer': None, 'ema': {'_name': None, 'store_ema': False, 'ema_decay': 0.9999, 'ema_start_update': 0, 'ema_seed_model': None, 'ema_update_freq': 1, 'ema_fp32': False}}\n",
      "2023-08-21 11:41:46 | INFO | fairseq.tasks.translation | [de] dictionary: 42024 types\n",
      "2023-08-21 11:41:46 | INFO | fairseq.tasks.translation | [en] dictionary: 42024 types\n",
      "2023-08-21 11:41:46 | INFO | fairseq_cli.generate | loading model(s) from /export/data4/vzhekova/biases-data/De-En/wmt19.de-en.joined-dict.ensemble/model1.pt:/export/data4/vzhekova/biases-data/De-En/wmt19.de-en.joined-dict.ensemble/model2.pt:/export/data4/vzhekova/biases-data/De-En/wmt19.de-en.joined-dict.ensemble/model3.pt:/export/data4/vzhekova/biases-data/De-En/wmt19.de-en.joined-dict.ensemble/model4.pt\n",
      "2023-08-21 11:42:27 | INFO | fairseq.data.data_utils | loaded 3,350 examples from: data-bin_disambiguated_female_de-en/test.de-en.de\n",
      "2023-08-21 11:42:27 | INFO | fairseq.tasks.translation | data-bin_disambiguated_female_de-en test de-en 3350 examples\n",
      "2023-08-21 11:44:54 | INFO | fairseq_cli.generate | NOTE: hypothesis and token scores are output in base 2\n",
      "2023-08-21 11:44:54 | INFO | fairseq_cli.generate | Translated 3,350 sentences (31,570 tokens) in 96.3s (34.80 sentences/s, 327.97 tokens/s)\n",
      "Finished translation.\n"
     ]
    }
   ],
   "source": [
    "# Generate backtranslations\n",
    "!fairseq-generate data-bin_original_de-en  \\\n",
    "    --task translation \\\n",
    "    --source-lang de \\\n",
    "    --target-lang en \\\n",
    "    --path $MODELS/model1.pt:$MODELS/model2.pt:$MODELS/model3.pt:$MODELS/model4.pt \\\n",
    "    --beam $BEAM \\\n",
    "    --nbest $NBEST \\\n",
    "    --batch-size 64 \\\n",
    "    --memory-efficient-fp16 \\\n",
    "    --remove-bpe > original_de-en.decode_Beam_10_backtranslation.log\n",
    "\n",
    "!fairseq-generate data-bin_disambiguated_male_de-en  \\\n",
    "    --task translation \\\n",
    "    --source-lang de \\\n",
    "    --target-lang en \\\n",
    "    --path $MODELS/model1.pt:$MODELS/model2.pt:$MODELS/model3.pt:$MODELS/model4.pt \\\n",
    "    --beam $BEAM \\\n",
    "    --nbest $NBEST \\\n",
    "    --batch-size 64 \\\n",
    "    --memory-efficient-fp16 \\\n",
    "    --remove-bpe > disambiguated_male_de-en.decode_Beam_10_backtranslation.log\n",
    "\n",
    "!fairseq-generate data-bin_disambiguated_female_de-en  \\\n",
    "    --task translation \\\n",
    "    --source-lang de \\\n",
    "    --target-lang en \\\n",
    "    --path $MODELS/model1.pt:$MODELS/model2.pt:$MODELS/model3.pt:$MODELS/model4.pt \\\n",
    "    --beam $BEAM \\\n",
    "    --nbest $NBEST \\\n",
    "    --batch-size 64 \\\n",
    "    --memory-efficient-fp16 \\\n",
    "    --remove-bpe > disambiguated_female_de-en.decode_Beam_10_backtranslation.log\n",
    "\n",
    "print('Finished translation.')"
   ]
  },
  {
   "cell_type": "code",
   "execution_count": 86,
   "id": "cd64bb5b-f01d-43e6-9b52-ca4a000040c0",
   "metadata": {},
   "outputs": [],
   "source": [
    "# 'LC_ALL=C sort -V' sorts the results in natural order \n",
    "!grep ^H original_de-en.decode_Beam_10_backtranslation.log | LC_ALL=C sort -V | sed 's/^H-//g' | cut -f 3 | sed 's/ @@//g' > ./hyp_original_back.txt\n",
    "!grep ^H disambiguated_male_de-en.decode_Beam_10_backtranslation.log | LC_ALL=C sort -V | sed 's/^H-//g' | cut -f 3 | sed 's/ @@//g' > ./hyp_disambiguated_male_back.txt\n",
    "!grep ^H disambiguated_female_de-en.decode_Beam_10_backtranslation.log | LC_ALL=C sort -V | sed 's/^H-//g' | cut -f 3 | sed 's/ @@//g' > ./hyp_disambiguated_female_back.txt"
   ]
  },
  {
   "cell_type": "code",
   "execution_count": 87,
   "id": "d1cc9b77-86fc-4604-9d6c-6c6a3eea94c4",
   "metadata": {},
   "outputs": [
    {
     "name": "stdout",
     "output_type": "stream",
     "text": [
      "Finished detokenizing.\n"
     ]
    }
   ],
   "source": [
    "# Detokenize text        \n",
    "from sacremoses import MosesPunctNormalizer\n",
    "from sacremoses import MosesTokenizer, MosesDetokenizer\n",
    "from __future__ import print_function\n",
    "\n",
    "md_en = MosesDetokenizer(lang='en')\n",
    "\n",
    "with open('hyp_original_back.txt', encoding='utf8') as fin, open('original_back.txt','w', encoding='utf8') as fout:\n",
    "    for line in fin:\n",
    "        tokens = md_en.detokenize(line.split(), return_str=True)\n",
    "        print(tokens, end='\\n', file=fout)\n",
    "        \n",
    "with open('hyp_disambiguated_male_back.txt', encoding='utf8') as fin, open('disambiguated_male_back.txt','w', encoding='utf8') as fout:\n",
    "    for line in fin:\n",
    "        tokens = md_en.detokenize(line.split(), return_str=True)\n",
    "        print(tokens, end='\\n', file=fout)\n",
    "        \n",
    "with open('hyp_disambiguated_female_back.txt', encoding='utf8') as fin, open('disambiguated_female_back.txt','w', encoding='utf8') as fout:\n",
    "    for line in fin:\n",
    "        tokens = md_en.detokenize(line.split(), return_str=True)\n",
    "        print(tokens, end='\\n', file=fout)\n",
    "\n",
    "print('Finished detokenizing.')"
   ]
  },
  {
   "cell_type": "markdown",
   "id": "be8a4d60-80fb-4ce1-b305-4dcaa5ddbbb2",
   "metadata": {
    "tags": []
   },
   "source": [
    "# Statistics on translations"
   ]
  },
  {
   "cell_type": "code",
   "execution_count": 134,
   "id": "dab7a65c-57d3-4bd9-883c-b6166d8dc85b",
   "metadata": {},
   "outputs": [
    {
     "name": "stdout",
     "output_type": "stream",
     "text": [
      "335\n",
      "335\n",
      "335\n",
      "335\n"
     ]
    }
   ],
   "source": [
    "# List with original source sentences\n",
    "source = []\n",
    "with open('en_original.txt', 'r') as fin:\n",
    "    for line in fin:\n",
    "        source.append(line.strip())\n",
    "        \n",
    "# List with disambiguated source sentences male\n",
    "source_disambiguated_male = []\n",
    "with open('en_disambiguated_male.txt', 'r') as fin:\n",
    "    for line in fin:\n",
    "        source_disambiguated_male.append(line.strip())\n",
    "        \n",
    "# List with disambiguated source sentences female\n",
    "source_disambiguated_female = []\n",
    "with open('en_disambiguated_female.txt', 'r') as fin:\n",
    "    for line in fin:\n",
    "        source_disambiguated_female.append(line.strip())        \n",
    "    \n",
    "# List with nbest sentences for every source in original\n",
    "nbest_original = []\n",
    "counter = 0\n",
    "temp = []\n",
    "with open('hyp_original.txt', 'r') as fin:\n",
    "    for line in fin:\n",
    "        temp.append(line.strip())\n",
    "        counter += 1\n",
    "        if (counter == 10):\n",
    "            nbest_original.append(temp)\n",
    "            counter = 0\n",
    "            temp = []\n",
    "            \n",
    "# List with nbest sentences for every source in disambiguated male        \n",
    "nbest_disambiguated_male = []\n",
    "with open('hyp_disambiguated_male.txt', 'r') as fin:\n",
    "    for line in fin:\n",
    "        temp.append(line.strip())\n",
    "        counter += 1\n",
    "        if (counter == 10):\n",
    "            nbest_disambiguated_male.append(temp)\n",
    "            counter = 0\n",
    "            temp = []\n",
    "            \n",
    "# List with nbest sentences for every source in disambiguated female        \n",
    "nbest_disambiguated_female = []\n",
    "with open('hyp_disambiguated_female.txt', 'r') as fin:\n",
    "    for line in fin:\n",
    "        temp.append(line.strip())\n",
    "        counter += 1\n",
    "        if (counter == 10):\n",
    "            nbest_disambiguated_female.append(temp)\n",
    "            counter = 0\n",
    "            temp = []\n",
    "            \n",
    "print(len(source))\n",
    "print(len(nbest_original))\n",
    "print(len(nbest_disambiguated_male))\n",
    "print(len(nbest_disambiguated_female))"
   ]
  },
  {
   "cell_type": "markdown",
   "id": "ce374900-43dd-484f-bd18-8f8c05e524d4",
   "metadata": {
    "tags": []
   },
   "source": [
    "## Count unique sentences"
   ]
  },
  {
   "cell_type": "code",
   "execution_count": 135,
   "id": "b14270ea-45c3-41ba-a00a-8e3eba27ec47",
   "metadata": {},
   "outputs": [],
   "source": [
    "# Count unique sentences in source nbest list for each source sentence\n",
    "def count_unique_sentences(nbest_sentences):\n",
    "    unique_sent = []\n",
    "    for source_nbest in nbest_sentences:\n",
    "        num_values = len(set(source_nbest))\n",
    "        #print(num_values)\n",
    "        unique_sent.append(num_values)\n",
    "\n",
    "    #print(unique_sent)\n",
    "    return sum(unique_sent)/len(nbest_sentences) # average"
   ]
  },
  {
   "cell_type": "code",
   "execution_count": 136,
   "id": "e76e4e7a-74ad-405a-8fac-1bfd927999ce",
   "metadata": {},
   "outputs": [
    {
     "name": "stdout",
     "output_type": "stream",
     "text": [
      "9.943283582089553\n",
      "9.949253731343283\n",
      "9.874626865671642\n"
     ]
    }
   ],
   "source": [
    "# Value should be 10, because beam search generates 10 unique sentences\n",
    "print(count_unique_sentences(nbest_original))\n",
    "\n",
    "print(count_unique_sentences(nbest_disambiguated_male))\n",
    "\n",
    "print(count_unique_sentences(nbest_disambiguated_female))"
   ]
  },
  {
   "cell_type": "markdown",
   "id": "176c0c73-c1d3-4ca9-9f3f-151c0e86f17f",
   "metadata": {
    "tags": []
   },
   "source": [
    "## Count unique words"
   ]
  },
  {
   "cell_type": "code",
   "execution_count": 137,
   "id": "8fc503a0-e64c-479f-9366-86e8a53c0898",
   "metadata": {},
   "outputs": [],
   "source": [
    "# Count unique words in source nbest list for each source sentence of original\n",
    "# !!! Method is slow\n",
    "import spacy\n",
    "\n",
    "def count_unique_words(nbest_sentences):\n",
    "    sp = spacy.load('en_core_web_sm')\n",
    "    stopwords = spacy.lang.en.stop_words.STOP_WORDS\n",
    "    \n",
    "    unique_words = []\n",
    "    normalizer = 0 # should normalize based on total number of words, because disambiguated sentences have more words overall\n",
    "    counter = 0\n",
    "    for source_nbest in nbest_sentences:\n",
    "        words = set()\n",
    "        for sent in source_nbest:\n",
    "            tokens = sp(sent)\n",
    "            normalizer += len(tokens)\n",
    "            for token in tokens:\n",
    "                # if token.text not in stopwords:    # checking whether the word is a stop word\n",
    "                    words.add(token.text)\n",
    "        num_values = len(words)\n",
    "        unique_words.append(num_values)\n",
    "\n",
    "        counter += 1\n",
    "        #print(counter)\n",
    "\n",
    "    #print(unique_words)\n",
    "    print('Normalizer: ' + str(normalizer/len(nbest_sentences)))\n",
    "    return (sum(unique_words)/len(nbest_sentences), (sum(unique_words)/len(nbest_sentences))/(normalizer/len(nbest_sentences))) # (average, norm average)"
   ]
  },
  {
   "cell_type": "code",
   "execution_count": 138,
   "id": "ef4217fa-a2ad-464c-b6a6-7ad3b2dabf9d",
   "metadata": {},
   "outputs": [
    {
     "name": "stdout",
     "output_type": "stream",
     "text": [
      "Normalizer: 74.17611940298508\n",
      "(15.223880597014926, 0.20523964747072315)\n",
      "Normalizer: 81.2\n",
      "(15.349253731343284, 0.1890302183662966)\n",
      "Normalizer: 75.74029850746268\n",
      "(15.274626865671642, 0.20167106767035828)\n"
     ]
    }
   ],
   "source": [
    "print(count_unique_words(nbest_original))\n",
    "\n",
    "print(count_unique_words(nbest_disambiguated_male))\n",
    "\n",
    "print(count_unique_words(nbest_disambiguated_female))"
   ]
  },
  {
   "cell_type": "markdown",
   "id": "95394217-96d3-4ea1-aa9b-65cec09c3be1",
   "metadata": {
    "tags": []
   },
   "source": [
    "# Statistics on backtranslations"
   ]
  },
  {
   "cell_type": "code",
   "execution_count": 42,
   "id": "8b8b4177-38a5-4294-8c2a-619c63fab031",
   "metadata": {},
   "outputs": [
    {
     "name": "stdout",
     "output_type": "stream",
     "text": [
      "335\n",
      "335\n",
      "335\n"
     ]
    }
   ],
   "source": [
    "# List with original source sentences\n",
    "source = []\n",
    "with open('en_original.txt', 'r') as fin:\n",
    "    for line in fin:\n",
    "        source.append(line.strip())\n",
    "        \n",
    "# List with disambiguated source sentences male\n",
    "source_disambiguated_male = []\n",
    "with open('en_disambiguated_male.txt', 'r') as fin:\n",
    "    for line in fin:\n",
    "        source_disambiguated_male.append(line.strip())\n",
    "        \n",
    "# List with disambiguated source sentences female\n",
    "source_disambiguated_female = []\n",
    "with open('en_disambiguated_female.txt', 'r') as fin:\n",
    "    for line in fin:\n",
    "        source_disambiguated_female.append(line.strip())        \n",
    "    \n",
    "# List with nbest sentences for every source in original \n",
    "nbest_original = []\n",
    "counter = 0\n",
    "temp = []\n",
    "with open('original_back.txt', 'r') as fin:\n",
    "    for line in fin:\n",
    "        temp.append(line.strip())\n",
    "        counter += 1\n",
    "        if (counter == 100):\n",
    "            nbest_original.append(temp)\n",
    "            counter = 0\n",
    "            temp = []\n",
    "            \n",
    "# List with nbest sentences for every source in disambiguated male\n",
    "nbest_disambiguated_male = []\n",
    "with open('disambiguated_male_back.txt', 'r') as fin:\n",
    "    for line in fin:\n",
    "        temp.append(line.strip())\n",
    "        counter += 1\n",
    "        if (counter == 100):\n",
    "            nbest_disambiguated_male.append(temp)\n",
    "            counter = 0\n",
    "            temp = []\n",
    "            \n",
    "# List with nbest sentences for every source in disambiguated female\n",
    "nbest_disambiguated_female = []\n",
    "with open('disambiguated_female_back.txt', 'r') as fin:\n",
    "    for line in fin:\n",
    "        temp.append(line.strip())\n",
    "        counter += 1\n",
    "        if (counter == 100):\n",
    "            nbest_disambiguated_female.append(temp)\n",
    "            counter = 0\n",
    "            temp = []\n",
    "            \n",
    "print(len(nbest_original))\n",
    "print(len(nbest_disambiguated_male))\n",
    "print(len(nbest_disambiguated_female))"
   ]
  },
  {
   "cell_type": "markdown",
   "id": "53f66cfb-d1bc-4b83-8f19-8ab4b21303db",
   "metadata": {},
   "source": [
    "## Source sentence reoccurrence"
   ]
  },
  {
   "cell_type": "code",
   "execution_count": 94,
   "id": "618bb74e-385d-443a-b376-e949e99e2fc7",
   "metadata": {},
   "outputs": [],
   "source": [
    "# Count how many of the source sentences reoccur in the backtranslation\n",
    "def count_sentence_reoccurrence(source_sentences, nbest_sentences):\n",
    "    results = []\n",
    "    counter = 0\n",
    "    for sent in source_sentences:\n",
    "        matches = 0\n",
    "        for target in nbest_sentences[counter]: \n",
    "            if (sent == target):\n",
    "                matches += 1\n",
    "        results.append(matches)  \n",
    "        counter += 1\n",
    "\n",
    "    return sum(x > 0 for x in results)"
   ]
  },
  {
   "cell_type": "code",
   "execution_count": 95,
   "id": "5b61cd08-a1ec-475a-a2d7-694d11b0dee8",
   "metadata": {},
   "outputs": [
    {
     "name": "stdout",
     "output_type": "stream",
     "text": [
      "295\n",
      "293\n",
      "118\n"
     ]
    }
   ],
   "source": [
    "print(count_sentence_reoccurrence(source, nbest_original))\n",
    "\n",
    "print(count_sentence_reoccurrence(source_disambiguated_male, nbest_disambiguated_male))\n",
    "\n",
    "print(count_sentence_reoccurrence(source_disambiguated_female, nbest_disambiguated_female))"
   ]
  },
  {
   "cell_type": "markdown",
   "id": "33ecb949-c44c-42bd-8076-31893262c777",
   "metadata": {},
   "source": [
    "## Ambiguous source words reoccurrence\n"
   ]
  },
  {
   "cell_type": "code",
   "execution_count": 96,
   "id": "76e85e14-a11e-4eb6-95d5-aa76aedc593b",
   "metadata": {},
   "outputs": [
    {
     "name": "stdout",
     "output_type": "stream",
     "text": [
      "['developer', 'mechanic', 'mover', 'assistant', 'chief', 'salesperson', 'lawyer', 'cook', 'mover', 'farmer', 'CEO', 'hairdresser', 'developer', 'driver', 'auditor', 'CEO', 'guard', 'assistant', 'assistant', 'auditor', 'salesperson', 'mechanic', 'manager', 'physician', 'laborer', 'physician', 'hairdresser', 'developer', 'farmer', 'receptionist', 'manager', 'cleaner', 'mechanic', 'writer', 'construction', 'editor', 'analyst', 'carpenter', 'cook', 'carpenter', 'cleaner', 'laborer', 'mechanic', 'mechanic', 'cook', 'farmer', 'CEO', 'librarian', 'chief', 'developer', 'nurse', 'lawyer', 'developer', 'mover', 'mover', 'construction', 'secretary', 'CEO', 'carpenter', 'sheriff', 'mechanic', 'analyst', 'clerk', 'assistant', 'chief', 'janitor', 'manager', 'supervisor', 'chief', 'construction', 'salesperson', 'lawyer', 'developer', 'sheriff', 'janitor', 'laborer', 'driver', 'mover', 'developer', 'janitor', 'salesperson', 'chief', 'laborer', 'guard', 'nurse', 'construction', 'laborer', 'lawyer', 'CEO', 'laborer', 'laborer', 'nurse', 'manager', 'guard', 'developer', 'driver', 'manager', 'farmer', 'analyst', 'supervisor', 'laborer', 'carpenter', 'construction', 'manager', 'farmer', 'CEO', 'salesperson', 'driver', 'construction', 'supervisor', 'lawyer', 'analyst', 'supervisor', 'construction', 'CEO', 'CEO', 'salesperson', 'driver', 'farmer', 'guard', 'CEO', 'physician', 'manager', 'analyst', 'mover', 'CEO', 'laborer', 'farmer', 'sheriff', 'analyst', 'guard', 'mechanic', 'carpenter', 'sheriff', 'manager', 'sheriff', 'cook', 'mover', 'analyst', 'sheriff', 'salesperson', 'CEO', 'janitor', 'supervisor', 'developer', 'guard', 'construction', 'driver', 'driver', 'chief', 'physician', 'sheriff', 'mechanic', 'developer', 'physician', 'farmer', 'mechanic', 'mover', 'chief', 'physician', 'farmer', 'salesperson', 'janitor', 'chief', 'carpenter', 'lawyer', 'laborer', 'cook', 'analyst', 'guard', 'lawyer', 'cook', 'CEO', 'carpenter', 'lawyer', 'developer', 'manager', 'mover', 'farmer', 'farmer', 'guard', 'mover', 'guard', 'analyst', 'cook', 'construction', 'construction', 'driver', 'CEO', 'driver', 'salesperson', 'cook', 'lawyer', 'manager', 'CEO', 'mechanic', 'physician', 'driver', 'carpenter', 'supervisor', 'janitor', 'lawyer', 'construction', 'attendant', 'carpenter', 'carpenter', 'physician', 'sheriff', 'janitor', 'janitor', 'salesperson', 'counselor', 'secretary', 'supervisor', 'chief', 'guard', 'sheriff', 'mechanic', 'cleaner', 'sheriff', 'cleaner', 'baker', 'developer', 'clerk', 'construction', 'receptionist', 'salesperson', 'receptionist', 'accountant', 'manager', 'cook', 'supervisor', 'chief', 'supervisor', 'secretary', 'lawyer', 'auditor', 'analyst', 'guard', 'laborer', 'analyst', 'receptionist', 'receptionist', 'supervisor', 'clerk', 'chief', 'analyst', 'construction', 'guard', 'guard', 'developer', 'manager', 'mechanic', 'supervisor', 'housekeeper', 'supervisor', 'carpenter', 'mechanic', 'physician', 'farmer', 'farmer', 'janitor', 'cook', 'driver', 'mechanic', 'mechanic', 'mover', 'carpenter', 'construction', 'supervisor', 'chief', 'janitor', 'analyst', 'sheriff', 'janitor', 'mover', 'developer', 'mechanic', 'editor', 'counselor', 'tailor', 'farmer', 'supervisor', 'manager', 'mover', 'laborer', 'housekeeper', 'baker', 'attendant', 'writer', 'cook', 'analyst', 'physician', 'driver', 'mover', 'driver', 'developer', 'chief', 'physician', 'janitor', 'chief', 'laborer', 'sheriff', 'chief', 'cook', 'salesperson', 'lawyer', 'farmer', 'guard', 'assistant', 'CEO', 'housekeeper', 'cleaner', 'cook', 'laborer', 'cleaner', 'guard', 'customer', 'teenager', 'librarian', 'advisor', 'psychologist', 'customer', 'patient', 'practitioner', 'examiner', 'hairdresser', 'programmer', 'paralegal', 'undergraduate', 'dietitian', 'painter', 'broker', 'firefighter', 'secretary']\n",
      "335\n"
     ]
    }
   ],
   "source": [
    "# Extract ambiguous words from source sentences\n",
    "ambiguous_words = [] \n",
    "with open('en_original.txt', 'r') as fin:\n",
    "    for line in fin:\n",
    "        tokens = line.split(\" \")\n",
    "        ambiguous_words.append(tokens[1].replace('\\n', ''))\n",
    "        \n",
    "print(ambiguous_words)\n",
    "print(len(ambiguous_words))"
   ]
  },
  {
   "cell_type": "code",
   "execution_count": 97,
   "id": "ba9666d2-f3b2-4017-8214-3113ff7cff25",
   "metadata": {},
   "outputs": [],
   "source": [
    "# Count how many of the ambiguous words reoccur in the backtranslation\n",
    "def count_words_reoccurrence(ambiguous_words, nbest_sentences):\n",
    "    results = []\n",
    "    counter = 0\n",
    "    for word in ambiguous_words:\n",
    "        matches = 0\n",
    "        for target in nbest_sentences[counter]: \n",
    "            if (word in target.split(\" \")):\n",
    "                matches += 1\n",
    "        results.append(matches)  \n",
    "        counter += 1\n",
    "\n",
    "    return sum(x > 0 for x in results)"
   ]
  },
  {
   "cell_type": "code",
   "execution_count": 98,
   "id": "93567f32-0885-419c-baf3-b4eb772c4e55",
   "metadata": {},
   "outputs": [
    {
     "name": "stdout",
     "output_type": "stream",
     "text": [
      "329\n",
      "330\n",
      "314\n"
     ]
    }
   ],
   "source": [
    "print(count_words_reoccurrence(ambiguous_words, nbest_original))\n",
    "\n",
    "print(count_words_reoccurrence(ambiguous_words, nbest_disambiguated_male))\n",
    "\n",
    "print(count_words_reoccurrence(ambiguous_words, nbest_disambiguated_female))"
   ]
  },
  {
   "cell_type": "markdown",
   "id": "628352f6-7bc2-4f3e-b4c9-72eddb35be6b",
   "metadata": {},
   "source": [
    "## Count unique sentences"
   ]
  },
  {
   "cell_type": "code",
   "execution_count": 140,
   "id": "fd2f4488-4207-430b-8e53-00ba33560ab6",
   "metadata": {},
   "outputs": [
    {
     "name": "stdout",
     "output_type": "stream",
     "text": [
      "45.97910447761194\n",
      "50.72835820895522\n",
      "50.82089552238806\n"
     ]
    }
   ],
   "source": [
    "print(count_unique_sentences(nbest_original))\n",
    "\n",
    "print(count_unique_sentences(nbest_disambiguated_male))\n",
    "\n",
    "print(count_unique_sentences(nbest_disambiguated_female))"
   ]
  },
  {
   "cell_type": "markdown",
   "id": "265064a1-379a-4b66-ad78-61dcd8735726",
   "metadata": {},
   "source": [
    "## Count unique words"
   ]
  },
  {
   "cell_type": "code",
   "execution_count": 141,
   "id": "fe3fa560-d25d-401f-a776-c3080761d6f9",
   "metadata": {},
   "outputs": [
    {
     "name": "stdout",
     "output_type": "stream",
     "text": [
      "Normalizer: 730.8298507462687\n",
      "(32.34925373134328, 0.04426372800496675)\n",
      "Normalizer: 803.5910447761194\n",
      "(31.623880597014924, 0.0393532018588203)\n",
      "Normalizer: 752.0268656716418\n",
      "(32.017910447761196, 0.0425754875381556)\n"
     ]
    }
   ],
   "source": [
    "print(count_unique_words(nbest_original))\n",
    "\n",
    "print(count_unique_words(nbest_disambiguated_male))\n",
    "\n",
    "print(count_unique_words(nbest_disambiguated_female))"
   ]
  },
  {
   "cell_type": "markdown",
   "id": "b9a31ec1-6057-4efc-9cb5-0958d64c2bc2",
   "metadata": {
    "tags": []
   },
   "source": [
    "# Word alignement (source-translation)"
   ]
  },
  {
   "cell_type": "markdown",
   "id": "d26f2bbb-6aa4-47fa-89bd-3855b164c388",
   "metadata": {},
   "source": [
    "- Input to fast_align must be tokenized and aligned into parallel sentences. \n",
    "- Line is a source language sentence and its target language translation, separated by a triple pipe symbol with leading and trailing white space (|||)"
   ]
  },
  {
   "cell_type": "code",
   "execution_count": 101,
   "id": "b3cba97b-037d-4e23-8f09-e1470cf6c5a4",
   "metadata": {},
   "outputs": [],
   "source": [
    "def build_alignment_input(sentencesN, sourceIn, targetIn, output):\n",
    "    # List with original source sentences\n",
    "    source = []\n",
    "    with open(sourceIn, 'r') as fin:\n",
    "        for line in fin:\n",
    "            source.append(line.strip())\n",
    "\n",
    "    # List with nbest sentences for every source in original \n",
    "    target = []\n",
    "    counter = 0\n",
    "    temp = []\n",
    "    with open(targetIn, 'r') as fin:\n",
    "        for line in fin:\n",
    "            temp.append(line.strip())\n",
    "            counter += 1\n",
    "            if (counter == 10):\n",
    "                target.append(temp)\n",
    "                counter = 0\n",
    "                temp = []\n",
    "\n",
    "    #print(len(source))\n",
    "    #print(len(target))           \n",
    "\n",
    "    count = 0\n",
    "    with open(output, 'w') as fout:\n",
    "        while count < sentencesN:\n",
    "            for hyp in target[count]:\n",
    "                print(source[count] + ' ||| ' + hyp, end='\\n', file=fout)\n",
    "            count += 1"
   ]
  },
  {
   "cell_type": "code",
   "execution_count": 102,
   "id": "b13acbaf-db12-49d2-a25b-1ce4d3615989",
   "metadata": {},
   "outputs": [],
   "source": [
    "build_alignment_input(335, 'tok.en_original.en', 'hyp_original.txt', 'original_source-target_en-de.txt')\n",
    "build_alignment_input(335, 'tok.en_disambiguated_male.en', 'hyp_disambiguated_male.txt', 'disambiguated_male_source-target_en-de.txt')\n",
    "build_alignment_input(335, 'tok.en_disambiguated_female.en', 'hyp_disambiguated_female.txt', 'disambiguated_female_source-target_en-de.txt')"
   ]
  },
  {
   "cell_type": "markdown",
   "id": "f95e0a48-e74f-468a-b949-a9cc13a2a519",
   "metadata": {
    "tags": []
   },
   "source": [
    "## fast_align"
   ]
  },
  {
   "cell_type": "code",
   "execution_count": null,
   "id": "c1477d44-1efd-4dda-8549-8b29c438e408",
   "metadata": {},
   "outputs": [],
   "source": [
    "!$FAST_ALIGN -i original_source-target_en-de.txt -d -o -v > original_source-target_en-de_fast-aligned.txt\n",
    "!$FAST_ALIGN -i disambiguated_male_source-target_en-de.txt -d -o -v > disambiguated_male_source-target_en-de_fast-aligned.txt\n",
    "!$FAST_ALIGN -i disambiguated_female_source-target_en-de.txt -d -o -v > disambiguated_female_source-target_en-de_fast-aligned.txt\n",
    "\n",
    "print(\"Finished alignment.\")"
   ]
  },
  {
   "cell_type": "code",
   "execution_count": 48,
   "id": "2de69fff-155f-44b2-a456-134fce70042a",
   "metadata": {},
   "outputs": [],
   "source": [
    "import re\n",
    "\n",
    "# Count unique translated words to the ambiguous words in translations per source sentence\n",
    "def count_unique_words_alignment_translations(position, sentencesN, sourceIn, translationsIn, alignmentsIn, output):\n",
    "    \n",
    "    # Get positions of ambigous words\n",
    "    positions_ambiguous_words = []\n",
    "    for i in range(sentencesN):\n",
    "        positions_ambiguous_words.append(position)\n",
    "        \n",
    "    # List with translations\n",
    "    translations = []\n",
    "    with open(translationsIn, 'r') as fin:\n",
    "        for line in fin:\n",
    "            translations.append(line.strip())\n",
    "            \n",
    "            \n",
    "    \n",
    "    # Extract alginments of ambiguous words\n",
    "    lineNumber = 0\n",
    "    counter = 0\n",
    "    indices = [] # a list of lists of indices of translated words for each ambiguous word\n",
    "    with open(alignmentsIn, 'r') as alignments:\n",
    "        for line in alignments:\n",
    "            if (lineNumber == 10):\n",
    "                lineNumber = 0\n",
    "                counter += 1\n",
    "            position = positions_ambiguous_words[counter] # exact position of ambiguous word\n",
    "            regex = r\"\" + str(position) + r\"-(\\d)\"\n",
    "            if re.findall(regex, line): \n",
    "                indices.append([int(index) for index in re.findall(regex, line)])\n",
    "            else:\n",
    "                indices.append([999])\n",
    "            lineNumber += 1\n",
    "\n",
    "    #print(len(indices))\n",
    "    #print(indices)\n",
    "\n",
    "    lineNumber = 0\n",
    "    translations_ambiguous_words = [] # a list of set of translations to each ambiguous word in source\n",
    "    translated_ambiguous_words = set() # set forces uniqueness\n",
    "    for translation in translations:\n",
    "        tokens = translation.split(' ')\n",
    "        if 999 not in indices[lineNumber]:\n",
    "            for ind in indices[lineNumber]:\n",
    "                #print(lineNumber)\n",
    "                #print(tokens[ind])\n",
    "                #print(ind)\n",
    "                translated_ambiguous_words.add(tokens[ind])\n",
    "        lineNumber += 1\n",
    "        if (lineNumber % 10 == 0):\n",
    "                translations_ambiguous_words.append(translated_ambiguous_words)\n",
    "                translated_ambiguous_words = set()\n",
    "\n",
    "    #print(translations_ambiguous_words)\n",
    "    #print(len(translations_ambiguous_words))\n",
    "    \n",
    "    # Add results to file\n",
    "    ambiguous_words = []\n",
    "    source = []\n",
    "    with open(sourceIn, 'r') as fin:\n",
    "        for line in fin:\n",
    "            source.append(line.strip())\n",
    "            tokens = line.split(' ')\n",
    "            ambiguous_words.append(tokens[position])\n",
    "\n",
    "    count = 0                \n",
    "    with open(output, 'w') as fout:\n",
    "        while count < sentencesN:\n",
    "            print(source[count] + ' | ' + ambiguous_words[count] + ' | ' + str(translations_ambiguous_words[count]), end='\\n', file=fout)\n",
    "            count += 1\n",
    "\n",
    "    unique_translations = 0\n",
    "    for set_words in translations_ambiguous_words:\n",
    "        \n",
    "        ############################################################\n",
    "        # remove gender info; removing \"in\" and \"e\" endings in words\n",
    "        set_words_new = set()\n",
    "        for word in set_words:\n",
    "            word_new = re.sub(\"in$|e$\", \"\", word)\n",
    "            #print(word_new)\n",
    "            set_words_new.add(word_new)\n",
    "        #print(set_words_new)\n",
    "        ############################################################\n",
    "        \n",
    "        unique_translations += len(set_words)\n",
    "        \n",
    "    #print(unique_translations)\n",
    "    return unique_translations/sentencesN # average"
   ]
  },
  {
   "cell_type": "code",
   "execution_count": 49,
   "id": "57d33e67-ceeb-4660-ad40-94619a21f112",
   "metadata": {},
   "outputs": [
    {
     "name": "stdout",
     "output_type": "stream",
     "text": [
      "2.8686567164179104\n",
      "======\n",
      "2.8268656716417913\n",
      "======\n",
      "3.023880597014925\n"
     ]
    }
   ],
   "source": [
    "print(count_unique_words_alignment_translations(1, 335, 'tok.en_original.en', 'hyp_original.txt', 'original_source-target_en-de_fast-aligned.txt', 'unique-words_translations_original.txt'))\n",
    "print('======')\n",
    "print(count_unique_words_alignment_translations(2, 335, 'tok.en_disambiguated_male.en', 'hyp_disambiguated_male.txt', 'disambiguated_male_source-target_en-de_fast-aligned.txt', 'unique-words_translations_disambiguated_male.txt')) # positions is 2 because of gender word\n",
    "print('======')\n",
    "print(count_unique_words_alignment_translations(2, 335, 'tok.en_disambiguated_female.en', 'hyp_disambiguated_female.txt', 'disambiguated_female_source-target_en-de_fast-aligned.txt', 'unique-words_translations_disambiguated_female.txt'))"
   ]
  },
  {
   "cell_type": "code",
   "execution_count": 24,
   "id": "0e4063b8-3594-4379-8e86-d3ba05e696e0",
   "metadata": {},
   "outputs": [],
   "source": [
    "import re\n",
    "\n",
    "# Count unique translated words to the ambiguous words in translations per source sentence\n",
    "def count_unique_words_alignment_translations_TEST(position, sentencesN, sourceIn, translationsIn, alignmentsIn, output):\n",
    "    \n",
    "    # Get positions of ambigous words\n",
    "    positions_ambiguous_words = []\n",
    "    for i in range(sentencesN):\n",
    "        positions_ambiguous_words.append(position)\n",
    "        \n",
    "    # List with translations\n",
    "    translations = []\n",
    "    with open(translationsIn, 'r') as fin:\n",
    "        for line in fin:\n",
    "            translations.append(line.strip())\n",
    "            \n",
    "            \n",
    "    \n",
    "    # Extract alginments of ambiguous words\n",
    "    lineNumber = 0\n",
    "    counter = 0\n",
    "    indices = [] # a list of lists of indices of translated words for each ambiguous word\n",
    "    with open(alignmentsIn, 'r') as alignments:\n",
    "        for line in alignments:\n",
    "            if (lineNumber == 10):\n",
    "                lineNumber = 0\n",
    "                counter += 1\n",
    "            position = positions_ambiguous_words[counter] # exact position of ambiguous word\n",
    "            regex = r\"\" + str(position) + r\"-(\\d)\"\n",
    "            if re.findall(regex, line): \n",
    "                indices.append([int(index) for index in re.findall(regex, line)])\n",
    "            else:\n",
    "                indices.append([999])\n",
    "            lineNumber += 1\n",
    "\n",
    "    #print(len(indices))\n",
    "    #print(indices)\n",
    "\n",
    "    lineNumber = 0\n",
    "    translations_ambiguous_words = [] # a list of set of translations to each ambiguous word in source\n",
    "    translated_ambiguous_words = set() # set forces uniqueness\n",
    "    for translation in translations:\n",
    "        tokens = translation.split(' ')\n",
    "        if 999 not in indices[lineNumber]:\n",
    "            translated_ambiguous_words.add(' '.join([tokens[ind] for ind in indices[lineNumber]])) # join multiple aligned words\n",
    "        lineNumber += 1\n",
    "        if (lineNumber % 10 == 0):\n",
    "                translations_ambiguous_words.append(translated_ambiguous_words)\n",
    "                translated_ambiguous_words = set()\n",
    "\n",
    "    #print(translations_ambiguous_words)\n",
    "    #print(len(translations_ambiguous_words))\n",
    "    \n",
    "    # Add results to file\n",
    "    ambiguous_words = []\n",
    "    source = []\n",
    "    with open(sourceIn, 'r') as fin:\n",
    "        for line in fin:\n",
    "            source.append(line.strip())\n",
    "            tokens = line.split(' ')\n",
    "            ambiguous_words.append(tokens[position])\n",
    "\n",
    "    count = 0                \n",
    "    with open(output, 'w') as fout:\n",
    "        while count < sentencesN:\n",
    "            print(source[count] + ' | ' + ambiguous_words[count] + ' | ' + str(translations_ambiguous_words[count]), end='\\n', file=fout)\n",
    "            count += 1\n",
    "\n",
    "    unique_translations = 0\n",
    "    for set_words in translations_ambiguous_words:\n",
    "        \n",
    "        ############################################################\n",
    "        # remove gender info; removing \"in\" and \"e\" endings in words\n",
    "        set_words_new = set()\n",
    "        for word in set_words:\n",
    "            word_new = re.sub(\"in$|e$\", \"\", word)\n",
    "            #print(word_new)\n",
    "            set_words_new.add(word_new)\n",
    "        #print(set_words_new)\n",
    "        ############################################################\n",
    "        \n",
    "        unique_translations += len(set_words_new)\n",
    "        \n",
    "    #print(unique_translations)\n",
    "    return unique_translations/sentencesN # average"
   ]
  },
  {
   "cell_type": "code",
   "execution_count": 25,
   "id": "f6d8556a-e27f-47ce-ab1c-109d92d54d9e",
   "metadata": {},
   "outputs": [
    {
     "name": "stdout",
     "output_type": "stream",
     "text": [
      "2.6\n",
      "======\n",
      "2.6029850746268655\n",
      "======\n",
      "2.773134328358209\n"
     ]
    }
   ],
   "source": [
    "print(count_unique_words_alignment_translations_TEST(1, 335, 'tok.en_original.en', 'hyp_original.txt', 'original_source-target_en-de_fast-aligned.txt', 'unique-words_translations_original_TEST.txt'))\n",
    "print('======')\n",
    "print(count_unique_words_alignment_translations_TEST(2, 335, 'tok.en_disambiguated_male.en', 'hyp_disambiguated_male.txt', 'disambiguated_male_source-target_en-de_fast-aligned.txt', 'unique-words_translations_disambiguated_male_TEST.txt')) # positions is 2 because of gender word\n",
    "print('======')\n",
    "print(count_unique_words_alignment_translations_TEST(2, 335, 'tok.en_disambiguated_female.en', 'hyp_disambiguated_female.txt', 'disambiguated_female_source-target_en-de_fast-aligned.txt', 'unique-words_translations_disambiguated_female_TEST.txt'))"
   ]
  },
  {
   "cell_type": "markdown",
   "id": "7547be75-dfc4-46c3-ba3f-dfe56c4a3037",
   "metadata": {},
   "source": [
    "## awesome_align"
   ]
  },
  {
   "cell_type": "code",
   "execution_count": 106,
   "id": "7e5d0cfa-eb33-4a71-af0c-9fa94a473c76",
   "metadata": {},
   "outputs": [
    {
     "name": "stdout",
     "output_type": "stream",
     "text": [
      "Loading the dataset...\n",
      "Extracting: 3350it [00:04, 721.46it/s]\n",
      "Loading the dataset...\n",
      "Extracting: 3350it [00:04, 686.67it/s]\n",
      "Loading the dataset...\n",
      "Extracting: 3350it [00:05, 659.90it/s]\n",
      "Finished alignment.\n"
     ]
    }
   ],
   "source": [
    "# ??? How to set model correctly\n",
    "# MODELS=\"/export/data4/vzhekova/biases-data/En-De/wmt19.en-de.joined-dict.ensemble\"\n",
    "!awesome-align \\\n",
    "    --output_file \"original_source-target_en-de_awesome-aligned.txt\" \\\n",
    "    --data_file \"original_source-target_en-de.txt\" \\\n",
    "    --model_name_or_path bert-base-multilingual-cased \\\n",
    "    --extraction 'softmax' \\\n",
    "    --batch_size 32\n",
    "\n",
    "!awesome-align \\\n",
    "    --output_file \"disambiguated_male_source-target_en-de_awesome-aligned.txt\" \\\n",
    "    --data_file \"disambiguated_male_source-target_en-de.txt\" \\\n",
    "    --model_name_or_path bert-base-multilingual-cased \\\n",
    "    --extraction 'softmax' \\\n",
    "    --batch_size 32\n",
    "\n",
    "!awesome-align \\\n",
    "    --output_file \"disambiguated_female_source-target_en-de_awesome-aligned.txt\" \\\n",
    "    --data_file \"disambiguated_female_source-target_en-de.txt\" \\\n",
    "    --model_name_or_path bert-base-multilingual-cased \\\n",
    "    --extraction 'softmax' \\\n",
    "    --batch_size 32\n",
    "\n",
    "print(\"Finished alignment.\")"
   ]
  },
  {
   "cell_type": "code",
   "execution_count": 50,
   "id": "e72d55fd-918f-4b24-af93-df1cf3b09577",
   "metadata": {},
   "outputs": [
    {
     "name": "stdout",
     "output_type": "stream",
     "text": [
      "2.6029850746268655\n",
      "======\n",
      "2.626865671641791\n",
      "======\n",
      "2.5492537313432835\n"
     ]
    }
   ],
   "source": [
    "print(count_unique_words_alignment_translations(1, 335, 'tok.en_original.en', 'hyp_original.txt', 'original_source-target_en-de_awesome-aligned.txt', 'unique-words_translations_original.txt'))\n",
    "print('======')\n",
    "print(count_unique_words_alignment_translations(2, 335, 'tok.en_disambiguated_male.en', 'hyp_disambiguated_male.txt', 'disambiguated_male_source-target_en-de_awesome-aligned.txt', 'unique-words_translations_disambiguated_male.txt')) # positions is 2 because of gender word\n",
    "print('======')\n",
    "print(count_unique_words_alignment_translations(2, 335, 'tok.en_disambiguated_female.en', 'hyp_disambiguated_female.txt', 'disambiguated_female_source-target_en-de_awesome-aligned.txt', 'unique-words_translations_disambiguated_female.txt'))"
   ]
  },
  {
   "cell_type": "code",
   "execution_count": 27,
   "id": "ede2bb86-c9c5-48b2-a730-f82fb46d2427",
   "metadata": {},
   "outputs": [
    {
     "name": "stdout",
     "output_type": "stream",
     "text": [
      "2.388059701492537\n",
      "======\n",
      "2.4238805970149255\n",
      "======\n",
      "2.334328358208955\n"
     ]
    }
   ],
   "source": [
    "print(count_unique_words_alignment_translations_TEST(1, 335, 'tok.en_original.en', 'hyp_original.txt', 'original_source-target_en-de_awesome-aligned.txt', 'unique-words_translations_original_TEST.txt'))\n",
    "print('======')\n",
    "print(count_unique_words_alignment_translations_TEST(2, 335, 'tok.en_disambiguated_male.en', 'hyp_disambiguated_male.txt', 'disambiguated_male_source-target_en-de_awesome-aligned.txt', 'unique-words_translations_disambiguated_male_TEST.txt')) # positions is 2 because of gender word\n",
    "print('======')\n",
    "print(count_unique_words_alignment_translations_TEST(2, 335, 'tok.en_disambiguated_female.en', 'hyp_disambiguated_female.txt', 'disambiguated_female_source-target_en-de_awesome-aligned.txt', 'unique-words_translations_disambiguated_female_TEST.txt'))"
   ]
  },
  {
   "cell_type": "markdown",
   "id": "7c7ab63c-5750-42b2-b80a-ea767942f356",
   "metadata": {
    "jp-MarkdownHeadingCollapsed": true,
    "tags": []
   },
   "source": [
    "# Word alignement (translation-backtranslation)"
   ]
  },
  {
   "cell_type": "markdown",
   "id": "174ac057-9ea8-4bff-a824-8f4498ed95a4",
   "metadata": {
    "tags": []
   },
   "source": [
    "## fast_align"
   ]
  },
  {
   "cell_type": "markdown",
   "id": "c20f6e57-70df-4156-99b5-859e397f52b7",
   "metadata": {},
   "source": [
    "- Input to fast_align must be tokenized and aligned into parallel sentences. \n",
    "- Line is a source language sentence and its target language translation, separated by a triple pipe symbol with leading and trailing white space (|||)"
   ]
  },
  {
   "cell_type": "code",
   "execution_count": 108,
   "id": "66afe2b0-c7ce-441b-8071-5a19daf8f956",
   "metadata": {},
   "outputs": [],
   "source": [
    "build_alignment_input(3350, 'hyp_original.txt', 'hyp_original_back.txt', 'original_translation-back_en-de.txt')\n",
    "build_alignment_input(3350, 'hyp_disambiguated_male.txt', 'hyp_disambiguated_male_back.txt', 'disambiguated_male_translation-back_en-de.txt')\n",
    "build_alignment_input(3350, 'hyp_disambiguated_female.txt', 'hyp_disambiguated_female_back.txt', 'disambiguated_female_translation-back_en-de.txt')"
   ]
  },
  {
   "cell_type": "markdown",
   "id": "0fd83be3-c2a7-4245-844c-52f51e416a4d",
   "metadata": {},
   "source": [
    "- Word alignement"
   ]
  },
  {
   "cell_type": "code",
   "execution_count": null,
   "id": "0a6552ff-349f-4048-b65b-4c4959901ce4",
   "metadata": {},
   "outputs": [],
   "source": [
    "!$FAST_ALIGN -i original_translation-back_en-de.txt -d -o -v > original_translation-back_en-de_fast-aligned.txt\n",
    "!$FAST_ALIGN -i disambiguated_male_translation-back_en-de.txt -d -o -v > disambiguated_male_translation-back_en-de_fast-aligned.txt\n",
    "!$FAST_ALIGN -i disambiguated_female_translation-back_en-de.txt -d -o -v > disambiguated_female_translation-back_en-de_fast-aligned.txt\n",
    "\n",
    "print(\"Finished alignment.\")"
   ]
  },
  {
   "cell_type": "markdown",
   "id": "d2a3d06b-82f7-4341-be31-eef67f4a415a",
   "metadata": {},
   "source": [
    "- Extract target backtranslated words"
   ]
  },
  {
   "cell_type": "code",
   "execution_count": 43,
   "id": "1cb16ca6-8c3b-4f4c-b547-2a72f013ff5b",
   "metadata": {},
   "outputs": [],
   "source": [
    "import re\n",
    "\n",
    "# Count unique translated words to the ambiguous words in backtranslations per source sentence\n",
    "def count_unique_words_alignment_backtranslations(position_word, sentencesN, sourceIn, backtranslationsIn, alignmentsIn_translation, alignmentsIn_backtranslation, output):\n",
    "    \n",
    "    # Extract the position of the translated ambiguous word from each sentence\n",
    "    positions_ambiguous_words = []\n",
    "    for i in range(sentencesN):\n",
    "        positions_ambiguous_words.append(position_word)\n",
    "       \n",
    "    lineNumber = 0\n",
    "    counter = 0\n",
    "    positions_ambiguous_words_translations = [] # a list of lists of indices of translated words for each ambiguous word\n",
    "    with open(alignmentsIn_translation, 'r') as alignments:\n",
    "        for line in alignments:\n",
    "            if (lineNumber == 10):\n",
    "                lineNumber = 0\n",
    "                counter += 1\n",
    "            position = positions_ambiguous_words[counter] # exact position of ambiguous word\n",
    "            regex = r\"\" + str(position) + r\"-(\\d)\"\n",
    "            if re.findall(regex, line): \n",
    "                positions_ambiguous_words_translations.append([int(index) for index in re.findall(regex, line)])\n",
    "            else:\n",
    "                positions_ambiguous_words_translations.append([999])\n",
    "            lineNumber += 1\n",
    "    \n",
    "    # List with backtranslations\n",
    "    backtranslations = []\n",
    "    with open(backtranslationsIn, 'r') as fin:\n",
    "        for line in fin:\n",
    "            backtranslations.append(line.strip())\n",
    "\n",
    "    lineNumber = 0\n",
    "    counter = 0\n",
    "    indices = []\n",
    "    with open(alignmentsIn_backtranslation, 'r') as alignments:\n",
    "        for line in alignments:\n",
    "            if (lineNumber == 10):\n",
    "                lineNumber = 0\n",
    "                counter += 1\n",
    "            positions = positions_ambiguous_words_translations[counter] # exact positions of ambiguous words\n",
    "            list_indices = []\n",
    "            for position in positions:\n",
    "                regex = r\"\" + str(position) + r\"-(\\d)\"\n",
    "                if re.findall(regex, line): \n",
    "                    list_indices.extend([int(index) for index in re.findall(regex, line)])\n",
    "                else:\n",
    "                    list_indices.extend([999])\n",
    "            indices.append(list_indices)\n",
    "            lineNumber += 1\n",
    "\n",
    "    #print(len(indices))\n",
    "    #print(indices)\n",
    "\n",
    "    lineNumber = 0\n",
    "    backtranslations_ambiguous_words = [] # a list of set of translations to each ambiguous word in source\n",
    "    backtranslated_ambiguous_words = set() # set forces uniqueness\n",
    "    for backtranslation in backtranslations:\n",
    "        tokens = backtranslation.split(' ')\n",
    "        if 999 not in indices[lineNumber]:\n",
    "            for ind in indices[lineNumber]:\n",
    "                #print(lineNumber)\n",
    "                #print(tokens[ind])\n",
    "                #print(ind)\n",
    "                backtranslated_ambiguous_words.add(tokens[ind])\n",
    "        lineNumber += 1\n",
    "        if (lineNumber % 10 == 0):\n",
    "                backtranslations_ambiguous_words.append(backtranslated_ambiguous_words)\n",
    "                backtranslated_ambiguous_words = set()\n",
    "\n",
    "\n",
    "\n",
    "    #print(backtranslations_ambiguous_words)\n",
    "    print(len(backtranslations_ambiguous_words))\n",
    "\n",
    "    # Here we need to merge the sets for every 10 sets, because we want to see unique words in the nbest 100 backtranslation\n",
    "    backtranslations_ambiguous_words_reduced = []\n",
    "    backtranslated_ambiguous_words = set() # set forces uniqueness\n",
    "    counter = 0\n",
    "    for set_words in backtranslations_ambiguous_words:\n",
    "        backtranslated_ambiguous_words.update(set_words)\n",
    "        counter += 1\n",
    "        if (counter % 10 == 0):\n",
    "            backtranslations_ambiguous_words_reduced.append(backtranslated_ambiguous_words)\n",
    "            backtranslated_ambiguous_words = set()\n",
    "\n",
    "    print(len(backtranslations_ambiguous_words_reduced)) \n",
    "    \n",
    "    # Add results to file\n",
    "\n",
    "    ambiguous_words = []\n",
    "    source = []\n",
    "    with open(sourceIn, 'r') as fin:\n",
    "        for line in fin:\n",
    "            source.append(line.strip())\n",
    "            tokens = line.split(' ')\n",
    "            ambiguous_words.append(tokens[position_word])\n",
    "\n",
    "    count = 0                \n",
    "    with open(output, 'w') as fout:\n",
    "        while count < sentencesN:\n",
    "            print(source[count] + ' | ' + ambiguous_words[count] + ' | ' + str(backtranslations_ambiguous_words_reduced[count]), end='\\n', file=fout)\n",
    "            count += 1\n",
    "\n",
    "    unique_backtranslations = 0\n",
    "    for set_words in backtranslations_ambiguous_words_reduced:\n",
    "        unique_backtranslations += len(set_words)\n",
    "        \n",
    "    return unique_backtranslations/sentencesN"
   ]
  },
  {
   "cell_type": "code",
   "execution_count": 44,
   "id": "d20f678b-e0ad-43b9-8374-fc67c7535c14",
   "metadata": {},
   "outputs": [
    {
     "name": "stdout",
     "output_type": "stream",
     "text": [
      "3350\n",
      "335\n",
      "8.844776119402985\n",
      "3350\n",
      "335\n",
      "8.325373134328359\n",
      "3350\n",
      "335\n",
      "9.794029850746268\n"
     ]
    }
   ],
   "source": [
    "print(count_unique_words_alignment_backtranslations(1, 335, 'tok.en_original.en', 'hyp_original_back.txt', 'original_source-target_en-de_fast-aligned.txt', 'original_translation-back_en-de_fast-aligned.txt', 'unique-words_backtranslations_original.txt'))\n",
    "print(count_unique_words_alignment_backtranslations(2, 335, 'tok.en_disambiguated_male.en', 'hyp_disambiguated_male_back.txt', 'disambiguated_male_source-target_en-de_fast-aligned.txt', 'disambiguated_male_translation-back_en-de_fast-aligned.txt', 'unique-words_backtranslations_disambiguated_male.txt')) # positions is 2 because of gender word\n",
    "print(count_unique_words_alignment_backtranslations(2, 335, 'tok.en_disambiguated_female.en', 'hyp_disambiguated_female_back.txt', 'disambiguated_female_source-target_en-de_fast-aligned.txt', 'disambiguated_female_translation-back_en-de_fast-aligned.txt', 'unique-words_backtranslations_disambiguated_female.txt'))"
   ]
  },
  {
   "cell_type": "code",
   "execution_count": 36,
   "id": "f2e0d849-f823-4cf1-ac78-607d15404b41",
   "metadata": {},
   "outputs": [],
   "source": [
    "import re\n",
    "\n",
    "# Count unique translated words to the ambiguous words in backtranslations per source sentence\n",
    "def count_unique_words_alignment_backtranslations_TEST(position, sentencesN, sourceIn, backtranslationsIn, alignmentsIn_translation, alignmentsIn_backtranslation, output):\n",
    "    \n",
    "    # Extract the position of the translated ambiguous word from each sentence\n",
    "    positions_ambiguous_words = []\n",
    "    for i in range(sentencesN):\n",
    "        positions_ambiguous_words.append(position)\n",
    "       \n",
    "    lineNumber = 0\n",
    "    counter = 0\n",
    "    positions_ambiguous_words_translations = [] # a list of lists of indices of translated words for each ambiguous word\n",
    "    with open(alignmentsIn_translation, 'r') as alignments:\n",
    "        for line in alignments:\n",
    "            if (lineNumber == 10):\n",
    "                lineNumber = 0\n",
    "                counter += 1\n",
    "            position = positions_ambiguous_words[counter] # exact position of ambiguous word\n",
    "            regex = r\"\" + str(position) + r\"-(\\d)\"\n",
    "            if re.findall(regex, line): \n",
    "                positions_ambiguous_words_translations.append([int(index) for index in re.findall(regex, line)])\n",
    "            else:\n",
    "                positions_ambiguous_words_translations.append([999])\n",
    "            lineNumber += 1\n",
    "    \n",
    "    # List with backtranslations\n",
    "    backtranslations = []\n",
    "    with open(backtranslationsIn, 'r') as fin:\n",
    "        for line in fin:\n",
    "            backtranslations.append(line.strip())\n",
    "\n",
    "    lineNumber = 0\n",
    "    counter = 0\n",
    "    indices = []\n",
    "    with open(alignmentsIn_backtranslation, 'r') as alignments:\n",
    "        for line in alignments:\n",
    "            if (lineNumber == 10):\n",
    "                lineNumber = 0\n",
    "                counter += 1\n",
    "            positions = positions_ambiguous_words_translations[counter] # exact positions of ambiguous words\n",
    "            list_indices = []\n",
    "            for position in positions:\n",
    "                regex = r\"\" + str(position) + r\"-(\\d)\"\n",
    "                if re.findall(regex, line): \n",
    "                    list_indices.extend([int(index) for index in re.findall(regex, line)])\n",
    "                else:\n",
    "                    list_indices.extend([999])\n",
    "            indices.append(list_indices)\n",
    "            lineNumber += 1\n",
    "\n",
    "    #print(len(indices))\n",
    "    #print(indices)\n",
    "\n",
    "    lineNumber = 0\n",
    "    backtranslations_ambiguous_words = [] # a list of set of translations to each ambiguous word in source\n",
    "    backtranslated_ambiguous_words = set() # set forces uniqueness\n",
    "    for backtranslation in backtranslations:\n",
    "        tokens = backtranslation.split(' ')\n",
    "        if 999 not in indices[lineNumber]:\n",
    "            backtranslated_ambiguous_words.add(' '.join([tokens[ind] for ind in indices[lineNumber]])) # join multiple aligned words\n",
    "        lineNumber += 1\n",
    "        if (lineNumber % 10 == 0):\n",
    "                backtranslations_ambiguous_words.append(backtranslated_ambiguous_words)\n",
    "                backtranslated_ambiguous_words = set()\n",
    "\n",
    "\n",
    "\n",
    "    #print(backtranslations_ambiguous_words)\n",
    "    print(len(backtranslations_ambiguous_words))\n",
    "\n",
    "    # Here we need to merge the sets for every 10 sets, because we want to see unique words in the nbest 100 backtranslation\n",
    "    backtranslations_ambiguous_words_reduced = []\n",
    "    backtranslated_ambiguous_words = set() # set forces uniqueness\n",
    "    counter = 0\n",
    "    for set_words in backtranslations_ambiguous_words:\n",
    "        backtranslated_ambiguous_words.update(set_words)\n",
    "        counter += 1\n",
    "        if (counter % 10 == 0):\n",
    "            backtranslations_ambiguous_words_reduced.append(backtranslated_ambiguous_words)\n",
    "            backtranslated_ambiguous_words = set()\n",
    "\n",
    "    print(len(backtranslations_ambiguous_words_reduced)) \n",
    "    \n",
    "    # Add results to file\n",
    "\n",
    "    ambiguous_words = []\n",
    "    source = []\n",
    "    with open(sourceIn, 'r') as fin:\n",
    "        for line in fin:\n",
    "            source.append(line.strip())\n",
    "            tokens = line.split(' ')\n",
    "            ambiguous_words.append(tokens[position])\n",
    "\n",
    "    count = 0                \n",
    "    with open(output, 'w') as fout:\n",
    "        while count < sentencesN:\n",
    "            print(source[count] + ' | ' + ambiguous_words[count] + ' | ' + str(backtranslations_ambiguous_words_reduced[count]), end='\\n', file=fout)\n",
    "            count += 1\n",
    "\n",
    "    unique_backtranslations = 0\n",
    "    for set_words in backtranslations_ambiguous_words_reduced:\n",
    "        unique_backtranslations += len(set_words)\n",
    "        \n",
    "    return unique_backtranslations/sentencesN"
   ]
  },
  {
   "cell_type": "code",
   "execution_count": 37,
   "id": "540c3742-cd64-4a7b-ba7b-ecbde974a620",
   "metadata": {},
   "outputs": [
    {
     "name": "stdout",
     "output_type": "stream",
     "text": [
      "3350\n",
      "335\n",
      "9.829850746268656\n",
      "3350\n",
      "335\n",
      "9.322388059701492\n",
      "3350\n",
      "335\n",
      "11.623880597014926\n"
     ]
    }
   ],
   "source": [
    "print(count_unique_words_alignment_backtranslations_TEST(1, 335, 'tok.en_original.en', 'hyp_original_back.txt', 'original_source-target_en-de_fast-aligned.txt', 'original_translation-back_en-de_fast-aligned.txt', 'unique-words_backtranslations_original_TEST.txt'))\n",
    "print(count_unique_words_alignment_backtranslations_TEST(2, 335, 'tok.en_disambiguated_male.en', 'hyp_disambiguated_male_back.txt', 'disambiguated_male_source-target_en-de_fast-aligned.txt', 'disambiguated_male_translation-back_en-de_fast-aligned.txt', 'unique-words_backtranslations_disambiguated_male_TEST.txt')) # positions is 2 because of gender word\n",
    "print(count_unique_words_alignment_backtranslations_TEST(2, 335, 'tok.en_disambiguated_female.en', 'hyp_disambiguated_female_back.txt', 'disambiguated_female_source-target_en-de_fast-aligned.txt', 'disambiguated_female_translation-back_en-de_fast-aligned.txt', 'unique-words_backtranslations_disambiguated_female_TEST.txt'))"
   ]
  },
  {
   "cell_type": "markdown",
   "id": "8ed81f30-6996-4a42-a7bf-945dd7e74c67",
   "metadata": {
    "tags": []
   },
   "source": [
    "## awesome_align"
   ]
  },
  {
   "cell_type": "markdown",
   "id": "f74d423a-639b-4f9e-b9a7-a191578edc4e",
   "metadata": {},
   "source": [
    "- Extract the position of the translated ambiguous word from each sentence"
   ]
  },
  {
   "cell_type": "markdown",
   "id": "0c8b6d21-3ddb-4904-ab00-b7c41e3a9016",
   "metadata": {},
   "source": [
    "- Word alignement"
   ]
  },
  {
   "cell_type": "code",
   "execution_count": 112,
   "id": "7344a012-1da5-4328-a801-29a8a45826a2",
   "metadata": {},
   "outputs": [
    {
     "name": "stdout",
     "output_type": "stream",
     "text": [
      "Loading the dataset...\n",
      "Extracting: 33500it [00:39, 848.57it/s]\n",
      "Loading the dataset...\n",
      "Extracting: 33500it [00:40, 818.23it/s]\n",
      "Loading the dataset...\n",
      "Extracting: 33500it [00:39, 846.62it/s]\n",
      "Finished alignment.\n"
     ]
    }
   ],
   "source": [
    "# ??? How to set model correctly\n",
    "# MODELS=\"/export/data4/vzhekova/biases-data/En-De/wmt19.en-de.joined-dict.ensemble\"\n",
    "!awesome-align \\\n",
    "    --output_file \"original_translation-back_en-de_awesome-aligned.txt\" \\\n",
    "    --data_file \"original_translation-back_en-de.txt\" \\\n",
    "    --model_name_or_path bert-base-multilingual-cased \\\n",
    "    --extraction 'softmax' \\\n",
    "    --batch_size 32\n",
    "\n",
    "!awesome-align \\\n",
    "    --output_file \"disambiguated_male_translation-back_en-de_awesome-aligned.txt\" \\\n",
    "    --data_file \"disambiguated_male_translation-back_en-de.txt\" \\\n",
    "    --model_name_or_path bert-base-multilingual-cased \\\n",
    "    --extraction 'softmax' \\\n",
    "    --batch_size 32\n",
    "\n",
    "!awesome-align \\\n",
    "    --output_file \"disambiguated_female_translation-back_en-de_awesome-aligned.txt\" \\\n",
    "    --data_file \"disambiguated_female_translation-back_en-de.txt\" \\\n",
    "    --model_name_or_path bert-base-multilingual-cased \\\n",
    "    --extraction 'softmax' \\\n",
    "    --batch_size 32\n",
    "\n",
    "print(\"Finished alignment.\")"
   ]
  },
  {
   "cell_type": "markdown",
   "id": "6ee0f0e8-a5b2-44d2-8732-5b68f5be0a6b",
   "metadata": {},
   "source": [
    "- Extract target backtranslated words"
   ]
  },
  {
   "cell_type": "code",
   "execution_count": 38,
   "id": "c0a78096-b560-4860-ab0a-e0c30d3b9600",
   "metadata": {},
   "outputs": [
    {
     "name": "stdout",
     "output_type": "stream",
     "text": [
      "3350\n",
      "335\n",
      "7.477611940298507\n",
      "3350\n",
      "335\n",
      "7.044776119402985\n",
      "3350\n",
      "335\n",
      "7.847761194029851\n"
     ]
    }
   ],
   "source": [
    "print(count_unique_words_alignment_backtranslations(1, 335, 'tok.en_original.en', 'hyp_original_back.txt', 'original_source-target_en-de_awesome-aligned.txt', 'original_translation-back_en-de_awesome-aligned.txt', 'unique-words_backtranslations_original.txt'))\n",
    "print(count_unique_words_alignment_backtranslations(2, 335, 'tok.en_disambiguated_male.en', 'hyp_disambiguated_male_back.txt', 'disambiguated_male_source-target_en-de_awesome-aligned.txt', 'disambiguated_male_translation-back_en-de_awesome-aligned.txt', 'unique-words_backtranslations_disambiguated_male.txt')) # positions is 2 because of gender word\n",
    "print(count_unique_words_alignment_backtranslations(2, 335, 'tok.en_disambiguated_female.en', 'hyp_disambiguated_female_back.txt', 'disambiguated_female_source-target_en-de_awesome-aligned.txt', 'disambiguated_female_translation-back_en-de_awesome-aligned.txt', 'unique-words_backtranslations_disambiguated_female.txt'))"
   ]
  },
  {
   "cell_type": "code",
   "execution_count": 39,
   "id": "5b67c903-45ed-491c-a1e7-b78ad8070202",
   "metadata": {},
   "outputs": [
    {
     "name": "stdout",
     "output_type": "stream",
     "text": [
      "3350\n",
      "335\n",
      "8.071641791044776\n",
      "3350\n",
      "335\n",
      "7.916417910447761\n",
      "3350\n",
      "335\n",
      "8.868656716417911\n"
     ]
    }
   ],
   "source": [
    "print(count_unique_words_alignment_backtranslations_TEST(1, 335, 'tok.en_original.en', 'hyp_original_back.txt', 'original_source-target_en-de_awesome-aligned.txt', 'original_translation-back_en-de_awesome-aligned.txt', 'unique-words_backtranslations_original_TEST.txt'))\n",
    "print(count_unique_words_alignment_backtranslations_TEST(2, 335, 'tok.en_disambiguated_male.en', 'hyp_disambiguated_male_back.txt', 'disambiguated_male_source-target_en-de_awesome-aligned.txt', 'disambiguated_male_translation-back_en-de_awesome-aligned.txt', 'unique-words_backtranslations_disambiguated_male_TEST.txt')) # positions is 2 because of gender word\n",
    "print(count_unique_words_alignment_backtranslations_TEST(2, 335, 'tok.en_disambiguated_female.en', 'hyp_disambiguated_female_back.txt', 'disambiguated_female_source-target_en-de_awesome-aligned.txt', 'disambiguated_female_translation-back_en-de_awesome-aligned.txt', 'unique-words_backtranslations_disambiguated_female_TEST.txt'))"
   ]
  },
  {
   "cell_type": "markdown",
   "id": "0b7aa2d8-87dd-40fb-a52b-b0859436258f",
   "metadata": {
    "jp-MarkdownHeadingCollapsed": true,
    "tags": []
   },
   "source": [
    "# Word alignement (translation-translation)"
   ]
  },
  {
   "cell_type": "markdown",
   "id": "0ef887b3-6413-4801-92de-f3f0948d02b0",
   "metadata": {
    "jp-MarkdownHeadingCollapsed": true,
    "tags": []
   },
   "source": [
    "## Tercom alignement (borrowed from Tu)\n",
    "- https://github.com/TuAnh23/Perturbation-basedQE/blob/master/align_and_analyse_ambiguous_trans.py#L54-L92"
   ]
  },
  {
   "cell_type": "code",
   "execution_count": null,
   "id": "3ab774e7-fd99-417a-90c5-a88658d65ab3",
   "metadata": {},
   "outputs": [],
   "source": [
    "!git clone https://github.com/TuAnh23/Perturbation-basedQE.git"
   ]
  },
  {
   "cell_type": "code",
   "execution_count": 114,
   "id": "9bc7a300-37fa-49b3-b1d0-2a65451a5440",
   "metadata": {},
   "outputs": [
    {
     "name": "stdout",
     "output_type": "stream",
     "text": [
      "/export/data4/vzhekova/biases-data/Test_De/Statistics/Full_ambiguity_male/Perturbation-basedQE\n"
     ]
    }
   ],
   "source": [
    "%cd $TERCOM"
   ]
  },
  {
   "cell_type": "code",
   "execution_count": 115,
   "id": "39a6f345-4e59-45e4-98f7-1ff906fce45f",
   "metadata": {},
   "outputs": [],
   "source": [
    "import align_and_analyse_ambiguous_trans as tercom\n",
    "import pandas as pd\n",
    "\n",
    "def count_unique_words_tercom_alignment(position, sentencesN, sourceIn, backtranslationsIn):\n",
    "    # List with source sentences; output 100 times to match backtranslation size\n",
    "    source = []\n",
    "    with open(PATH + \"/\" + sourceIn, 'r') as fin:\n",
    "        for line in fin:\n",
    "            for i in range(100): # append the source sentence 100 times to match backtranslations later\n",
    "                source.append(line.strip().split()) # split() tokenizes the sentence, because tercom expects tokens     \n",
    "\n",
    "    print(len(source))\n",
    "\n",
    "    # List with original backtranslations\n",
    "    backtranslations = []\n",
    "    with open(PATH + \"/\" + backtranslationsIn, 'r') as fin:\n",
    "        for line in fin:\n",
    "            backtranslations.append(line.strip().split())\n",
    "\n",
    "    print(len(backtranslations))\n",
    "    \n",
    "    # Generate alignments\n",
    "    alignments = tercom.tercom_alignment(source, backtranslations)\n",
    "    \n",
    "    # Extract the position of the translated ambiguous word from each sentence\n",
    "    positions_ambiguous_words = []\n",
    "    for i in range(sentencesN):\n",
    "        positions_ambiguous_words.append(position)\n",
    "        \n",
    "    # Extract target translated words to source words\n",
    "    lineNumber = 0\n",
    "    counter = 0\n",
    "    indices = []\n",
    "    for align in alignments:\n",
    "        position = positions_ambiguous_words[counter] # exact position of ambiguous word\n",
    "        indices.append([item[1] for item in (item for item in align if not(pd.isna(item[0]))) if item[0] == position][0])\n",
    "        lineNumber += 1\n",
    "        if (lineNumber % 100 == 0):\n",
    "            counter += 1\n",
    "\n",
    "    print(len(indices))\n",
    "\n",
    "    lineNumber = 0\n",
    "    translations_ambiguous_words = [] # a list of set of translations to each ambiguous word in source\n",
    "    translated_ambiguous_words = set() # set forces uniqueness\n",
    "    for backtranslation in backtranslations:\n",
    "        backtranslation_index = backtranslations.index(backtranslation)\n",
    "        if not(pd.isna(indices[backtranslation_index])):\n",
    "            translated_ambiguous_words.add(backtranslation[indices[backtranslation_index]])\n",
    "        lineNumber += 1\n",
    "        if (lineNumber % 100 == 0):\n",
    "            translations_ambiguous_words.append(translated_ambiguous_words)\n",
    "            translated_ambiguous_words = set()\n",
    "\n",
    "    #print(translations_ambiguous_words)\n",
    "    #print(len(translations_ambiguous_words))\n",
    "\n",
    "    unique_translations = 0\n",
    "    for set_words in translations_ambiguous_words:\n",
    "        unique_translations += len(set_words)\n",
    "        \n",
    "    return unique_translations/sentencesN"
   ]
  },
  {
   "cell_type": "code",
   "execution_count": 116,
   "id": "dc5013c1-cf50-428b-be6f-db240fcd69f2",
   "metadata": {},
   "outputs": [
    {
     "name": "stdout",
     "output_type": "stream",
     "text": [
      "33500\n",
      "33500\n",
      "33500\n",
      "8.017910447761194\n",
      "33500\n",
      "33500\n",
      "33500\n",
      "7.898507462686567\n",
      "33500\n",
      "33500\n",
      "33500\n",
      "9.817910447761195\n"
     ]
    }
   ],
   "source": [
    "print(count_unique_words_tercom_alignment(1, 335, 'tok.en_original.en', 'hyp_original_back.txt'))\n",
    "print(count_unique_words_tercom_alignment(2, 335, 'tok.en_disambiguated_male.en', 'hyp_disambiguated_male_back.txt'))\n",
    "print(count_unique_words_tercom_alignment(2, 335, 'tok.en_disambiguated_female.en', 'hyp_disambiguated_female_back.txt'))"
   ]
  },
  {
   "cell_type": "code",
   "execution_count": 117,
   "id": "f8fe19b8-d41f-4058-a373-048e35d1bdd3",
   "metadata": {},
   "outputs": [
    {
     "name": "stdout",
     "output_type": "stream",
     "text": [
      "/export/data4/vzhekova/biases-data/Test_De/Statistics/Full_ambiguity\n"
     ]
    }
   ],
   "source": [
    "%cd $PATH"
   ]
  },
  {
   "cell_type": "markdown",
   "id": "d125d1e1-22bd-401c-aa6e-de29fc5f39a2",
   "metadata": {
    "tags": []
   },
   "source": [
    "# Word occurrence"
   ]
  },
  {
   "cell_type": "markdown",
   "id": "8b475d6e-6cf6-4d0a-acd8-92bdc22c1557",
   "metadata": {
    "tags": []
   },
   "source": [
    "## Translation"
   ]
  },
  {
   "cell_type": "code",
   "execution_count": 58,
   "id": "ba32e36e-44c1-4d7f-9602-a4583aa5525b",
   "metadata": {},
   "outputs": [],
   "source": [
    "def extract_word_translations(filename_tokenized, filename_translations, filename_out, filename_alignments):\n",
    "    \"\"\"\n",
    "    Match alignment indices from translation to backtranslation\n",
    "    \"\"\"\n",
    "    \n",
    "    # Extract alignement indices from translation\n",
    "    indices_translation = []\n",
    "    with open(filename_alignments, 'r') as alignments:\n",
    "        for line in alignments:\n",
    "            alignement_tokens = line.split()\n",
    "            indices_line = []\n",
    "            for i in range(0, len(alignement_tokens)):    \n",
    "                regex = r\"\" + str(i) + r\"-(\\d)\"\n",
    "                if re.findall(regex, line): \n",
    "                    indices_line.append([int(index) for index in re.findall(regex, line)])\n",
    "                else:\n",
    "                    indices_line.append([999])\n",
    "            indices_translation.append(indices_line)\n",
    "    \n",
    "    # List with lengths of the source sentences\n",
    "    source_lengths = []\n",
    "    with open(filename_tokenized, 'r') as fin:\n",
    "        for line in fin:\n",
    "            source_lengths.append(len(line.strip().split()))\n",
    "\n",
    "    #print(source_lengths)\n",
    "\n",
    "    # List with backtranslations\n",
    "    translations = []\n",
    "    with open(filename_translations, 'r') as fin:\n",
    "         for line in fin:\n",
    "                translations.append(line.split())\n",
    "\n",
    "    #print(backtranslations)\n",
    "\n",
    "    target_words = [] # list containing lists with translation sets for every word in the source sentences; length 335\n",
    "    counter = 0\n",
    "    for i in range(0, 335): # for every source sentence\n",
    "        source_sent = []\n",
    "        for j in range(0, source_lengths[i]): # for every word in the source sentence\n",
    "            words_set = set()\n",
    "            for  f in range(0, 9):\n",
    "                alignments = indices_translation[counter + f]        \n",
    "                if (j < len(alignments)):\n",
    "                    for index in alignments[j]:\n",
    "                        if index != 999:\n",
    "                            if (index < len(translations[counter + f])):\n",
    "                                 words_set.add(translations[counter + f][index])\n",
    "            source_sent.append(words_set)\n",
    "        target_words.append(source_sent)\n",
    "        counter += 10\n",
    "\n",
    "    #print(len(target_words))\n",
    "\n",
    "    # Add results to file\n",
    "\n",
    "    # List with source sentences\n",
    "    source = []\n",
    "    with open(filename_tokenized, 'r') as fin:\n",
    "        for line in fin:\n",
    "            source.append(line.strip())\n",
    "\n",
    "    count = 0                \n",
    "    with open(filename_out, 'w') as fout:\n",
    "        while count < 335:\n",
    "            print(source[count] + ' | ' + str(target_words[count]), end='\\n', file=fout)\n",
    "            count += 1"
   ]
  },
  {
   "cell_type": "code",
   "execution_count": 59,
   "id": "721f40e3-99fa-4f8f-bfa1-a9125ed91fbc",
   "metadata": {},
   "outputs": [],
   "source": [
    "def count_word_translations(filename_tokenized, filename_translations, filename_out, filename_alignments):\n",
    "    \"\"\"\n",
    "    Match alignement indices from translation to backtranslation\n",
    "    \"\"\"\n",
    "    \n",
    "    # Extract alignement indices from translation\n",
    "    indices_translation = []\n",
    "    with open(filename_alignments, 'r') as alignments:\n",
    "        for line in alignments:\n",
    "            alignement_tokens = line.split()\n",
    "            indices_line = []\n",
    "            for i in range(0, len(alignement_tokens)):    \n",
    "                regex = r\"\" + str(i) + r\"-(\\d)\"\n",
    "                if re.findall(regex, line): \n",
    "                    indices_line.append([int(index) for index in re.findall(regex, line)])\n",
    "                else:\n",
    "                    indices_line.append([999])\n",
    "            indices_translation.append(indices_line)\n",
    "    \n",
    "    # List with lengths of the source sentences\n",
    "    source_lengths = []\n",
    "    with open(filename_tokenized, 'r') as fin:\n",
    "        for line in fin:\n",
    "            source_lengths.append(len(line.strip().split()))\n",
    "\n",
    "    #print(source_lengths)\n",
    "\n",
    "    # List with backtranslations\n",
    "    translations = []\n",
    "    with open(filename_translations, 'r') as fin:\n",
    "         for line in fin:\n",
    "                translations.append(line.split())\n",
    "\n",
    "    #print(backtranslations)\n",
    "\n",
    "    target_words = [] # list containing lists with translation sets for every word in the source sentences; length 335\n",
    "    counter = 0\n",
    "    for i in range(0, 335): # for every source sentence\n",
    "        source_sent = []\n",
    "        for j in range(0, source_lengths[i]): # for every word in the source sentence\n",
    "            words_set = set()\n",
    "            for  f in range(0, 9):\n",
    "                alignments = indices_translation[counter + f]        \n",
    "                if (j < len(alignments)):\n",
    "                    for index in alignments[j]:\n",
    "                        if index != 999:\n",
    "                            if (index < len(translations[counter + f])):\n",
    "                                 words_set.add(translations[counter + f][index])\n",
    "            source_sent.append(words_set)\n",
    "        target_words.append(source_sent)\n",
    "        counter += 10\n",
    "\n",
    "    #print(len(target_words))\n",
    "\n",
    "    # Add results to file\n",
    "\n",
    "    # List with source sentences\n",
    "    source = []\n",
    "    with open(filename_tokenized, 'r') as fin:\n",
    "        for line in fin:\n",
    "            source.append(line.strip())\n",
    "\n",
    "    count = 0\n",
    "    occurrences = []\n",
    "    with open(filename_out, 'w') as fout:\n",
    "        while count < 335:\n",
    "            occurrences.append([len(target_set) for target_set in target_words[count]])\n",
    "            print(source[count] + ' | ' + str([len(target_set) for target_set in target_words[count]]), end='\\n', file=fout)\n",
    "            count += 1\n",
    "    \n",
    "    return occurrences"
   ]
  },
  {
   "cell_type": "markdown",
   "id": "c0cf1e0e-af7d-41bc-8c30-b75fbe1c5dbe",
   "metadata": {},
   "source": [
    "- Investigate the variability of the remaining sentence without the ambiguos word"
   ]
  },
  {
   "cell_type": "code",
   "execution_count": 60,
   "id": "0f128e21-b4a6-47cf-a288-34705c6e5d15",
   "metadata": {},
   "outputs": [],
   "source": [
    "def uniqueness_rest_of_sentence(position, sentencesN, occurrences):\n",
    "    \n",
    "    # Get positions of ambigous words\n",
    "    positions_ambiguous_words = []\n",
    "    for i in range(sentencesN):\n",
    "        positions_ambiguous_words.append(position)\n",
    "        \n",
    "    # Sum over all sentences and build average     \n",
    "    counter = 0\n",
    "    sum_sent = 0\n",
    "    for occur in occurrences:\n",
    "        position = positions_ambiguous_words[counter]\n",
    "        sum_sent += (sum(occur) - occur[position])/(len(occur) - 1) # sum for every sentence\n",
    "        counter += 1\n",
    "        \n",
    "    return sum_sent/sentencesN"
   ]
  },
  {
   "cell_type": "code",
   "execution_count": 61,
   "id": "dadbd1b8-92da-4661-bbf7-357a63515b9f",
   "metadata": {},
   "outputs": [
    {
     "name": "stdout",
     "output_type": "stream",
     "text": [
      "1.8704661186048366\n",
      "1.6735271941988372\n",
      "1.6452370266549383\n"
     ]
    }
   ],
   "source": [
    "extract_word_translations('tok.en_original.en', 'hyp_original.txt', 'translations_words_original.txt', 'original_source-target_en-de_awesome-aligned.txt')\n",
    "occurrence_original = count_word_translations('tok.en_original.en', 'hyp_original.txt', 'translations_words_original_occurrence.txt', 'original_source-target_en-de_awesome-aligned.txt')\n",
    "print(uniqueness_rest_of_sentence(1, 335, occurrence_original))\n",
    "\n",
    "extract_word_translations('tok.en_disambiguated_male.en', 'hyp_disambiguated_male.txt', 'translations_words_disambiguated_male.txt', 'disambiguated_male_source-target_en-de_awesome-aligned.txt')\n",
    "occurrence_male = count_word_translations('tok.en_disambiguated_male.en', 'hyp_disambiguated_male.txt', 'translations_words_disambiguated_male_occurrence.txt', 'disambiguated_male_source-target_en-de_awesome-aligned.txt')\n",
    "print(uniqueness_rest_of_sentence(2, 335, occurrence_male))\n",
    "\n",
    "extract_word_translations('tok.en_disambiguated_female.en', 'hyp_disambiguated_female.txt', 'translations_words_disambiguated_female.txt', 'disambiguated_female_source-target_en-de_awesome-aligned.txt')\n",
    "occurrence_female = count_word_translations('tok.en_disambiguated_female.en', 'hyp_disambiguated_female.txt', 'translations_words_disambiguated_female_occurrence.txt', 'disambiguated_female_source-target_en-de_awesome-aligned.txt')\n",
    "print(uniqueness_rest_of_sentence(2, 335, occurrence_female))\n"
   ]
  },
  {
   "cell_type": "markdown",
   "id": "e14aa275-bbed-46e9-8fbd-da11f424ce1a",
   "metadata": {
    "tags": []
   },
   "source": [
    "## Backtranslation"
   ]
  },
  {
   "cell_type": "code",
   "execution_count": 122,
   "id": "efbbd367-55cd-4cbc-95c1-9f52966ec084",
   "metadata": {},
   "outputs": [],
   "source": [
    "def extract_alignment_indices_backtranslation(filename_translations, filename_backtranslations):\n",
    "    \"\"\"\n",
    "    Extract alignment indices\n",
    "    \"\"\"\n",
    "    \n",
    "    # Extract alignement indices from translation\n",
    "    indices_translation = []\n",
    "    with open(filename_translations, 'r') as alignments:\n",
    "        for line in alignments:\n",
    "            alignement_tokens = line.split()\n",
    "            indices_line = []\n",
    "            for i in range(0, len(alignement_tokens)):    \n",
    "                regex = r\"\" + str(i) + r\"-(\\d)\"\n",
    "                if re.findall(regex, line): \n",
    "                    indices_line.append([int(index) for index in re.findall(regex, line)])\n",
    "                else:\n",
    "                    indices_line.append([999])\n",
    "            indices_translation.append(indices_line)\n",
    "       \n",
    "    # Match alignement indices from translation to backtranslation\n",
    "    lineNumber = 0\n",
    "    counter = 0\n",
    "    indices_backtranslation = []\n",
    "    with open(filename_backtranslations, 'r') as alignments:\n",
    "        for line in alignments:\n",
    "            if (lineNumber == 10):\n",
    "                lineNumber = 0\n",
    "                counter += 1\n",
    "            alignement_tokens = line.split()\n",
    "            indices_line = []\n",
    "            for index_list in indices_translation[counter]:\n",
    "                index_matches = []\n",
    "                for index in index_list:\n",
    "                    regex = r\"\" + str(index) + r\"-(\\d)\"\n",
    "                    if re.findall(regex, line): \n",
    "                        index_matches.extend([int(i) for i in re.findall(regex, line)])\n",
    "                    else:\n",
    "                        index_matches.extend([999])\n",
    "                indices_line.append(index_matches)\n",
    "            indices_backtranslation.append(indices_line)\n",
    "            lineNumber += 1 \n",
    "    return indices_backtranslation"
   ]
  },
  {
   "cell_type": "code",
   "execution_count": 123,
   "id": "c8811a5e-caac-4ca9-ab1f-df546bf83c15",
   "metadata": {},
   "outputs": [],
   "source": [
    "def extract_word_backtranslations(filename_tokenized, filename_backtranslations, filename_out, indices_backtranslation):\n",
    "    \"\"\"\n",
    "    Match alignement indices from translation to backtranslation\n",
    "    \"\"\"\n",
    "    \n",
    "    # List with lengths of the source sentences\n",
    "    source_lengths = []\n",
    "    with open(filename_tokenized, 'r') as fin:\n",
    "        for line in fin:\n",
    "            source_lengths.append(len(line.strip().split()))\n",
    "\n",
    "    #print(source_lengths)\n",
    "\n",
    "    # List with backtranslations\n",
    "    backtranslations = []\n",
    "    with open(filename_backtranslations, 'r') as fin:\n",
    "         for line in fin:\n",
    "                backtranslations.append(line.split())\n",
    "\n",
    "    #print(backtranslations)\n",
    "\n",
    "    target_words = [] # list containing lists with translation sets for every word in the source sentences; length 335\n",
    "    counter = 0\n",
    "    for i in range(0, 335): # for every source sentence\n",
    "        source_sent = []\n",
    "        for j in range(0, source_lengths[i]): # for every word in the source sentence\n",
    "            words_set = set()\n",
    "            for  f in range(0, 99):\n",
    "                alignments = indices_backtranslation[counter + f]        \n",
    "                if (j < len(alignments)):\n",
    "                    for index in alignments[j]:\n",
    "                        if index != 999:\n",
    "                            if (index < len(backtranslations[counter + f])):\n",
    "                                 words_set.add(backtranslations[counter + f][index])\n",
    "            source_sent.append(words_set)\n",
    "        target_words.append(source_sent)\n",
    "        counter += 100\n",
    "\n",
    "    #print(len(target_words))\n",
    "\n",
    "    # Add results to file\n",
    "\n",
    "    # List with source sentences\n",
    "    source = []\n",
    "    with open(filename_tokenized, 'r') as fin:\n",
    "        for line in fin:\n",
    "            source.append(line.strip())\n",
    "\n",
    "    count = 0                \n",
    "    with open(filename_out, 'w') as fout:\n",
    "        while count < 335:\n",
    "            print(source[count] + ' | ' + str(target_words[count]), end='\\n', file=fout)\n",
    "            count += 1"
   ]
  },
  {
   "cell_type": "code",
   "execution_count": 124,
   "id": "68636e2c-4d46-42de-8e44-5d061468fddb",
   "metadata": {},
   "outputs": [],
   "source": [
    "def count_word_backtranslations(filename_tokenized, filename_backtranslations, filename_out, indices_backtranslation):\n",
    "    \"\"\"\n",
    "    Match alignement indices from translation to backtranslation\n",
    "    \"\"\"\n",
    "    \n",
    "    # List with lengths of the source sentences\n",
    "    source_lengths = []\n",
    "    with open(filename_tokenized, 'r') as fin:\n",
    "        for line in fin:\n",
    "            source_lengths.append(len(line.strip().split()))\n",
    "\n",
    "    #print(source_lengths)\n",
    "\n",
    "    # List with backtranslations\n",
    "    backtranslations = []\n",
    "    with open(filename_backtranslations, 'r') as fin:\n",
    "         for line in fin:\n",
    "                backtranslations.append(line.split())\n",
    "\n",
    "    #print(backtranslations)\n",
    "\n",
    "    target_words = [] # list containing lists with translation sets for every word in the source sentences; length 335\n",
    "    counter = 0\n",
    "    for i in range(0, 335): # for every source sentence\n",
    "        source_sent = []\n",
    "        for j in range(0, source_lengths[i]): # for every word in the source sentence\n",
    "            words_set = set()\n",
    "            for  f in range(0, 99):\n",
    "                alignments = indices_backtranslation[counter + f]        \n",
    "                if (j < len(alignments)):\n",
    "                    for index in alignments[j]:\n",
    "                        if index != 999:\n",
    "                            if (index < len(backtranslations[counter + f])):\n",
    "                                 words_set.add(backtranslations[counter + f][index])\n",
    "            source_sent.append(words_set)\n",
    "        target_words.append(source_sent)\n",
    "        counter += 100\n",
    "\n",
    "    #print(len(target_words))\n",
    "\n",
    "    # Add results to file\n",
    "\n",
    "    # List with source sentences\n",
    "    source = []\n",
    "    with open(filename_tokenized, 'r') as fin:\n",
    "        for line in fin:\n",
    "            source.append(line.strip())\n",
    "       \n",
    "    count = 0\n",
    "    occurrences = []\n",
    "    with open(filename_out, 'w') as fout:\n",
    "        while count < 335:\n",
    "            occurrences.append([len(target_set) for target_set in target_words[count]])\n",
    "            print(source[count] + ' | ' + str([len(target_set) for target_set in target_words[count]]), end='\\n', file=fout)\n",
    "            count += 1\n",
    "    \n",
    "    return occurrences"
   ]
  },
  {
   "cell_type": "code",
   "execution_count": 125,
   "id": "98fd42d2-828f-4757-9267-e5983003ff3d",
   "metadata": {},
   "outputs": [
    {
     "name": "stdout",
     "output_type": "stream",
     "text": [
      "4.1377987260032905\n",
      "3.72257932780321\n",
      "3.734217109590242\n"
     ]
    }
   ],
   "source": [
    "indices_original = extract_alignment_indices_backtranslation('original_source-target_en-de_awesome-aligned.txt', 'original_translation-back_en-de_awesome-aligned.txt')\n",
    "extract_word_backtranslations('tok.en_original.en', 'hyp_original_back.txt', 'backtranslations_words_original.txt', indices_original)\n",
    "occurrences_original = count_word_backtranslations('tok.en_original.en', 'hyp_original_back.txt', 'backtranslations_words_original_occurrence.txt', indices_original)\n",
    "print(uniqueness_rest_of_sentence(1, 335, occurrences_original))\n",
    "\n",
    "indices_disambiguated_male = extract_alignment_indices_backtranslation('disambiguated_male_source-target_en-de_awesome-aligned.txt', 'disambiguated_male_translation-back_en-de_awesome-aligned.txt')\n",
    "extract_word_backtranslations('tok.en_disambiguated_male.en', 'hyp_disambiguated_male_back.txt', 'backtranslations_words_disambiguated_male.txt', indices_disambiguated_male)\n",
    "occurrences_male = count_word_backtranslations('tok.en_disambiguated_male.en', 'hyp_disambiguated_male_back.txt', 'backtranslations_words_disambiguated_male_occurrence.txt', indices_disambiguated_male)\n",
    "print(uniqueness_rest_of_sentence(2, 335, occurrences_male))\n",
    "\n",
    "indices_disambiguated_female = extract_alignment_indices_backtranslation('disambiguated_female_source-target_en-de_awesome-aligned.txt', 'disambiguated_female_translation-back_en-de_awesome-aligned.txt')\n",
    "extract_word_backtranslations('tok.en_disambiguated_female.en', 'hyp_disambiguated_female_back.txt', 'backtranslations_words_disambiguated_female.txt', indices_disambiguated_female)\n",
    "occurrences_female = count_word_backtranslations('tok.en_disambiguated_female.en', 'hyp_disambiguated_female_back.txt', 'backtranslations_words_disambiguated_female_occurrence.txt', indices_disambiguated_female)\n",
    "print(uniqueness_rest_of_sentence(2, 335, occurrences_female))\n"
   ]
  },
  {
   "cell_type": "markdown",
   "id": "f3fa9d8d-3fd6-4a95-9591-8af3b42f4b37",
   "metadata": {
    "tags": []
   },
   "source": [
    "# Gender statistics"
   ]
  },
  {
   "cell_type": "code",
   "execution_count": 9,
   "id": "56c85b2b-de5f-4973-b35f-05e366073d92",
   "metadata": {},
   "outputs": [],
   "source": [
    "from enum import Enum\n",
    "\n",
    "class GENDER(Enum):\n",
    "    \"\"\"\n",
    "    Enumerate possible genders.\n",
    "    Ignore option resolves to words that should be ignored in particular language\n",
    "    \"\"\"\n",
    "    male = 0\n",
    "    female = 1\n",
    "    neutral = 2\n",
    "    unknown = 3\n",
    "    ignore = 4\n",
    "    \n",
    "# ??? These are not always correct; 'der' could be Dativ or Genitiv for female, 'die' could be plural\n",
    "# !!! There isn't always an article\n",
    "DE_DETERMINERS = {\"der\": GENDER.male, \"ein\": GENDER.male, \"dem\": GENDER.male, \"den\": GENDER.male, \n",
    "                  \"einen\": GENDER.male, \"des\": GENDER.male, \"er\": GENDER.male, \"seiner\": GENDER.male,\n",
    "                  \"ihn\": GENDER.male, \"seinen\": GENDER.male, \"ihm\": GENDER.male, \"ihren\": GENDER.male,\n",
    "                  \"die\": GENDER.female, \"eine\": GENDER.female, \"einer\": GENDER.female, \"seinem\": GENDER.male,\n",
    "                  \"ihrem\": GENDER.male, \"sein\": GENDER.male,\n",
    "                  \"sie\": GENDER.female, \"seine\": GENDER.female, \"ihrer\": GENDER.female, \n",
    "                  \"ihr\": GENDER.neutral, \"ihre\": GENDER.neutral, \"das\": GENDER.neutral,\n",
    "                  \"jemanden\": GENDER.neutral}\n",
    "\n",
    "def get_german_determiners(words):\n",
    "    \"\"\"\n",
    "    Get a list of (gender)\n",
    "    given a list of words.\n",
    "    \"\"\"\n",
    "    determiners = []\n",
    "    for (word_ind, word) in enumerate(words):\n",
    "        word = word.lower()\n",
    "        if word in DE_DETERMINERS:\n",
    "            determiners.append((DE_DETERMINERS[word].name))\n",
    "    return determiners"
   ]
  },
  {
   "cell_type": "code",
   "execution_count": 10,
   "id": "ebd8cf96-02b7-4594-8b3a-f06047f00ec5",
   "metadata": {},
   "outputs": [
    {
     "name": "stdout",
     "output_type": "stream",
     "text": [
      "['male']\n"
     ]
    }
   ],
   "source": [
    "dets = get_german_determiners([\"dem\"])\n",
    "print(dets)"
   ]
  },
  {
   "cell_type": "markdown",
   "id": "e9a9d63e-efae-414e-95a6-767582b657a3",
   "metadata": {},
   "source": [
    "- Calculate gender based on the articles of unique words: how many of the sentences produce both genders, female and male"
   ]
  },
  {
   "cell_type": "code",
   "execution_count": 11,
   "id": "20718016-7517-4085-bf89-45e457eaa31d",
   "metadata": {},
   "outputs": [],
   "source": [
    "import re\n",
    "\n",
    "# Extract articles of target tranlsated words\n",
    "def extract_articles(position, sentencesN, translationsIn, alignmentsIn, sourceIn, output):\n",
    "    \n",
    "    # Extract the position of the translated ambiguous word from each sentence\n",
    "    positions_ambiguous_words = []\n",
    "    for i in range(sentencesN):\n",
    "        positions_ambiguous_words.append(position)\n",
    "    \n",
    "    # List with original translations\n",
    "    translations_original = []\n",
    "    with open(translationsIn, 'r') as fin:\n",
    "        for line in fin:\n",
    "            translations_original.append(line.strip())\n",
    "\n",
    "\n",
    "    lineNumber = 0\n",
    "    counter = 0\n",
    "    indices = [] # a list of lists of indices of translated words for each ambiguous word\n",
    "    with open(alignmentsIn, 'r') as alignments:\n",
    "        for line in alignments:\n",
    "            if (lineNumber == 10):\n",
    "                lineNumber = 0\n",
    "                counter += 1\n",
    "            position = positions_ambiguous_words[counter] # exact position of ambiguous word\n",
    "            regex = r\"\" + str(position) + r\"-(\\d)\"\n",
    "            if re.findall(regex, line): \n",
    "                indices.append([int(index) for index in re.findall(regex, line)])\n",
    "            else:\n",
    "                indices.append([999])\n",
    "            lineNumber += 1\n",
    "\n",
    "    #print(len(indices))\n",
    "    #print(indices)\n",
    "\n",
    "    lineNumber = 0\n",
    "    translations_ambiguous_words = [] # a list of set of translations to each ambiguous word in source\n",
    "    translated_ambiguous_words = set() # set forces uniqueness\n",
    "    for translation in translations_original:\n",
    "        tokens = translation.split(' ')\n",
    "        if 999 not in indices[lineNumber]:\n",
    "            for ind in indices[lineNumber]:\n",
    "                translated_ambiguous_words.add(tokens[0]) # extract articles; currently assume index 0 for article position, TODO\n",
    "        lineNumber += 1\n",
    "        if (lineNumber % 10 == 0):\n",
    "                translations_ambiguous_words.append(translated_ambiguous_words)\n",
    "                translated_ambiguous_words = set()\n",
    "\n",
    "\n",
    "    #print(len(translations_ambiguous_words))\n",
    "    \n",
    "    # Add results to file\n",
    "\n",
    "    # List with original source sentences\n",
    "    source = []\n",
    "    ambiguous_words = []\n",
    "    with open(sourceIn, 'r') as fin:\n",
    "        for line in fin:\n",
    "            source.append(line.strip())\n",
    "            tokens = line.split(' ')\n",
    "            ambiguous_words.append(tokens[position])\n",
    "\n",
    "    count = 0  \n",
    "    genders = []\n",
    "    male = []\n",
    "    female = []\n",
    "    with open(output, 'w') as fout:\n",
    "        while count < sentencesN:\n",
    "            #print(translations_ambiguous_words[count])\n",
    "            genders.append(set(get_german_determiners(translations_ambiguous_words[count])))\n",
    "            male.append(\"male\" in get_german_determiners(translations_ambiguous_words[count]))\n",
    "            female.append(\"female\" in get_german_determiners(translations_ambiguous_words[count]))\n",
    "            print(source[count] + ' | ' + ambiguous_words[count] + ' | ' + str(get_german_determiners(translations_ambiguous_words[count])), end='\\n', file=fout)\n",
    "            count += 1\n",
    "            \n",
    "    return (sum(1 for i in genders if ('male' in i and 'female' in i)), \n",
    "            male.count(True), female.count(True))"
   ]
  },
  {
   "cell_type": "code",
   "execution_count": 12,
   "id": "c2dcc149-f38f-419d-b61e-97aa7b657426",
   "metadata": {},
   "outputs": [
    {
     "name": "stdout",
     "output_type": "stream",
     "text": [
      "(128, 327, 136)\n",
      "(118, 332, 121)\n",
      "(94, 94, 335)\n"
     ]
    }
   ],
   "source": [
    "print(extract_articles(1, 335, 'hyp_original.txt', 'original_source-target_en-de_awesome-aligned.txt', 'tok.en_original.en', 'unique-words_translations_original_articles.txt'))\n",
    "print(extract_articles(2, 335, 'hyp_disambiguated_male.txt', 'disambiguated_male_source-target_en-de_awesome-aligned.txt', 'tok.en_disambiguated_male.en', 'unique-words_translations_disambiguated_male_articles.txt'))\n",
    "print(extract_articles(2, 335, 'hyp_disambiguated_female.txt', 'disambiguated_female_source-target_en-de_awesome-aligned.txt', 'tok.en_disambiguated_female.en', 'unique-words_translations_disambiguated_female_articles.txt'))"
   ]
  },
  {
   "cell_type": "markdown",
   "id": "4b1a57d8-d077-489d-b209-2d0b5147e7de",
   "metadata": {},
   "source": [
    "- Calculate gender in percentage for each sentence: percent of \"male\" vs. female in translations for each sentence"
   ]
  },
  {
   "cell_type": "code",
   "execution_count": 13,
   "id": "697e9d85-f8ee-443e-b423-00882b38d205",
   "metadata": {},
   "outputs": [],
   "source": [
    "import re\n",
    "\n",
    "# Extract articles of target tranlsated words\n",
    "def extract_articles_percent(position, sentencesN, translationsIn, alignmentsIn, sourceIn, output):\n",
    "    \n",
    "    # Extract the position of the translated ambiguous word from each sentence\n",
    "    positions_ambiguous_words = []\n",
    "    for i in range(sentencesN):\n",
    "        positions_ambiguous_words.append(position)\n",
    "    \n",
    "    # List with original translations\n",
    "    translations_original = []\n",
    "    with open(translationsIn, 'r') as fin:\n",
    "        for line in fin:\n",
    "            translations_original.append(line.strip())\n",
    "\n",
    "\n",
    "    lineNumber = 0\n",
    "    counter = 0\n",
    "    indices = [] # a list of lists of indices of translated words for each ambiguous word\n",
    "    with open(alignmentsIn, 'r') as alignments:\n",
    "        for line in alignments:\n",
    "            if (lineNumber == 10):\n",
    "                lineNumber = 0\n",
    "                counter += 1\n",
    "            position = positions_ambiguous_words[counter] # exact position of ambiguous word\n",
    "            regex = r\"\" + str(position) + r\"-(\\d)\"\n",
    "            if re.findall(regex, line): \n",
    "                indices.append([int(index) for index in re.findall(regex, line)])\n",
    "            else:\n",
    "                indices.append([999])\n",
    "            lineNumber += 1\n",
    "\n",
    "    #print(len(indices))\n",
    "    #print(indices)\n",
    "\n",
    "    lineNumber = 0\n",
    "    translations_ambiguous_words = [] # a list of set of translations to each ambiguous word in source\n",
    "    translated_ambiguous_words = [] \n",
    "    for translation in translations_original:\n",
    "        tokens = translation.split(' ')\n",
    "        if 999 not in indices[lineNumber]:\n",
    "            for ind in indices[lineNumber]:\n",
    "                translated_ambiguous_words.append(tokens[0]) # extract articles; currently assume index 0 for article position, TODO\n",
    "        lineNumber += 1\n",
    "        if (lineNumber % 10 == 0):\n",
    "                translations_ambiguous_words.append(translated_ambiguous_words)\n",
    "                translated_ambiguous_words = []\n",
    "\n",
    "\n",
    "    #print(len(translations_ambiguous_words))\n",
    "    \n",
    "    # Add results to file\n",
    "\n",
    "    # List with original source sentences\n",
    "    source = []\n",
    "    ambiguous_words = []\n",
    "    with open(sourceIn, 'r') as fin:\n",
    "        for line in fin:\n",
    "            source.append(line.strip())\n",
    "            tokens = line.split(' ')\n",
    "            ambiguous_words.append(tokens[position])\n",
    "\n",
    "    count = 0  \n",
    "    genders = []\n",
    "    male = []\n",
    "    female = []\n",
    "    with open(output, 'w') as fout:\n",
    "        while count < sentencesN:\n",
    "            #print(translations_ambiguous_words[count])\n",
    "            genders.append(get_german_determiners(translations_ambiguous_words[count]))\n",
    "            male.append(\"male\" in get_german_determiners(translations_ambiguous_words[count]))\n",
    "            female.append(\"female\" in get_german_determiners(translations_ambiguous_words[count]))\n",
    "            print(source[count] + ' | ' + ambiguous_words[count] + ' | ' + str(get_german_determiners(translations_ambiguous_words[count])), end='\\n', file=fout)\n",
    "            count += 1\n",
    "     \n",
    "    print(genders)\n",
    "    return (sum([i.count('male')/10 for i in genders])/sentencesN*100, \n",
    "            sum([i.count('female')/10 for i in genders])/sentencesN*100)"
   ]
  },
  {
   "cell_type": "code",
   "execution_count": null,
   "id": "1d9e30d9-b142-4917-9809-dc649469e2ec",
   "metadata": {},
   "outputs": [],
   "source": [
    "print(extract_articles_percent(1, 335, 'hyp_original.txt', 'original_source-target_en-de_awesome-aligned.txt', 'tok.en_original.en', 'unique-words_translations_original_articles.txt'))\n",
    "print(extract_articles_percent(2, 335, 'hyp_disambiguated_male.txt', 'disambiguated_male_source-target_en-de_awesome-aligned.txt', 'tok.en_disambiguated_male.en', 'unique-words_translations_disambiguated_male_articles.txt'))\n",
    "print(extract_articles_percent(2, 335, 'hyp_disambiguated_female.txt', 'disambiguated_female_source-target_en-de_awesome-aligned.txt', 'tok.en_disambiguated_female.en', 'unique-words_translations_disambiguated_female_articles.txt'))"
   ]
  },
  {
   "cell_type": "code",
   "execution_count": null,
   "id": "6ffa3d3c-5905-4fa2-bcd7-7f9425f829ba",
   "metadata": {},
   "outputs": [],
   "source": []
  }
 ],
 "metadata": {
  "kernelspec": {
   "display_name": "Python 3 (ipykernel)",
   "language": "python",
   "name": "python3"
  },
  "language_info": {
   "codemirror_mode": {
    "name": "ipython",
    "version": 3
   },
   "file_extension": ".py",
   "mimetype": "text/x-python",
   "name": "python",
   "nbconvert_exporter": "python",
   "pygments_lexer": "ipython3",
   "version": "3.8.13"
  }
 },
 "nbformat": 4,
 "nbformat_minor": 5
}
