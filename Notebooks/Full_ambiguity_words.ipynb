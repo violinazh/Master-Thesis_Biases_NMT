{
 "cells": [
  {
   "cell_type": "code",
   "execution_count": 133,
   "id": "7eb9c1b6-7f4d-468a-984f-e7b61fa4b7c5",
   "metadata": {},
   "outputs": [],
   "source": [
    "import torch\n",
    "import random\n",
    "import numpy as np\n",
    "import re\n",
    "\n",
    "SEED = 1234\n",
    "\n",
    "random.seed(SEED)\n",
    "np.random.seed(SEED)\n",
    "torch.manual_seed(SEED)\n",
    "torch.cuda.manual_seed_all(SEED)\n",
    "torch.backends.cudnn.enabled = False \n",
    "torch.backends.cudnn.benchmark = False\n",
    "torch.backends.cudnn.deterministic = True\n",
    "\n",
    "PATH=\"/export/data4/vzhekova/biases-data/Test_De/Statistics/Full_ambiguity_words\"\n",
    "FASTBPE=\"/home/vzhekova/fastBPE/fast\" # path to the fastBPE tool\n",
    "FAST_ALIGN=\"/home/vzhekova/fast_align/build/fast_align\" # path to the fast_align tool\n",
    "TERCOM = \"/export/data4/vzhekova/biases-data/Test_De/Statistics/Full_ambiguity/Perturbation-basedQE\""
   ]
  },
  {
   "cell_type": "code",
   "execution_count": 2,
   "id": "48aa5a31-2b6f-4744-bd0e-cd820e61740d",
   "metadata": {},
   "outputs": [
    {
     "name": "stdout",
     "output_type": "stream",
     "text": [
      "Current device: GeForce GTX 1080 Ti\n"
     ]
    }
   ],
   "source": [
    "# check if we can connect to the GPU with PyTorch\n",
    "if torch.cuda.is_available():\n",
    "    device = torch.cuda.current_device()\n",
    "    print('Current device:', torch.cuda.get_device_name(device))\n",
    "else:\n",
    "    print('Failed to find GPU. Will use CPU.')\n",
    "    device = 'cpu'"
   ]
  },
  {
   "cell_type": "code",
   "execution_count": 192,
   "id": "c199b4a0-7cab-4d4c-b270-e55ef77d010d",
   "metadata": {},
   "outputs": [
    {
     "name": "stdout",
     "output_type": "stream",
     "text": [
      "/export/data4/vzhekova/biases-data/Test_De/Statistics/Full_ambiguity_words\n"
     ]
    }
   ],
   "source": [
    "%cd $PATH"
   ]
  },
  {
   "cell_type": "code",
   "execution_count": 14,
   "id": "f0a0314c-d5f1-45df-a5c2-f55a5316b073",
   "metadata": {},
   "outputs": [],
   "source": [
    "# Extract the first 2 words from sentences: \"The developer\"\n",
    "# 49 unique sentences in total\n",
    "\n",
    "with open('en_sentences.txt', 'r') as fin, open('en_original.txt', 'w') as fout:\n",
    "    for line in fin:\n",
    "        tokens = line.split(\" \")\n",
    "        if (tokens[0] == 'The'):\n",
    "            print(tokens[0] + ' ' + tokens[1], end='\\n', file=fout)"
   ]
  },
  {
   "cell_type": "code",
   "execution_count": 15,
   "id": "919d7d23-9867-4311-9da8-f64bf8f2e948",
   "metadata": {},
   "outputs": [],
   "source": [
    "# Modify gender ambiguous words with gender\n",
    "        \n",
    "with open('en_original.txt') as fin, open('en_disambiguated.txt', 'w') as fout: \n",
    "    for line in fin:\n",
    "        tokens = line.split(' ')\n",
    "        print(tokens[0] + ' male ' + tokens[1], end='', file=fout)"
   ]
  },
  {
   "cell_type": "markdown",
   "id": "087ec0de-a7d8-4c97-a71f-48fb82d1ac2c",
   "metadata": {
    "jp-MarkdownHeadingCollapsed": true,
    "tags": []
   },
   "source": [
    "# Translation English-German"
   ]
  },
  {
   "cell_type": "code",
   "execution_count": 16,
   "id": "0d4f3657-9c41-4db4-b7a7-c9b69e6d5f1c",
   "metadata": {},
   "outputs": [
    {
     "name": "stdout",
     "output_type": "stream",
     "text": [
      "Finished tokenizing.\n"
     ]
    }
   ],
   "source": [
    "# Tokenization\n",
    "from sacremoses import MosesPunctNormalizer\n",
    "from sacremoses import MosesTokenizer, MosesDetokenizer\n",
    "from __future__ import print_function\n",
    "\n",
    "mpn = MosesPunctNormalizer()\n",
    "mt_en = MosesTokenizer(lang='en')\n",
    "md_en = MosesDetokenizer(lang='en')\n",
    "\n",
    "with open('en_original.txt') as fin, open('tok.en_original.en','w') as fout:\n",
    "    for line in fin:\n",
    "        tokens = mt_en.tokenize(mpn.normalize(line), return_str=True)\n",
    "        print(tokens, end='\\n', file=fout) \n",
    "        \n",
    "with open('en_disambiguated.txt') as fin, open('tok.en_disambiguated.en','w') as fout:\n",
    "    for line in fin:\n",
    "        tokens = mt_en.tokenize(mpn.normalize(line), return_str=True)\n",
    "        print(tokens, end='\\n', file=fout)\n",
    "\n",
    "print('Finished tokenizing.')"
   ]
  },
  {
   "cell_type": "code",
   "execution_count": 17,
   "id": "c50fa559-689b-4781-aad0-d25b6de74274",
   "metadata": {},
   "outputs": [
    {
     "name": "stdout",
     "output_type": "stream",
     "text": [
      "Loading codes from bpecodes.en ...\n",
      "Read 30000 codes from the codes file.\n",
      "Loading vocabulary from tok.en_original.en ...\n",
      "Read 98 words (50 unique) from text file.\n",
      "Applying BPE to tok.en_original.en ...\n",
      "Modified 98 words from text file.\n",
      "Loading codes from bpecodes.en ...\n",
      "Read 30000 codes from the codes file.\n",
      "Loading vocabulary from tok.en_disambiguated.en ...\n",
      "Read 147 words (51 unique) from text file.\n",
      "Applying BPE to tok.en_disambiguated.en ...\n",
      "Modified 147 words from text file.\n",
      "Finished subword.\n"
     ]
    }
   ],
   "source": [
    "# Dividing text into subword units\n",
    "\n",
    "!$FASTBPE applybpe bpe.en_original.en tok.en_original.en bpecodes.en\n",
    "!$FASTBPE applybpe bpe.en_disambiguated.en tok.en_disambiguated.en bpecodes.en\n",
    "\n",
    "print('Finished subword.')"
   ]
  },
  {
   "cell_type": "code",
   "execution_count": 18,
   "id": "a1ec72fd-81a4-4cd2-93a6-22c47288284f",
   "metadata": {},
   "outputs": [
    {
     "name": "stdout",
     "output_type": "stream",
     "text": [
      "2023-07-12 17:17:43 | INFO | fairseq_cli.preprocess | Namespace(aim_repo=None, aim_run_hash=None, align_suffix=None, alignfile=None, all_gather_list_size=16384, amp=False, amp_batch_retries=2, amp_init_scale=128, amp_scale_window=None, azureml_logging=False, bf16=False, bpe=None, cpu=False, criterion='cross_entropy', dataset_impl='mmap', destdir='data-bin_original_en-de', dict_only=False, empty_cache_freq=0, fp16=False, fp16_init_scale=128, fp16_no_flatten_grads=False, fp16_scale_tolerance=0.0, fp16_scale_window=None, joined_dictionary=False, log_file=None, log_format=None, log_interval=100, lr_scheduler='fixed', memory_efficient_bf16=False, memory_efficient_fp16=False, min_loss_scale=0.0001, model_parallel_size=1, no_progress_bar=False, nwordssrc=-1, nwordstgt=-1, on_cpu_convert_precision=False, only_source=True, optimizer=None, padding_factor=8, plasma_path='/tmp/plasma', profile=False, quantization_config_path=None, reset_logging=False, scoring='bleu', seed=1, source_lang='en', srcdict='/export/data4/vzhekova/biases-data/En-De/wmt19.en-de.joined-dict.ensemble/dict.en.txt', suppress_crashes=False, target_lang='de', task='translation', tensorboard_logdir=None, testpref='bpe.en_original', tgtdict='/export/data4/vzhekova/biases-data/En-De/wmt19.en-de.joined-dict.ensemble/dict.de.txt', threshold_loss_scale=None, thresholdsrc=0, thresholdtgt=0, tokenizer=None, tpu=False, trainpref=None, use_plasma_view=False, user_dir=None, validpref=None, wandb_project=None, workers=8)\n",
      "2023-07-12 17:17:43 | INFO | fairseq_cli.preprocess | [en] Dictionary: 42024 types\n",
      "2023-07-12 17:17:43 | INFO | fairseq_cli.preprocess | [en] bpe.en_original.en: 49 sents, 190 tokens, 0.0% replaced (by <unk>)\n",
      "2023-07-12 17:17:43 | INFO | fairseq_cli.preprocess | Wrote preprocessed data to data-bin_original_en-de\n"
     ]
    }
   ],
   "source": [
    "# Binarize text\n",
    "!fairseq-preprocess \\\n",
    "    --source-lang en \\\n",
    "    --target-lang de \\\n",
    "    --testpref bpe.en_original \\\n",
    "    --only-source \\\n",
    "    --srcdict /export/data4/vzhekova/biases-data/En-De/wmt19.en-de.joined-dict.ensemble/dict.en.txt \\\n",
    "    --tgtdict /export/data4/vzhekova/biases-data/En-De/wmt19.en-de.joined-dict.ensemble/dict.de.txt \\\n",
    "    --destdir data-bin_original_en-de \\\n",
    "    --workers 8"
   ]
  },
  {
   "cell_type": "code",
   "execution_count": 19,
   "id": "1615792f-24aa-40b5-958a-10790d5481b9",
   "metadata": {},
   "outputs": [
    {
     "name": "stdout",
     "output_type": "stream",
     "text": [
      "2023-07-12 17:17:47 | INFO | fairseq_cli.preprocess | Namespace(aim_repo=None, aim_run_hash=None, align_suffix=None, alignfile=None, all_gather_list_size=16384, amp=False, amp_batch_retries=2, amp_init_scale=128, amp_scale_window=None, azureml_logging=False, bf16=False, bpe=None, cpu=False, criterion='cross_entropy', dataset_impl='mmap', destdir='data-bin_disambiguated_en-de', dict_only=False, empty_cache_freq=0, fp16=False, fp16_init_scale=128, fp16_no_flatten_grads=False, fp16_scale_tolerance=0.0, fp16_scale_window=None, joined_dictionary=False, log_file=None, log_format=None, log_interval=100, lr_scheduler='fixed', memory_efficient_bf16=False, memory_efficient_fp16=False, min_loss_scale=0.0001, model_parallel_size=1, no_progress_bar=False, nwordssrc=-1, nwordstgt=-1, on_cpu_convert_precision=False, only_source=True, optimizer=None, padding_factor=8, plasma_path='/tmp/plasma', profile=False, quantization_config_path=None, reset_logging=False, scoring='bleu', seed=1, source_lang='en', srcdict='/export/data4/vzhekova/biases-data/En-De/wmt19.en-de.joined-dict.ensemble/dict.en.txt', suppress_crashes=False, target_lang='de', task='translation', tensorboard_logdir=None, testpref='bpe.en_disambiguated', tgtdict='/export/data4/vzhekova/biases-data/En-De/wmt19.en-de.joined-dict.ensemble/dict.de.txt', threshold_loss_scale=None, thresholdsrc=0, thresholdtgt=0, tokenizer=None, tpu=False, trainpref=None, use_plasma_view=False, user_dir=None, validpref=None, wandb_project=None, workers=8)\n",
      "2023-07-12 17:17:47 | INFO | fairseq_cli.preprocess | [en] Dictionary: 42024 types\n",
      "2023-07-12 17:17:47 | INFO | fairseq_cli.preprocess | [en] bpe.en_disambiguated.en: 49 sents, 239 tokens, 0.0% replaced (by <unk>)\n",
      "2023-07-12 17:17:47 | INFO | fairseq_cli.preprocess | Wrote preprocessed data to data-bin_disambiguated_en-de\n"
     ]
    }
   ],
   "source": [
    "!fairseq-preprocess \\\n",
    "    --source-lang en \\\n",
    "    --target-lang de \\\n",
    "    --testpref bpe.en_disambiguated \\\n",
    "    --only-source \\\n",
    "    --srcdict /export/data4/vzhekova/biases-data/En-De/wmt19.en-de.joined-dict.ensemble/dict.en.txt \\\n",
    "    --tgtdict /export/data4/vzhekova/biases-data/En-De/wmt19.en-de.joined-dict.ensemble/dict.de.txt \\\n",
    "    --destdir data-bin_disambiguated_en-de \\\n",
    "    --workers 8"
   ]
  },
  {
   "cell_type": "code",
   "execution_count": 20,
   "id": "0534e037-1503-462b-aacc-bed90ec0118b",
   "metadata": {},
   "outputs": [],
   "source": [
    "MODELS=\"/export/data4/vzhekova/biases-data/En-De/wmt19.en-de.joined-dict.ensemble\"\n",
    "NBEST = 10\n",
    "BEAM = 10"
   ]
  },
  {
   "cell_type": "code",
   "execution_count": 22,
   "id": "1df524a1-a957-45a8-ad21-a362d7abd060",
   "metadata": {},
   "outputs": [
    {
     "name": "stdout",
     "output_type": "stream",
     "text": [
      "2023-07-12 17:18:55 | INFO | fairseq_cli.generate | {'_name': None, 'common': {'_name': None, 'no_progress_bar': False, 'log_interval': 100, 'log_format': None, 'log_file': None, 'aim_repo': None, 'aim_run_hash': None, 'tensorboard_logdir': None, 'wandb_project': None, 'azureml_logging': False, 'seed': 1, 'cpu': False, 'tpu': False, 'bf16': False, 'memory_efficient_bf16': False, 'fp16': True, 'memory_efficient_fp16': True, 'fp16_no_flatten_grads': False, 'fp16_init_scale': 128, 'fp16_scale_window': None, 'fp16_scale_tolerance': 0.0, 'on_cpu_convert_precision': False, 'min_loss_scale': 0.0001, 'threshold_loss_scale': None, 'amp': False, 'amp_batch_retries': 2, 'amp_init_scale': 128, 'amp_scale_window': None, 'user_dir': None, 'empty_cache_freq': 0, 'all_gather_list_size': 16384, 'model_parallel_size': 1, 'quantization_config_path': None, 'profile': False, 'reset_logging': False, 'suppress_crashes': False, 'use_plasma_view': False, 'plasma_path': '/tmp/plasma'}, 'common_eval': {'_name': None, 'path': '/export/data4/vzhekova/biases-data/En-De/wmt19.en-de.joined-dict.ensemble/model1.pt:/export/data4/vzhekova/biases-data/En-De/wmt19.en-de.joined-dict.ensemble/model2.pt:/export/data4/vzhekova/biases-data/En-De/wmt19.en-de.joined-dict.ensemble/model3.pt:/export/data4/vzhekova/biases-data/En-De/wmt19.en-de.joined-dict.ensemble/model4.pt', 'post_process': 'subword_nmt', 'quiet': False, 'model_overrides': '{}', 'results_path': None}, 'distributed_training': {'_name': None, 'distributed_world_size': 1, 'distributed_num_procs': 1, 'distributed_rank': 0, 'distributed_backend': 'nccl', 'distributed_init_method': None, 'distributed_port': -1, 'device_id': 0, 'distributed_no_spawn': False, 'ddp_backend': 'pytorch_ddp', 'ddp_comm_hook': 'none', 'bucket_cap_mb': 25, 'fix_batches_to_gpus': False, 'find_unused_parameters': False, 'gradient_as_bucket_view': False, 'fast_stat_sync': False, 'heartbeat_timeout': -1, 'broadcast_buffers': False, 'slowmo_momentum': None, 'slowmo_base_algorithm': 'localsgd', 'localsgd_frequency': 3, 'nprocs_per_node': 1, 'pipeline_model_parallel': False, 'pipeline_balance': None, 'pipeline_devices': None, 'pipeline_chunks': 0, 'pipeline_encoder_balance': None, 'pipeline_encoder_devices': None, 'pipeline_decoder_balance': None, 'pipeline_decoder_devices': None, 'pipeline_checkpoint': 'never', 'zero_sharding': 'none', 'fp16': True, 'memory_efficient_fp16': True, 'tpu': False, 'no_reshard_after_forward': False, 'fp32_reduce_scatter': False, 'cpu_offload': False, 'use_sharded_state': False, 'not_fsdp_flatten_parameters': False}, 'dataset': {'_name': None, 'num_workers': 1, 'skip_invalid_size_inputs_valid_test': False, 'max_tokens': None, 'batch_size': 64, 'required_batch_size_multiple': 8, 'required_seq_len_multiple': 1, 'dataset_impl': None, 'data_buffer_size': 10, 'train_subset': 'train', 'valid_subset': 'valid', 'combine_valid_subsets': None, 'ignore_unused_valid_subsets': False, 'validate_interval': 1, 'validate_interval_updates': 0, 'validate_after_updates': 0, 'fixed_validation_seed': None, 'disable_validation': False, 'max_tokens_valid': None, 'batch_size_valid': 64, 'max_valid_steps': None, 'curriculum': 0, 'gen_subset': 'test', 'num_shards': 1, 'shard_id': 0, 'grouped_shuffling': False, 'update_epoch_batch_itr': False, 'update_ordered_indices_seed': False}, 'optimization': {'_name': None, 'max_epoch': 0, 'max_update': 0, 'stop_time_hours': 0.0, 'clip_norm': 0.0, 'sentence_avg': False, 'update_freq': [1], 'lr': [0.25], 'stop_min_lr': -1.0, 'use_bmuf': False, 'skip_remainder_batch': False}, 'checkpoint': {'_name': None, 'save_dir': 'checkpoints', 'restore_file': 'checkpoint_last.pt', 'continue_once': None, 'finetune_from_model': None, 'reset_dataloader': False, 'reset_lr_scheduler': False, 'reset_meters': False, 'reset_optimizer': False, 'optimizer_overrides': '{}', 'save_interval': 1, 'save_interval_updates': 0, 'keep_interval_updates': -1, 'keep_interval_updates_pattern': -1, 'keep_last_epochs': -1, 'keep_best_checkpoints': -1, 'no_save': False, 'no_epoch_checkpoints': False, 'no_last_checkpoints': False, 'no_save_optimizer_state': False, 'best_checkpoint_metric': 'loss', 'maximize_best_checkpoint_metric': False, 'patience': -1, 'checkpoint_suffix': '', 'checkpoint_shard_count': 1, 'load_checkpoint_on_all_dp_ranks': False, 'write_checkpoints_asynchronously': False, 'model_parallel_size': 1}, 'bmuf': {'_name': None, 'block_lr': 1.0, 'block_momentum': 0.875, 'global_sync_iter': 50, 'warmup_iterations': 500, 'use_nbm': False, 'average_sync': False, 'distributed_world_size': 1}, 'generation': {'_name': None, 'beam': 10, 'beam_mt': 0, 'nbest': 10, 'max_len_a': 0.0, 'max_len_b': 200, 'max_len_a_mt': 0.0, 'max_len_b_mt': 200, 'min_len': 1, 'match_source_len': False, 'unnormalized': False, 'no_early_stop': False, 'no_beamable_mm': False, 'lenpen': 1.0, 'lenpen_mt': 1.0, 'unkpen': 0.0, 'replace_unk': None, 'sacrebleu': False, 'score_reference': False, 'prefix_size': 0, 'no_repeat_ngram_size': 0, 'sampling': False, 'sampling_topk': -1, 'sampling_topp': -1.0, 'constraints': None, 'temperature': 1.0, 'diverse_beam_groups': -1, 'diverse_beam_strength': 0.5, 'diversity_rate': -1.0, 'print_alignment': None, 'print_step': False, 'lm_path': None, 'lm_weight': 0.0, 'iter_decode_eos_penalty': 0.0, 'iter_decode_max_iter': 10, 'iter_decode_force_max_iter': False, 'iter_decode_with_beam': 1, 'iter_decode_with_external_reranker': False, 'retain_iter_history': False, 'retain_dropout': False, 'retain_dropout_modules': None, 'decoding_format': None, 'no_seed_provided': False, 'eos_token': None}, 'eval_lm': {'_name': None, 'output_word_probs': False, 'output_word_stats': False, 'context_window': 0, 'softmax_batch': 9223372036854775807}, 'interactive': {'_name': None, 'buffer_size': 0, 'input': '-'}, 'model': {'_name': 'wav2vec2', 'extractor_mode': 'default', 'encoder_layers': 12, 'encoder_embed_dim': 768, 'encoder_ffn_embed_dim': 3072, 'encoder_attention_heads': 12, 'activation_fn': 'gelu', 'layer_type': 'transformer', 'dropout': 0.1, 'attention_dropout': 0.1, 'activation_dropout': 0.0, 'encoder_layerdrop': 0.0, 'dropout_input': 0.0, 'dropout_features': 0.0, 'final_dim': 0, 'layer_norm_first': False, 'conv_feature_layers': '[(512, 10, 5)] + [(512, 3, 2)] * 4 + [(512,2,2)] + [(512,2,2)]', 'conv_bias': False, 'logit_temp': 0.1, 'quantize_targets': False, 'quantize_input': False, 'same_quantizer': False, 'target_glu': False, 'feature_grad_mult': 1.0, 'quantizer_depth': 1, 'quantizer_factor': 3, 'latent_vars': 320, 'latent_groups': 2, 'latent_dim': 0, 'mask_length': 10, 'mask_prob': 0.65, 'mask_selection': 'static', 'mask_other': 0.0, 'no_mask_overlap': False, 'mask_min_space': 1, 'require_same_masks': True, 'mask_dropout': 0.0, 'mask_channel_length': 10, 'mask_channel_prob': 0.0, 'mask_channel_before': False, 'mask_channel_selection': 'static', 'mask_channel_other': 0.0, 'no_mask_channel_overlap': False, 'mask_channel_min_space': 1, 'num_negatives': 100, 'negatives_from_everywhere': False, 'cross_sample_negatives': 0, 'codebook_negatives': 0, 'conv_pos': 128, 'conv_pos_groups': 16, 'pos_conv_depth': 1, 'latent_temp': [2.0, 0.5, 0.999995], 'max_positions': 100000, 'checkpoint_activations': False, 'required_seq_len_multiple': 1, 'crop_seq_to_multiple': 1, 'depthwise_conv_kernel_size': 31, 'attn_type': '', 'pos_enc_type': 'abs', 'fp16': True}, 'task': {'_name': 'translation', 'data': 'data-bin_original_en-de', 'source_lang': 'en', 'target_lang': 'de', 'load_alignments': False, 'left_pad_source': True, 'left_pad_target': False, 'max_source_positions': 1024, 'max_target_positions': 1024, 'upsample_primary': -1, 'truncate_source': False, 'num_batch_buckets': 0, 'train_subset': 'train', 'dataset_impl': None, 'required_seq_len_multiple': 1, 'eval_bleu': False, 'eval_bleu_args': '{}', 'eval_bleu_detok': 'space', 'eval_bleu_detok_args': '{}', 'eval_tokenized_bleu': False, 'eval_bleu_remove_bpe': None, 'eval_bleu_print_samples': False}, 'criterion': {'_name': 'cross_entropy', 'sentence_avg': True}, 'optimizer': None, 'lr_scheduler': {'_name': 'fixed', 'force_anneal': None, 'lr_shrink': 0.1, 'warmup_updates': 0, 'lr': [0.25]}, 'scoring': {'_name': 'bleu', 'pad': 1, 'eos': 2, 'unk': 3}, 'bpe': None, 'tokenizer': None, 'ema': {'_name': None, 'store_ema': False, 'ema_decay': 0.9999, 'ema_start_update': 0, 'ema_seed_model': None, 'ema_update_freq': 1, 'ema_fp32': False}}\n",
      "2023-07-12 17:18:56 | INFO | fairseq.tasks.translation | [en] dictionary: 42024 types\n",
      "2023-07-12 17:18:56 | INFO | fairseq.tasks.translation | [de] dictionary: 42024 types\n",
      "2023-07-12 17:18:56 | INFO | fairseq_cli.generate | loading model(s) from /export/data4/vzhekova/biases-data/En-De/wmt19.en-de.joined-dict.ensemble/model1.pt:/export/data4/vzhekova/biases-data/En-De/wmt19.en-de.joined-dict.ensemble/model2.pt:/export/data4/vzhekova/biases-data/En-De/wmt19.en-de.joined-dict.ensemble/model3.pt:/export/data4/vzhekova/biases-data/En-De/wmt19.en-de.joined-dict.ensemble/model4.pt\n",
      "2023-07-12 17:21:38 | INFO | fairseq.data.data_utils | loaded 49 examples from: data-bin_original_en-de/test.en-de.en\n",
      "2023-07-12 17:21:38 | INFO | fairseq.tasks.translation | data-bin_original_en-de test en-de 49 examples\n",
      "2023-07-12 17:21:46 | INFO | fairseq_cli.generate | NOTE: hypothesis and token scores are output in base 2\n",
      "2023-07-12 17:21:46 | INFO | fairseq_cli.generate | Translated 49 sentences (191 tokens) in 1.8s (27.03 sentences/s, 105.35 tokens/s)\n"
     ]
    }
   ],
   "source": [
    "# Generate N hypothesis\n",
    "!fairseq-generate data-bin_original_en-de  \\\n",
    "    --task translation \\\n",
    "    --source-lang en \\\n",
    "    --target-lang de \\\n",
    "    --path $MODELS/model1.pt:$MODELS/model2.pt:$MODELS/model3.pt:$MODELS/model4.pt \\\n",
    "    --beam $BEAM \\\n",
    "    --nbest $NBEST \\\n",
    "    --batch-size 64 \\\n",
    "    --memory-efficient-fp16 \\\n",
    "    --remove-bpe > original_en-de.decode_Beam_10.log"
   ]
  },
  {
   "cell_type": "code",
   "execution_count": 23,
   "id": "13e4522e-8427-4fa0-904c-6b7edc65c969",
   "metadata": {},
   "outputs": [
    {
     "name": "stdout",
     "output_type": "stream",
     "text": [
      "2023-07-12 17:21:52 | INFO | fairseq_cli.generate | {'_name': None, 'common': {'_name': None, 'no_progress_bar': False, 'log_interval': 100, 'log_format': None, 'log_file': None, 'aim_repo': None, 'aim_run_hash': None, 'tensorboard_logdir': None, 'wandb_project': None, 'azureml_logging': False, 'seed': 1, 'cpu': False, 'tpu': False, 'bf16': False, 'memory_efficient_bf16': False, 'fp16': True, 'memory_efficient_fp16': True, 'fp16_no_flatten_grads': False, 'fp16_init_scale': 128, 'fp16_scale_window': None, 'fp16_scale_tolerance': 0.0, 'on_cpu_convert_precision': False, 'min_loss_scale': 0.0001, 'threshold_loss_scale': None, 'amp': False, 'amp_batch_retries': 2, 'amp_init_scale': 128, 'amp_scale_window': None, 'user_dir': None, 'empty_cache_freq': 0, 'all_gather_list_size': 16384, 'model_parallel_size': 1, 'quantization_config_path': None, 'profile': False, 'reset_logging': False, 'suppress_crashes': False, 'use_plasma_view': False, 'plasma_path': '/tmp/plasma'}, 'common_eval': {'_name': None, 'path': '/export/data4/vzhekova/biases-data/En-De/wmt19.en-de.joined-dict.ensemble/model1.pt:/export/data4/vzhekova/biases-data/En-De/wmt19.en-de.joined-dict.ensemble/model2.pt:/export/data4/vzhekova/biases-data/En-De/wmt19.en-de.joined-dict.ensemble/model3.pt:/export/data4/vzhekova/biases-data/En-De/wmt19.en-de.joined-dict.ensemble/model4.pt', 'post_process': 'subword_nmt', 'quiet': False, 'model_overrides': '{}', 'results_path': None}, 'distributed_training': {'_name': None, 'distributed_world_size': 1, 'distributed_num_procs': 1, 'distributed_rank': 0, 'distributed_backend': 'nccl', 'distributed_init_method': None, 'distributed_port': -1, 'device_id': 0, 'distributed_no_spawn': False, 'ddp_backend': 'pytorch_ddp', 'ddp_comm_hook': 'none', 'bucket_cap_mb': 25, 'fix_batches_to_gpus': False, 'find_unused_parameters': False, 'gradient_as_bucket_view': False, 'fast_stat_sync': False, 'heartbeat_timeout': -1, 'broadcast_buffers': False, 'slowmo_momentum': None, 'slowmo_base_algorithm': 'localsgd', 'localsgd_frequency': 3, 'nprocs_per_node': 1, 'pipeline_model_parallel': False, 'pipeline_balance': None, 'pipeline_devices': None, 'pipeline_chunks': 0, 'pipeline_encoder_balance': None, 'pipeline_encoder_devices': None, 'pipeline_decoder_balance': None, 'pipeline_decoder_devices': None, 'pipeline_checkpoint': 'never', 'zero_sharding': 'none', 'fp16': True, 'memory_efficient_fp16': True, 'tpu': False, 'no_reshard_after_forward': False, 'fp32_reduce_scatter': False, 'cpu_offload': False, 'use_sharded_state': False, 'not_fsdp_flatten_parameters': False}, 'dataset': {'_name': None, 'num_workers': 1, 'skip_invalid_size_inputs_valid_test': False, 'max_tokens': None, 'batch_size': 64, 'required_batch_size_multiple': 8, 'required_seq_len_multiple': 1, 'dataset_impl': None, 'data_buffer_size': 10, 'train_subset': 'train', 'valid_subset': 'valid', 'combine_valid_subsets': None, 'ignore_unused_valid_subsets': False, 'validate_interval': 1, 'validate_interval_updates': 0, 'validate_after_updates': 0, 'fixed_validation_seed': None, 'disable_validation': False, 'max_tokens_valid': None, 'batch_size_valid': 64, 'max_valid_steps': None, 'curriculum': 0, 'gen_subset': 'test', 'num_shards': 1, 'shard_id': 0, 'grouped_shuffling': False, 'update_epoch_batch_itr': False, 'update_ordered_indices_seed': False}, 'optimization': {'_name': None, 'max_epoch': 0, 'max_update': 0, 'stop_time_hours': 0.0, 'clip_norm': 0.0, 'sentence_avg': False, 'update_freq': [1], 'lr': [0.25], 'stop_min_lr': -1.0, 'use_bmuf': False, 'skip_remainder_batch': False}, 'checkpoint': {'_name': None, 'save_dir': 'checkpoints', 'restore_file': 'checkpoint_last.pt', 'continue_once': None, 'finetune_from_model': None, 'reset_dataloader': False, 'reset_lr_scheduler': False, 'reset_meters': False, 'reset_optimizer': False, 'optimizer_overrides': '{}', 'save_interval': 1, 'save_interval_updates': 0, 'keep_interval_updates': -1, 'keep_interval_updates_pattern': -1, 'keep_last_epochs': -1, 'keep_best_checkpoints': -1, 'no_save': False, 'no_epoch_checkpoints': False, 'no_last_checkpoints': False, 'no_save_optimizer_state': False, 'best_checkpoint_metric': 'loss', 'maximize_best_checkpoint_metric': False, 'patience': -1, 'checkpoint_suffix': '', 'checkpoint_shard_count': 1, 'load_checkpoint_on_all_dp_ranks': False, 'write_checkpoints_asynchronously': False, 'model_parallel_size': 1}, 'bmuf': {'_name': None, 'block_lr': 1.0, 'block_momentum': 0.875, 'global_sync_iter': 50, 'warmup_iterations': 500, 'use_nbm': False, 'average_sync': False, 'distributed_world_size': 1}, 'generation': {'_name': None, 'beam': 10, 'beam_mt': 0, 'nbest': 10, 'max_len_a': 0.0, 'max_len_b': 200, 'max_len_a_mt': 0.0, 'max_len_b_mt': 200, 'min_len': 1, 'match_source_len': False, 'unnormalized': False, 'no_early_stop': False, 'no_beamable_mm': False, 'lenpen': 1.0, 'lenpen_mt': 1.0, 'unkpen': 0.0, 'replace_unk': None, 'sacrebleu': False, 'score_reference': False, 'prefix_size': 0, 'no_repeat_ngram_size': 0, 'sampling': False, 'sampling_topk': -1, 'sampling_topp': -1.0, 'constraints': None, 'temperature': 1.0, 'diverse_beam_groups': -1, 'diverse_beam_strength': 0.5, 'diversity_rate': -1.0, 'print_alignment': None, 'print_step': False, 'lm_path': None, 'lm_weight': 0.0, 'iter_decode_eos_penalty': 0.0, 'iter_decode_max_iter': 10, 'iter_decode_force_max_iter': False, 'iter_decode_with_beam': 1, 'iter_decode_with_external_reranker': False, 'retain_iter_history': False, 'retain_dropout': False, 'retain_dropout_modules': None, 'decoding_format': None, 'no_seed_provided': False, 'eos_token': None}, 'eval_lm': {'_name': None, 'output_word_probs': False, 'output_word_stats': False, 'context_window': 0, 'softmax_batch': 9223372036854775807}, 'interactive': {'_name': None, 'buffer_size': 0, 'input': '-'}, 'model': {'_name': 'wav2vec2', 'extractor_mode': 'default', 'encoder_layers': 12, 'encoder_embed_dim': 768, 'encoder_ffn_embed_dim': 3072, 'encoder_attention_heads': 12, 'activation_fn': 'gelu', 'layer_type': 'transformer', 'dropout': 0.1, 'attention_dropout': 0.1, 'activation_dropout': 0.0, 'encoder_layerdrop': 0.0, 'dropout_input': 0.0, 'dropout_features': 0.0, 'final_dim': 0, 'layer_norm_first': False, 'conv_feature_layers': '[(512, 10, 5)] + [(512, 3, 2)] * 4 + [(512,2,2)] + [(512,2,2)]', 'conv_bias': False, 'logit_temp': 0.1, 'quantize_targets': False, 'quantize_input': False, 'same_quantizer': False, 'target_glu': False, 'feature_grad_mult': 1.0, 'quantizer_depth': 1, 'quantizer_factor': 3, 'latent_vars': 320, 'latent_groups': 2, 'latent_dim': 0, 'mask_length': 10, 'mask_prob': 0.65, 'mask_selection': 'static', 'mask_other': 0.0, 'no_mask_overlap': False, 'mask_min_space': 1, 'require_same_masks': True, 'mask_dropout': 0.0, 'mask_channel_length': 10, 'mask_channel_prob': 0.0, 'mask_channel_before': False, 'mask_channel_selection': 'static', 'mask_channel_other': 0.0, 'no_mask_channel_overlap': False, 'mask_channel_min_space': 1, 'num_negatives': 100, 'negatives_from_everywhere': False, 'cross_sample_negatives': 0, 'codebook_negatives': 0, 'conv_pos': 128, 'conv_pos_groups': 16, 'pos_conv_depth': 1, 'latent_temp': [2.0, 0.5, 0.999995], 'max_positions': 100000, 'checkpoint_activations': False, 'required_seq_len_multiple': 1, 'crop_seq_to_multiple': 1, 'depthwise_conv_kernel_size': 31, 'attn_type': '', 'pos_enc_type': 'abs', 'fp16': True}, 'task': {'_name': 'translation', 'data': 'data-bin_disambiguated_en-de', 'source_lang': 'en', 'target_lang': 'de', 'load_alignments': False, 'left_pad_source': True, 'left_pad_target': False, 'max_source_positions': 1024, 'max_target_positions': 1024, 'upsample_primary': -1, 'truncate_source': False, 'num_batch_buckets': 0, 'train_subset': 'train', 'dataset_impl': None, 'required_seq_len_multiple': 1, 'eval_bleu': False, 'eval_bleu_args': '{}', 'eval_bleu_detok': 'space', 'eval_bleu_detok_args': '{}', 'eval_tokenized_bleu': False, 'eval_bleu_remove_bpe': None, 'eval_bleu_print_samples': False}, 'criterion': {'_name': 'cross_entropy', 'sentence_avg': True}, 'optimizer': None, 'lr_scheduler': {'_name': 'fixed', 'force_anneal': None, 'lr_shrink': 0.1, 'warmup_updates': 0, 'lr': [0.25]}, 'scoring': {'_name': 'bleu', 'pad': 1, 'eos': 2, 'unk': 3}, 'bpe': None, 'tokenizer': None, 'ema': {'_name': None, 'store_ema': False, 'ema_decay': 0.9999, 'ema_start_update': 0, 'ema_seed_model': None, 'ema_update_freq': 1, 'ema_fp32': False}}\n",
      "2023-07-12 17:21:53 | INFO | fairseq.tasks.translation | [en] dictionary: 42024 types\n",
      "2023-07-12 17:21:53 | INFO | fairseq.tasks.translation | [de] dictionary: 42024 types\n",
      "2023-07-12 17:21:53 | INFO | fairseq_cli.generate | loading model(s) from /export/data4/vzhekova/biases-data/En-De/wmt19.en-de.joined-dict.ensemble/model1.pt:/export/data4/vzhekova/biases-data/En-De/wmt19.en-de.joined-dict.ensemble/model2.pt:/export/data4/vzhekova/biases-data/En-De/wmt19.en-de.joined-dict.ensemble/model3.pt:/export/data4/vzhekova/biases-data/En-De/wmt19.en-de.joined-dict.ensemble/model4.pt\n",
      "2023-07-12 17:22:30 | INFO | fairseq.data.data_utils | loaded 49 examples from: data-bin_disambiguated_en-de/test.en-de.en\n",
      "2023-07-12 17:22:30 | INFO | fairseq.tasks.translation | data-bin_disambiguated_en-de test en-de 49 examples\n",
      "2023-07-12 17:22:37 | INFO | fairseq_cli.generate | NOTE: hypothesis and token scores are output in base 2\n",
      "2023-07-12 17:22:37 | INFO | fairseq_cli.generate | Translated 49 sentences (287 tokens) in 1.8s (26.82 sentences/s, 157.06 tokens/s)\n"
     ]
    }
   ],
   "source": [
    "# Generate N hypothesis\n",
    "!fairseq-generate data-bin_disambiguated_en-de  \\\n",
    "    --task translation \\\n",
    "    --source-lang en \\\n",
    "    --target-lang de \\\n",
    "    --path $MODELS/model1.pt:$MODELS/model2.pt:$MODELS/model3.pt:$MODELS/model4.pt \\\n",
    "    --beam $BEAM \\\n",
    "    --nbest $NBEST \\\n",
    "    --batch-size 64 \\\n",
    "    --memory-efficient-fp16 \\\n",
    "    --remove-bpe > disambiguated_en-de.decode_Beam_10.log"
   ]
  },
  {
   "cell_type": "markdown",
   "id": "9425c7dc-f10a-4b6f-81e5-f7d89f14d91f",
   "metadata": {
    "jp-MarkdownHeadingCollapsed": true,
    "tags": []
   },
   "source": [
    "# Backtranslation German-English"
   ]
  },
  {
   "cell_type": "code",
   "execution_count": 24,
   "id": "6efb5c4a-0c37-4a6f-bd00-0aaea4da69fc",
   "metadata": {},
   "outputs": [],
   "source": [
    "# 'LC_ALL=C sort -V' sorts the results in natural order \n",
    "!grep ^H original_en-de.decode_Beam_10.log | LC_ALL=C sort -V | sed 's/^H-//g' | cut -f 3 | sed 's/ @@//g' > ./hyp_original.txt\n",
    "!grep ^H disambiguated_en-de.decode_Beam_10.log | LC_ALL=C sort -V | sed 's/^H-//g' | cut -f 3 | sed 's/ @@//g' > ./hyp_disambiguated.txt"
   ]
  },
  {
   "cell_type": "code",
   "execution_count": 25,
   "id": "1b245127-a93d-45e3-b3a7-b9791d8b4189",
   "metadata": {},
   "outputs": [
    {
     "name": "stdout",
     "output_type": "stream",
     "text": [
      "Loading codes from bpecodes.de ...\n",
      "Read 30000 codes from the codes file.\n",
      "Loading vocabulary from hyp_original.txt ...\n",
      "Read 951 words (316 unique) from text file.\n",
      "Applying BPE to hyp_original.txt ...\n",
      "Modified 951 words from text file.\n",
      "Loading codes from bpecodes.de ...\n",
      "Read 30000 codes from the codes file.\n",
      "Loading vocabulary from hyp_disambiguated.txt ...\n",
      "Read 1337 words (295 unique) from text file.\n",
      "Applying BPE to hyp_disambiguated.txt ...\n",
      "Modified 1337 words from text file.\n",
      "Finished subword.\n"
     ]
    }
   ],
   "source": [
    "# Dividing tokenized text into subword units\n",
    "\n",
    "!$FASTBPE applybpe bpe.hyp_original.de hyp_original.txt bpecodes.de\n",
    "!$FASTBPE applybpe bpe.hyp_disambiguated.de hyp_disambiguated.txt bpecodes.de\n",
    "\n",
    "print('Finished subword.')"
   ]
  },
  {
   "cell_type": "code",
   "execution_count": 26,
   "id": "9dd3cf73-9c96-49df-b749-f2bbe337df62",
   "metadata": {},
   "outputs": [
    {
     "name": "stdout",
     "output_type": "stream",
     "text": [
      "2023-07-12 17:35:41 | INFO | fairseq_cli.preprocess | Namespace(aim_repo=None, aim_run_hash=None, align_suffix=None, alignfile=None, all_gather_list_size=16384, amp=False, amp_batch_retries=2, amp_init_scale=128, amp_scale_window=None, azureml_logging=False, bf16=False, bpe=None, cpu=False, criterion='cross_entropy', dataset_impl='mmap', destdir='data-bin_original_de-en', dict_only=False, empty_cache_freq=0, fp16=False, fp16_init_scale=128, fp16_no_flatten_grads=False, fp16_scale_tolerance=0.0, fp16_scale_window=None, joined_dictionary=False, log_file=None, log_format=None, log_interval=100, lr_scheduler='fixed', memory_efficient_bf16=False, memory_efficient_fp16=False, min_loss_scale=0.0001, model_parallel_size=1, no_progress_bar=False, nwordssrc=-1, nwordstgt=-1, on_cpu_convert_precision=False, only_source=True, optimizer=None, padding_factor=8, plasma_path='/tmp/plasma', profile=False, quantization_config_path=None, reset_logging=False, scoring='bleu', seed=1, source_lang='de', srcdict='/export/data4/vzhekova/biases-data/De-En/wmt19.de-en.joined-dict.ensemble/dict.de.txt', suppress_crashes=False, target_lang='en', task='translation', tensorboard_logdir=None, testpref='bpe.hyp_original', tgtdict='/export/data4/vzhekova/biases-data/De-En/wmt19.de-en.joined-dict.ensemble/dict.en.txt', threshold_loss_scale=None, thresholdsrc=0, thresholdtgt=0, tokenizer=None, tpu=False, trainpref=None, use_plasma_view=False, user_dir=None, validpref=None, wandb_project=None, workers=8)\n",
      "2023-07-12 17:35:41 | INFO | fairseq_cli.preprocess | [de] Dictionary: 42024 types\n",
      "2023-07-12 17:35:42 | INFO | fairseq_cli.preprocess | [de] bpe.hyp_original.de: 490 sents, 1919 tokens, 0.0% replaced (by <unk>)\n",
      "2023-07-12 17:35:42 | INFO | fairseq_cli.preprocess | Wrote preprocessed data to data-bin_original_de-en\n"
     ]
    }
   ],
   "source": [
    "!fairseq-preprocess \\\n",
    "    --source-lang de \\\n",
    "    --target-lang en \\\n",
    "    --only-source \\\n",
    "    --testpref bpe.hyp_original \\\n",
    "    --srcdict /export/data4/vzhekova/biases-data/De-En/wmt19.de-en.joined-dict.ensemble/dict.de.txt \\\n",
    "    --tgtdict /export/data4/vzhekova/biases-data/De-En/wmt19.de-en.joined-dict.ensemble/dict.en.txt \\\n",
    "    --destdir data-bin_original_de-en \\\n",
    "    --workers 8"
   ]
  },
  {
   "cell_type": "code",
   "execution_count": 27,
   "id": "702ebc86-b0d5-4d1d-9436-41934e67ec0b",
   "metadata": {},
   "outputs": [
    {
     "name": "stdout",
     "output_type": "stream",
     "text": [
      "2023-07-12 17:35:48 | INFO | fairseq_cli.preprocess | Namespace(aim_repo=None, aim_run_hash=None, align_suffix=None, alignfile=None, all_gather_list_size=16384, amp=False, amp_batch_retries=2, amp_init_scale=128, amp_scale_window=None, azureml_logging=False, bf16=False, bpe=None, cpu=False, criterion='cross_entropy', dataset_impl='mmap', destdir='data-bin_disambiguated_de-en', dict_only=False, empty_cache_freq=0, fp16=False, fp16_init_scale=128, fp16_no_flatten_grads=False, fp16_scale_tolerance=0.0, fp16_scale_window=None, joined_dictionary=False, log_file=None, log_format=None, log_interval=100, lr_scheduler='fixed', memory_efficient_bf16=False, memory_efficient_fp16=False, min_loss_scale=0.0001, model_parallel_size=1, no_progress_bar=False, nwordssrc=-1, nwordstgt=-1, on_cpu_convert_precision=False, only_source=True, optimizer=None, padding_factor=8, plasma_path='/tmp/plasma', profile=False, quantization_config_path=None, reset_logging=False, scoring='bleu', seed=1, source_lang='de', srcdict='/export/data4/vzhekova/biases-data/De-En/wmt19.de-en.joined-dict.ensemble/dict.de.txt', suppress_crashes=False, target_lang='en', task='translation', tensorboard_logdir=None, testpref='bpe.hyp_disambiguated', tgtdict='/export/data4/vzhekova/biases-data/De-En/wmt19.de-en.joined-dict.ensemble/dict.en.txt', threshold_loss_scale=None, thresholdsrc=0, thresholdtgt=0, tokenizer=None, tpu=False, trainpref=None, use_plasma_view=False, user_dir=None, validpref=None, wandb_project=None, workers=8)\n",
      "2023-07-12 17:35:48 | INFO | fairseq_cli.preprocess | [de] Dictionary: 42024 types\n",
      "2023-07-12 17:35:49 | INFO | fairseq_cli.preprocess | [de] bpe.hyp_disambiguated.de: 490 sents, 2705 tokens, 0.0% replaced (by <unk>)\n",
      "2023-07-12 17:35:49 | INFO | fairseq_cli.preprocess | Wrote preprocessed data to data-bin_disambiguated_de-en\n"
     ]
    }
   ],
   "source": [
    "!fairseq-preprocess \\\n",
    "    --source-lang de \\\n",
    "    --target-lang en \\\n",
    "    --only-source \\\n",
    "    --testpref bpe.hyp_disambiguated \\\n",
    "    --srcdict /export/data4/vzhekova/biases-data/De-En/wmt19.de-en.joined-dict.ensemble/dict.de.txt \\\n",
    "    --tgtdict /export/data4/vzhekova/biases-data/De-En/wmt19.de-en.joined-dict.ensemble/dict.en.txt \\\n",
    "    --destdir data-bin_disambiguated_de-en \\\n",
    "    --workers 8"
   ]
  },
  {
   "cell_type": "code",
   "execution_count": 28,
   "id": "852891a2-e6c1-4300-9000-cd8f2a4ad4ec",
   "metadata": {},
   "outputs": [],
   "source": [
    "MODELS=\"/export/data4/vzhekova/biases-data/De-En/wmt19.de-en.joined-dict.ensemble\"\n",
    "NBEST = 10\n",
    "BEAM = 10"
   ]
  },
  {
   "cell_type": "code",
   "execution_count": 30,
   "id": "07103d7f-cbc3-456a-acaa-1618cdcf70c9",
   "metadata": {},
   "outputs": [
    {
     "name": "stdout",
     "output_type": "stream",
     "text": [
      "2023-07-12 17:36:28 | INFO | fairseq_cli.generate | {'_name': None, 'common': {'_name': None, 'no_progress_bar': False, 'log_interval': 100, 'log_format': None, 'log_file': None, 'aim_repo': None, 'aim_run_hash': None, 'tensorboard_logdir': None, 'wandb_project': None, 'azureml_logging': False, 'seed': 1, 'cpu': False, 'tpu': False, 'bf16': False, 'memory_efficient_bf16': False, 'fp16': True, 'memory_efficient_fp16': True, 'fp16_no_flatten_grads': False, 'fp16_init_scale': 128, 'fp16_scale_window': None, 'fp16_scale_tolerance': 0.0, 'on_cpu_convert_precision': False, 'min_loss_scale': 0.0001, 'threshold_loss_scale': None, 'amp': False, 'amp_batch_retries': 2, 'amp_init_scale': 128, 'amp_scale_window': None, 'user_dir': None, 'empty_cache_freq': 0, 'all_gather_list_size': 16384, 'model_parallel_size': 1, 'quantization_config_path': None, 'profile': False, 'reset_logging': False, 'suppress_crashes': False, 'use_plasma_view': False, 'plasma_path': '/tmp/plasma'}, 'common_eval': {'_name': None, 'path': '/export/data4/vzhekova/biases-data/De-En/wmt19.de-en.joined-dict.ensemble/model1.pt:/export/data4/vzhekova/biases-data/De-En/wmt19.de-en.joined-dict.ensemble/model2.pt:/export/data4/vzhekova/biases-data/De-En/wmt19.de-en.joined-dict.ensemble/model3.pt:/export/data4/vzhekova/biases-data/De-En/wmt19.de-en.joined-dict.ensemble/model4.pt', 'post_process': 'subword_nmt', 'quiet': False, 'model_overrides': '{}', 'results_path': None}, 'distributed_training': {'_name': None, 'distributed_world_size': 1, 'distributed_num_procs': 1, 'distributed_rank': 0, 'distributed_backend': 'nccl', 'distributed_init_method': None, 'distributed_port': -1, 'device_id': 0, 'distributed_no_spawn': False, 'ddp_backend': 'pytorch_ddp', 'ddp_comm_hook': 'none', 'bucket_cap_mb': 25, 'fix_batches_to_gpus': False, 'find_unused_parameters': False, 'gradient_as_bucket_view': False, 'fast_stat_sync': False, 'heartbeat_timeout': -1, 'broadcast_buffers': False, 'slowmo_momentum': None, 'slowmo_base_algorithm': 'localsgd', 'localsgd_frequency': 3, 'nprocs_per_node': 1, 'pipeline_model_parallel': False, 'pipeline_balance': None, 'pipeline_devices': None, 'pipeline_chunks': 0, 'pipeline_encoder_balance': None, 'pipeline_encoder_devices': None, 'pipeline_decoder_balance': None, 'pipeline_decoder_devices': None, 'pipeline_checkpoint': 'never', 'zero_sharding': 'none', 'fp16': True, 'memory_efficient_fp16': True, 'tpu': False, 'no_reshard_after_forward': False, 'fp32_reduce_scatter': False, 'cpu_offload': False, 'use_sharded_state': False, 'not_fsdp_flatten_parameters': False}, 'dataset': {'_name': None, 'num_workers': 1, 'skip_invalid_size_inputs_valid_test': False, 'max_tokens': None, 'batch_size': 64, 'required_batch_size_multiple': 8, 'required_seq_len_multiple': 1, 'dataset_impl': None, 'data_buffer_size': 10, 'train_subset': 'train', 'valid_subset': 'valid', 'combine_valid_subsets': None, 'ignore_unused_valid_subsets': False, 'validate_interval': 1, 'validate_interval_updates': 0, 'validate_after_updates': 0, 'fixed_validation_seed': None, 'disable_validation': False, 'max_tokens_valid': None, 'batch_size_valid': 64, 'max_valid_steps': None, 'curriculum': 0, 'gen_subset': 'test', 'num_shards': 1, 'shard_id': 0, 'grouped_shuffling': False, 'update_epoch_batch_itr': False, 'update_ordered_indices_seed': False}, 'optimization': {'_name': None, 'max_epoch': 0, 'max_update': 0, 'stop_time_hours': 0.0, 'clip_norm': 0.0, 'sentence_avg': False, 'update_freq': [1], 'lr': [0.25], 'stop_min_lr': -1.0, 'use_bmuf': False, 'skip_remainder_batch': False}, 'checkpoint': {'_name': None, 'save_dir': 'checkpoints', 'restore_file': 'checkpoint_last.pt', 'continue_once': None, 'finetune_from_model': None, 'reset_dataloader': False, 'reset_lr_scheduler': False, 'reset_meters': False, 'reset_optimizer': False, 'optimizer_overrides': '{}', 'save_interval': 1, 'save_interval_updates': 0, 'keep_interval_updates': -1, 'keep_interval_updates_pattern': -1, 'keep_last_epochs': -1, 'keep_best_checkpoints': -1, 'no_save': False, 'no_epoch_checkpoints': False, 'no_last_checkpoints': False, 'no_save_optimizer_state': False, 'best_checkpoint_metric': 'loss', 'maximize_best_checkpoint_metric': False, 'patience': -1, 'checkpoint_suffix': '', 'checkpoint_shard_count': 1, 'load_checkpoint_on_all_dp_ranks': False, 'write_checkpoints_asynchronously': False, 'model_parallel_size': 1}, 'bmuf': {'_name': None, 'block_lr': 1.0, 'block_momentum': 0.875, 'global_sync_iter': 50, 'warmup_iterations': 500, 'use_nbm': False, 'average_sync': False, 'distributed_world_size': 1}, 'generation': {'_name': None, 'beam': 10, 'beam_mt': 0, 'nbest': 10, 'max_len_a': 0.0, 'max_len_b': 200, 'max_len_a_mt': 0.0, 'max_len_b_mt': 200, 'min_len': 1, 'match_source_len': False, 'unnormalized': False, 'no_early_stop': False, 'no_beamable_mm': False, 'lenpen': 1.0, 'lenpen_mt': 1.0, 'unkpen': 0.0, 'replace_unk': None, 'sacrebleu': False, 'score_reference': False, 'prefix_size': 0, 'no_repeat_ngram_size': 0, 'sampling': False, 'sampling_topk': -1, 'sampling_topp': -1.0, 'constraints': None, 'temperature': 1.0, 'diverse_beam_groups': -1, 'diverse_beam_strength': 0.5, 'diversity_rate': -1.0, 'print_alignment': None, 'print_step': False, 'lm_path': None, 'lm_weight': 0.0, 'iter_decode_eos_penalty': 0.0, 'iter_decode_max_iter': 10, 'iter_decode_force_max_iter': False, 'iter_decode_with_beam': 1, 'iter_decode_with_external_reranker': False, 'retain_iter_history': False, 'retain_dropout': False, 'retain_dropout_modules': None, 'decoding_format': None, 'no_seed_provided': False, 'eos_token': None}, 'eval_lm': {'_name': None, 'output_word_probs': False, 'output_word_stats': False, 'context_window': 0, 'softmax_batch': 9223372036854775807}, 'interactive': {'_name': None, 'buffer_size': 0, 'input': '-'}, 'model': {'_name': 'wav2vec2', 'extractor_mode': 'default', 'encoder_layers': 12, 'encoder_embed_dim': 768, 'encoder_ffn_embed_dim': 3072, 'encoder_attention_heads': 12, 'activation_fn': 'gelu', 'layer_type': 'transformer', 'dropout': 0.1, 'attention_dropout': 0.1, 'activation_dropout': 0.0, 'encoder_layerdrop': 0.0, 'dropout_input': 0.0, 'dropout_features': 0.0, 'final_dim': 0, 'layer_norm_first': False, 'conv_feature_layers': '[(512, 10, 5)] + [(512, 3, 2)] * 4 + [(512,2,2)] + [(512,2,2)]', 'conv_bias': False, 'logit_temp': 0.1, 'quantize_targets': False, 'quantize_input': False, 'same_quantizer': False, 'target_glu': False, 'feature_grad_mult': 1.0, 'quantizer_depth': 1, 'quantizer_factor': 3, 'latent_vars': 320, 'latent_groups': 2, 'latent_dim': 0, 'mask_length': 10, 'mask_prob': 0.65, 'mask_selection': 'static', 'mask_other': 0.0, 'no_mask_overlap': False, 'mask_min_space': 1, 'require_same_masks': True, 'mask_dropout': 0.0, 'mask_channel_length': 10, 'mask_channel_prob': 0.0, 'mask_channel_before': False, 'mask_channel_selection': 'static', 'mask_channel_other': 0.0, 'no_mask_channel_overlap': False, 'mask_channel_min_space': 1, 'num_negatives': 100, 'negatives_from_everywhere': False, 'cross_sample_negatives': 0, 'codebook_negatives': 0, 'conv_pos': 128, 'conv_pos_groups': 16, 'pos_conv_depth': 1, 'latent_temp': [2.0, 0.5, 0.999995], 'max_positions': 100000, 'checkpoint_activations': False, 'required_seq_len_multiple': 1, 'crop_seq_to_multiple': 1, 'depthwise_conv_kernel_size': 31, 'attn_type': '', 'pos_enc_type': 'abs', 'fp16': True}, 'task': {'_name': 'translation', 'data': 'data-bin_original_de-en', 'source_lang': 'de', 'target_lang': 'en', 'load_alignments': False, 'left_pad_source': True, 'left_pad_target': False, 'max_source_positions': 1024, 'max_target_positions': 1024, 'upsample_primary': -1, 'truncate_source': False, 'num_batch_buckets': 0, 'train_subset': 'train', 'dataset_impl': None, 'required_seq_len_multiple': 1, 'eval_bleu': False, 'eval_bleu_args': '{}', 'eval_bleu_detok': 'space', 'eval_bleu_detok_args': '{}', 'eval_tokenized_bleu': False, 'eval_bleu_remove_bpe': None, 'eval_bleu_print_samples': False}, 'criterion': {'_name': 'cross_entropy', 'sentence_avg': True}, 'optimizer': None, 'lr_scheduler': {'_name': 'fixed', 'force_anneal': None, 'lr_shrink': 0.1, 'warmup_updates': 0, 'lr': [0.25]}, 'scoring': {'_name': 'bleu', 'pad': 1, 'eos': 2, 'unk': 3}, 'bpe': None, 'tokenizer': None, 'ema': {'_name': None, 'store_ema': False, 'ema_decay': 0.9999, 'ema_start_update': 0, 'ema_seed_model': None, 'ema_update_freq': 1, 'ema_fp32': False}}\n",
      "2023-07-12 17:36:28 | INFO | fairseq.tasks.translation | [de] dictionary: 42024 types\n",
      "2023-07-12 17:36:28 | INFO | fairseq.tasks.translation | [en] dictionary: 42024 types\n",
      "2023-07-12 17:36:28 | INFO | fairseq_cli.generate | loading model(s) from /export/data4/vzhekova/biases-data/De-En/wmt19.de-en.joined-dict.ensemble/model1.pt:/export/data4/vzhekova/biases-data/De-En/wmt19.de-en.joined-dict.ensemble/model2.pt:/export/data4/vzhekova/biases-data/De-En/wmt19.de-en.joined-dict.ensemble/model3.pt:/export/data4/vzhekova/biases-data/De-En/wmt19.de-en.joined-dict.ensemble/model4.pt\n",
      "2023-07-12 17:38:56 | INFO | fairseq.data.data_utils | loaded 490 examples from: data-bin_original_de-en/test.de-en.de\n",
      "2023-07-12 17:38:56 | INFO | fairseq.tasks.translation | data-bin_original_de-en test de-en 490 examples\n",
      "2023-07-12 17:39:16 | INFO | fairseq_cli.generate | NOTE: hypothesis and token scores are output in base 2\n",
      "2023-07-12 17:39:16 | INFO | fairseq_cli.generate | Translated 490 sentences (2,053 tokens) in 7.7s (63.49 sentences/s, 266.03 tokens/s)\n"
     ]
    }
   ],
   "source": [
    "# Generate N hypothesis\n",
    "!fairseq-generate data-bin_original_de-en  \\\n",
    "    --task translation \\\n",
    "    --source-lang de \\\n",
    "    --target-lang en \\\n",
    "    --path $MODELS/model1.pt:$MODELS/model2.pt:$MODELS/model3.pt:$MODELS/model4.pt \\\n",
    "    --beam $BEAM \\\n",
    "    --nbest $NBEST \\\n",
    "    --batch-size 64 \\\n",
    "    --memory-efficient-fp16 \\\n",
    "    --remove-bpe > original_de-en.decode_Beam_10_backtranslation.log"
   ]
  },
  {
   "cell_type": "code",
   "execution_count": 31,
   "id": "c08bb193-d831-474f-9ae3-7f3956f65574",
   "metadata": {},
   "outputs": [
    {
     "name": "stdout",
     "output_type": "stream",
     "text": [
      "2023-07-12 17:39:23 | INFO | fairseq_cli.generate | {'_name': None, 'common': {'_name': None, 'no_progress_bar': False, 'log_interval': 100, 'log_format': None, 'log_file': None, 'aim_repo': None, 'aim_run_hash': None, 'tensorboard_logdir': None, 'wandb_project': None, 'azureml_logging': False, 'seed': 1, 'cpu': False, 'tpu': False, 'bf16': False, 'memory_efficient_bf16': False, 'fp16': True, 'memory_efficient_fp16': True, 'fp16_no_flatten_grads': False, 'fp16_init_scale': 128, 'fp16_scale_window': None, 'fp16_scale_tolerance': 0.0, 'on_cpu_convert_precision': False, 'min_loss_scale': 0.0001, 'threshold_loss_scale': None, 'amp': False, 'amp_batch_retries': 2, 'amp_init_scale': 128, 'amp_scale_window': None, 'user_dir': None, 'empty_cache_freq': 0, 'all_gather_list_size': 16384, 'model_parallel_size': 1, 'quantization_config_path': None, 'profile': False, 'reset_logging': False, 'suppress_crashes': False, 'use_plasma_view': False, 'plasma_path': '/tmp/plasma'}, 'common_eval': {'_name': None, 'path': '/export/data4/vzhekova/biases-data/De-En/wmt19.de-en.joined-dict.ensemble/model1.pt:/export/data4/vzhekova/biases-data/De-En/wmt19.de-en.joined-dict.ensemble/model2.pt:/export/data4/vzhekova/biases-data/De-En/wmt19.de-en.joined-dict.ensemble/model3.pt:/export/data4/vzhekova/biases-data/De-En/wmt19.de-en.joined-dict.ensemble/model4.pt', 'post_process': 'subword_nmt', 'quiet': False, 'model_overrides': '{}', 'results_path': None}, 'distributed_training': {'_name': None, 'distributed_world_size': 1, 'distributed_num_procs': 1, 'distributed_rank': 0, 'distributed_backend': 'nccl', 'distributed_init_method': None, 'distributed_port': -1, 'device_id': 0, 'distributed_no_spawn': False, 'ddp_backend': 'pytorch_ddp', 'ddp_comm_hook': 'none', 'bucket_cap_mb': 25, 'fix_batches_to_gpus': False, 'find_unused_parameters': False, 'gradient_as_bucket_view': False, 'fast_stat_sync': False, 'heartbeat_timeout': -1, 'broadcast_buffers': False, 'slowmo_momentum': None, 'slowmo_base_algorithm': 'localsgd', 'localsgd_frequency': 3, 'nprocs_per_node': 1, 'pipeline_model_parallel': False, 'pipeline_balance': None, 'pipeline_devices': None, 'pipeline_chunks': 0, 'pipeline_encoder_balance': None, 'pipeline_encoder_devices': None, 'pipeline_decoder_balance': None, 'pipeline_decoder_devices': None, 'pipeline_checkpoint': 'never', 'zero_sharding': 'none', 'fp16': True, 'memory_efficient_fp16': True, 'tpu': False, 'no_reshard_after_forward': False, 'fp32_reduce_scatter': False, 'cpu_offload': False, 'use_sharded_state': False, 'not_fsdp_flatten_parameters': False}, 'dataset': {'_name': None, 'num_workers': 1, 'skip_invalid_size_inputs_valid_test': False, 'max_tokens': None, 'batch_size': 64, 'required_batch_size_multiple': 8, 'required_seq_len_multiple': 1, 'dataset_impl': None, 'data_buffer_size': 10, 'train_subset': 'train', 'valid_subset': 'valid', 'combine_valid_subsets': None, 'ignore_unused_valid_subsets': False, 'validate_interval': 1, 'validate_interval_updates': 0, 'validate_after_updates': 0, 'fixed_validation_seed': None, 'disable_validation': False, 'max_tokens_valid': None, 'batch_size_valid': 64, 'max_valid_steps': None, 'curriculum': 0, 'gen_subset': 'test', 'num_shards': 1, 'shard_id': 0, 'grouped_shuffling': False, 'update_epoch_batch_itr': False, 'update_ordered_indices_seed': False}, 'optimization': {'_name': None, 'max_epoch': 0, 'max_update': 0, 'stop_time_hours': 0.0, 'clip_norm': 0.0, 'sentence_avg': False, 'update_freq': [1], 'lr': [0.25], 'stop_min_lr': -1.0, 'use_bmuf': False, 'skip_remainder_batch': False}, 'checkpoint': {'_name': None, 'save_dir': 'checkpoints', 'restore_file': 'checkpoint_last.pt', 'continue_once': None, 'finetune_from_model': None, 'reset_dataloader': False, 'reset_lr_scheduler': False, 'reset_meters': False, 'reset_optimizer': False, 'optimizer_overrides': '{}', 'save_interval': 1, 'save_interval_updates': 0, 'keep_interval_updates': -1, 'keep_interval_updates_pattern': -1, 'keep_last_epochs': -1, 'keep_best_checkpoints': -1, 'no_save': False, 'no_epoch_checkpoints': False, 'no_last_checkpoints': False, 'no_save_optimizer_state': False, 'best_checkpoint_metric': 'loss', 'maximize_best_checkpoint_metric': False, 'patience': -1, 'checkpoint_suffix': '', 'checkpoint_shard_count': 1, 'load_checkpoint_on_all_dp_ranks': False, 'write_checkpoints_asynchronously': False, 'model_parallel_size': 1}, 'bmuf': {'_name': None, 'block_lr': 1.0, 'block_momentum': 0.875, 'global_sync_iter': 50, 'warmup_iterations': 500, 'use_nbm': False, 'average_sync': False, 'distributed_world_size': 1}, 'generation': {'_name': None, 'beam': 10, 'beam_mt': 0, 'nbest': 10, 'max_len_a': 0.0, 'max_len_b': 200, 'max_len_a_mt': 0.0, 'max_len_b_mt': 200, 'min_len': 1, 'match_source_len': False, 'unnormalized': False, 'no_early_stop': False, 'no_beamable_mm': False, 'lenpen': 1.0, 'lenpen_mt': 1.0, 'unkpen': 0.0, 'replace_unk': None, 'sacrebleu': False, 'score_reference': False, 'prefix_size': 0, 'no_repeat_ngram_size': 0, 'sampling': False, 'sampling_topk': -1, 'sampling_topp': -1.0, 'constraints': None, 'temperature': 1.0, 'diverse_beam_groups': -1, 'diverse_beam_strength': 0.5, 'diversity_rate': -1.0, 'print_alignment': None, 'print_step': False, 'lm_path': None, 'lm_weight': 0.0, 'iter_decode_eos_penalty': 0.0, 'iter_decode_max_iter': 10, 'iter_decode_force_max_iter': False, 'iter_decode_with_beam': 1, 'iter_decode_with_external_reranker': False, 'retain_iter_history': False, 'retain_dropout': False, 'retain_dropout_modules': None, 'decoding_format': None, 'no_seed_provided': False, 'eos_token': None}, 'eval_lm': {'_name': None, 'output_word_probs': False, 'output_word_stats': False, 'context_window': 0, 'softmax_batch': 9223372036854775807}, 'interactive': {'_name': None, 'buffer_size': 0, 'input': '-'}, 'model': {'_name': 'wav2vec2', 'extractor_mode': 'default', 'encoder_layers': 12, 'encoder_embed_dim': 768, 'encoder_ffn_embed_dim': 3072, 'encoder_attention_heads': 12, 'activation_fn': 'gelu', 'layer_type': 'transformer', 'dropout': 0.1, 'attention_dropout': 0.1, 'activation_dropout': 0.0, 'encoder_layerdrop': 0.0, 'dropout_input': 0.0, 'dropout_features': 0.0, 'final_dim': 0, 'layer_norm_first': False, 'conv_feature_layers': '[(512, 10, 5)] + [(512, 3, 2)] * 4 + [(512,2,2)] + [(512,2,2)]', 'conv_bias': False, 'logit_temp': 0.1, 'quantize_targets': False, 'quantize_input': False, 'same_quantizer': False, 'target_glu': False, 'feature_grad_mult': 1.0, 'quantizer_depth': 1, 'quantizer_factor': 3, 'latent_vars': 320, 'latent_groups': 2, 'latent_dim': 0, 'mask_length': 10, 'mask_prob': 0.65, 'mask_selection': 'static', 'mask_other': 0.0, 'no_mask_overlap': False, 'mask_min_space': 1, 'require_same_masks': True, 'mask_dropout': 0.0, 'mask_channel_length': 10, 'mask_channel_prob': 0.0, 'mask_channel_before': False, 'mask_channel_selection': 'static', 'mask_channel_other': 0.0, 'no_mask_channel_overlap': False, 'mask_channel_min_space': 1, 'num_negatives': 100, 'negatives_from_everywhere': False, 'cross_sample_negatives': 0, 'codebook_negatives': 0, 'conv_pos': 128, 'conv_pos_groups': 16, 'pos_conv_depth': 1, 'latent_temp': [2.0, 0.5, 0.999995], 'max_positions': 100000, 'checkpoint_activations': False, 'required_seq_len_multiple': 1, 'crop_seq_to_multiple': 1, 'depthwise_conv_kernel_size': 31, 'attn_type': '', 'pos_enc_type': 'abs', 'fp16': True}, 'task': {'_name': 'translation', 'data': 'data-bin_disambiguated_de-en', 'source_lang': 'de', 'target_lang': 'en', 'load_alignments': False, 'left_pad_source': True, 'left_pad_target': False, 'max_source_positions': 1024, 'max_target_positions': 1024, 'upsample_primary': -1, 'truncate_source': False, 'num_batch_buckets': 0, 'train_subset': 'train', 'dataset_impl': None, 'required_seq_len_multiple': 1, 'eval_bleu': False, 'eval_bleu_args': '{}', 'eval_bleu_detok': 'space', 'eval_bleu_detok_args': '{}', 'eval_tokenized_bleu': False, 'eval_bleu_remove_bpe': None, 'eval_bleu_print_samples': False}, 'criterion': {'_name': 'cross_entropy', 'sentence_avg': True}, 'optimizer': None, 'lr_scheduler': {'_name': 'fixed', 'force_anneal': None, 'lr_shrink': 0.1, 'warmup_updates': 0, 'lr': [0.25]}, 'scoring': {'_name': 'bleu', 'pad': 1, 'eos': 2, 'unk': 3}, 'bpe': None, 'tokenizer': None, 'ema': {'_name': None, 'store_ema': False, 'ema_decay': 0.9999, 'ema_start_update': 0, 'ema_seed_model': None, 'ema_update_freq': 1, 'ema_fp32': False}}\n",
      "2023-07-12 17:39:24 | INFO | fairseq.tasks.translation | [de] dictionary: 42024 types\n",
      "2023-07-12 17:39:24 | INFO | fairseq.tasks.translation | [en] dictionary: 42024 types\n",
      "2023-07-12 17:39:24 | INFO | fairseq_cli.generate | loading model(s) from /export/data4/vzhekova/biases-data/De-En/wmt19.de-en.joined-dict.ensemble/model1.pt:/export/data4/vzhekova/biases-data/De-En/wmt19.de-en.joined-dict.ensemble/model2.pt:/export/data4/vzhekova/biases-data/De-En/wmt19.de-en.joined-dict.ensemble/model3.pt:/export/data4/vzhekova/biases-data/De-En/wmt19.de-en.joined-dict.ensemble/model4.pt\n",
      "2023-07-12 17:40:08 | INFO | fairseq.data.data_utils | loaded 490 examples from: data-bin_disambiguated_de-en/test.de-en.de\n",
      "2023-07-12 17:40:08 | INFO | fairseq.tasks.translation | data-bin_disambiguated_de-en test de-en 490 examples\n",
      "2023-07-12 17:40:29 | INFO | fairseq_cli.generate | NOTE: hypothesis and token scores are output in base 2\n",
      "2023-07-12 17:40:29 | INFO | fairseq_cli.generate | Translated 490 sentences (2,398 tokens) in 8.7s (56.01 sentences/s, 274.12 tokens/s)\n"
     ]
    }
   ],
   "source": [
    "# Generate N hypothesis\n",
    "!fairseq-generate data-bin_disambiguated_de-en  \\\n",
    "    --task translation \\\n",
    "    --source-lang de \\\n",
    "    --target-lang en \\\n",
    "    --path $MODELS/model1.pt:$MODELS/model2.pt:$MODELS/model3.pt:$MODELS/model4.pt \\\n",
    "    --beam $BEAM \\\n",
    "    --nbest $NBEST \\\n",
    "    --batch-size 64 \\\n",
    "    --memory-efficient-fp16 \\\n",
    "    --remove-bpe > disambiguated_de-en.decode_Beam_10_backtranslation.log"
   ]
  },
  {
   "cell_type": "code",
   "execution_count": 32,
   "id": "cd64bb5b-f01d-43e6-9b52-ca4a000040c0",
   "metadata": {},
   "outputs": [],
   "source": [
    "# 'LC_ALL=C sort -V' sorts the results in natural order \n",
    "!grep ^H original_de-en.decode_Beam_10_backtranslation.log | LC_ALL=C sort -V | sed 's/^H-//g' | cut -f 3 | sed 's/ @@//g' > ./hyp_original_back.txt\n",
    "!grep ^H disambiguated_de-en.decode_Beam_10_backtranslation.log | LC_ALL=C sort -V | sed 's/^H-//g' | cut -f 3 | sed 's/ @@//g' > ./hyp_disambiguated_back.txt"
   ]
  },
  {
   "cell_type": "code",
   "execution_count": 33,
   "id": "d1cc9b77-86fc-4604-9d6c-6c6a3eea94c4",
   "metadata": {},
   "outputs": [
    {
     "name": "stdout",
     "output_type": "stream",
     "text": [
      "Finished detokenizing.\n"
     ]
    }
   ],
   "source": [
    "# Detokenize text        \n",
    "from sacremoses import MosesPunctNormalizer\n",
    "from sacremoses import MosesTokenizer, MosesDetokenizer\n",
    "from __future__ import print_function\n",
    "\n",
    "md_en = MosesDetokenizer(lang='en')\n",
    "\n",
    "with open('hyp_original_back.txt', encoding='utf8') as fin, open('original_back.txt','w', encoding='utf8') as fout:\n",
    "    for line in fin:\n",
    "        tokens = md_en.detokenize(line.split(), return_str=True)\n",
    "        print(tokens, end='\\n', file=fout)\n",
    "        \n",
    "with open('hyp_disambiguated_back.txt', encoding='utf8') as fin, open('disambiguated_back.txt','w', encoding='utf8') as fout:\n",
    "    for line in fin:\n",
    "        tokens = md_en.detokenize(line.split(), return_str=True)\n",
    "        print(tokens, end='\\n', file=fout)\n",
    "\n",
    "print('Finished detokenizing.')"
   ]
  },
  {
   "cell_type": "markdown",
   "id": "be8a4d60-80fb-4ce1-b305-4dcaa5ddbbb2",
   "metadata": {
    "jp-MarkdownHeadingCollapsed": true,
    "tags": []
   },
   "source": [
    "# Statistics on translations"
   ]
  },
  {
   "cell_type": "code",
   "execution_count": 193,
   "id": "dab7a65c-57d3-4bd9-883c-b6166d8dc85b",
   "metadata": {},
   "outputs": [
    {
     "name": "stdout",
     "output_type": "stream",
     "text": [
      "49\n",
      "49\n",
      "49\n"
     ]
    }
   ],
   "source": [
    "# List with original source sentences\n",
    "source = []\n",
    "with open('en_original.txt', 'r') as fin:\n",
    "    for line in fin:\n",
    "        source.append(line.strip())\n",
    "        \n",
    "# List with disambiguated source sentences\n",
    "source_disambiguated = []\n",
    "with open('en_disambiguated.txt', 'r') as fin:\n",
    "    for line in fin:\n",
    "        source_disambiguated.append(line.strip())\n",
    "    \n",
    "# List with nbest sentences for every source in original\n",
    "nbest_original = []\n",
    "counter = 0\n",
    "temp = []\n",
    "with open('hyp_original.txt', 'r') as fin:\n",
    "    for line in fin:\n",
    "        temp.append(line.strip())\n",
    "        counter += 1\n",
    "        if (counter == 10):\n",
    "            nbest_original.append(temp)\n",
    "            counter = 0\n",
    "            temp = []\n",
    "            \n",
    "# List with nbest sentences for every source in disambiguated            \n",
    "nbest_disambiguated = []\n",
    "with open('hyp_disambiguated.txt', 'r') as fin:\n",
    "    for line in fin:\n",
    "        temp.append(line.strip())\n",
    "        counter += 1\n",
    "        if (counter == 10):\n",
    "            nbest_disambiguated.append(temp)\n",
    "            counter = 0\n",
    "            temp = []\n",
    "            \n",
    "print(len(source))\n",
    "print(len(nbest_original))\n",
    "print(len(nbest_disambiguated))"
   ]
  },
  {
   "cell_type": "markdown",
   "id": "ce374900-43dd-484f-bd18-8f8c05e524d4",
   "metadata": {},
   "source": [
    "## Count unique sentences"
   ]
  },
  {
   "cell_type": "code",
   "execution_count": 194,
   "id": "e76e4e7a-74ad-405a-8fac-1bfd927999ce",
   "metadata": {},
   "outputs": [
    {
     "name": "stdout",
     "output_type": "stream",
     "text": [
      "9.816326530612244\n"
     ]
    }
   ],
   "source": [
    "# Count unique sentences in source nbest list for each source sentence of original; 9.945454545454545\n",
    "# Value should be 10, because beam search generates 10 unique sentences\n",
    "unique_sent = []\n",
    "for source_nbest in nbest_original:\n",
    "    num_values = len(set(source_nbest))\n",
    "    #print(num_values)\n",
    "    unique_sent.append(num_values)\n",
    "    \n",
    "#print(unique_sent)\n",
    "print(sum(unique_sent)/49) # average"
   ]
  },
  {
   "cell_type": "code",
   "execution_count": 195,
   "id": "8c5cf0e5-b2e7-4ae6-9d2c-6bc0aa82fcdb",
   "metadata": {},
   "outputs": [
    {
     "name": "stdout",
     "output_type": "stream",
     "text": [
      "9.918367346938776\n"
     ]
    }
   ],
   "source": [
    "# Count unique sentences in source nbest list for each source sentence of modified; 9.954545454545455\n",
    "unique_sent = []\n",
    "for source_nbest in nbest_disambiguated:\n",
    "    num_values = len(set(source_nbest))\n",
    "    #print(num_values)\n",
    "    unique_sent.append(num_values)\n",
    "    \n",
    "#print(unique_sent)\n",
    "print(sum(unique_sent)/49) # average"
   ]
  },
  {
   "cell_type": "markdown",
   "id": "176c0c73-c1d3-4ca9-9f3f-151c0e86f17f",
   "metadata": {},
   "source": [
    "## Count unique words"
   ]
  },
  {
   "cell_type": "code",
   "execution_count": 200,
   "id": "63153491-34b4-454f-84d0-786aef4793ef",
   "metadata": {},
   "outputs": [
    {
     "name": "stdout",
     "output_type": "stream",
     "text": [
      "951\n",
      "10.10204081632653\n"
     ]
    }
   ],
   "source": [
    "# Count unique words in source nbest list for each source sentence of original; 16.836363636363636\n",
    "import spacy\n",
    "\n",
    "sp = spacy.load('en_core_web_sm')\n",
    "stopwords = spacy.lang.en.stop_words.STOP_WORDS\n",
    "\n",
    "\n",
    "unique_words = []\n",
    "normalizer = 0 # should normalize based on total number of words\n",
    "counter = 0\n",
    "for source_nbest in nbest_original:\n",
    "    words = set()\n",
    "    for sent in source_nbest:\n",
    "        tokens = sp(sent)\n",
    "        normalizer += len(tokens)\n",
    "        for token in tokens:\n",
    "            if token.text not in stopwords:    # checking whether the word is a stop word\n",
    "                words.add(token.text)\n",
    "    num_values = len(words)\n",
    "    unique_words.append(num_values)\n",
    "    \n",
    "    counter += 1\n",
    "    #print(counter)\n",
    "    \n",
    "#print(unique_words)\n",
    "print(normalizer)\n",
    "print(sum(unique_words)/49)"
   ]
  },
  {
   "cell_type": "code",
   "execution_count": 201,
   "id": "f0d3cf13-db7e-4ab4-8476-381617f88df2",
   "metadata": {},
   "outputs": [
    {
     "name": "stdout",
     "output_type": "stream",
     "text": [
      "1337\n",
      "11.877551020408163\n"
     ]
    }
   ],
   "source": [
    "# Count unique words in source nbest list for each source sentence of modified; 17.64848484848485\n",
    "# !!! This is normal to generate more unique words, because the disambiguated sentences have more words in total\n",
    "import spacy\n",
    "\n",
    "sp = spacy.load('en_core_web_sm')\n",
    "stopwords = spacy.lang.en.stop_words.STOP_WORDS\n",
    "\n",
    "\n",
    "unique_words = []\n",
    "normalizer = 0 # should normalize based on total number of words\n",
    "counter = 0\n",
    "for source_nbest in nbest_disambiguated:\n",
    "    words = set()\n",
    "    for sent in source_nbest:\n",
    "        tokens = sp(sent)\n",
    "        normalizer += len(tokens)\n",
    "        for token in tokens:\n",
    "            if token.text not in stopwords:    # checking whether the word is a stop word\n",
    "                words.add(token.text)\n",
    "    num_values = len(words)\n",
    "    unique_words.append(num_values)\n",
    "    \n",
    "    counter += 1\n",
    "    #print(counter)\n",
    "    \n",
    "#print(unique_words)\n",
    "print(normalizer)\n",
    "print(sum(unique_words)/49)"
   ]
  },
  {
   "cell_type": "markdown",
   "id": "95394217-96d3-4ea1-aa9b-65cec09c3be1",
   "metadata": {
    "jp-MarkdownHeadingCollapsed": true,
    "tags": []
   },
   "source": [
    "# Statistics on backtranslations"
   ]
  },
  {
   "cell_type": "code",
   "execution_count": 203,
   "id": "8b8b4177-38a5-4294-8c2a-619c63fab031",
   "metadata": {},
   "outputs": [
    {
     "name": "stdout",
     "output_type": "stream",
     "text": [
      "49\n",
      "49\n"
     ]
    }
   ],
   "source": [
    "# List with original source sentences\n",
    "source_original = []\n",
    "with open('en_original.txt', 'r') as fin:\n",
    "    for line in fin:\n",
    "        source_original.append(line.strip())\n",
    "        \n",
    "# List with disambiguated source sentences\n",
    "source_disambiguated = []\n",
    "with open('en_disambiguated.txt', 'r') as fin:\n",
    "    for line in fin:\n",
    "        source_disambiguated.append(line.strip())\n",
    "    \n",
    "# List with nbest sentences for every source in original \n",
    "nbest_original = []\n",
    "counter = 0\n",
    "temp = []\n",
    "with open('original_back.txt', 'r') as fin:\n",
    "    for line in fin:\n",
    "        temp.append(line.strip())\n",
    "        counter += 1\n",
    "        if (counter == 100):\n",
    "            nbest_original.append(temp)\n",
    "            counter = 0\n",
    "            temp = []\n",
    "            \n",
    "# List with nbest sentences for every source in disambiguated\n",
    "nbest_disambiguated = []\n",
    "with open('disambiguated_back.txt', 'r') as fin:\n",
    "    for line in fin:\n",
    "        temp.append(line.strip())\n",
    "        counter += 1\n",
    "        if (counter == 100):\n",
    "            nbest_disambiguated.append(temp)\n",
    "            counter = 0\n",
    "            temp = []\n",
    "            \n",
    "print(len(nbest_original))\n",
    "print(len(nbest_disambiguated))"
   ]
  },
  {
   "cell_type": "markdown",
   "id": "53f66cfb-d1bc-4b83-8f19-8ab4b21303db",
   "metadata": {},
   "source": [
    "## Source sentence reoccurrence"
   ]
  },
  {
   "cell_type": "code",
   "execution_count": 204,
   "id": "ae8bfa24-2883-4d8c-9ce4-d13eb7ef02a8",
   "metadata": {},
   "outputs": [
    {
     "name": "stdout",
     "output_type": "stream",
     "text": [
      "5.979591836734694\n",
      "46\n"
     ]
    }
   ],
   "source": [
    "# Count how many times the source sentence occurs in the nbest list of original; 258\n",
    "results = []\n",
    "counter = 0\n",
    "for sent in source_original:\n",
    "    matches = 0\n",
    "    for target in nbest_original[counter]: \n",
    "        if (sent == target):\n",
    "            matches += 1\n",
    "    results.append(matches)  \n",
    "    counter += 1\n",
    "    \n",
    "print(sum(results)/49)\n",
    "print(sum(x > 0 for x in results))"
   ]
  },
  {
   "cell_type": "code",
   "execution_count": 205,
   "id": "b11b20be-122f-4a42-9c4f-e38242f831fa",
   "metadata": {},
   "outputs": [
    {
     "name": "stdout",
     "output_type": "stream",
     "text": [
      "5.040816326530612\n",
      "48\n"
     ]
    }
   ],
   "source": [
    "# Count how many times the source sentence occurs in the nbest list of disambiguated; 230\n",
    "results = []\n",
    "counter = 0\n",
    "for sent in source_disambiguated:\n",
    "    matches = 0\n",
    "    for target in nbest_disambiguated[counter]: \n",
    "        if (sent == target):\n",
    "            matches += 1\n",
    "    results.append(matches)  \n",
    "    counter += 1\n",
    "    \n",
    "print(sum(results)/49)\n",
    "print(sum(x > 0 for x in results))"
   ]
  },
  {
   "cell_type": "markdown",
   "id": "33ecb949-c44c-42bd-8076-31893262c777",
   "metadata": {},
   "source": [
    "## Ambiguous source words reoccurrence\n"
   ]
  },
  {
   "cell_type": "code",
   "execution_count": 206,
   "id": "76e85e14-a11e-4eb6-95d5-aa76aedc593b",
   "metadata": {},
   "outputs": [
    {
     "name": "stdout",
     "output_type": "stream",
     "text": [
      "['developer', 'mechanic', 'mover', 'assistant', 'chief', 'salesperson', 'lawyer', 'cook', 'farmer', 'CEO', 'hairdresser', 'driver', 'auditor', 'guard', 'manager', 'physician', 'laborer', 'receptionist', 'cleaner', 'writer', 'construction', 'editor', 'analyst', 'carpenter', 'librarian', 'nurse', 'secretary', 'sheriff', 'janitor', 'supervisor', 'attendant', 'counselor', 'baker', 'clerk', 'accountant', 'housekeeper', 'tailor', 'customer', 'teenager', 'advisor', 'patient', 'practitioner', 'examiner', 'programmer', 'undergraduate', 'dietitian', 'painter', 'broker', 'firefighter']\n",
      "49\n",
      "49\n",
      "49\n"
     ]
    }
   ],
   "source": [
    "# Extract ambiguous words from source sentences\n",
    "ambiguous_words = [] \n",
    "with open('en_original.txt', 'r') as fin:\n",
    "    for line in fin:\n",
    "        tokens = line.split(\" \")\n",
    "        ambiguous_words.append(tokens[1].replace('\\n', ''))\n",
    "        \n",
    "print(ambiguous_words)\n",
    "print(len(ambiguous_words))\n",
    "        \n",
    "# List with nbest sentences for every source\n",
    "nbest_original = []\n",
    "counter = 0\n",
    "temp = []\n",
    "with open('original_back.txt', 'r') as fin:\n",
    "    for line in fin:\n",
    "        temp.append(line.strip())\n",
    "        counter += 1\n",
    "        if (counter == 100):\n",
    "            nbest_original.append(temp)\n",
    "            counter = 0\n",
    "            temp = []\n",
    "\n",
    "nbest_disambiguated = []\n",
    "with open('disambiguated_back.txt', 'r') as fin:\n",
    "    for line in fin:\n",
    "        temp.append(line.strip())\n",
    "        counter += 1\n",
    "        if (counter == 100):\n",
    "            nbest_disambiguated.append(temp)\n",
    "            counter = 0\n",
    "            temp = []  \n",
    "\n",
    "print(len(nbest_original))\n",
    "print(len(nbest_disambiguated))     "
   ]
  },
  {
   "cell_type": "code",
   "execution_count": 207,
   "id": "3346913e-ed3c-4444-b0a9-2cc0a4a24817",
   "metadata": {},
   "outputs": [
    {
     "name": "stdout",
     "output_type": "stream",
     "text": [
      "[14, 9, 3, 7, 8, 2, 7, 13, 15, 18, 10, 20, 9, 13, 11, 4, 0, 8, 9, 15, 24, 15, 23, 12, 11, 15, 15, 23, 6, 8, 1, 2, 13, 7, 13, 5, 16, 15, 6, 2, 31, 10, 7, 21, 0, 10, 18, 14, 7]\n",
      "11.122448979591837\n",
      "47\n"
     ]
    }
   ],
   "source": [
    "# Count how many times the source words occurs in the nbest list of original\n",
    "results = []\n",
    "counter = 0\n",
    "for word in ambiguous_words:\n",
    "    matches = 0\n",
    "    for target in nbest_original[counter]: \n",
    "        if (word in target.split(\" \")):\n",
    "            matches += 1\n",
    "    results.append(matches)  \n",
    "    counter += 1\n",
    "    \n",
    "print(results)\n",
    "print(sum(results)/49)\n",
    "print(sum(x > 0 for x in results))"
   ]
  },
  {
   "cell_type": "code",
   "execution_count": 208,
   "id": "94d3d860-88c4-4a08-a0ca-f8d5cca165eb",
   "metadata": {},
   "outputs": [
    {
     "name": "stdout",
     "output_type": "stream",
     "text": [
      "[16, 21, 8, 21, 10, 5, 18, 12, 16, 30, 11, 26, 15, 15, 16, 5, 0, 18, 12, 21, 17, 24, 33, 15, 13, 16, 27, 24, 16, 13, 3, 5, 18, 8, 20, 10, 19, 20, 10, 5, 36, 20, 9, 26, 6, 7, 14, 14, 14]\n",
      "15.46938775510204\n",
      "48\n"
     ]
    }
   ],
   "source": [
    "# Count how many times the source words occurs in the nbest list of disambiguated\n",
    "results = []\n",
    "counter = 0\n",
    "for word in ambiguous_words:\n",
    "    matches = 0\n",
    "    for target in nbest_disambiguated[counter]: \n",
    "        if (word in target.split(\" \")):\n",
    "            matches += 1\n",
    "    results.append(matches)  \n",
    "    counter += 1\n",
    "    \n",
    "print(results)\n",
    "print(sum(results)/49)\n",
    "print(sum(x > 0 for x in results))"
   ]
  },
  {
   "cell_type": "markdown",
   "id": "628352f6-7bc2-4f3e-b4c9-72eddb35be6b",
   "metadata": {},
   "source": [
    "## Count unique sentences"
   ]
  },
  {
   "cell_type": "code",
   "execution_count": 209,
   "id": "e6780900-1cee-48f6-bd26-7046ef6b1076",
   "metadata": {},
   "outputs": [
    {
     "name": "stdout",
     "output_type": "stream",
     "text": [
      "55.673469387755105\n"
     ]
    }
   ],
   "source": [
    "# Count unique sentences in source nbest list for each source sentence of original; 46.06060606060606\n",
    "unique_sent = []\n",
    "for source_nbest in nbest_original:\n",
    "    num_values = len(set(source_nbest))\n",
    "    #print(num_values)\n",
    "    unique_sent.append(num_values)\n",
    "    \n",
    "#print(unique_sent)\n",
    "print(sum(unique_sent)/49) # average"
   ]
  },
  {
   "cell_type": "code",
   "execution_count": 210,
   "id": "cbb3f87c-8a26-4e5b-afce-5014324f8ae2",
   "metadata": {},
   "outputs": [
    {
     "name": "stdout",
     "output_type": "stream",
     "text": [
      "61.46938775510204\n"
     ]
    }
   ],
   "source": [
    "# Count unique sentences in source nbest list for each source sentence of modified; 51.77272727272727\n",
    "unique_sent = []\n",
    "for source_nbest in nbest_disambiguated:\n",
    "    num_values = len(set(source_nbest))\n",
    "    #print(num_values)\n",
    "    unique_sent.append(num_values)\n",
    "    \n",
    "#print(unique_sent)\n",
    "print(sum(unique_sent)/49) # average"
   ]
  },
  {
   "cell_type": "markdown",
   "id": "265064a1-379a-4b66-ad78-61dcd8735726",
   "metadata": {},
   "source": [
    "## Count unique words"
   ]
  },
  {
   "cell_type": "code",
   "execution_count": 213,
   "id": "b84e7ef2-1c50-489a-b011-8c2b530d9a3d",
   "metadata": {},
   "outputs": [
    {
     "name": "stdout",
     "output_type": "stream",
     "text": [
      "49\n",
      "9795\n",
      "37.97959183673469\n"
     ]
    }
   ],
   "source": [
    "# Count unique words in source nbest list for each source sentence of original; 22.593939393939394\n",
    "import spacy\n",
    "\n",
    "sp = spacy.load('en_core_web_sm')\n",
    "stopwords = spacy.lang.en.stop_words.STOP_WORDS\n",
    "\n",
    "\n",
    "unique_words = []\n",
    "counter = 0\n",
    "normalizer = 0 # should normalize based on total number of words\n",
    "for source_nbest in nbest_original:\n",
    "    words = set()\n",
    "    for sent in source_nbest:\n",
    "        tokens = sp(sent)\n",
    "        normalizer += len(tokens)\n",
    "        for token in tokens:\n",
    "            if token.text not in stopwords:    # checking whether the word is a stop word\n",
    "                words.add(token.text)\n",
    "    num_values = len(words)\n",
    "    unique_words.append(num_values)\n",
    "    \n",
    "    counter += 1\n",
    "    #print(counter)\n",
    "    \n",
    "#print(unique_words)\n",
    "print(normalizer)\n",
    "print(sum(unique_words)/49)"
   ]
  },
  {
   "cell_type": "code",
   "execution_count": 212,
   "id": "67691641-9d4a-4390-acb0-6cb693f3226a",
   "metadata": {},
   "outputs": [
    {
     "name": "stdout",
     "output_type": "stream",
     "text": [
      "13512\n",
      "33.69387755102041\n"
     ]
    }
   ],
   "source": [
    "# Count unique words in source nbest list for each source sentence of modified; 22.348484848484848\n",
    "import spacy\n",
    "\n",
    "sp = spacy.load('en_core_web_sm')\n",
    "stopwords = spacy.lang.en.stop_words.STOP_WORDS\n",
    "\n",
    "\n",
    "unique_words = []\n",
    "counter = 0\n",
    "normalizer = 0 # should normalize based on total number of words\n",
    "for source_nbest in nbest_disambiguated:\n",
    "    words = set()\n",
    "    for sent in source_nbest:\n",
    "        tokens = sp(sent)\n",
    "        normalizer += len(tokens)\n",
    "        for token in tokens:\n",
    "            if token.text not in stopwords:    # checking whether the word is a stop word\n",
    "                words.add(token.text)\n",
    "    num_values = len(words)\n",
    "    unique_words.append(num_values)\n",
    "    \n",
    "    counter += 1\n",
    "    #print(counter)\n",
    "    \n",
    "#print(unique_words)\n",
    "print(normalizer)\n",
    "print(sum(unique_words)/49)"
   ]
  },
  {
   "cell_type": "markdown",
   "id": "b9a31ec1-6057-4efc-9cb5-0958d64c2bc2",
   "metadata": {
    "tags": []
   },
   "source": [
    "# Word alignement (source-translation)"
   ]
  },
  {
   "cell_type": "markdown",
   "id": "f9123d6e-caef-4b93-ae43-53cbde83624c",
   "metadata": {},
   "source": [
    "- Count how many unique ambiguous words are in total in source text\n",
    "- Extract the position of the first ambiguous word from each sentence"
   ]
  },
  {
   "cell_type": "code",
   "execution_count": 112,
   "id": "85f8a95c-7ac7-4b7b-ad4b-46b336c11aa3",
   "metadata": {},
   "outputs": [
    {
     "name": "stdout",
     "output_type": "stream",
     "text": [
      "['developer', 'mechanic', 'mover', 'assistant', 'chief', 'salesperson', 'lawyer', 'cook', 'farmer', 'CEO', 'hairdresser', 'driver', 'auditor', 'guard', 'manager', 'physician', 'laborer', 'receptionist', 'cleaner', 'writer', 'construction', 'editor', 'analyst', 'carpenter', 'librarian', 'nurse', 'secretary', 'sheriff', 'janitor', 'supervisor', 'attendant', 'counselor', 'baker', 'clerk', 'accountant', 'housekeeper', 'tailor', 'customer', 'teenager', 'advisor', 'patient', 'practitioner', 'examiner', 'programmer', 'undergraduate', 'dietitian', 'painter', 'broker', 'firefighter']\n",
      "49\n",
      "[1, 1, 1, 1, 1, 1, 1, 1, 1, 1, 1, 1, 1, 1, 1, 1, 1, 1, 1, 1, 1, 1, 1, 1, 1, 1, 1, 1, 1, 1, 1, 1, 1, 1, 1, 1, 1, 1, 1, 1, 1, 1, 1, 1, 1, 1, 1, 1, 1]\n",
      "49\n"
     ]
    }
   ],
   "source": [
    "# Extract ambiguous words from source sentences\n",
    "ambiguous_words = []\n",
    "positions_ambiguous_words = []\n",
    "with open('en_original.txt', 'r') as fin:\n",
    "    for line in fin:\n",
    "        tokens = line.split(\" \")\n",
    "        ambiguous_words.append(tokens[1].replace('\\n', ''))\n",
    "        positions_ambiguous_words.append(1)\n",
    "        \n",
    "print(ambiguous_words)\n",
    "print(len(ambiguous_words))\n",
    "print(positions_ambiguous_words)\n",
    "print(len(positions_ambiguous_words))"
   ]
  },
  {
   "cell_type": "markdown",
   "id": "d26f2bbb-6aa4-47fa-89bd-3855b164c388",
   "metadata": {},
   "source": [
    "- Input to fast_align must be tokenized and aligned into parallel sentences. \n",
    "- Line is a source language sentence and its target language translation, separated by a triple pipe symbol with leading and trailing white space (|||)"
   ]
  },
  {
   "cell_type": "code",
   "execution_count": 66,
   "id": "f69765e4-f622-46fa-b68b-06fb80f11f89",
   "metadata": {},
   "outputs": [
    {
     "name": "stdout",
     "output_type": "stream",
     "text": [
      "49\n",
      "49\n"
     ]
    }
   ],
   "source": [
    "# List with original source sentences\n",
    "source = []\n",
    "with open('tok.en_original.en', 'r') as fin:\n",
    "    for line in fin:\n",
    "        source.append(line.strip())\n",
    "         \n",
    "# List with nbest sentences for every source in original \n",
    "nbest_original = []\n",
    "counter = 0\n",
    "temp = []\n",
    "with open('hyp_original.txt', 'r') as fin:\n",
    "    for line in fin:\n",
    "        temp.append(line.strip())\n",
    "        counter += 1\n",
    "        if (counter == 10):\n",
    "            nbest_original.append(temp)\n",
    "            counter = 0\n",
    "            temp = []\n",
    "\n",
    "print(len(source))\n",
    "print(len(nbest_original))           \n",
    "        \n",
    "count = 0\n",
    "with open('original_source-target_en-de.txt', 'w') as fout:\n",
    "    while count < 49:\n",
    "        for hyp in nbest_original[count]:\n",
    "            print(source[count] + ' ||| ' + hyp, end='\\n', file=fout)\n",
    "        count += 1"
   ]
  },
  {
   "cell_type": "code",
   "execution_count": 67,
   "id": "58ac58b0-41db-444a-a187-dc4266a09551",
   "metadata": {},
   "outputs": [
    {
     "name": "stdout",
     "output_type": "stream",
     "text": [
      "49\n",
      "49\n"
     ]
    }
   ],
   "source": [
    "# List with disambiguated source sentences\n",
    "source = []\n",
    "with open('tok.en_disambiguated.en', 'r') as fin:\n",
    "    for line in fin:\n",
    "        source.append(line.strip())\n",
    "         \n",
    "# List with nbest sentences for every source in original \n",
    "nbest_disambiguated = []\n",
    "counter = 0\n",
    "temp = []\n",
    "with open('hyp_disambiguated.txt', 'r') as fin:\n",
    "    for line in fin:\n",
    "        temp.append(line.strip())\n",
    "        counter += 1\n",
    "        if (counter == 10):\n",
    "            nbest_disambiguated.append(temp)\n",
    "            counter = 0\n",
    "            temp = []\n",
    "\n",
    "print(len(source))\n",
    "print(len(nbest_disambiguated))           \n",
    "        \n",
    "count = 0\n",
    "with open('disambiguated_source-target_en-de.txt', 'w') as fout:\n",
    "    while count < 49:\n",
    "        for hyp in nbest_disambiguated[count]:\n",
    "            print(source[count] + ' ||| ' + hyp, end='\\n', file=fout)\n",
    "        count += 1"
   ]
  },
  {
   "cell_type": "markdown",
   "id": "f95e0a48-e74f-468a-b949-a9cc13a2a519",
   "metadata": {
    "tags": []
   },
   "source": [
    "## fast_align"
   ]
  },
  {
   "cell_type": "code",
   "execution_count": null,
   "id": "c1477d44-1efd-4dda-8549-8b29c438e408",
   "metadata": {},
   "outputs": [],
   "source": [
    "!$FAST_ALIGN -i original_source-target_en-de.txt -d -o -v > original_source-target_en-de_fast-aligned.txt\n",
    "!$FAST_ALIGN -i disambiguated_source-target_en-de.txt -d -o -v > disambiguated_source-target_en-de_fast-aligned.txt"
   ]
  },
  {
   "cell_type": "code",
   "execution_count": 88,
   "id": "2c4ce87a-7b1d-4a97-b4d9-c446de1df198",
   "metadata": {},
   "outputs": [
    {
     "name": "stdout",
     "output_type": "stream",
     "text": [
      "[{'Bauherrin', 'Bauunternehmer', 'Entwicklerin', 'Projektentwickler', 'Bauträger', 'Bauherr', 'Entwickler'}, {'Mechaniker', 'Mechanische', 'Techniker', 'Maschinenbauer', 'Monteur', 'Maschinist', 'Mechanik', 'Mechanikerin'}, {'Bewegung', 'Mover', 'Antrieb', 'Macher', 'treibende', 'Umsetzer', 'Kraft', 'Motor', 'Beweger'}, {'Assistant', 'Betreuer', 'Helfer', 'Assistentin', 'Assistent', 'Stellvertreter', 'Mitarbeiterin', 'Mitarbeiter', 'Gehilfe', 'Helferin'}, {'Leiter', 'der', 'Chief', 'Vorsitzende', 'Oberhaupt', 'Chef', 'Chefin', 'Leiterin', 'Hauptmann'}, {'Kaufmann', 'Verkäuferin', 'Vertriebsmitarbeiter', 'Händler', 'Verkäufer', '.'}, {'Rechtsanwalt', 'Anwältin', 'Verteidiger', 'Jurist', '.', 'Juristin', 'Anwälte', 'Anwalt'}, {'Chef', 'Köchin', '.', 'Koch'}, {'Farmer', 'Bauer', 'Landwirt', 'Bauern', 'Landwirtin', '.', 'Landwirte'}, {'Vorstandschef', 'Geschäftsführerin', 'Firmenchef', 'CEO', 'Vorstandsvorsitzende', 'Geschäftsführer', 'Vorsitzende', 'Chef', 'Konzernchef'}, {'Friseuse', 'Friseurmeisterin', 'Frisörin', 'Friseur', 'Friseurmeister', 'Friseurin', 'Frisör'}, {'Fahrerin', 'Busfahrer', 'Autofahrer', 'Fahrer', 'Chauffeur', 'Lenker', ':', 'Kraftfahrer', '.'}, {'Prüferin', 'Rechnungshof', 'Wirtschaftsprüferin', 'Revisor', 'Kassenprüfer', 'Prüfer', 'Abschlussprüfer', 'Auditor', 'Wirtschaftsprüfer'}, {'Wache', 'Wachschutz', 'Wachmann', 'Bewachung', 'Wacht', 'Garde', 'Wachdienst', 'Wächter'}, {'Leiter', 'Verwalter', 'Geschäftsführerin', 'Manager', 'Geschäftsführer', 'Leiterin', 'Chef', 'Geschäftsführung', '.'}, {'Ärzte', 'Medizinerin', 'Doktor', 'Arzt', 'Mediziner', 'Ärztin'}, {'Arbeitnehmer', 'Arbeitskraft', 'Hilfsarbeiter', 'Arbeiter', 'Arbeiterin', 'Arbeitsmann'}, {'der', 'Empfangsmitarbeiter', 'Empfangsperson', 'Rezeption', 'Empfängerin', 'Empfangschef', 'Empfangsdame', 'Rezeptionist', 'Rezeptionistin', 'Empfangsleiter'}, {'Putzer', 'sauberere', 'Putzfrau', 'Reinigerin', 'Putzmann', 'Reinigungskraft', 'Sauberkeit', 'Sauberfrau', 'Reiniger', 'Saubermann'}, {'Autor', 'Schriftsteller', 'Schriftstellerin', 'Autorin', 'Schreiber', ':', 'Dichter', '.'}, {'Bauarbeiten', 'Errichtung', 'Aufbau', 'der', 'Bau', 'Baumaßnahmen', 'Bauvorhaben', 'Baumaßnahme', 'Bauwerk', 'Konstruktion'}, {'Redaktion', 'Verlag', 'Redakteur', 'Chefredakteur', 'Herausgeber', 'Lektorin', ':', 'Verleger'}, {'Analysten', 'Analytiker', 'Analyst', 'Analyse', 'Analystin'}, {'Zimmermann', 'Tischler', 'Zimmerleute', 'Zimmerer', 'Zimmerei', 'Zimmermeister', 'Schreiner'}, {'Bibliothek', 'Büchereileiter', 'Bibliothekar', 'Bibliothekarin'}, {'Schwester', 'Krankenschwester', 'Amme', 'Pfleger', 'Krankenpflegerin', 'Pflegekraft', 'Krankenpfleger', 'Pflegerin'}, {'Ministerin', 'Minister', 'Staatssekretärin', 'Staatssekretär', 'Schriftführer', 'Generalsekretär', 'Schriftführerin', 'Sekretär', 'Sekretärin'}, {'Sheriff', 'sheriff', 'Sheriffs', '.'}, {'Hausmeister', 'Hauswart', 'Hausverwalter', 'Hausmann', 'Hausmeisterin', '.'}, {'Betreuer', 'Supervisor', 'Aufsichtsbeamte', 'Aufsichtsbehörde', 'Aufseher', 'Kontrolleur', 'Aufsicht', ':', 'Vorgesetzte'}, {'Begleiter', 'Zugbegleiter', 'Hausmeister', 'Betreuer', 'Begleitung', 'Begleiterin', 'Betreuerin', 'Begleitperson', 'Pfleger'}, {'Betreuer', 'Beraterin', 'Ratgeber', 'Berater', 'Anwalt', 'Rat'}, {'Bäckermeister', 'Bäcker', 'Bäckerin', 'Bäckerei', '.'}, {'Angestellte', 'Büroangestellte', 'Schreiber', 'Verkäuferin', 'Sachbearbeiter', 'Beamte', 'Bürokaufmann'}, {'Steuerberaterin', 'Buchhalterin', 'Wirtschaftsprüferin', 'Buchhalter', 'Wirtschaftsprüfer', 'Steuerberater'}, {'Hausherr', 'Hausfrau', 'Haushälterin', 'Hausmädchen', 'Haushälter', 'Haushaltshilfe', 'Hauswirtschafterin', 'Hausdame'}, {'Schneiderin', 'Maßschneider', 'Schneidermeister', 'Schneider', 'Schneiderlein'}, {'Kunde', 'Kunden', 'Kundin', 'Kundschaft', 'Käufer', '.'}, {'Jugendlichen', 'Jugendliche', 'Jugend', 'Teenie', 'Teenager'}, {'Betreuer', 'Beraterin', 'Ratgeber', 'Berater', 'Beirat', ':', '.'}, {'Kranke', 'Patient', 'Patienten', 'Patientin', '.'}, {'Praktiker', 'Praktikerin', 'Praktizierende', 'Arzt', 'Praktizierenden', 'Heilpraktiker', 'Praktikant'}, {'Gutachter', 'Kontrolleur', 'Untersuchungsrichter', 'Prüfer', 'Ermittler', 'Prüfling', 'Prüferin'}, {'Programm', 'Programmer', 'Programmierer', 'Programmiererin', 'Programmier'}, {'Bachelorette', 'Bachelor', 'Grundschüler', 'Bachelorstudent', 'Bachelorabsolvent', 'Studentin', 'Student', 'Studium', 'Studenten'}, {'Diätistin', 'Ernährungsberater', 'Diätberater', 'Ernährer', 'Ernährungsexperte', 'Ernährungsberaterin', 'Diätologin', 'Ernährungsexpertin', 'Ernährungswissenschaftler'}, {'Malerin', 'Künstler', 'Maler', '.'}, {'Vermittler', 'Maklerbüro', 'Maklerin', 'Makler', 'Vermittlerin', 'Broker'}, {'Feuerwehrmann', 'Feuerwehrmänner', 'Feuerwehr', 'Feuerwehrleute', 'Feuerwehrfrau'}]\n",
      "49\n",
      "7.142857142857143\n"
     ]
    }
   ],
   "source": [
    "# Extract target translated words to source words in original\n",
    "\n",
    "import re\n",
    "\n",
    "# List with original translations\n",
    "translations_original = []\n",
    "with open('hyp_original.txt', 'r') as fin:\n",
    "    for line in fin:\n",
    "        translations_original.append(line.strip())\n",
    "\n",
    "              \n",
    "lineNumber = 0\n",
    "counter = 0\n",
    "indices = [] # a list of lists of indices of translated words for each ambiguous word\n",
    "with open('original_source-target_en-de_fast-aligned.txt', 'r') as alignments:\n",
    "    for line in alignments:\n",
    "        if (lineNumber == 10):\n",
    "            lineNumber = 0\n",
    "            counter += 1\n",
    "        position = positions_ambiguous_words[counter] # exact position of ambiguous word\n",
    "        regex = r\"\" + str(position) + r\"-(\\d)\"\n",
    "        if re.findall(regex, line): \n",
    "            indices.append([int(index) for index in re.findall(regex, line)])\n",
    "        else:\n",
    "            indices.append([999])\n",
    "        lineNumber += 1\n",
    "        \n",
    "#print(len(indices))\n",
    "#print(indices)\n",
    "\n",
    "lineNumber = 0\n",
    "translations_ambiguous_words = [] # a list of set of translations to each ambiguous word in source\n",
    "translated_ambiguous_words = set() # set forces uniqueness\n",
    "for translation in translations_original:\n",
    "    tokens = translation.split(' ')\n",
    "    if 999 not in indices[lineNumber]:\n",
    "        for ind in indices[lineNumber]:\n",
    "            #print(lineNumber)\n",
    "            #print(tokens[ind])\n",
    "            #print(ind)\n",
    "            translated_ambiguous_words.add(tokens[ind])\n",
    "    lineNumber += 1\n",
    "    if (lineNumber % 10 == 0):\n",
    "            translations_ambiguous_words.append(translated_ambiguous_words)\n",
    "            translated_ambiguous_words = set()\n",
    "        \n",
    "print(translations_ambiguous_words)\n",
    "print(len(translations_ambiguous_words))\n",
    "\n",
    "unique_translations = 0\n",
    "for set_words in translations_ambiguous_words:\n",
    "    unique_translations += len(set_words)\n",
    "print(unique_translations/49)"
   ]
  },
  {
   "cell_type": "code",
   "execution_count": 87,
   "id": "89ac1e4c-277c-4d1c-a336-409f6c777e4c",
   "metadata": {},
   "outputs": [
    {
     "name": "stdout",
     "output_type": "stream",
     "text": [
      "[{'Entwicklerteam', 'Bauunternehmer', 'Entwicklerin', 'Bauträger', 'Bauherr', 'Entwickler'}, {'Mechaniker', 'Männermechaniker', 'Mann', 'Mechanik', 'Mechanikerin'}, {'Mover', 'Antrieb', 'Macher', 'Motor', 'Zugpferd', 'Beweger'}, {'Helfer', 'Assistentin', 'Assistent', 'Assistenz', 'Mitarbeiter', 'Assistenten', 'Gehilfe', 'Helferin'}, {'Männerchef', 'Anführer', 'Chief', 'Oberhaupt', 'Chef', 'Chefin', 'Häuptling', 'Männerhauptmann'}, {'Verkäuferin', 'Verkäufer', 'Händler'}, {'Rechtsanwalt', 'Mannes', 'Anwältin', 'Verteidiger', 'der', 'Jurist', 'Männer', 'des', 'Anwalt'}, {'Köchin', 'Männerkoch', 'Köche', 'Koch'}, {'Farmer', 'Bauer', 'Landwirt', 'Bauern', 'Bäuerliche', 'Landwirtin', 'Landwirte'}, {'Vorstandschef', 'Vorstandsvorsitzenden', 'Vorstandsvorsitzende', 'CEO', 'Geschäftsführer', 'Chef', 'Konzernchef'}, {'Friseuse', 'für', 'Männer', 'Friseure', 'Friseur', 'Friseurmeister', 'Friseurin', 'Frisör', 'Männerfriseur'}, {'Fahrerin', 'Steuer', 'Autofahrer', 'Fahrer', 'Fahrzeugführer', 'am', 'Kraftfahrer'}, {'Prüferin', 'Revisor', 'Kassenprüfer', 'Prüfer', 'Abschlussprüfer', 'Auditor', 'Wirtschaftsprüfer'}, {'Wache', '@-@', 'Wachmann', 'Garde', 'Männergarde', 'Wächter'}, {'Leiter', 'Geschäftsführerin', 'Managerin', 'Manager', 'Geschäftsführer', 'Führungskraft', 'Chef'}, {'Medizin', 'Ärzte', 'Mann', 'als', 'Männerarzt', 'Arzt', 'Mediziner', 'Ärztin'}, {'Arbeitnehmer', 'Arbeitskraft', 'Knecht', 'Arbeiter', 'Arbeiterin', 'Hilfsarbeiter'}, {'Empfangsmitarbeiter', 'Empfang', 'Empfangsperson', 'Rezeption', 'Empfängerin', 'Empfangschef', 'Empfangsdame', 'Rezeptionist', 'Rezeptionistin', 'Empfangsleiter'}, {'Putzer', 'Putzfrau', 'Putzkraft', 'Putzmann', 'Reinigungskraft', 'Reinigung', 'Reiniger'}, {'Autor', 'Schriftsteller', 'Schriftstellerin', 'Autorin', 'Schreiber'}, {'Aufbau', 'Bau', 'Konstruktionen', 'Männerkonstruktion', 'Konstrukt', 'Bauweise', 'Männerbau', 'Konstruktion'}, {'Redaktion', 'Redakteur', 'Chefredakteur', 'Editor', 'Redaktor', 'Herausgeber', 'Lektor', 'Redakteure'}, {'Analysten', 'Analytiker', 'Analyst', 'Analyse', 'Analystin'}, {'Zimmermann', 'Tischlermeister', 'Tischler', 'Schreinermeister', 'Zimmerer', 'Schreiner'}, {'Bibliotheksleiter', 'Bibliothekare', 'Bibliothekarin', 'Bibliothek', 'Bibliothekar'}, {'Krankenschwester', 'Pfleger', 'Amme', 'Schwester', 'Krankenpfleger', 'Pflegerin'}, {'Mannes', 'Staatssekretär', 'Schriftführer', 'Generalsekretär', 'Schriftführerin', 'Sekretär', 'Sekretärin', 'des'}, {'Sheriff', 'Mann', '.'}, {'Hausmeister', 'Hauswart', 'Hausmeisterin', 'Hausverwalter'}, {'Betreuer', 'Vorgesetzten', 'Supervisor', 'Vorgesetzter', 'Aufseher', 'Kontrolleur', 'Aufsicht', 'Vorgesetzte', '.'}, {'Begleiter', 'Betreuer', 'Hausmeister', 'Diener', 'Begleitung', 'Aufseher', 'Begleiterin', 'Assistent', 'Pfleger'}, {'Betreuer', 'Beraterin', 'Ratgeber', 'für', 'Männer', 'Berater', 'Männerberater'}, {'Bäckermeister', 'Bäcker', 'Bäckerin', 'Mann', 'Bäckermann', 'Männerbäcker', 'Bäckermännchen'}, {'Angestellte', 'Büroangestellte', 'Schreiber', 'Sekretär', 'Sachbearbeiter', 'Sekretärin', 'Beamte', 'Bürokaufmann'}, {'Buchhaltung', 'Buchhalterin', 'Mann', 'Buchhalter', 'Steuerberater'}, {'Hausherr', 'Hausfrau', 'Haushälterin', 'Haushälter', 'Haushaltshilfe', 'Hauswirtschafterin', 'Hausdame'}, {'Schneiderin', 'Maßschneider', 'Männerschneider', 'Schneidermeister', 'Schneidermännchen', 'Schneider', 'Schneiderlein'}, {'Kunde', 'Abnehmer', 'Kunden', 'Kundin', 'Kundschaft', 'Käufer'}, {'Teenager', 'Jugendliche', 'Jugend'}, {'Betreuer', 'Beratung', 'Ratgeber', 'Berater', 'Männerberater'}, {'männlich', 'Patienten', 'Mann', 'Patient'}, {'Praktiker', 'Praktizierende', 'Praxis', 'Arzt', 'Mann', 'Praktizierenden', 'Übende'}, {'Untersuchungsführer', 'Prüfer', 'Ermittler', 'Prüfling', 'Prüferin'}, {'Programmierer', 'Männer', 'Programmier', 'für', 'männlich'}, {'Bachelorette', 'Bachelor', 'Studierende', 'Grundschüler', 'Bachelorstudent', 'Studienanfänger', 'Student', 'Undergraduate', 'Erstsemester', 'Studenten'}, {'Diätberater', 'Ernährungsberater', 'Ernährer', 'Ernährungstier', 'Ernährungsexperte', 'Ernährungsberaterin', 'Ernährungsexpertin', 'Ernährung', 'Ernährungsbeamte'}, {'Malermeister', 'Maler', 'Männermaler', 'Malermann', 'Mann', 'Malerin', 'Künstler'}, {'Vermittler', 'Maklerin', 'Makler', 'Vermittlerin', 'Broker'}, {'@-@', 'Feuerwehrmann', 'Feuerwehrmänner', 'Feuerwehr', 'Mann', 'Feuerwehrleute', 'Feuerwehrfrau'}]\n",
      "49\n",
      "6.530612244897959\n"
     ]
    }
   ],
   "source": [
    "# Extract target translated words to source words in disambiguated\n",
    "\n",
    "import re\n",
    "\n",
    "# List with original translations\n",
    "translations_disambiguated = []\n",
    "with open('hyp_disambiguated.txt', 'r') as fin:\n",
    "    for line in fin:\n",
    "        translations_disambiguated.append(line.strip())\n",
    "\n",
    "              \n",
    "lineNumber = 0\n",
    "counter = 0\n",
    "indices = [] # a list of lists of indices of translated words for each ambiguous word\n",
    "with open('disambiguated_source-target_en-de_fast-aligned.txt', 'r') as alignments:\n",
    "    for line in alignments:\n",
    "        if (lineNumber == 10):\n",
    "            lineNumber = 0\n",
    "            counter += 1\n",
    "        position = positions_ambiguous_words[counter] + 1 # exact position of ambiguous word; !!! add 1 because of gender word\n",
    "        regex = r\"\" + str(position) + r\"-(\\d)\"\n",
    "        if re.findall(regex, line): \n",
    "            indices.append([int(index) for index in re.findall(regex, line)])\n",
    "        else:\n",
    "            indices.append([999])\n",
    "        lineNumber += 1\n",
    "        \n",
    "#print(len(indices))\n",
    "#print(indices)\n",
    "\n",
    "lineNumber = 0\n",
    "translations_ambiguous_words = [] # a list of set of translations to each ambiguous word in source\n",
    "translated_ambiguous_words = set() # set forces uniqueness\n",
    "for translation in translations_disambiguated:\n",
    "    tokens = translation.split(' ')\n",
    "    if 999 not in indices[lineNumber]:\n",
    "        for ind in indices[lineNumber]:\n",
    "            #print(lineNumber)\n",
    "            #print(tokens[ind])\n",
    "            #print(ind)\n",
    "            translated_ambiguous_words.add(tokens[ind])\n",
    "    lineNumber += 1\n",
    "    if (lineNumber % 10 == 0):\n",
    "            translations_ambiguous_words.append(translated_ambiguous_words)\n",
    "            translated_ambiguous_words = set()\n",
    "    \n",
    "print(translations_ambiguous_words)\n",
    "print(len(translations_ambiguous_words))\n",
    "\n",
    "unique_translations = 0\n",
    "for set_words in translations_ambiguous_words:\n",
    "    unique_translations += len(set_words)\n",
    "print(unique_translations/49)"
   ]
  },
  {
   "cell_type": "markdown",
   "id": "7547be75-dfc4-46c3-ba3f-dfe56c4a3037",
   "metadata": {},
   "source": [
    "## awesome_align"
   ]
  },
  {
   "cell_type": "code",
   "execution_count": 89,
   "id": "7e5d0cfa-eb33-4a71-af0c-9fa94a473c76",
   "metadata": {},
   "outputs": [
    {
     "name": "stdout",
     "output_type": "stream",
     "text": [
      "Loading the dataset...\n",
      "Extracting: 490it [00:01, 318.31it/s]\n"
     ]
    }
   ],
   "source": [
    "# ??? How to set model correctly\n",
    "# MODELS=\"/export/data4/vzhekova/biases-data/En-De/wmt19.en-de.joined-dict.ensemble\"\n",
    "!awesome-align \\\n",
    "    --output_file \"original_source-target_en-de_awesome-aligned.txt\" \\\n",
    "    --data_file \"original_source-target_en-de.txt\" \\\n",
    "    --model_name_or_path bert-base-multilingual-cased \\\n",
    "    --extraction 'softmax' \\\n",
    "    --batch_size 32"
   ]
  },
  {
   "cell_type": "code",
   "execution_count": 90,
   "id": "9858f351-847d-4b0f-84ff-dde0dddfda7e",
   "metadata": {},
   "outputs": [
    {
     "name": "stdout",
     "output_type": "stream",
     "text": [
      "Loading the dataset...\n",
      "Extracting: 490it [00:01, 342.03it/s]\n"
     ]
    }
   ],
   "source": [
    "!awesome-align \\\n",
    "    --output_file \"disambiguated_source-target_en-de_awesome-aligned.txt\" \\\n",
    "    --data_file \"disambiguated_source-target_en-de.txt\" \\\n",
    "    --model_name_or_path bert-base-multilingual-cased \\\n",
    "    --extraction 'softmax' \\\n",
    "    --batch_size 32"
   ]
  },
  {
   "cell_type": "code",
   "execution_count": 92,
   "id": "67dbd476-e0aa-4748-aac9-7fa91247661d",
   "metadata": {},
   "outputs": [
    {
     "name": "stdout",
     "output_type": "stream",
     "text": [
      "[{'Bauherrin', 'Bauunternehmer', 'Entwicklerin', 'Projektentwickler', 'Bauträger', 'Bauherr', 'Entwickler'}, {'Mechaniker', 'Mechanische', 'Techniker', 'Maschinenbauer', 'Monteur', 'Maschinist', 'Mechanik', 'Mechanikerin'}, {'Bewegung', 'Mover', 'Antrieb', 'Macher', 'treibende', 'Umsetzer', 'Kraft', 'Motor', 'Beweger'}, {'Assistant', 'Betreuer', 'Helfer', 'Assistentin', 'Assistent', 'Stellvertreter', 'Mitarbeiterin', 'Mitarbeiter', 'Gehilfe', 'Helferin'}, {'Leiter', 'Chief', 'Vorsitzende', 'Oberhaupt', 'Chef', 'Chefin', 'Leiterin', 'Hauptmann'}, {'Kaufmann', 'Verkäuferin', 'Vertriebsmitarbeiter', 'Händler', 'Verkäufer'}, {'Rechtsanwalt', 'Anwältin', 'Verteidiger', 'Jurist', 'Juristin', 'Anwälte', 'Anwalt'}, {'Chef', 'Köchin', 'Koch'}, {'Farmer', 'Bauer', 'Landwirt', 'Bauern', 'Landwirtin', 'Landwirte'}, {'Vorstandschef', 'Geschäftsführerin', 'Firmenchef', 'CEO', 'Vorstandsvorsitzende', 'Geschäftsführer', 'Vorsitzende', 'Chef', 'Konzernchef'}, {'Friseuse', 'Friseurmeisterin', 'Frisörin', 'Friseur', 'Friseurmeister', 'Friseurin', 'Frisör'}, {'Fahrerin', 'Busfahrer', 'Autofahrer', 'Fahrer', 'Chauffeur', 'Lenker', 'Kraftfahrer'}, {'Prüferin', 'Rechnungshof', 'Wirtschaftsprüferin', 'Revisor', 'Kassenprüfer', 'Prüfer', 'Abschlussprüfer', 'Auditor', 'Wirtschaftsprüfer'}, {'Wache', 'Wachschutz', 'Wachmann', 'Bewachung', 'Wacht', 'Garde', 'Wachdienst', 'Wächter'}, {'Leiter', 'Verwalter', 'Geschäftsführerin', 'Manager', 'Geschäftsführer', 'Leiterin', 'Chef', 'Geschäftsführung'}, {'Ärzte', 'Medizinerin', 'Doktor', 'Arzt', 'Mediziner', 'Ärztin'}, {'Arbeitnehmer', 'Arbeitskraft', 'Hilfsarbeiter', 'Arbeiter', 'Arbeiterin', 'Arbeitsmann'}, {'Empfangsmitarbeiter', 'Empfangsperson', 'Rezeption', 'Empfängerin', 'Empfangschef', 'Empfangsdame', 'Rezeptionist', 'Rezeptionistin', 'Empfangsleiter'}, {'Putzer', 'sauberere', 'Putzfrau', 'Reinigerin', 'Putzmann', 'Reinigungskraft', 'Sauberkeit', 'Sauberfrau', 'Reiniger', 'Saubermann'}, {'Autor', 'Schriftsteller', 'Schriftstellerin', 'Autorin', 'Schreiber', 'Dichter'}, {'Bauarbeiten', 'Errichtung', 'Aufbau', 'Bau', 'Baumaßnahmen', 'Bauvorhaben', 'Baumaßnahme', 'Bauwerk', 'Konstruktion'}, {'Redaktion', 'Verlag', 'Redakteur', 'Chefredakteur', 'Herausgeber', 'Lektorin', 'Verleger'}, {'Analysten', 'Analytiker', 'Analyst', 'Analyse', 'Analystin'}, {'Zimmermann', 'Tischler', 'Zimmerleute', 'Zimmerer', 'Zimmerei', 'Zimmermeister', 'Schreiner'}, {'Bibliothek', 'Büchereileiter', 'Bibliothekar', 'Bibliothekarin'}, {'Schwester', 'Krankenschwester', 'Amme', 'Pfleger', 'Krankenpflegerin', 'Pflegekraft', 'Krankenpfleger', 'Pflegerin'}, {'Ministerin', 'Minister', 'Staatssekretärin', 'Staatssekretär', 'Schriftführer', 'Generalsekretär', 'Schriftführerin', 'Sekretär', 'Sekretärin'}, {'Sheriff', 'sheriff', 'Sheriffs'}, {'Hausmeister', 'Hauswart', 'Hausverwalter', 'Hausmann', 'Hausmeisterin'}, {'Betreuer', 'Supervisor', 'Aufsichtsbeamte', 'Aufsichtsbehörde', 'Aufseher', 'Kontrolleur', 'Aufsicht', 'Vorgesetzte'}, {'Begleiter', 'Zugbegleiter', 'Hausmeister', 'Betreuer', 'Begleitung', 'Begleiterin', 'Betreuerin', 'Begleitperson', 'Pfleger'}, {'Betreuer', 'Beraterin', 'Ratgeber', 'Berater', 'Anwalt', 'Rat'}, {'Bäckerin', 'Bäckerei', 'Bäckermeister', 'Bäcker'}, {'Angestellte', 'Büroangestellte', 'Schreiber', 'Verkäuferin', 'Sachbearbeiter', 'Beamte', 'Bürokaufmann'}, {'Steuerberaterin', 'Buchhalterin', 'Wirtschaftsprüferin', 'Buchhalter', 'Wirtschaftsprüfer', 'Steuerberater'}, {'Hausherr', 'Hausfrau', 'Haushälterin', 'Hausmädchen', 'Haushälter', 'Haushaltshilfe', 'Hauswirtschafterin', 'Hausdame'}, {'Schneiderin', 'Maßschneider', 'Schneidermeister', 'Schneider', 'Schneiderlein'}, {'Kunde', 'Kunden', 'Kundin', 'Kundschaft', 'Käufer'}, {'Jugendlichen', 'Jugendliche', 'Jugend', 'Teenie', 'Teenager'}, {'Betreuer', 'Beraterin', 'Ratgeber', 'Berater', 'Beirat'}, {'Patienten', 'Patientin', 'Kranke', 'Patient'}, {'Praktiker', 'Praktikerin', 'Praktizierende', 'Arzt', 'Praktizierenden', 'Heilpraktiker', 'Praktikant'}, {'Gutachter', 'Kontrolleur', 'Untersuchungsrichter', 'Prüfer', 'Ermittler', 'Prüfling', 'Prüferin'}, {'Programm', 'Programmer', 'Programmierer', 'Programmiererin', 'Programmier'}, {'Bachelorette', 'Bachelor', 'Grundschüler', 'Bachelorstudent', 'Bachelorabsolvent', 'Studentin', 'Student', 'Studium', 'Studenten'}, {'Diätistin', 'Ernährungsberater', 'Diätberater', 'Ernährer', 'Ernährungsexperte', 'Ernährungsberaterin', 'Diätologin', 'Ernährungsexpertin', 'Ernährungswissenschaftler'}, {'Malerin', 'Künstler', 'Maler'}, {'Vermittler', 'Maklerbüro', 'Maklerin', 'Makler', 'Vermittlerin', 'Broker'}, {'Feuerwehrmann', 'Feuerwehrmänner', 'Feuerwehr', 'Feuerwehrleute', 'Feuerwehrfrau'}]\n",
      "49\n",
      "6.6938775510204085\n"
     ]
    }
   ],
   "source": [
    "# Extract target translated words to source words in original\n",
    "\n",
    "import re\n",
    "\n",
    "# List with original translations\n",
    "translations_original = []\n",
    "with open('hyp_original.txt', 'r') as fin:\n",
    "    for line in fin:\n",
    "        translations_original.append(line.strip())\n",
    "\n",
    "              \n",
    "lineNumber = 0\n",
    "counter = 0\n",
    "indices = [] # a list of lists of indices of translated words for each ambiguous word\n",
    "with open('original_source-target_en-de_awesome-aligned.txt', 'r') as alignments:\n",
    "    for line in alignments:\n",
    "        if (lineNumber == 10):\n",
    "            lineNumber = 0\n",
    "            counter += 1\n",
    "        position = positions_ambiguous_words[counter] # exact position of ambiguous word\n",
    "        regex = r\"\" + str(position) + r\"-(\\d)\"\n",
    "        if re.findall(regex, line): \n",
    "            indices.append([int(index) for index in re.findall(regex, line)])\n",
    "        else:\n",
    "            indices.append([999])\n",
    "        lineNumber += 1\n",
    "        \n",
    "#print(len(indices))\n",
    "#print(indices)\n",
    "\n",
    "lineNumber = 0\n",
    "translations_ambiguous_words = [] # a list of set of translations to each ambiguous word in source\n",
    "translated_ambiguous_words = set() # set forces uniqueness\n",
    "for translation in translations_original:\n",
    "    tokens = translation.split(' ')\n",
    "    if 999 not in indices[lineNumber]:\n",
    "        for ind in indices[lineNumber]:\n",
    "            #print(lineNumber)\n",
    "            #print(tokens[ind])\n",
    "            #print(ind)\n",
    "            translated_ambiguous_words.add(tokens[ind])\n",
    "    lineNumber += 1\n",
    "    if (lineNumber % 10 == 0):\n",
    "            translations_ambiguous_words.append(translated_ambiguous_words)\n",
    "            translated_ambiguous_words = set()\n",
    "    \n",
    "print(translations_ambiguous_words)\n",
    "print(len(translations_ambiguous_words))\n",
    "\n",
    "unique_translations = 0\n",
    "for set_words in translations_ambiguous_words:\n",
    "    unique_translations += len(set_words)\n",
    "print(unique_translations/49)"
   ]
  },
  {
   "cell_type": "code",
   "execution_count": 113,
   "id": "4a1b191a-081d-4984-bdde-aae7f5b0808a",
   "metadata": {},
   "outputs": [],
   "source": [
    "# Add results to file\n",
    "\n",
    "# List with original source sentences\n",
    "source = []\n",
    "with open('tok.en_original.en', 'r') as fin:\n",
    "    for line in fin:\n",
    "        source.append(line.strip())\n",
    "\n",
    "count = 0                \n",
    "with open('unique-words_translations_original.txt', 'w') as fout:\n",
    "    while count < 49:\n",
    "        print(source[count] + ' | ' + ambiguous_words[count] + ' | ' + str(translations_ambiguous_words[count]), end='\\n', file=fout)\n",
    "        count += 1"
   ]
  },
  {
   "cell_type": "code",
   "execution_count": 114,
   "id": "50ce4d32-09d2-426c-b1b0-33be3fa37c89",
   "metadata": {},
   "outputs": [
    {
     "name": "stdout",
     "output_type": "stream",
     "text": [
      "[{'Entwicklerteam', 'Bauunternehmer', 'Entwicklerin', 'Bauträger', 'Bauherr', 'Entwickler'}, {'Mechaniker', 'Männermechaniker', 'mechanische', 'Mann', 'Mechanik', 'Mechanikerin'}, {'Mover', 'Antrieb', 'Macher', 'Motor', 'Zugpferd', 'Beweger'}, {'Helfer', 'Assistentin', 'Assistent', 'Assistenz', 'Mitarbeiter', 'Assistenten', 'Gehilfe', 'Helferin'}, {'Männerchef', 'Anführer', 'Chief', 'Oberhaupt', 'Chef', 'Chefin', 'Häuptling', 'Männerhauptmann'}, {'Verkäuferin', 'Verkäufer', 'Händler'}, {'Rechtsanwalt', 'Anwältin', 'Verteidiger', 'Jurist', 'Männer', 'Anwalt'}, {'Köchin', 'Männerkoch', 'Köche', 'Koch'}, {'Farmer', 'Bauer', 'Landwirt', 'Bauern', 'Bäuerliche', 'Landwirtin', 'Landwirte'}, {'Vorstandschef', 'Vorstandsvorsitzenden', 'Vorstandsvorsitzende', 'CEO', 'Geschäftsführer', 'Chef', 'Konzernchef'}, {'Friseuse', 'Friseure', 'Friseur', 'Friseurmeister', 'Friseurin', 'Frisör', 'Männerfriseur'}, {'Fahrerin', 'Autofahrer', 'Fahrer', 'Fahrzeugführer', 'Mann', 'Kraftfahrer'}, {'Prüferin', 'Revisor', 'Kassenprüfer', 'Prüfer', 'Abschlussprüfer', 'Auditor', 'Wirtschaftsprüfer'}, {'Wache', 'Wachmann', 'Garde', 'Männergarde', 'Wächter'}, {'Leiter', 'Geschäftsführerin', 'Managerin', 'Manager', 'Geschäftsführer', 'Führungskraft', 'Chef'}, {'Medizin', 'Ärzte', 'Mann', 'Männerarzt', 'Arzt', 'Mediziner', 'Ärztin'}, {'Arbeitnehmer', 'Arbeitskraft', 'Knecht', 'Arbeiter', 'Arbeiterin', 'Hilfsarbeiter'}, {'Empfangsmitarbeiter', 'Empfang', 'Empfangsperson', 'Rezeption', 'Empfängerin', 'Empfangschef', 'Empfangsdame', 'Rezeptionist', 'Rezeptionistin', 'Empfangsleiter'}, {'Putzer', 'Putzfrau', 'Putzkraft', 'Putzmann', 'Reinigungskraft', 'Reinigung', 'Reiniger'}, {'Autor', 'Schriftsteller', 'Schriftstellerin', 'Autorin', 'Schreiber'}, {'Aufbau', 'Bau', 'Konstruktionen', 'Männerkonstruktion', 'Konstrukt', 'Bauweise', 'Männerbau', 'Konstruktion'}, {'Redaktion', 'Redakteur', 'Chefredakteur', 'Editor', 'Redaktor', 'Herausgeber', 'Lektor', 'Redakteure'}, {'Analysten', 'Analytiker', 'Analyst', 'Analyse', 'Analystin'}, {'Zimmermann', 'Tischlermeister', 'Tischler', 'Schreinermeister', 'Zimmerer', 'Schreiner'}, {'Bibliotheksleiter', 'Bibliothekare', 'Bibliothekarin', 'Bibliothek', 'Bibliothekar'}, {'Krankenschwester', 'Pfleger', 'Amme', 'Schwester', 'Krankenpfleger', 'Pflegerin'}, {'Staatssekretär', 'Schriftführer', 'Generalsekretär', 'Schriftführerin', 'Sekretär', 'Sekretärin'}, {'Sheriff'}, {'Hausmeister', 'Hauswart', 'Hausmeisterin', 'Hausverwalter'}, {'Betreuer', 'Vorgesetzten', 'Supervisor', 'Vorgesetzter', 'Aufseher', 'Kontrolleur', 'Aufsicht', 'Vorgesetzte'}, {'Begleiter', 'Betreuer', 'Hausmeister', 'Diener', 'Begleitung', 'Aufseher', 'Begleiterin', 'Assistent', 'Pfleger'}, {'Betreuer', 'Beraterin', 'Ratgeber', 'Berater', 'Männerberater'}, {'Bäckermeister', 'Bäcker', 'Bäckerin', 'Mann', 'Bäckermann', 'Männerbäcker', 'Bäckermännchen'}, {'Angestellte', 'Büroangestellte', 'Schreiber', 'Sekretär', 'Sachbearbeiter', 'Sekretärin', 'Beamte', 'Bürokaufmann'}, {'Buchhalter', 'Buchhaltung', 'Buchhalterin', 'Steuerberater'}, {'Hausherr', 'Hausfrau', 'Haushälterin', 'Haushälter', 'Haushaltshilfe', 'Hauswirtschafterin', 'Hausdame'}, {'Schneiderin', 'Maßschneider', 'Männerschneider', 'Schneidermeister', 'Schneidermännchen', 'Schneider', 'Schneiderlein'}, {'Kunde', 'Abnehmer', 'Kunden', 'Kundin', 'Kundschaft', 'Käufer'}, {'Teenager', 'Jugendliche', 'Jugend'}, {'Betreuer', 'Beratung', 'Ratgeber', 'Berater', 'Männerberater'}, {'Patienten', 'Patient'}, {'Praktiker', 'Praktizierende', 'Praxis', 'praktizierende', 'Arzt', 'Mann', 'Praktizierenden', 'Übende'}, {'Untersuchungsführer', 'Prüfer', 'Ermittler', 'Prüfling', 'Prüferin'}, {'Programmier', 'Programmierer'}, {'Bachelorette', 'Bachelor', 'Studierende', 'Grundschüler', 'Bachelorstudent', 'Studienanfänger', 'Student', 'Undergraduate', 'Erstsemester', 'Studenten'}, {'Diätberater', 'Ernährungsberater', 'Ernährer', 'Ernährungstier', 'Ernährungsexperte', 'Ernährungsberaterin', 'Ernährungsexpertin', 'Ernährung', 'Ernährungsbeamte'}, {'Malermeister', 'Maler', 'Männermaler', 'Malermann', 'Mann', 'Malerin', 'Künstler'}, {'Vermittler', 'Maklerin', 'Makler', 'Vermittlerin', 'Broker'}, {'Feuerwehrmann', 'Feuerwehrmänner', 'männliche', 'Feuerwehr', 'Mann', 'Feuerwehrleute', 'Feuerwehrfrau'}]\n",
      "49\n",
      "6.142857142857143\n"
     ]
    }
   ],
   "source": [
    "# Extract target translated words to source words in disambiguated\n",
    "\n",
    "import re\n",
    "\n",
    "# List with original translations\n",
    "translations_disambiguated = []\n",
    "with open('hyp_disambiguated.txt', 'r') as fin:\n",
    "    for line in fin:\n",
    "        translations_disambiguated.append(line.strip())\n",
    "\n",
    "              \n",
    "lineNumber = 0\n",
    "counter = 0\n",
    "indices = [] # a list of lists of indices of translated words for each ambiguous word\n",
    "with open('disambiguated_source-target_en-de_awesome-aligned.txt', 'r') as alignments:\n",
    "    for line in alignments:\n",
    "        if (lineNumber == 10):\n",
    "            lineNumber = 0\n",
    "            counter += 1\n",
    "        position = positions_ambiguous_words[counter] + 1 # exact position of ambiguous word; !!! add 1 because of gender word\n",
    "        regex = r\"\" + str(position) + r\"-(\\d)\"\n",
    "        if re.findall(regex, line): \n",
    "            indices.append([int(index) for index in re.findall(regex, line)])\n",
    "        else:\n",
    "            indices.append([999])\n",
    "        lineNumber += 1\n",
    "        \n",
    "#print(len(indices))\n",
    "#print(indices)\n",
    "\n",
    "lineNumber = 0\n",
    "translations_ambiguous_words = [] # a list of set of translations to each ambiguous word in source\n",
    "translated_ambiguous_words = set() # set forces uniqueness\n",
    "for translation in translations_disambiguated:\n",
    "    tokens = translation.split(' ')\n",
    "    if 999 not in indices[lineNumber]:\n",
    "        for ind in indices[lineNumber]:\n",
    "            #print(lineNumber)\n",
    "            #print(tokens[ind])\n",
    "            #print(ind)\n",
    "            translated_ambiguous_words.add(tokens[ind])\n",
    "    lineNumber += 1\n",
    "    if (lineNumber % 10 == 0):\n",
    "            translations_ambiguous_words.append(translated_ambiguous_words)\n",
    "            translated_ambiguous_words = set()\n",
    "    \n",
    "print(translations_ambiguous_words)\n",
    "print(len(translations_ambiguous_words))\n",
    "\n",
    "unique_translations = 0\n",
    "for set_words in translations_ambiguous_words:\n",
    "    unique_translations += len(set_words)\n",
    "print(unique_translations/49)"
   ]
  },
  {
   "cell_type": "code",
   "execution_count": 115,
   "id": "339d92d0-9fa7-4140-ab74-a6c82f9cf85f",
   "metadata": {},
   "outputs": [],
   "source": [
    "# Add results to file\n",
    "\n",
    "# List with original source sentences\n",
    "source = []\n",
    "with open('tok.en_disambiguated.en', 'r') as fin:\n",
    "    for line in fin:\n",
    "        source.append(line.strip())\n",
    "\n",
    "count = 0                \n",
    "with open('unique-words_translations_disambiguated.txt', 'w') as fout:\n",
    "    while count < 49:\n",
    "        print(source[count] + ' | ' + ambiguous_words[count] + ' | ' + str(translations_ambiguous_words[count]), end='\\n', file=fout)\n",
    "        count += 1"
   ]
  },
  {
   "cell_type": "markdown",
   "id": "7c7ab63c-5750-42b2-b80a-ea767942f356",
   "metadata": {
    "tags": []
   },
   "source": [
    "# Word alignement (translation-backtranslation)"
   ]
  },
  {
   "cell_type": "markdown",
   "id": "174ac057-9ea8-4bff-a824-8f4498ed95a4",
   "metadata": {
    "tags": []
   },
   "source": [
    "## fast_align"
   ]
  },
  {
   "cell_type": "markdown",
   "id": "dc4e8452-0480-4b1c-a990-b89f331bc931",
   "metadata": {},
   "source": [
    "- Extract the position of the translated ambiguous word from each sentence"
   ]
  },
  {
   "cell_type": "code",
   "execution_count": 96,
   "id": "adaea51e-5cb1-4809-8234-04966b3ed129",
   "metadata": {},
   "outputs": [
    {
     "name": "stdout",
     "output_type": "stream",
     "text": [
      "490\n",
      "[[1], [1], [1], [1], [1], [1], [1], [1], [1], [0], [1], [1], [0], [1], [1], [1], [1], [1], [1], [1], [1], [1], [1], [1, 2], [1], [1], [1], [1], [1], [1], [1], [1], [1], [1], [1], [1], [1], [1], [1], [1], [1], [1], [1], [1, 2], [1], [1], [1], [1], [1], [999], [1], [1], [0], [1, 2], [1], [1], [0], [1], [1], [1], [1], [1], [1], [1], [1], [1], [1, 2], [1], [0], [0], [1], [1], [0], [1], [1, 2], [1], [1], [1], [0], [1], [1], [1], [1], [1], [1], [1], [1], [1, 2], [0], [1], [1], [1], [1], [1], [1], [1], [1], [1], [1], [1], [1], [1], [1], [1], [1], [1], [0], [1], [1], [1], [1], [1], [1], [1], [1], [1, 2], [1], [1], [1], [1, 2], [1], [1], [1], [1], [1], [1], [1], [1], [1], [1], [1], [1], [1], [1], [1], [1], [1], [1], [1], [0], [1], [1], [1], [1], [1], [1], [1], [1, 2], [1], [1], [1], [1], [1], [1], [1], [1], [1], [1], [1], [0], [1], [1], [1], [1], [1], [1], [1], [1], [1], [0], [1], [1], [1], [1, 2], [0], [1], [1], [1], [1], [1], [1], [1], [1], [1], [1], [1], [1], [1], [1], [1], [1], [1], [1], [1], [1], [1], [1], [1, 2], [1], [1, 2], [1], [1], [1], [1], [1], [1], [1], [1], [1], [1, 2], [1], [1], [1], [1], [1], [1], [1], [1], [1, 2], [1], [1], [1], [1], [1], [1], [1], [0], [1], [1], [0], [1], [1], [1], [1], [1], [1], [0], [1], [0], [1], [1], [1], [1], [0], [1], [1], [1], [0], [1], [1], [1], [1], [1], [0], [1], [1], [1], [1], [1], [1], [1], [1], [1], [1], [1], [0], [1], [0], [1], [1], [1], [1, 2], [1], [1], [0], [1], [1], [0], [1], [1], [1], [1], [1], [1], [0], [1, 2], [1], [1], [1], [1], [1], [1], [1], [1], [1], [1], [1], [1], [1], [1, 2], [1], [1], [1], [1], [1], [1], [1], [1], [1], [1], [1], [1], [1], [1], [1], [1], [1], [0], [1], [0], [1], [1], [1], [1, 2], [1], [1], [1], [1], [0], [1], [1], [1], [1], [1], [1], [1], [1], [1], [1], [1], [1], [1], [1], [1], [1], [0], [1], [0], [1], [0], [1], [1], [1], [1], [1], [1], [1], [1], [0], [1], [1], [1], [1], [1], [1], [0], [1], [0], [1], [0], [1], [1], [1], [1], [1], [1], [1, 2], [1], [1], [0], [1], [1], [1], [1], [1], [1], [1], [1], [0], [0], [1], [1], [1], [1, 2], [1], [1], [0], [1, 2], [1], [0], [1], [1], [1], [1], [1], [1, 2], [1], [1], [0], [0], [1], [1], [1], [1], [1], [1], [1], [1], [1], [0], [1], [1], [1], [1], [1], [1], [1], [1], [1], [0], [1], [1], [1], [1], [0], [1], [1], [1], [1], [1], [1], [1], [1], [1], [1], [1], [1], [1], [1], [1], [1], [1], [1], [1], [1], [1], [1], [1], [1], [0], [1], [1], [1, 2], [1], [1], [1], [1], [1], [1], [0], [1], [1], [1], [1], [1], [1], [1], [0], [1], [1], [1], [1], [1], [1], [1], [0], [1], [1], [1], [0]]\n"
     ]
    }
   ],
   "source": [
    "import re\n",
    "             \n",
    "lineNumber = 0\n",
    "counter = 0\n",
    "positions_ambiguous_words_original = [] # a list of lists of indices of translated words for each ambiguous word\n",
    "with open('original_source-target_en-de_fast-aligned.txt', 'r') as alignments:\n",
    "    for line in alignments:\n",
    "        if (lineNumber == 10):\n",
    "            lineNumber = 0\n",
    "            counter += 1\n",
    "        position = positions_ambiguous_words[counter] # exact position of ambiguous word\n",
    "        regex = r\"\" + str(position) + r\"-(\\d)\"\n",
    "        if re.findall(regex, line): \n",
    "            positions_ambiguous_words_original.append([int(index) for index in re.findall(regex, line)])\n",
    "        else:\n",
    "            positions_ambiguous_words_original.append([999])\n",
    "        lineNumber += 1\n",
    "        \n",
    "print(len(positions_ambiguous_words_original))\n",
    "print(positions_ambiguous_words_original)"
   ]
  },
  {
   "cell_type": "code",
   "execution_count": 97,
   "id": "ec8f7f6b-d115-4737-bff5-9b61f84d7c2a",
   "metadata": {},
   "outputs": [
    {
     "name": "stdout",
     "output_type": "stream",
     "text": [
      "490\n",
      "[[2], [2], [2], [2], [2], [2], [1], [1], [2], [2], [1], [2], [2], [2], [2], [1], [0], [1], [2], [2], [2], [2], [2], [2], [2], [2], [2], [2], [2], [1], [2], [2], [2], [2], [2], [2], [2], [2], [1], [1], [2], [2], [1], [2], [1], [2], [2], [2], [1], [1], [2], [2], [1], [2], [1], [2], [1], [1], [2], [1], [2], [2], [2], [1], [1], [1], [1, 2, 3], [1, 2, 3], [1], [2], [2], [2], [1], [1], [2], [1], [1], [3], [2], [0], [2], [2], [2], [2], [2], [2], [1], [1], [1], [2], [2], [2], [2], [2], [2], [2], [2], [2], [2], [1], [2], [2], [1], [2], [2], [1], [2], [1], [1, 2, 3], [2], [2], [2], [2], [2], [2], [2], [2, 3], [1], [1], [1], [2], [2], [2], [2], [2], [1], [2], [2], [2], [1], [2], [2], [1], [1], [1], [2], [1], [2], [2, 3], [0], [2], [2], [2], [2], [2], [2], [2], [1], [1], [1], [2], [1], [2], [1], [2], [1, 2, 3], [1], [1, 2, 3], [1], [2], [2], [2], [2], [2], [2], [2], [1], [2], [2], [1], [2], [2], [2], [2], [2], [2], [1], [2], [2], [2], [2], [2], [2], [2], [2], [2], [1], [2], [1], [1], [2], [2], [2], [1], [2], [2], [2], [1], [2], [1], [2], [2], [2], [1], [2], [1], [2], [2], [1], [0], [2], [2], [2], [2], [2], [2], [2], [1], [2], [1], [2], [2], [2], [2], [1], [2], [2], [2], [1], [2], [2], [2], [1], [1], [1], [1], [2], [2], [1], [1], [2], [2], [2], [2], [2], [1], [1], [2], [2], [0], [1], [1], [1], [2], [2], [2], [2], [1], [2], [0], [2], [2], [1], [1], [2], [2], [2], [1, 2, 3], [2], [1], [2], [2], [1, 3], [1], [2], [2], [1], [2], [2, 3], [2], [1], [2], [2], [2], [2], [2], [2], [2], [1], [0], [2], [2], [2], [2], [2], [2], [2], [2], [2, 3], [2], [2], [2], [2], [2], [2], [2], [2], [2], [2], [2], [2], [2], [2], [2], [2], [1], [2], [1, 2, 3], [1], [1], [2], [1], [2], [1], [2], [1], [1], [1], [2], [1, 3], [2], [2], [2], [2], [2], [2], [2], [2], [2], [2], [2], [1], [2], [1], [2], [2], [2], [1, 3], [1], [0], [2], [2], [1], [2], [2], [2], [2], [2], [2], [1], [2], [1], [1], [1], [1], [2], [1], [1], [2], [1], [2], [2], [2], [2], [2], [1], [1], [2], [2], [1], [2], [2], [2], [2], [2], [2], [2], [1], [1], [1], [2], [2], [2], [1], [1], [2], [2], [2], [1], [0], [2], [1], [2], [1, 3], [2], [1], [1, 2], [1, 2], [2], [1], [2], [2], [2], [2], [2], [2], [2], [2], [2], [1], [2], [2], [2], [2], [2], [1], [2], [1], [2], [1], [2], [2], [2], [1], [2], [1], [2], [1, 2], [1], [1, 2, 3], [2], [2], [2], [2], [2], [2], [2], [2], [2], [2], [2], [2], [2], [2], [2], [2], [2], [2], [2], [2], [2], [2], [1], [1], [1], [2], [1], [2], [2], [1], [2], [2], [2], [2], [2], [1], [2], [2], [1], [1], [2], [2], [1], [2], [2], [2], [2], [1, 2, 3], [2], [0]]\n"
     ]
    }
   ],
   "source": [
    "import re\n",
    "             \n",
    "lineNumber = 0\n",
    "counter = 0\n",
    "positions_ambiguous_words_disambiguated = [] # a list of lists of indices of translated words for each ambiguous word\n",
    "with open('disambiguated_source-target_en-de_fast-aligned.txt', 'r') as alignments:\n",
    "    for line in alignments:\n",
    "        if (lineNumber == 10):\n",
    "            lineNumber = 0\n",
    "            counter += 1\n",
    "        position = positions_ambiguous_words[counter] + 1 # exact position of ambiguous word; !!! add 1 because of gender word\n",
    "        regex = r\"\" + str(position) + r\"-(\\d)\"\n",
    "        if re.findall(regex, line): \n",
    "            positions_ambiguous_words_disambiguated.append([int(index) for index in re.findall(regex, line)])\n",
    "        else:\n",
    "            positions_ambiguous_words_disambiguated.append([999])\n",
    "        lineNumber += 1\n",
    "        \n",
    "print(len(positions_ambiguous_words_disambiguated))\n",
    "print(positions_ambiguous_words_disambiguated)"
   ]
  },
  {
   "cell_type": "markdown",
   "id": "c20f6e57-70df-4156-99b5-859e397f52b7",
   "metadata": {},
   "source": [
    "- Input to fast_align must be tokenized and aligned into parallel sentences. \n",
    "- Line is a source language sentence and its target language translation, separated by a triple pipe symbol with leading and trailing white space (|||)"
   ]
  },
  {
   "cell_type": "code",
   "execution_count": 98,
   "id": "d564f6f5-8c8a-4794-91ca-a7868d574dc5",
   "metadata": {},
   "outputs": [
    {
     "name": "stdout",
     "output_type": "stream",
     "text": [
      "490\n",
      "490\n"
     ]
    }
   ],
   "source": [
    "# List with original translated sentences\n",
    "translations = []\n",
    "with open('hyp_original.txt', 'r') as fin:\n",
    "    for line in fin:\n",
    "        translations.append(line.strip())\n",
    "         \n",
    "# List with nbest sentences for every translation in original \n",
    "nbest_original = []\n",
    "counter = 0\n",
    "temp = []\n",
    "with open('hyp_original_back.txt', 'r') as fin:\n",
    "    for line in fin:\n",
    "        temp.append(line.strip())\n",
    "        counter += 1\n",
    "        if (counter == 10):\n",
    "            nbest_original.append(temp)\n",
    "            counter = 0\n",
    "            temp = []\n",
    "\n",
    "print(len(translations))\n",
    "print(len(nbest_original))          \n",
    "        \n",
    "count = 0\n",
    "with open('original_translation-back_en-de.txt', 'w') as fout:\n",
    "    while count < 490:\n",
    "        for hyp in nbest_original[count]:\n",
    "            print(translations[count] + ' ||| ' + hyp, end='\\n', file=fout)\n",
    "        count += 1"
   ]
  },
  {
   "cell_type": "code",
   "execution_count": 99,
   "id": "ef63648c-81bf-4624-ac2e-6d4148e85331",
   "metadata": {},
   "outputs": [
    {
     "name": "stdout",
     "output_type": "stream",
     "text": [
      "490\n",
      "490\n"
     ]
    }
   ],
   "source": [
    "# List with disambiguated translated sentences\n",
    "translations = []\n",
    "with open('hyp_disambiguated.txt', 'r') as fin:\n",
    "    for line in fin:\n",
    "        translations.append(line.strip())\n",
    "         \n",
    "# List with nbest sentences for every translation in original \n",
    "nbest_disambiguated = []\n",
    "counter = 0\n",
    "temp = []\n",
    "with open('hyp_disambiguated_back.txt', 'r') as fin:\n",
    "    for line in fin:\n",
    "        temp.append(line.strip())\n",
    "        counter += 1\n",
    "        if (counter == 10):\n",
    "            nbest_disambiguated.append(temp)\n",
    "            counter = 0\n",
    "            temp = []\n",
    "\n",
    "print(len(translations))\n",
    "print(len(nbest_disambiguated))           \n",
    "        \n",
    "count = 0\n",
    "with open('disambiguated_translation-back_en-de.txt', 'w') as fout:\n",
    "    while count < 490:\n",
    "        for hyp in nbest_disambiguated[count]:\n",
    "            print(translations[count] + ' ||| ' + hyp, end='\\n', file=fout)\n",
    "        count += 1"
   ]
  },
  {
   "cell_type": "markdown",
   "id": "0fd83be3-c2a7-4245-844c-52f51e416a4d",
   "metadata": {},
   "source": [
    "- Word alignement"
   ]
  },
  {
   "cell_type": "code",
   "execution_count": null,
   "id": "0a6552ff-349f-4048-b65b-4c4959901ce4",
   "metadata": {},
   "outputs": [],
   "source": [
    "!$FAST_ALIGN -i original_translation-back_en-de.txt -d -o -v > original_translation-back_en-de_fast-aligned.txt\n",
    "!$FAST_ALIGN -i disambiguated_translation-back_en-de.txt -d -o -v > disambiguated_translation-back_en-de_fast-aligned.txt"
   ]
  },
  {
   "cell_type": "markdown",
   "id": "d2a3d06b-82f7-4341-be31-eef67f4a415a",
   "metadata": {},
   "source": [
    "- Extract target backtranslated words"
   ]
  },
  {
   "cell_type": "code",
   "execution_count": 102,
   "id": "ebc21367-64ff-4525-a39f-ba06df06621b",
   "metadata": {},
   "outputs": [
    {
     "name": "stdout",
     "output_type": "stream",
     "text": [
      "490\n",
      "49\n",
      "35.734693877551024\n"
     ]
    }
   ],
   "source": [
    "import re\n",
    "\n",
    "# List with original backtranslations\n",
    "backtranslations_original = []\n",
    "with open('hyp_original_back.txt', 'r') as fin:\n",
    "    for line in fin:\n",
    "        backtranslations_original.append(line.strip())\n",
    "             \n",
    "lineNumber = 0\n",
    "counter = 0\n",
    "indices = []\n",
    "with open('original_translation-back_en-de_fast-aligned.txt', 'r') as alignments:\n",
    "    for line in alignments:\n",
    "        if (lineNumber == 10):\n",
    "            lineNumber = 0\n",
    "            counter += 1\n",
    "        positions = positions_ambiguous_words_original[counter] # exact positions of ambiguous words\n",
    "        list_indices = []\n",
    "        for position in positions:\n",
    "            regex = r\"\" + str(position) + r\"-(\\d)\"\n",
    "            if re.findall(regex, line): \n",
    "                list_indices.extend([int(index) for index in re.findall(regex, line)])\n",
    "            else:\n",
    "                list_indices.extend([999])\n",
    "        indices.append(list_indices)\n",
    "        lineNumber += 1\n",
    "        \n",
    "#print(len(indices))\n",
    "#print(indices)\n",
    "\n",
    "lineNumber = 0\n",
    "backtranslations_ambiguous_words = [] # a list of set of translations to each ambiguous word in source\n",
    "backtranslated_ambiguous_words = set() # set forces uniqueness\n",
    "for backtranslation in backtranslations_original:\n",
    "    tokens = backtranslation.split(' ')\n",
    "    if 999 not in indices[lineNumber]:\n",
    "        for ind in indices[lineNumber]:\n",
    "            #print(lineNumber)\n",
    "            #print(tokens[ind])\n",
    "            #print(ind)\n",
    "            backtranslated_ambiguous_words.add(tokens[ind])\n",
    "    lineNumber += 1\n",
    "    if (lineNumber % 10 == 0):\n",
    "            backtranslations_ambiguous_words.append(backtranslated_ambiguous_words)\n",
    "            backtranslated_ambiguous_words = set()\n",
    "\n",
    "\n",
    "    \n",
    "#print(backtranslations_ambiguous_words)\n",
    "print(len(backtranslations_ambiguous_words))\n",
    "\n",
    "# Here we need to merge the sets for every 10 sets, because we want to see unique words in the nbest 100 backtranslation\n",
    "backtranslations_ambiguous_words_reduced = []\n",
    "backtranslated_ambiguous_words = set() # set forces uniqueness\n",
    "counter = 0\n",
    "for set_words in backtranslations_ambiguous_words:\n",
    "    backtranslated_ambiguous_words.update(set_words)\n",
    "    counter += 1\n",
    "    if (counter % 10 == 0):\n",
    "        backtranslations_ambiguous_words_reduced.append(backtranslated_ambiguous_words)\n",
    "        backtranslated_ambiguous_words = set()\n",
    "    \n",
    "print(len(backtranslations_ambiguous_words_reduced))   \n",
    "    \n",
    "unique_backtranslations = 0\n",
    "for set_words in backtranslations_ambiguous_words_reduced:\n",
    "    unique_backtranslations += len(set_words)\n",
    "print(unique_backtranslations/49)"
   ]
  },
  {
   "cell_type": "code",
   "execution_count": 103,
   "id": "8884ad88-b68d-4cd0-a38e-a4d2c89cdd7c",
   "metadata": {},
   "outputs": [
    {
     "name": "stdout",
     "output_type": "stream",
     "text": [
      "490\n",
      "49\n",
      "27.836734693877553\n"
     ]
    }
   ],
   "source": [
    "import re\n",
    "\n",
    "# List with disambiguated backtranslations\n",
    "backtranslations_disambiguated = []\n",
    "with open('hyp_disambiguated_back.txt', 'r') as fin:\n",
    "    for line in fin:\n",
    "        backtranslations_disambiguated.append(line.strip())\n",
    "             \n",
    "lineNumber = 0\n",
    "counter = 0\n",
    "indices = []\n",
    "with open('disambiguated_translation-back_en-de_fast-aligned.txt', 'r') as alignments:\n",
    "    for line in alignments:\n",
    "        if (lineNumber == 10):\n",
    "            lineNumber = 0\n",
    "            counter += 1\n",
    "        positions = positions_ambiguous_words_disambiguated[counter] # exact positions of ambiguous words\n",
    "        list_indices = []\n",
    "        for position in positions:\n",
    "            regex = r\"\" + str(position) + r\"-(\\d)\"\n",
    "            if re.findall(regex, line): \n",
    "                list_indices.extend([int(index) for index in re.findall(regex, line)])\n",
    "            else:\n",
    "                list_indices.extend([999])\n",
    "        indices.append(list_indices)\n",
    "        lineNumber += 1\n",
    "        \n",
    "#print(len(indices))\n",
    "#print(indices)\n",
    "\n",
    "lineNumber = 0\n",
    "backtranslations_ambiguous_words = [] # a list of set of translations to each ambiguous word in source\n",
    "backtranslated_ambiguous_words = set() # set forces uniqueness\n",
    "for backtranslation in backtranslations_disambiguated:\n",
    "    tokens = backtranslation.split(' ')\n",
    "    if 999 not in indices[lineNumber]:\n",
    "        for ind in indices[lineNumber]:\n",
    "            #print(lineNumber)\n",
    "            #print(tokens[ind])\n",
    "            #print(ind)\n",
    "            backtranslated_ambiguous_words.add(tokens[ind])\n",
    "    lineNumber += 1\n",
    "    if (lineNumber % 10 == 0):\n",
    "            backtranslations_ambiguous_words.append(backtranslated_ambiguous_words)\n",
    "            backtranslated_ambiguous_words = set()\n",
    "    \n",
    "#print(backtranslations_ambiguous_words)\n",
    "print(len(backtranslations_ambiguous_words))\n",
    "\n",
    "# Here we need to merge the sets for every 10 sets, because we want to see unique words in the nbest 100 backtranslation\n",
    "backtranslations_ambiguous_words_reduced = []\n",
    "backtranslated_ambiguous_words = set() # set forces uniqueness\n",
    "counter = 0\n",
    "for set_words in backtranslations_ambiguous_words:\n",
    "    backtranslated_ambiguous_words.update(set_words)\n",
    "    counter += 1\n",
    "    if (counter % 10 == 0):\n",
    "        backtranslations_ambiguous_words_reduced.append(backtranslated_ambiguous_words)\n",
    "        backtranslated_ambiguous_words = set()\n",
    "\n",
    "print(len(backtranslations_ambiguous_words_reduced))   \n",
    "    \n",
    "unique_backtranslations = 0\n",
    "for set_words in backtranslations_ambiguous_words_reduced:\n",
    "    unique_backtranslations += len(set_words)\n",
    "print(unique_backtranslations/49)"
   ]
  },
  {
   "cell_type": "markdown",
   "id": "8ed81f30-6996-4a42-a7bf-945dd7e74c67",
   "metadata": {
    "tags": []
   },
   "source": [
    "## awesome_align"
   ]
  },
  {
   "cell_type": "markdown",
   "id": "f74d423a-639b-4f9e-b9a7-a191578edc4e",
   "metadata": {},
   "source": [
    "- Extract the position of the translated ambiguous word from each sentence"
   ]
  },
  {
   "cell_type": "code",
   "execution_count": 104,
   "id": "3542e7f6-f507-42b6-b5b0-3dc1f89deba7",
   "metadata": {},
   "outputs": [
    {
     "name": "stdout",
     "output_type": "stream",
     "text": [
      "490\n"
     ]
    }
   ],
   "source": [
    "import re\n",
    "             \n",
    "lineNumber = 0\n",
    "counter = 0\n",
    "positions_ambiguous_words_original = [] # a list of lists of indices of translated words for each ambiguous word\n",
    "with open('original_source-target_en-de_awesome-aligned.txt', 'r') as alignments:\n",
    "    for line in alignments:\n",
    "        if (lineNumber == 10):\n",
    "            lineNumber = 0\n",
    "            counter += 1\n",
    "        position = positions_ambiguous_words[counter] # exact position of ambiguous word\n",
    "        regex = r\"\" + str(position) + r\"-(\\d)\"\n",
    "        if re.findall(regex, line): \n",
    "            positions_ambiguous_words_original.append([int(index) for index in re.findall(regex, line)])\n",
    "        else:\n",
    "            positions_ambiguous_words_original.append([999])\n",
    "        lineNumber += 1\n",
    "        \n",
    "print(len(positions_ambiguous_words_original))\n",
    "#print(positions_ambiguous_words_original)"
   ]
  },
  {
   "cell_type": "code",
   "execution_count": 105,
   "id": "7c8a6727-b03f-4344-9870-7235334baf90",
   "metadata": {},
   "outputs": [
    {
     "name": "stdout",
     "output_type": "stream",
     "text": [
      "490\n"
     ]
    }
   ],
   "source": [
    "import re\n",
    "             \n",
    "lineNumber = 0\n",
    "counter = 0\n",
    "positions_ambiguous_words_disambiguated = [] # a list of lists of indices of translated words for each ambiguous word\n",
    "with open('disambiguated_source-target_en-de_awesome-aligned.txt', 'r') as alignments:\n",
    "    for line in alignments:\n",
    "        if (lineNumber == 10):\n",
    "            lineNumber = 0\n",
    "            counter += 1\n",
    "        position = positions_ambiguous_words[counter] + 1 # exact position of ambiguous word; !!! add 1 because of gender word\n",
    "        regex = r\"\" + str(position) + r\"-(\\d)\"\n",
    "        if re.findall(regex, line): \n",
    "            positions_ambiguous_words_disambiguated.append([int(index) for index in re.findall(regex, line)])\n",
    "        else:\n",
    "            positions_ambiguous_words_disambiguated.append([999])\n",
    "        lineNumber += 1\n",
    "        \n",
    "print(len(positions_ambiguous_words_disambiguated))\n",
    "#print(positions_ambiguous_words_disambiguated)"
   ]
  },
  {
   "cell_type": "markdown",
   "id": "0c8b6d21-3ddb-4904-ab00-b7c41e3a9016",
   "metadata": {},
   "source": [
    "- Word alignement"
   ]
  },
  {
   "cell_type": "code",
   "execution_count": 106,
   "id": "7344a012-1da5-4328-a801-29a8a45826a2",
   "metadata": {},
   "outputs": [
    {
     "name": "stdout",
     "output_type": "stream",
     "text": [
      "Loading the dataset...\n",
      "Extracting: 4900it [00:04, 1091.74it/s]\n"
     ]
    }
   ],
   "source": [
    "# ??? How to set model correctly\n",
    "# MODELS=\"/export/data4/vzhekova/biases-data/En-De/wmt19.en-de.joined-dict.ensemble\"\n",
    "!awesome-align \\\n",
    "    --output_file \"original_translation-back_en-de_awesome-aligned.txt\" \\\n",
    "    --data_file \"original_translation-back_en-de.txt\" \\\n",
    "    --model_name_or_path bert-base-multilingual-cased \\\n",
    "    --extraction 'softmax' \\\n",
    "    --batch_size 32"
   ]
  },
  {
   "cell_type": "code",
   "execution_count": 107,
   "id": "48f24f88-a35b-4b3f-bca7-f366c4dc583e",
   "metadata": {},
   "outputs": [
    {
     "name": "stdout",
     "output_type": "stream",
     "text": [
      "Loading the dataset...\n",
      "Extracting: 4900it [00:05, 835.08it/s] \n"
     ]
    }
   ],
   "source": [
    "!awesome-align \\\n",
    "    --output_file \"disambiguated_translation-back_en-de_awesome-aligned.txt\" \\\n",
    "    --data_file \"disambiguated_translation-back_en-de.txt\" \\\n",
    "    --model_name_or_path bert-base-multilingual-cased \\\n",
    "    --extraction 'softmax' \\\n",
    "    --batch_size 32"
   ]
  },
  {
   "cell_type": "markdown",
   "id": "6ee0f0e8-a5b2-44d2-8732-5b68f5be0a6b",
   "metadata": {},
   "source": [
    "- Extract target backtranslated words"
   ]
  },
  {
   "cell_type": "code",
   "execution_count": 108,
   "id": "61b55b39-be61-4623-8ba3-c5f00ca7a088",
   "metadata": {},
   "outputs": [
    {
     "name": "stdout",
     "output_type": "stream",
     "text": [
      "490\n",
      "49\n",
      "33.44897959183673\n"
     ]
    }
   ],
   "source": [
    "import re\n",
    "\n",
    "# List with original backtranslations\n",
    "backtranslations_original = []\n",
    "with open('hyp_original_back.txt', 'r') as fin:\n",
    "    for line in fin:\n",
    "        backtranslations_original.append(line.strip())\n",
    "             \n",
    "lineNumber = 0\n",
    "counter = 0\n",
    "indices = []\n",
    "with open('original_translation-back_en-de_awesome-aligned.txt', 'r') as alignments:\n",
    "    for line in alignments:\n",
    "        if (lineNumber == 10):\n",
    "            lineNumber = 0\n",
    "            counter += 1\n",
    "        positions = positions_ambiguous_words_original[counter] # exact positions of ambiguous words\n",
    "        list_indices = []\n",
    "        for position in positions:\n",
    "            regex = r\"\" + str(position) + r\"-(\\d)\"\n",
    "            if re.findall(regex, line): \n",
    "                list_indices.extend([int(index) for index in re.findall(regex, line)])\n",
    "            else:\n",
    "                list_indices.extend([999])\n",
    "        indices.append(list_indices)\n",
    "        lineNumber += 1\n",
    "        \n",
    "#print(len(indices))\n",
    "#print(indices)\n",
    "\n",
    "lineNumber = 0\n",
    "backtranslations_ambiguous_words = [] # a list of set of translations to each ambiguous word in source\n",
    "backtranslated_ambiguous_words = set() # set forces uniqueness\n",
    "for backtranslation in backtranslations_original:\n",
    "    tokens = backtranslation.split(' ')\n",
    "    if 999 not in indices[lineNumber]:\n",
    "        for ind in indices[lineNumber]:\n",
    "            #print(lineNumber)\n",
    "            #print(tokens[ind])\n",
    "            #print(ind)\n",
    "            backtranslated_ambiguous_words.add(tokens[ind])\n",
    "    lineNumber += 1\n",
    "    if (lineNumber % 10 == 0):\n",
    "            backtranslations_ambiguous_words.append(backtranslated_ambiguous_words)\n",
    "            backtranslated_ambiguous_words = set()\n",
    "\n",
    "\n",
    "    \n",
    "#print(backtranslations_ambiguous_words)\n",
    "print(len(backtranslations_ambiguous_words))\n",
    "\n",
    "# Here we need to merge the sets for every 10 sets, because we want to see unique words in the nbest 100 backtranslation\n",
    "backtranslations_ambiguous_words_reduced = []\n",
    "backtranslated_ambiguous_words = set() # set forces uniqueness\n",
    "counter = 0\n",
    "for set_words in backtranslations_ambiguous_words:\n",
    "    backtranslated_ambiguous_words.update(set_words)\n",
    "    counter += 1\n",
    "    if (counter % 10 == 0):\n",
    "        backtranslations_ambiguous_words_reduced.append(backtranslated_ambiguous_words)\n",
    "        backtranslated_ambiguous_words = set()\n",
    "    \n",
    "print(len(backtranslations_ambiguous_words_reduced))   \n",
    "    \n",
    "unique_backtranslations = 0\n",
    "for set_words in backtranslations_ambiguous_words_reduced:\n",
    "    unique_backtranslations += len(set_words)\n",
    "print(unique_backtranslations/49)"
   ]
  },
  {
   "cell_type": "code",
   "execution_count": 116,
   "id": "6900b10c-e42a-4c1a-9635-d2384a552751",
   "metadata": {},
   "outputs": [],
   "source": [
    "# Add results to file\n",
    "\n",
    "# List with original source sentences\n",
    "source = []\n",
    "with open('tok.en_original.en', 'r') as fin:\n",
    "    for line in fin:\n",
    "        source.append(line.strip())\n",
    "\n",
    "count = 0                \n",
    "with open('unique-words_backtranslations_original.txt', 'w') as fout:\n",
    "    while count < 49:\n",
    "        print(source[count] + ' | ' + ambiguous_words[count] + ' | ' + str(backtranslations_ambiguous_words_reduced[count]), end='\\n', file=fout)\n",
    "        count += 1"
   ]
  },
  {
   "cell_type": "code",
   "execution_count": 117,
   "id": "5ba2b83c-62bd-4326-ba40-dd906662ffa2",
   "metadata": {},
   "outputs": [
    {
     "name": "stdout",
     "output_type": "stream",
     "text": [
      "490\n",
      "49\n",
      "26.571428571428573\n"
     ]
    }
   ],
   "source": [
    "import re\n",
    "\n",
    "# List with disambiguated backtranslations\n",
    "backtranslations_disambiguated = []\n",
    "with open('hyp_disambiguated_back.txt', 'r') as fin:\n",
    "    for line in fin:\n",
    "        backtranslations_disambiguated.append(line.strip())\n",
    "             \n",
    "lineNumber = 0\n",
    "counter = 0\n",
    "indices = []\n",
    "with open('disambiguated_translation-back_en-de_awesome-aligned.txt', 'r') as alignments:\n",
    "    for line in alignments:\n",
    "        if (lineNumber == 10):\n",
    "            lineNumber = 0\n",
    "            counter += 1\n",
    "        positions = positions_ambiguous_words_disambiguated[counter] # exact positions of ambiguous words\n",
    "        list_indices = []\n",
    "        for position in positions:\n",
    "            regex = r\"\" + str(position) + r\"-(\\d)\"\n",
    "            if re.findall(regex, line): \n",
    "                list_indices.extend([int(index) for index in re.findall(regex, line)])\n",
    "            else:\n",
    "                list_indices.extend([999])\n",
    "        indices.append(list_indices)\n",
    "        lineNumber += 1\n",
    "        \n",
    "#print(len(indices))\n",
    "#print(indices)\n",
    "\n",
    "lineNumber = 0\n",
    "backtranslations_ambiguous_words = [] # a list of set of translations to each ambiguous word in source\n",
    "backtranslated_ambiguous_words = set() # set forces uniqueness\n",
    "for backtranslation in backtranslations_disambiguated:\n",
    "    tokens = backtranslation.split(' ')\n",
    "    if 999 not in indices[lineNumber]:\n",
    "        for ind in indices[lineNumber]:\n",
    "            #print(lineNumber)\n",
    "            #print(tokens[ind])\n",
    "            #print(ind)\n",
    "            backtranslated_ambiguous_words.add(tokens[ind])\n",
    "    lineNumber += 1\n",
    "    if (lineNumber % 10 == 0):\n",
    "            backtranslations_ambiguous_words.append(backtranslated_ambiguous_words)\n",
    "            backtranslated_ambiguous_words = set()\n",
    "    \n",
    "#print(backtranslations_ambiguous_words)\n",
    "print(len(backtranslations_ambiguous_words))\n",
    "\n",
    "# Here we need to merge the sets for every 10 sets, because we want to see unique words in the nbest 100 backtranslation\n",
    "backtranslations_ambiguous_words_reduced = []\n",
    "backtranslated_ambiguous_words = set() # set forces uniqueness\n",
    "counter = 0\n",
    "for set_words in backtranslations_ambiguous_words:\n",
    "    backtranslated_ambiguous_words.update(set_words)\n",
    "    counter += 1\n",
    "    if (counter % 10 == 0):\n",
    "        backtranslations_ambiguous_words_reduced.append(backtranslated_ambiguous_words)\n",
    "        backtranslated_ambiguous_words = set()\n",
    "\n",
    "print(len(backtranslations_ambiguous_words_reduced))   \n",
    "    \n",
    "unique_backtranslations = 0\n",
    "for set_words in backtranslations_ambiguous_words_reduced:\n",
    "    unique_backtranslations += len(set_words)\n",
    "print(unique_backtranslations/49)"
   ]
  },
  {
   "cell_type": "code",
   "execution_count": 118,
   "id": "c0a78096-b560-4860-ab0a-e0c30d3b9600",
   "metadata": {},
   "outputs": [],
   "source": [
    "# Add results to file\n",
    "\n",
    "# List with original source sentences\n",
    "source = []\n",
    "with open('tok.en_disambiguated.en', 'r') as fin:\n",
    "    for line in fin:\n",
    "        source.append(line.strip())\n",
    "\n",
    "count = 0                \n",
    "with open('unique-words_backtranslations_disambiguated.txt', 'w') as fout:\n",
    "    while count < 49:\n",
    "        print(source[count] + ' | ' + ambiguous_words[count] + ' | ' + str(backtranslations_ambiguous_words_reduced[count]), end='\\n', file=fout)\n",
    "        count += 1"
   ]
  },
  {
   "cell_type": "markdown",
   "id": "0b7aa2d8-87dd-40fb-a52b-b0859436258f",
   "metadata": {
    "tags": []
   },
   "source": [
    "# Word alignement (translation-translation)"
   ]
  },
  {
   "cell_type": "markdown",
   "id": "0ef887b3-6413-4801-92de-f3f0948d02b0",
   "metadata": {
    "tags": []
   },
   "source": [
    "## Tercom alignement (borrowed from Tu)\n",
    "- https://github.com/TuAnh23/Perturbation-basedQE/blob/master/align_and_analyse_ambiguous_trans.py#L54-L92"
   ]
  },
  {
   "cell_type": "markdown",
   "id": "2416baae-abdf-4ee4-9f62-a8519ed855de",
   "metadata": {},
   "source": [
    "### Extract target translated words to source words in original"
   ]
  },
  {
   "cell_type": "code",
   "execution_count": 150,
   "id": "77b7e76c-e6c4-4bfb-bbd8-df6e9b3a6b0f",
   "metadata": {},
   "outputs": [
    {
     "name": "stdout",
     "output_type": "stream",
     "text": [
      "4900\n",
      "4900\n"
     ]
    }
   ],
   "source": [
    "# List with original source sentences; output 100 times to match backtranslation size\n",
    "source = []\n",
    "with open('tok.en_original.en', 'r') as fin:\n",
    "    for line in fin:\n",
    "        for i in range(100): # append the source sentence 100 times to match backtranslations later\n",
    "            source.append(line.strip().split()) # split() tokenizes the sentence, because tercom expects tokens     \n",
    "\n",
    "print(len(source))\n",
    "\n",
    "# List with original backtranslations\n",
    "backtranslations = []\n",
    "with open('hyp_original_back.txt', 'r') as fin:\n",
    "    for line in fin:\n",
    "        backtranslations.append(line.strip().split())\n",
    "        \n",
    "print(len(backtranslations))"
   ]
  },
  {
   "cell_type": "code",
   "execution_count": 352,
   "id": "fe0df752-6cdb-4dec-9ef6-d630f718d0b7",
   "metadata": {},
   "outputs": [
    {
     "name": "stdout",
     "output_type": "stream",
     "text": [
      "fatal: destination path 'Perturbation-basedQE' already exists and is not an empty directory.\n"
     ]
    }
   ],
   "source": [
    "!git clone https://github.com/TuAnh23/Perturbation-basedQE.git"
   ]
  },
  {
   "cell_type": "code",
   "execution_count": 151,
   "id": "11ec5c90-a5ba-42dd-8ae5-a9be898c2948",
   "metadata": {},
   "outputs": [
    {
     "name": "stdout",
     "output_type": "stream",
     "text": [
      "/export/data4/vzhekova/biases-data/Test_De/Statistics/Full_ambiguity/Perturbation-basedQE\n"
     ]
    }
   ],
   "source": [
    "%cd $TERCOM"
   ]
  },
  {
   "cell_type": "code",
   "execution_count": 152,
   "id": "0c1d2480-4101-4dcc-bcc1-15721c74f148",
   "metadata": {},
   "outputs": [],
   "source": [
    "import align_and_analyse_ambiguous_trans as tercom\n",
    "\n",
    "alignments = tercom.tercom_alignment(source, backtranslations)"
   ]
  },
  {
   "cell_type": "code",
   "execution_count": 153,
   "id": "55c3b07e-fb94-439f-a185-7f0d1ae2b1f1",
   "metadata": {},
   "outputs": [
    {
     "name": "stdout",
     "output_type": "stream",
     "text": [
      "4900\n",
      "4900\n",
      "49\n",
      "31.755102040816325\n"
     ]
    }
   ],
   "source": [
    "import pandas as pd\n",
    "\n",
    "#print(positions_ambiguous_words)\n",
    "\n",
    "lineNumber = 0\n",
    "counter = 0\n",
    "indices = []\n",
    "for align in alignments:\n",
    "    position = positions_ambiguous_words[counter] # exact position of ambiguous word\n",
    "    indices.append([item[1] for item in (item for item in align if not(pd.isna(item[0]))) if item[0] == position][0])\n",
    "    lineNumber += 1\n",
    "    if (lineNumber % 100 == 0):\n",
    "        counter += 1\n",
    "\n",
    "print(len(indices))\n",
    "\n",
    "lineNumber = 0\n",
    "translations_ambiguous_words = [] # a list of set of translations to each ambiguous word in source\n",
    "translated_ambiguous_words = set() # set forces uniqueness\n",
    "for backtranslation in backtranslations:\n",
    "    backtranslation_index = backtranslations.index(backtranslation)\n",
    "    if not(pd.isna(indices[backtranslation_index])):\n",
    "        translated_ambiguous_words.add(backtranslation[indices[backtranslation_index]])\n",
    "    lineNumber += 1\n",
    "    if (lineNumber % 100 == 0):\n",
    "        translations_ambiguous_words.append(translated_ambiguous_words)\n",
    "        translated_ambiguous_words = set()\n",
    "    \n",
    "#print(translations_ambiguous_words)\n",
    "print(len(translations_ambiguous_words))\n",
    "\n",
    "unique_translations = 0\n",
    "for set_words in translations_ambiguous_words:\n",
    "    unique_translations += len(set_words)\n",
    "print(unique_translations/49)"
   ]
  },
  {
   "cell_type": "markdown",
   "id": "0be6fc6e-1e3c-41b3-8b38-aacd4210525d",
   "metadata": {},
   "source": [
    "### Extract target translated words to source words in disambiguated"
   ]
  },
  {
   "cell_type": "code",
   "execution_count": 154,
   "id": "2b38e68b-9ead-4e71-a3d1-e09bb3531514",
   "metadata": {},
   "outputs": [
    {
     "name": "stdout",
     "output_type": "stream",
     "text": [
      "/export/data4/vzhekova/biases-data/Test_De/Statistics/Full_ambiguity_words\n"
     ]
    }
   ],
   "source": [
    "%cd $PATH"
   ]
  },
  {
   "cell_type": "code",
   "execution_count": 155,
   "id": "94c4ea19-21c6-4437-a68d-93ff98ef8ca7",
   "metadata": {},
   "outputs": [
    {
     "name": "stdout",
     "output_type": "stream",
     "text": [
      "4900\n",
      "4900\n"
     ]
    }
   ],
   "source": [
    "# List with original source sentences; output 100 times to match backtranslation size\n",
    "source = []\n",
    "with open('tok.en_disambiguated.en', 'r') as fin:\n",
    "    for line in fin:\n",
    "        for i in range(100): # append the source sentence 100 times to match backtranslations later\n",
    "            source.append(line.strip().split()) # split() tokenizes the sentence, because tercom expects tokens     \n",
    "\n",
    "print(len(source))\n",
    "\n",
    "# List with original backtranslations\n",
    "backtranslations = []\n",
    "with open('hyp_disambiguated_back.txt', 'r') as fin:\n",
    "    for line in fin:\n",
    "        backtranslations.append(line.strip().split())\n",
    "        \n",
    "print(len(backtranslations))"
   ]
  },
  {
   "cell_type": "code",
   "execution_count": 156,
   "id": "895a67a1-d4cf-4a60-9ffa-fae2e75d2f2d",
   "metadata": {},
   "outputs": [
    {
     "name": "stdout",
     "output_type": "stream",
     "text": [
      "/export/data4/vzhekova/biases-data/Test_De/Statistics/Full_ambiguity/Perturbation-basedQE\n"
     ]
    }
   ],
   "source": [
    "%cd $TERCOM"
   ]
  },
  {
   "cell_type": "code",
   "execution_count": 157,
   "id": "87286b7b-b25c-493e-b2b4-fbb0b6bfa8ea",
   "metadata": {},
   "outputs": [],
   "source": [
    "import align_and_analyse_ambiguous_trans as tercom\n",
    "\n",
    "alignments = tercom.tercom_alignment(source, backtranslations)"
   ]
  },
  {
   "cell_type": "code",
   "execution_count": 159,
   "id": "da6c3475-7b8a-44b9-8eda-56a93757d56d",
   "metadata": {},
   "outputs": [
    {
     "name": "stdout",
     "output_type": "stream",
     "text": [
      "49\n",
      "4900\n",
      "49\n",
      "24.571428571428573\n"
     ]
    }
   ],
   "source": [
    "import pandas as pd\n",
    "\n",
    "print(len(positions_ambiguous_words))\n",
    "\n",
    "lineNumber = 0\n",
    "counter = 0\n",
    "indices = []\n",
    "for align in alignments:\n",
    "    position = positions_ambiguous_words[counter] + 1 # exact position of ambiguous word\n",
    "    indices.append([item[1] for item in (item for item in align if not(pd.isna(item[0]))) if item[0] == position][0])\n",
    "    lineNumber += 1\n",
    "    if (lineNumber % 100 == 0):\n",
    "        counter += 1\n",
    "\n",
    "print(len(indices))\n",
    "\n",
    "lineNumber = 0\n",
    "translations_ambiguous_words = [] # a list of set of translations to each ambiguous word in source\n",
    "translated_ambiguous_words = set() # set forces uniqueness\n",
    "for backtranslation in backtranslations:\n",
    "    backtranslation_index = backtranslations.index(backtranslation)\n",
    "    if not(pd.isna(indices[backtranslation_index])):\n",
    "        translated_ambiguous_words.add(backtranslation[indices[backtranslation_index]])\n",
    "    lineNumber += 1\n",
    "    if (lineNumber % 100 == 0):\n",
    "        translations_ambiguous_words.append(translated_ambiguous_words)\n",
    "        translated_ambiguous_words = set()\n",
    "\n",
    "    \n",
    "#print(translations_ambiguous_words)\n",
    "print(len(translations_ambiguous_words))\n",
    "\n",
    "unique_translations = 0\n",
    "for set_words in translations_ambiguous_words:\n",
    "    unique_translations += len(set_words)\n",
    "print(unique_translations/49)\n"
   ]
  },
  {
   "cell_type": "markdown",
   "id": "d125d1e1-22bd-401c-aa6e-de29fc5f39a2",
   "metadata": {
    "tags": []
   },
   "source": [
    "# Word occurrence"
   ]
  },
  {
   "cell_type": "markdown",
   "id": "8b475d6e-6cf6-4d0a-acd8-92bdc22c1557",
   "metadata": {},
   "source": [
    "## Translation"
   ]
  },
  {
   "cell_type": "code",
   "execution_count": 162,
   "id": "f8fe19b8-d41f-4058-a373-048e35d1bdd3",
   "metadata": {},
   "outputs": [
    {
     "name": "stdout",
     "output_type": "stream",
     "text": [
      "/export/data4/vzhekova/biases-data/Test_De/Statistics/Full_ambiguity_words\n"
     ]
    }
   ],
   "source": [
    "%cd $PATH"
   ]
  },
  {
   "cell_type": "code",
   "execution_count": 174,
   "id": "9cc524d6-da2a-4b64-9a95-d539cf5dd083",
   "metadata": {},
   "outputs": [],
   "source": [
    "def extract_alignment_indices_translation(filename_translations):\n",
    "    \"\"\"\n",
    "    Extract alignment indices\n",
    "    \"\"\"\n",
    "    \n",
    "    # Extract alignement indices from translation\n",
    "    indices_translation = []\n",
    "    with open(filename_translations, 'r') as alignments:\n",
    "        for line in alignments:\n",
    "            alignement_tokens = line.split()\n",
    "            indices_line = []\n",
    "            for i in range(0, len(alignement_tokens)):    \n",
    "                regex = r\"\" + str(i) + r\"-(\\d)\"\n",
    "                if re.findall(regex, line): \n",
    "                    indices_line.append([int(index) for index in re.findall(regex, line)])\n",
    "                else:\n",
    "                    indices_line.append([999])\n",
    "            indices_translation.append(indices_line)\n",
    "    \n",
    "    return indices_translation"
   ]
  },
  {
   "cell_type": "code",
   "execution_count": 176,
   "id": "846e490e-429e-4096-9084-e6197f8eac91",
   "metadata": {},
   "outputs": [],
   "source": [
    "indices_original = extract_alignment_indices_translation('original_source-target_en-de_awesome-aligned.txt')\n",
    "indices_disambiguated = extract_alignment_indices_translation('disambiguated_source-target_en-de_awesome-aligned.txt')"
   ]
  },
  {
   "cell_type": "code",
   "execution_count": 165,
   "id": "ba32e36e-44c1-4d7f-9602-a4583aa5525b",
   "metadata": {},
   "outputs": [],
   "source": [
    "def extract_word_translations(filename_tokenized, filename_translations, filename_out, indices_translation):\n",
    "    \"\"\"\n",
    "    Match alignment indices from translation to backtranslation\n",
    "    \"\"\"\n",
    "    \n",
    "    # List with lengths of the source sentences\n",
    "    source_lengths = []\n",
    "    with open(filename_tokenized, 'r') as fin:\n",
    "        for line in fin:\n",
    "            source_lengths.append(len(line.strip().split()))\n",
    "\n",
    "    #print(source_lengths)\n",
    "\n",
    "    # List with backtranslations\n",
    "    translations = []\n",
    "    with open(filename_translations, 'r') as fin:\n",
    "         for line in fin:\n",
    "                translations.append(line.split())\n",
    "\n",
    "    #print(backtranslations)\n",
    "\n",
    "    target_words = [] # list containing lists with translation sets for every word in the source sentences; length 49\n",
    "    counter = 0\n",
    "    for i in range(0, 49): # for every source sentence\n",
    "        source_sent = []\n",
    "        for j in range(0, source_lengths[i]): # for every word in the source sentence\n",
    "            words_set = set()\n",
    "            for  f in range(0, 9):\n",
    "                alignments = indices_translation[counter + f]        \n",
    "                if (j < len(alignments)):\n",
    "                    for index in alignments[j]:\n",
    "                        if index != 999:\n",
    "                            if (index < len(translations[counter + f])):\n",
    "                                 words_set.add(translations[counter + f][index])\n",
    "            source_sent.append(words_set)\n",
    "        target_words.append(source_sent)\n",
    "        counter += 10\n",
    "\n",
    "    #print(len(target_words))\n",
    "\n",
    "    # Add results to file\n",
    "\n",
    "    # List with source sentences\n",
    "    source = []\n",
    "    with open(filename_tokenized, 'r') as fin:\n",
    "        for line in fin:\n",
    "            source.append(line.strip())\n",
    "\n",
    "    count = 0                \n",
    "    with open(filename_out, 'w') as fout:\n",
    "        while count < 49:\n",
    "            print(source[count] + ' | ' + str(target_words[count]), end='\\n', file=fout)\n",
    "            count += 1"
   ]
  },
  {
   "cell_type": "code",
   "execution_count": 166,
   "id": "721f40e3-99fa-4f8f-bfa1-a9125ed91fbc",
   "metadata": {},
   "outputs": [],
   "source": [
    "def count_word_translations(filename_tokenized, filename_translations, filename_out, indices_translation):\n",
    "    \"\"\"\n",
    "    Match alignement indices from translation to backtranslation\n",
    "    \"\"\"\n",
    "    \n",
    "    # List with lengths of the source sentences\n",
    "    source_lengths = []\n",
    "    with open(filename_tokenized, 'r') as fin:\n",
    "        for line in fin:\n",
    "            source_lengths.append(len(line.strip().split()))\n",
    "\n",
    "    #print(source_lengths)\n",
    "\n",
    "    # List with backtranslations\n",
    "    translations = []\n",
    "    with open(filename_translations, 'r') as fin:\n",
    "         for line in fin:\n",
    "                translations.append(line.split())\n",
    "\n",
    "    #print(backtranslations)\n",
    "\n",
    "    target_words = [] # list containing lists with translation sets for every word in the source sentences; length 49\n",
    "    counter = 0\n",
    "    for i in range(0, 49): # for every source sentence\n",
    "        source_sent = []\n",
    "        for j in range(0, source_lengths[i]): # for every word in the source sentence\n",
    "            words_set = set()\n",
    "            for  f in range(0, 9):\n",
    "                alignments = indices_translation[counter + f]        \n",
    "                if (j < len(alignments)):\n",
    "                    for index in alignments[j]:\n",
    "                        if index != 999:\n",
    "                            if (index < len(translations[counter + f])):\n",
    "                                 words_set.add(translations[counter + f][index])\n",
    "            source_sent.append(words_set)\n",
    "        target_words.append(source_sent)\n",
    "        counter += 10\n",
    "\n",
    "    #print(len(target_words))\n",
    "\n",
    "    # Add results to file\n",
    "\n",
    "    # List with source sentences\n",
    "    source = []\n",
    "    with open(filename_tokenized, 'r') as fin:\n",
    "        for line in fin:\n",
    "            source.append(line.strip())\n",
    "\n",
    "    count = 0                \n",
    "    with open(filename_out, 'w') as fout:\n",
    "        while count < 49:\n",
    "            print(source[count] + ' | ' + str([len(target_set) for target_set in target_words[count]]), end='\\n', file=fout)\n",
    "            count += 1"
   ]
  },
  {
   "cell_type": "code",
   "execution_count": 167,
   "id": "dadbd1b8-92da-4661-bbf7-357a63515b9f",
   "metadata": {},
   "outputs": [],
   "source": [
    "extract_word_translations('tok.en_original.en', 'hyp_original.txt', 'translations_words_original.txt', indices_original)\n",
    "count_word_translations('tok.en_original.en', 'hyp_original.txt', 'translations_words_original_occurrence.txt', indices_original)\n",
    "\n",
    "extract_word_translations('tok.en_disambiguated.en', 'hyp_disambiguated.txt', 'translations_words_disambiguated.txt', indices_disambiguated)\n",
    "count_word_translations('tok.en_disambiguated.en', 'hyp_disambiguated.txt', 'translations_words_disambiguated_occurrence.txt', indices_disambiguated)"
   ]
  },
  {
   "cell_type": "markdown",
   "id": "e14aa275-bbed-46e9-8fbd-da11f424ce1a",
   "metadata": {},
   "source": [
    "## Backtranslation"
   ]
  },
  {
   "cell_type": "code",
   "execution_count": 168,
   "id": "efbbd367-55cd-4cbc-95c1-9f52966ec084",
   "metadata": {},
   "outputs": [],
   "source": [
    "def extract_alignment_indices_backtranslation(filename_translations, filename_backtranslations):\n",
    "    \"\"\"\n",
    "    Extract alignment indices\n",
    "    \"\"\"\n",
    "    \n",
    "    # Extract alignement indices from translation\n",
    "    indices_translation = []\n",
    "    with open(filename_translations, 'r') as alignments:\n",
    "        for line in alignments:\n",
    "            alignement_tokens = line.split()\n",
    "            indices_line = []\n",
    "            for i in range(0, len(alignement_tokens)):    \n",
    "                regex = r\"\" + str(i) + r\"-(\\d)\"\n",
    "                if re.findall(regex, line): \n",
    "                    indices_line.append([int(index) for index in re.findall(regex, line)])\n",
    "                else:\n",
    "                    indices_line.append([999])\n",
    "            indices_translation.append(indices_line)\n",
    "       \n",
    "    # Match alignement indices from translation to backtranslation\n",
    "    lineNumber = 0\n",
    "    counter = 0\n",
    "    indices_backtranslation = []\n",
    "    with open(filename_backtranslations, 'r') as alignments:\n",
    "        for line in alignments:\n",
    "            if (lineNumber == 10):\n",
    "                lineNumber = 0\n",
    "                counter += 1\n",
    "            alignement_tokens = line.split()\n",
    "            indices_line = []\n",
    "            for index_list in indices_translation[counter]:\n",
    "                index_matches = []\n",
    "                for index in index_list:\n",
    "                    regex = r\"\" + str(index) + r\"-(\\d)\"\n",
    "                    if re.findall(regex, line): \n",
    "                        index_matches.extend([int(i) for i in re.findall(regex, line)])\n",
    "                    else:\n",
    "                        index_matches.extend([999])\n",
    "                indices_line.append(index_matches)\n",
    "            indices_backtranslation.append(indices_line)\n",
    "            lineNumber += 1 \n",
    "    return indices_backtranslation"
   ]
  },
  {
   "cell_type": "code",
   "execution_count": 178,
   "id": "99ffe1c8-d793-43d9-a200-cb20046e44ad",
   "metadata": {},
   "outputs": [],
   "source": [
    "indices_original = extract_alignment_indices_backtranslation('original_source-target_en-de_awesome-aligned.txt', 'original_translation-back_en-de_awesome-aligned.txt')\n",
    "indices_disambiguated = extract_alignment_indices_backtranslation('disambiguated_source-target_en-de_awesome-aligned.txt', 'disambiguated_translation-back_en-de_awesome-aligned.txt')"
   ]
  },
  {
   "cell_type": "code",
   "execution_count": 170,
   "id": "c8811a5e-caac-4ca9-ab1f-df546bf83c15",
   "metadata": {},
   "outputs": [],
   "source": [
    "def extract_word_backtranslations(filename_tokenized, filename_backtranslations, filename_out, indices_backtranslation):\n",
    "    \"\"\"\n",
    "    Match alignement indices from translation to backtranslation\n",
    "    \"\"\"\n",
    "    \n",
    "    # List with lengths of the source sentences\n",
    "    source_lengths = []\n",
    "    with open(filename_tokenized, 'r') as fin:\n",
    "        for line in fin:\n",
    "            source_lengths.append(len(line.strip().split()))\n",
    "\n",
    "    #print(source_lengths)\n",
    "\n",
    "    # List with backtranslations\n",
    "    backtranslations = []\n",
    "    with open(filename_backtranslations, 'r') as fin:\n",
    "         for line in fin:\n",
    "                backtranslations.append(line.split())\n",
    "\n",
    "    #print(backtranslations)\n",
    "\n",
    "    target_words = [] # list containing lists with translation sets for every word in the source sentences; length 49\n",
    "    counter = 0\n",
    "    for i in range(0, 49): # for every source sentence\n",
    "        source_sent = []\n",
    "        for j in range(0, source_lengths[i]): # for every word in the source sentence\n",
    "            words_set = set()\n",
    "            for  f in range(0, 99):\n",
    "                alignments = indices_backtranslation[counter + f]        \n",
    "                if (j < len(alignments)):\n",
    "                    for index in alignments[j]:\n",
    "                        if index != 999:\n",
    "                            if (index < len(backtranslations[counter + f])):\n",
    "                                 words_set.add(backtranslations[counter + f][index])\n",
    "            source_sent.append(words_set)\n",
    "        target_words.append(source_sent)\n",
    "        counter += 100\n",
    "\n",
    "    #print(len(target_words))\n",
    "\n",
    "    # Add results to file\n",
    "\n",
    "    # List with source sentences\n",
    "    source = []\n",
    "    with open(filename_tokenized, 'r') as fin:\n",
    "        for line in fin:\n",
    "            source.append(line.strip())\n",
    "\n",
    "    count = 0                \n",
    "    with open(filename_out, 'w') as fout:\n",
    "        while count < 49:\n",
    "            print(source[count] + ' | ' + str(target_words[count]), end='\\n', file=fout)\n",
    "            count += 1"
   ]
  },
  {
   "cell_type": "code",
   "execution_count": 171,
   "id": "68636e2c-4d46-42de-8e44-5d061468fddb",
   "metadata": {},
   "outputs": [],
   "source": [
    "def count_word_backtranslations(filename_tokenized, filename_backtranslations, filename_out, indices_backtranslation):\n",
    "    \"\"\"\n",
    "    Match alignement indices from translation to backtranslation\n",
    "    \"\"\"\n",
    "    \n",
    "    # List with lengths of the source sentences\n",
    "    source_lengths = []\n",
    "    with open(filename_tokenized, 'r') as fin:\n",
    "        for line in fin:\n",
    "            source_lengths.append(len(line.strip().split()))\n",
    "\n",
    "    #print(source_lengths)\n",
    "\n",
    "    # List with backtranslations\n",
    "    backtranslations = []\n",
    "    with open(filename_backtranslations, 'r') as fin:\n",
    "         for line in fin:\n",
    "                backtranslations.append(line.split())\n",
    "\n",
    "    #print(backtranslations)\n",
    "\n",
    "    target_words = [] # list containing lists with translation sets for every word in the source sentences; length 49\n",
    "    counter = 0\n",
    "    for i in range(0, 49): # for every source sentence\n",
    "        source_sent = []\n",
    "        for j in range(0, source_lengths[i]): # for every word in the source sentence\n",
    "            words_set = set()\n",
    "            for  f in range(0, 99):\n",
    "                alignments = indices_backtranslation[counter + f]        \n",
    "                if (j < len(alignments)):\n",
    "                    for index in alignments[j]:\n",
    "                        if index != 999:\n",
    "                            if (index < len(backtranslations[counter + f])):\n",
    "                                 words_set.add(backtranslations[counter + f][index])\n",
    "            source_sent.append(words_set)\n",
    "        target_words.append(source_sent)\n",
    "        counter += 100\n",
    "\n",
    "    #print(len(target_words))\n",
    "\n",
    "    # Add results to file\n",
    "\n",
    "    # List with source sentences\n",
    "    source = []\n",
    "    with open(filename_tokenized, 'r') as fin:\n",
    "        for line in fin:\n",
    "            source.append(line.strip())\n",
    "\n",
    "    count = 0                \n",
    "    with open(filename_out, 'w') as fout:\n",
    "        while count < 49:\n",
    "            print(source[count] + ' | ' + str([len(target_set) for target_set in target_words[count]]), end='\\n', file=fout)\n",
    "            count += 1"
   ]
  },
  {
   "cell_type": "code",
   "execution_count": 172,
   "id": "98fd42d2-828f-4757-9267-e5983003ff3d",
   "metadata": {},
   "outputs": [],
   "source": [
    "extract_word_backtranslations('tok.en_original.en', 'hyp_original_back.txt', 'backtranslations_words_original.txt', indices_original)\n",
    "count_word_backtranslations('tok.en_original.en', 'hyp_original_back.txt', 'backtranslations_words_original_occurrence.txt', indices_original)\n",
    "\n",
    "extract_word_backtranslations('tok.en_disambiguated.en', 'hyp_disambiguated_back.txt', 'backtranslations_words_disambiguated.txt', indices_disambiguated)\n",
    "count_word_backtranslations('tok.en_disambiguated.en', 'hyp_disambiguated_back.txt', 'backtranslations_words_disambiguated_occurrence.txt', indices_disambiguated)"
   ]
  },
  {
   "cell_type": "markdown",
   "id": "f3fa9d8d-3fd6-4a95-9591-8af3b42f4b37",
   "metadata": {
    "tags": []
   },
   "source": [
    "# Gender statistics"
   ]
  },
  {
   "cell_type": "code",
   "execution_count": 179,
   "id": "983d9262-6a6b-45a8-b4bf-ce2598ed9471",
   "metadata": {},
   "outputs": [
    {
     "name": "stdout",
     "output_type": "stream",
     "text": [
      "/export/data4/vzhekova/biases-data/Test_De/Statistics/Full_ambiguity_words\n"
     ]
    }
   ],
   "source": [
    "%cd $PATH"
   ]
  },
  {
   "cell_type": "code",
   "execution_count": 181,
   "id": "56c85b2b-de5f-4973-b35f-05e366073d92",
   "metadata": {},
   "outputs": [],
   "source": [
    "from enum import Enum\n",
    "\n",
    "class GENDER(Enum):\n",
    "    \"\"\"\n",
    "    Enumerate possible genders.\n",
    "    Ignore option resolves to words that should be ignored in particular language\n",
    "    \"\"\"\n",
    "    male = 0\n",
    "    female = 1\n",
    "    neutral = 2\n",
    "    unknown = 3\n",
    "    ignore = 4\n",
    "    \n",
    "# ??? These are not always correct; 'der' could be Dativ or Genitiv for female, 'die' could be plural\n",
    "# !!! There isn't always an article\n",
    "DE_DETERMINERS = {\"der\": GENDER.male, \"ein\": GENDER.male, \"dem\": GENDER.male, \"den\": GENDER.male, \n",
    "                  \"einen\": GENDER.male, \"des\": GENDER.male, \"er\": GENDER.male, \"seiner\": GENDER.male,\n",
    "                  \"ihn\": GENDER.male, \"seinen\": GENDER.male, \"ihm\": GENDER.male, \"ihren\": GENDER.male,\n",
    "                  \"die\": GENDER.female, \"eine\": GENDER.female, \"einer\": GENDER.female, \"seinem\": GENDER.male,\n",
    "                  \"ihrem\": GENDER.male, \"sein\": GENDER.male,\n",
    "                  \"sie\": GENDER.female, \"seine\": GENDER.female, \"ihrer\": GENDER.female, \n",
    "                  \"ihr\": GENDER.neutral, \"ihre\": GENDER.neutral, \"das\": GENDER.neutral,\n",
    "                  \"jemanden\": GENDER.neutral}\n",
    "\n",
    "def get_german_determiners(words):\n",
    "    \"\"\"\n",
    "    Get a list of (gender)\n",
    "    given a list of words.\n",
    "    \"\"\"\n",
    "    determiners = []\n",
    "    for (word_ind, word) in enumerate(words):\n",
    "        word = word.lower()\n",
    "        if word in DE_DETERMINERS:\n",
    "            determiners.append((DE_DETERMINERS[word].name))\n",
    "    return determiners"
   ]
  },
  {
   "cell_type": "code",
   "execution_count": 182,
   "id": "ebd8cf96-02b7-4594-8b3a-f06047f00ec5",
   "metadata": {},
   "outputs": [
    {
     "name": "stdout",
     "output_type": "stream",
     "text": [
      "['male']\n"
     ]
    }
   ],
   "source": [
    "dets = get_german_determiners([\"dem\"])\n",
    "print(dets)"
   ]
  },
  {
   "cell_type": "markdown",
   "id": "e9a9d63e-efae-414e-95a6-767582b657a3",
   "metadata": {},
   "source": [
    "- Extract positions of ambiguos words"
   ]
  },
  {
   "cell_type": "code",
   "execution_count": 183,
   "id": "2f49afb8-3902-4bbb-92c0-e9a51883cbcf",
   "metadata": {},
   "outputs": [
    {
     "name": "stdout",
     "output_type": "stream",
     "text": [
      "['developer', 'mechanic', 'mover', 'assistant', 'chief', 'salesperson', 'lawyer', 'cook', 'farmer', 'CEO', 'hairdresser', 'driver', 'auditor', 'guard', 'manager', 'physician', 'laborer', 'receptionist', 'cleaner', 'writer', 'construction', 'editor', 'analyst', 'carpenter', 'librarian', 'nurse', 'secretary', 'sheriff', 'janitor', 'supervisor', 'attendant', 'counselor', 'baker', 'clerk', 'accountant', 'housekeeper', 'tailor', 'customer', 'teenager', 'advisor', 'patient', 'practitioner', 'examiner', 'programmer', 'undergraduate', 'dietitian', 'painter', 'broker', 'firefighter']\n",
      "49\n",
      "[1, 1, 1, 1, 1, 1, 1, 1, 1, 1, 1, 1, 1, 1, 1, 1, 1, 1, 1, 1, 1, 1, 1, 1, 1, 1, 1, 1, 1, 1, 1, 1, 1, 1, 1, 1, 1, 1, 1, 1, 1, 1, 1, 1, 1, 1, 1, 1, 1]\n",
      "49\n"
     ]
    }
   ],
   "source": [
    "print(ambiguous_words)\n",
    "print(len(ambiguous_words))\n",
    "print(positions_ambiguous_words)\n",
    "print(len(positions_ambiguous_words))"
   ]
  },
  {
   "cell_type": "code",
   "execution_count": 184,
   "id": "15086705-85bb-4127-82c4-8c0e7f6e1336",
   "metadata": {},
   "outputs": [
    {
     "name": "stdout",
     "output_type": "stream",
     "text": [
      "49\n"
     ]
    }
   ],
   "source": [
    "# Extract target translated words to source words in original\n",
    "\n",
    "import re\n",
    "\n",
    "# List with original translations\n",
    "translations_original = []\n",
    "with open('hyp_original.txt', 'r') as fin:\n",
    "    for line in fin:\n",
    "        translations_original.append(line.strip())\n",
    "\n",
    "              \n",
    "lineNumber = 0\n",
    "counter = 0\n",
    "indices = [] # a list of lists of indices of translated words for each ambiguous word\n",
    "with open('original_source-target_en-de_awesome-aligned.txt', 'r') as alignments:\n",
    "    for line in alignments:\n",
    "        if (lineNumber == 10):\n",
    "            lineNumber = 0\n",
    "            counter += 1\n",
    "        position = positions_ambiguous_words[counter] # exact position of ambiguous word\n",
    "        regex = r\"\" + str(position) + r\"-(\\d)\"\n",
    "        if re.findall(regex, line): \n",
    "            indices.append([int(index) for index in re.findall(regex, line)])\n",
    "        else:\n",
    "            indices.append([999])\n",
    "        lineNumber += 1\n",
    "        \n",
    "#print(len(indices))\n",
    "#print(indices)\n",
    "\n",
    "lineNumber = 0\n",
    "translations_ambiguous_words = [] # a list of set of translations to each ambiguous word in source\n",
    "translated_ambiguous_words = set() # set forces uniqueness\n",
    "for translation in translations_original:\n",
    "    tokens = translation.split(' ')\n",
    "    if 999 not in indices[lineNumber]:\n",
    "        for ind in indices[lineNumber]:\n",
    "            translated_ambiguous_words.add(tokens[0]) # extract articles; currently assume index 0 for article position, TODO\n",
    "    lineNumber += 1\n",
    "    if (lineNumber % 10 == 0):\n",
    "            translations_ambiguous_words.append(translated_ambiguous_words)\n",
    "            translated_ambiguous_words = set()\n",
    "    \n",
    "\n",
    "print(len(translations_ambiguous_words))"
   ]
  },
  {
   "cell_type": "code",
   "execution_count": 185,
   "id": "709d5aa4-d5cc-4dcd-93f4-96fe78dbb9dc",
   "metadata": {},
   "outputs": [],
   "source": [
    "# Add results to file\n",
    "\n",
    "# List with original source sentences\n",
    "source = []\n",
    "with open('tok.en_original.en', 'r') as fin:\n",
    "    for line in fin:\n",
    "        source.append(line.strip())\n",
    "        \n",
    "ambiguous_words = []\n",
    "with open('tok.en_original.en', 'r') as fin:\n",
    "    for line in fin:\n",
    "        tokens = line.split(' ')\n",
    "        for token in tokens:\n",
    "            if token in words:\n",
    "                ambiguous_words.append(token)\n",
    "                break\n",
    "\n",
    "count = 0  \n",
    "genders = []\n",
    "male = []\n",
    "female = []\n",
    "with open('unique-words_translations_original_articles.txt', 'w') as fout:\n",
    "    while count < 49:\n",
    "        #print(translations_ambiguous_words[count])\n",
    "        genders.append(set(get_german_determiners(translations_ambiguous_words[count])))\n",
    "        male.append(\"male\" in get_german_determiners(translations_ambiguous_words[count]))\n",
    "        female.append(\"female\" in get_german_determiners(translations_ambiguous_words[count]))\n",
    "        print(source[count] + ' | ' + ambiguous_words[count] + ' | ' + str(get_german_determiners(translations_ambiguous_words[count])), end='\\n', file=fout)\n",
    "        count += 1"
   ]
  },
  {
   "cell_type": "code",
   "execution_count": 186,
   "id": "3a9647cb-4aad-4136-8c97-a9d6e09abc80",
   "metadata": {},
   "outputs": [
    {
     "name": "stdout",
     "output_type": "stream",
     "text": [
      "[{'female', 'male'}, {'female', 'male'}, {'female', 'male'}, {'female', 'male'}, {'neutral', 'female', 'male'}, {'female', 'male'}, {'female', 'male'}, {'female', 'male'}, {'female', 'male'}, {'female', 'male'}, {'female', 'male'}, {'female', 'male'}, {'female', 'male'}, {'female', 'male'}, {'female', 'male'}, {'female', 'male'}, {'female', 'male'}, {'female', 'male'}, {'female', 'male'}, {'female', 'male'}, {'neutral', 'female', 'male'}, {'female', 'male'}, {'female', 'male'}, {'female', 'male'}, {'female', 'male'}, {'female', 'male'}, {'female', 'male'}, {'male'}, {'female', 'male'}, {'female', 'male'}, {'female', 'male'}, {'female', 'male'}, {'female', 'male'}, {'female', 'male'}, {'female', 'male'}, {'neutral', 'female', 'male'}, {'neutral', 'female', 'male'}, {'female', 'male'}, {'female', 'male'}, {'female', 'male'}, {'female', 'male'}, {'female', 'male'}, {'female', 'male'}, {'neutral', 'female', 'male'}, {'neutral', 'female', 'male'}, {'female', 'male'}, {'female', 'male'}, {'neutral', 'female', 'male'}, {'female', 'male'}]\n",
      "48\n",
      "[True, True, True, True, True, True, True, True, True, True, True, True, True, True, True, True, True, True, True, True, True, True, True, True, True, True, True, True, True, True, True, True, True, True, True, True, True, True, True, True, True, True, True, True, True, True, True, True, True]\n",
      "49\n",
      "[True, True, True, True, True, True, True, True, True, True, True, True, True, True, True, True, True, True, True, True, True, True, True, True, True, True, True, False, True, True, True, True, True, True, True, True, True, True, True, True, True, True, True, True, True, True, True, True, True]\n",
      "48\n"
     ]
    }
   ],
   "source": [
    "print(genders)\n",
    "print(sum(1 for i in genders if ('male' in i and 'female' in i))) # both genders\n",
    "\n",
    "print(male)\n",
    "print(male.count(True)) # only male gender\n",
    "\n",
    "print(female)\n",
    "print(female.count(True)) # only female gender"
   ]
  },
  {
   "cell_type": "code",
   "execution_count": 187,
   "id": "1037b9df-1384-4697-87f0-d6f77548a3be",
   "metadata": {},
   "outputs": [
    {
     "name": "stdout",
     "output_type": "stream",
     "text": [
      "49\n"
     ]
    }
   ],
   "source": [
    "# Extract target translated words to source words in disambiguated\n",
    "\n",
    "import re\n",
    "\n",
    "# List with original translations\n",
    "translations_disambiguated = []\n",
    "with open('hyp_disambiguated.txt', 'r') as fin:\n",
    "    for line in fin:\n",
    "        translations_disambiguated.append(line.strip())\n",
    "\n",
    "              \n",
    "lineNumber = 0\n",
    "counter = 0\n",
    "indices = [] # a list of lists of indices of translated words for each ambiguous word\n",
    "with open('disambiguated_source-target_en-de_awesome-aligned.txt', 'r') as alignments:\n",
    "    for line in alignments:\n",
    "        if (lineNumber == 10):\n",
    "            lineNumber = 0\n",
    "            counter += 1\n",
    "        position = positions_ambiguous_words[counter] + 1 # exact position of ambiguous word; !!! add 1 because of gender word\n",
    "        regex = r\"\" + str(position) + r\"-(\\d)\"\n",
    "        if re.findall(regex, line): \n",
    "            indices.append([int(index) for index in re.findall(regex, line)])\n",
    "        else:\n",
    "            indices.append([999])\n",
    "        lineNumber += 1\n",
    "        \n",
    "#print(len(indices))\n",
    "#print(indices)\n",
    "\n",
    "lineNumber = 0\n",
    "translations_ambiguous_words = [] # a list of set of translations to each ambiguous word in source\n",
    "translated_ambiguous_words = set() # set forces uniqueness\n",
    "for translation in translations_disambiguated:\n",
    "    tokens = translation.split(' ')\n",
    "    if 999 not in indices[lineNumber]:\n",
    "        for ind in indices[lineNumber]:\n",
    "            translated_ambiguous_words.add(tokens[0]) # extract articles; currently assume index 0 for article position, TODO\n",
    "    lineNumber += 1\n",
    "    if (lineNumber % 10 == 0):\n",
    "            translations_ambiguous_words.append(translated_ambiguous_words)\n",
    "            translated_ambiguous_words = set()\n",
    "    \n",
    "\n",
    "print(len(translations_ambiguous_words))"
   ]
  },
  {
   "cell_type": "code",
   "execution_count": 188,
   "id": "94e39035-325d-4bf2-a594-7389631df1c3",
   "metadata": {},
   "outputs": [],
   "source": [
    "# Add results to file\n",
    "\n",
    "# List with original source sentences\n",
    "source = []\n",
    "with open('tok.en_disambiguated.en', 'r') as fin:\n",
    "    for line in fin:\n",
    "        source.append(line.strip())\n",
    "        \n",
    "ambiguous_words = []\n",
    "with open('tok.en_disambiguated.en', 'r') as fin:\n",
    "    for line in fin:\n",
    "        tokens = line.split(' ')\n",
    "        for token in tokens:\n",
    "            if token in words:\n",
    "                ambiguous_words.append(token)\n",
    "                break\n",
    "\n",
    "count = 0    \n",
    "genders = []\n",
    "male = []\n",
    "female = []\n",
    "with open('unique-words_translations_disambiguated_articles.txt', 'w') as fout:\n",
    "    while count < 49:\n",
    "        #print(translations_ambiguous_words[count])\n",
    "        #print(get_german_determiners(translations_ambiguous_words[count]))\n",
    "        genders.append(set(get_german_determiners(translations_ambiguous_words[count])))\n",
    "        male.append(\"male\" in get_german_determiners(translations_ambiguous_words[count]))\n",
    "        female.append(\"female\" in get_german_determiners(translations_ambiguous_words[count]))\n",
    "        print(source[count] + ' | ' + ambiguous_words[count] + ' | ' + str(get_german_determiners(translations_ambiguous_words[count])), end='\\n', file=fout)\n",
    "        count += 1"
   ]
  },
  {
   "cell_type": "code",
   "execution_count": 189,
   "id": "0f63aeba-a6a7-4972-ba2d-a4411b15b1be",
   "metadata": {},
   "outputs": [
    {
     "name": "stdout",
     "output_type": "stream",
     "text": [
      "[{'neutral', 'female', 'male'}, {'female', 'male'}, {'neutral', 'female', 'male'}, {'female', 'male'}, {'neutral', 'female', 'male'}, {'neutral', 'female', 'male'}, {'female', 'male'}, {'female', 'male'}, {'female', 'male'}, {'female', 'male'}, {'female', 'male'}, {'female', 'male'}, {'female', 'male'}, {'female', 'male'}, {'female', 'male'}, {'female', 'male'}, {'female', 'male'}, {'female', 'male'}, {'female', 'male'}, {'female', 'male'}, {'neutral', 'female', 'male'}, {'female', 'male'}, {'female', 'male'}, {'male'}, {'female', 'male'}, {'female', 'male'}, {'female', 'male'}, {'neutral', 'female', 'male'}, {'female', 'male'}, {'female', 'male'}, {'female', 'male'}, {'female', 'male'}, {'neutral', 'female', 'male'}, {'female', 'male'}, {'female', 'male'}, {'female', 'male'}, {'neutral', 'female', 'male'}, {'female', 'male'}, {'neutral', 'female', 'male'}, {'female', 'male'}, {'female', 'male'}, {'female', 'male'}, {'neutral', 'female', 'male'}, {'female', 'male'}, {'female', 'male'}, {'female', 'male'}, {'female', 'male'}, {'female', 'male'}, {'female', 'male'}]\n",
      "48\n",
      "[True, True, True, True, True, True, True, True, True, True, True, True, True, True, True, True, True, True, True, True, True, True, True, True, True, True, True, True, True, True, True, True, True, True, True, True, True, True, True, True, True, True, True, True, True, True, True, True, True]\n",
      "49\n",
      "[True, True, True, True, True, True, True, True, True, True, True, True, True, True, True, True, True, True, True, True, True, True, True, False, True, True, True, True, True, True, True, True, True, True, True, True, True, True, True, True, True, True, True, True, True, True, True, True, True]\n",
      "48\n"
     ]
    }
   ],
   "source": [
    "print(genders)\n",
    "print(sum(1 for i in genders if ('male' in i and 'female' in i))) # both genders\n",
    "\n",
    "print(male)\n",
    "print(male.count(True)) # only male gender\n",
    "\n",
    "print(female)\n",
    "print(female.count(True)) # only female gender"
   ]
  },
  {
   "cell_type": "code",
   "execution_count": null,
   "id": "89108ad5-a94a-4826-b8d9-6b07698d174d",
   "metadata": {},
   "outputs": [],
   "source": []
  }
 ],
 "metadata": {
  "kernelspec": {
   "display_name": "Python 3 (ipykernel)",
   "language": "python",
   "name": "python3"
  },
  "language_info": {
   "codemirror_mode": {
    "name": "ipython",
    "version": 3
   },
   "file_extension": ".py",
   "mimetype": "text/x-python",
   "name": "python",
   "nbconvert_exporter": "python",
   "pygments_lexer": "ipython3",
   "version": "3.8.13"
  }
 },
 "nbformat": 4,
 "nbformat_minor": 5
}
