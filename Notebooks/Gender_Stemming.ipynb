{
 "cells": [
  {
   "cell_type": "code",
   "execution_count": 16,
   "id": "e046296e-1c59-4686-89ea-72610bc7f4f7",
   "metadata": {},
   "outputs": [
    {
     "name": "stdout",
     "output_type": "stream",
     "text": [
      "Reinigungskraft Reinigungskraft ['Fem']\n",
      "Entwicklerin Entwicklerin ['Fem']\n"
     ]
    }
   ],
   "source": [
    "import spacy\n",
    "\n",
    "nlp = spacy.load('de_core_news_sm')\n",
    "doc = nlp(\"Entwickler\") \n",
    "for token in doc:\n",
    "     print(token, token.lemma_, token.morph.get(\"Gender\")) \n",
    "doc = nlp(\"Entwicklerin\") \n",
    "for token in doc:\n",
    "     print(token, token.lemma_, token.morph.get(\"Gender\"))   "
   ]
  },
  {
   "cell_type": "code",
   "execution_count": null,
   "id": "eb0e32ee-597d-4176-a894-edd3e2cd6ed7",
   "metadata": {},
   "outputs": [],
   "source": [
    "import spacy_udpipe\n",
    "\n",
    "spacy_udpipe.download(\"de\") # download German model\n",
    "\n",
    "text = \"Entwicklerin\"\n",
    "nlp = spacy_udpipe.load(\"de\")\n",
    "\n",
    "doc = nlp(text)\n",
    "for token in doc:\n",
    "    print(token.text, token.lemma_, token.pos_, token.dep_)"
   ]
  },
  {
   "cell_type": "code",
   "execution_count": 19,
   "id": "dec8946e-abae-4f0f-adb7-0bde925d66c9",
   "metadata": {},
   "outputs": [
    {
     "name": "stdout",
     "output_type": "stream",
     "text": [
      "entwickleri\n",
      "entwickl\n"
     ]
    }
   ],
   "source": [
    "from nltk.stem.cistem import Cistem\n",
    " \n",
    "stemmer = Cistem(case_insensitive=True)\n",
    "s1 = \"Entwicklerin\"\n",
    "print(stemmer.stem(s1))\n",
    "s2 = \"Entwickler\"\n",
    "print(stemmer.stem(s2))"
   ]
  },
  {
   "cell_type": "code",
   "execution_count": 20,
   "id": "b4fa8a17-cfbf-4813-928b-89a7e0fd4eae",
   "metadata": {},
   "outputs": [
    {
     "data": {
      "text/plain": [
       "<generator object lemmatize at 0x7f4191fee430>"
      ]
     },
     "execution_count": 20,
     "metadata": {},
     "output_type": "execute_result"
    }
   ],
   "source": [
    "from german_lemmatizer import lemmatize\n",
    "\n",
    "lemmatize(\n",
    "    ['Johannes war ein guter Schüler', 'Sabiene sang zahlreiche Lieder'],\n",
    "    working_dir='*',\n",
    "    chunk_size=10000,\n",
    "    n_jobs=1,\n",
    "    escape=False,\n",
    "    remove_stop=False)"
   ]
  },
  {
   "cell_type": "code",
   "execution_count": 21,
   "id": "d57e559d-a3a8-4258-b441-8b68a8d85bf7",
   "metadata": {},
   "outputs": [
    {
     "name": "stdout",
     "output_type": "stream",
     "text": [
      "('Ärztin', 'NN')\n",
      "('Arzt', 'NN')\n"
     ]
    }
   ],
   "source": [
    "from HanTa import HanoverTagger as ht\n",
    "\n",
    "tagger = ht.HanoverTagger('morphmodel_ger.pgz')\n",
    "\n",
    "print(tagger.analyze('Ärztin'))\n",
    "print(tagger.analyze('Arzt'))"
   ]
  },
  {
   "cell_type": "code",
   "execution_count": null,
   "id": "03c75dd4-9c86-4e0d-a7f7-d2c9dff5c8ed",
   "metadata": {},
   "outputs": [],
   "source": [
    "!python -m textblob.download_corpora"
   ]
  },
  {
   "cell_type": "code",
   "execution_count": 22,
   "id": "8fe026f7-f95b-4d94-afab-c5436576694b",
   "metadata": {},
   "outputs": [
    {
     "name": "stdout",
     "output_type": "stream",
     "text": [
      "['Ärztin']\n",
      "['Arzt']\n"
     ]
    }
   ],
   "source": [
    "from textblob_de import TextBlobDE\n",
    "\n",
    "word = 'Ärztin'\n",
    "w = TextBlobDE(word)\n",
    "print(w.words.lemmatize())\n",
    "\n",
    "word = 'Arzt'\n",
    "w = TextBlobDE(word)\n",
    "print(w.words.lemmatize())"
   ]
  },
  {
   "cell_type": "code",
   "execution_count": null,
   "id": "17f6ba50-ca05-45dd-a087-c2d7405b605c",
   "metadata": {},
   "outputs": [],
   "source": []
  }
 ],
 "metadata": {
  "kernelspec": {
   "display_name": "Python 3 (ipykernel)",
   "language": "python",
   "name": "python3"
  },
  "language_info": {
   "codemirror_mode": {
    "name": "ipython",
    "version": 3
   },
   "file_extension": ".py",
   "mimetype": "text/x-python",
   "name": "python",
   "nbconvert_exporter": "python",
   "pygments_lexer": "ipython3",
   "version": "3.8.17"
  }
 },
 "nbformat": 4,
 "nbformat_minor": 5
}
