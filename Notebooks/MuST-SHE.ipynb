{
 "cells": [
  {
   "cell_type": "code",
   "execution_count": 1,
   "id": "cdda832e-2b3e-461f-824b-c21333c568d3",
   "metadata": {},
   "outputs": [],
   "source": [
    "import torch\n",
    "import random\n",
    "import numpy as np\n",
    "import re\n",
    "\n",
    "SEED = 1234\n",
    "\n",
    "random.seed(SEED)\n",
    "np.random.seed(SEED)\n",
    "torch.manual_seed(SEED)\n",
    "torch.cuda.manual_seed_all(SEED)\n",
    "torch.backends.cudnn.enabled = False \n",
    "torch.backends.cudnn.benchmark = False\n",
    "torch.backends.cudnn.deterministic = True\n",
    "\n",
    "PATH=\"/export/data4/vzhekova/biases-data/Test_De/Statistics/BERT\"\n",
    "FASTBPE=\"/home/vzhekova/fastBPE/fast\" # path to the fastBPE tool\n",
    "FAST_ALIGN=\"/home/vzhekova/fast_align/build/fast_align\" # path to the fast_align tool\n",
    "TERCOM = \"/export/data4/vzhekova/biases-data/Test_De/Statistics/Full_ambiguity_male/Perturbation-basedQE\""
   ]
  },
  {
   "cell_type": "code",
   "execution_count": 2,
   "id": "69abd178-8491-49cc-b0f8-10d934456800",
   "metadata": {},
   "outputs": [
    {
     "name": "stdout",
     "output_type": "stream",
     "text": [
      "Current device: GeForce GTX 1080 Ti\n"
     ]
    }
   ],
   "source": [
    "# check if we can connect to the GPU with PyTorch\n",
    "if torch.cuda.is_available():\n",
    "    device = torch.cuda.current_device()\n",
    "    print('Current device:', torch.cuda.get_device_name(device))\n",
    "else:\n",
    "    print('Failed to find GPU. Will use CPU.')\n",
    "    device = 'cpu'"
   ]
  },
  {
   "cell_type": "code",
   "execution_count": 3,
   "id": "04b7cd22-fef2-4c78-ae6a-1ca52b8dec8c",
   "metadata": {},
   "outputs": [
    {
     "name": "stdout",
     "output_type": "stream",
     "text": [
      "/export/data4/vzhekova/biases-data/Test_De/Statistics/BERT\n"
     ]
    }
   ],
   "source": [
    "%cd $PATH"
   ]
  },
  {
   "cell_type": "markdown",
   "id": "98f7ca5f-b68b-471f-a2ce-099326bc7e7c",
   "metadata": {},
   "source": [
    "# Translation English-German"
   ]
  },
  {
   "cell_type": "code",
   "execution_count": 4,
   "id": "51e307f4-4cd9-435c-8f5b-ef71ccba6837",
   "metadata": {},
   "outputs": [
    {
     "name": "stdout",
     "output_type": "stream",
     "text": [
      "Loading codes from bpecodes.en ...\n",
      "Read 30000 codes from the codes file.\n",
      "Loading vocabulary from tok.en_original.en ...\n",
      "Read 220 words (145 unique) from text file.\n",
      "Applying BPE to tok.en_original.en ...\n",
      "Modified 220 words from text file.\n",
      "Finished subword.\n"
     ]
    }
   ],
   "source": [
    "# Dividing text into subword units\n",
    "\n",
    "!$FASTBPE applybpe bpe.en_original.en tok.en_original.en bpecodes.en\n",
    "\n",
    "print('Finished subword.')"
   ]
  },
  {
   "cell_type": "code",
   "execution_count": 5,
   "id": "bc583ff2-8071-4860-bb1b-83bd491f5e94",
   "metadata": {},
   "outputs": [
    {
     "name": "stdout",
     "output_type": "stream",
     "text": [
      "2023-10-05 11:23:16 | INFO | fairseq_cli.preprocess | Namespace(aim_repo=None, aim_run_hash=None, align_suffix=None, alignfile=None, all_gather_list_size=16384, amp=False, amp_batch_retries=2, amp_init_scale=128, amp_scale_window=None, azureml_logging=False, bf16=False, bpe=None, cpu=False, criterion='cross_entropy', dataset_impl='mmap', destdir='data-bin_original_en-de', dict_only=False, empty_cache_freq=0, fp16=False, fp16_init_scale=128, fp16_no_flatten_grads=False, fp16_scale_tolerance=0.0, fp16_scale_window=None, joined_dictionary=False, log_file=None, log_format=None, log_interval=100, lr_scheduler='fixed', memory_efficient_bf16=False, memory_efficient_fp16=False, min_loss_scale=0.0001, model_parallel_size=1, no_progress_bar=False, nwordssrc=-1, nwordstgt=-1, on_cpu_convert_precision=False, only_source=True, optimizer=None, padding_factor=8, plasma_path='/tmp/plasma', profile=False, quantization_config_path=None, reset_logging=False, scoring='bleu', seed=1, source_lang='en', srcdict='/export/data4/vzhekova/biases-data/En-De/wmt19.en-de.joined-dict.ensemble/dict.en.txt', suppress_crashes=False, target_lang='de', task='translation', tensorboard_logdir=None, testpref='bpe.en_original', tgtdict='/export/data4/vzhekova/biases-data/En-De/wmt19.en-de.joined-dict.ensemble/dict.de.txt', threshold_loss_scale=None, thresholdsrc=0, thresholdtgt=0, tokenizer=None, tpu=False, trainpref=None, use_plasma_view=False, user_dir=None, validpref=None, wandb_project=None, workers=8)\n",
      "2023-10-05 11:23:16 | INFO | fairseq_cli.preprocess | [en] Dictionary: 42024 types\n",
      "2023-10-05 11:23:16 | INFO | fairseq_cli.preprocess | [en] bpe.en_original.en: 10 sents, 266 tokens, 0.0% replaced (by <unk>)\n",
      "2023-10-05 11:23:16 | INFO | fairseq_cli.preprocess | Wrote preprocessed data to data-bin_original_en-de\n",
      "Finished preprocessing.\n"
     ]
    }
   ],
   "source": [
    "# Binarize text\n",
    "!fairseq-preprocess \\\n",
    "    --source-lang en \\\n",
    "    --target-lang de \\\n",
    "    --testpref bpe.en_original \\\n",
    "    --only-source \\\n",
    "    --srcdict /export/data4/vzhekova/biases-data/En-De/wmt19.en-de.joined-dict.ensemble/dict.en.txt \\\n",
    "    --tgtdict /export/data4/vzhekova/biases-data/En-De/wmt19.en-de.joined-dict.ensemble/dict.de.txt \\\n",
    "    --destdir data-bin_original_en-de \\\n",
    "    --workers 8\n",
    "\n",
    "print('Finished preprocessing.')"
   ]
  },
  {
   "cell_type": "code",
   "execution_count": 6,
   "id": "3091b37d-3971-4a75-ac14-25b1658dbe2a",
   "metadata": {},
   "outputs": [],
   "source": [
    "MODELS=\"/export/data4/vzhekova/biases-data/En-De/wmt19.en-de.joined-dict.ensemble\"\n",
    "NBEST = 10\n",
    "BEAM = 10"
   ]
  },
  {
   "cell_type": "code",
   "execution_count": 9,
   "id": "5c19e718-e81a-43a6-bfbd-bd85db379f9f",
   "metadata": {},
   "outputs": [
    {
     "name": "stdout",
     "output_type": "stream",
     "text": [
      "2023-10-05 11:23:49 | INFO | fairseq_cli.generate | {'_name': None, 'common': {'_name': None, 'no_progress_bar': False, 'log_interval': 100, 'log_format': None, 'log_file': None, 'aim_repo': None, 'aim_run_hash': None, 'tensorboard_logdir': None, 'wandb_project': None, 'azureml_logging': False, 'seed': 1, 'cpu': False, 'tpu': False, 'bf16': False, 'memory_efficient_bf16': False, 'fp16': True, 'memory_efficient_fp16': True, 'fp16_no_flatten_grads': False, 'fp16_init_scale': 128, 'fp16_scale_window': None, 'fp16_scale_tolerance': 0.0, 'on_cpu_convert_precision': False, 'min_loss_scale': 0.0001, 'threshold_loss_scale': None, 'amp': False, 'amp_batch_retries': 2, 'amp_init_scale': 128, 'amp_scale_window': None, 'user_dir': None, 'empty_cache_freq': 0, 'all_gather_list_size': 16384, 'model_parallel_size': 1, 'quantization_config_path': None, 'profile': False, 'reset_logging': False, 'suppress_crashes': False, 'use_plasma_view': False, 'plasma_path': '/tmp/plasma'}, 'common_eval': {'_name': None, 'path': '/export/data4/vzhekova/biases-data/En-De/wmt19.en-de.joined-dict.ensemble/model1.pt:/export/data4/vzhekova/biases-data/En-De/wmt19.en-de.joined-dict.ensemble/model2.pt:/export/data4/vzhekova/biases-data/En-De/wmt19.en-de.joined-dict.ensemble/model3.pt:/export/data4/vzhekova/biases-data/En-De/wmt19.en-de.joined-dict.ensemble/model4.pt', 'post_process': 'subword_nmt', 'quiet': False, 'model_overrides': '{}', 'results_path': None}, 'distributed_training': {'_name': None, 'distributed_world_size': 1, 'distributed_num_procs': 1, 'distributed_rank': 0, 'distributed_backend': 'nccl', 'distributed_init_method': None, 'distributed_port': -1, 'device_id': 0, 'distributed_no_spawn': False, 'ddp_backend': 'pytorch_ddp', 'ddp_comm_hook': 'none', 'bucket_cap_mb': 25, 'fix_batches_to_gpus': False, 'find_unused_parameters': False, 'gradient_as_bucket_view': False, 'fast_stat_sync': False, 'heartbeat_timeout': -1, 'broadcast_buffers': False, 'slowmo_momentum': None, 'slowmo_base_algorithm': 'localsgd', 'localsgd_frequency': 3, 'nprocs_per_node': 1, 'pipeline_model_parallel': False, 'pipeline_balance': None, 'pipeline_devices': None, 'pipeline_chunks': 0, 'pipeline_encoder_balance': None, 'pipeline_encoder_devices': None, 'pipeline_decoder_balance': None, 'pipeline_decoder_devices': None, 'pipeline_checkpoint': 'never', 'zero_sharding': 'none', 'fp16': True, 'memory_efficient_fp16': True, 'tpu': False, 'no_reshard_after_forward': False, 'fp32_reduce_scatter': False, 'cpu_offload': False, 'use_sharded_state': False, 'not_fsdp_flatten_parameters': False}, 'dataset': {'_name': None, 'num_workers': 1, 'skip_invalid_size_inputs_valid_test': False, 'max_tokens': None, 'batch_size': 64, 'required_batch_size_multiple': 8, 'required_seq_len_multiple': 1, 'dataset_impl': None, 'data_buffer_size': 10, 'train_subset': 'train', 'valid_subset': 'valid', 'combine_valid_subsets': None, 'ignore_unused_valid_subsets': False, 'validate_interval': 1, 'validate_interval_updates': 0, 'validate_after_updates': 0, 'fixed_validation_seed': None, 'disable_validation': False, 'max_tokens_valid': None, 'batch_size_valid': 64, 'max_valid_steps': None, 'curriculum': 0, 'gen_subset': 'test', 'num_shards': 1, 'shard_id': 0, 'grouped_shuffling': False, 'update_epoch_batch_itr': False, 'update_ordered_indices_seed': False}, 'optimization': {'_name': None, 'max_epoch': 0, 'max_update': 0, 'stop_time_hours': 0.0, 'clip_norm': 0.0, 'sentence_avg': False, 'update_freq': [1], 'lr': [0.25], 'stop_min_lr': -1.0, 'use_bmuf': False, 'skip_remainder_batch': False}, 'checkpoint': {'_name': None, 'save_dir': 'checkpoints', 'restore_file': 'checkpoint_last.pt', 'continue_once': None, 'finetune_from_model': None, 'reset_dataloader': False, 'reset_lr_scheduler': False, 'reset_meters': False, 'reset_optimizer': False, 'optimizer_overrides': '{}', 'save_interval': 1, 'save_interval_updates': 0, 'keep_interval_updates': -1, 'keep_interval_updates_pattern': -1, 'keep_last_epochs': -1, 'keep_best_checkpoints': -1, 'no_save': False, 'no_epoch_checkpoints': False, 'no_last_checkpoints': False, 'no_save_optimizer_state': False, 'best_checkpoint_metric': 'loss', 'maximize_best_checkpoint_metric': False, 'patience': -1, 'checkpoint_suffix': '', 'checkpoint_shard_count': 1, 'load_checkpoint_on_all_dp_ranks': False, 'write_checkpoints_asynchronously': False, 'model_parallel_size': 1}, 'bmuf': {'_name': None, 'block_lr': 1.0, 'block_momentum': 0.875, 'global_sync_iter': 50, 'warmup_iterations': 500, 'use_nbm': False, 'average_sync': False, 'distributed_world_size': 1}, 'generation': {'_name': None, 'beam': 10, 'beam_mt': 0, 'nbest': 10, 'max_len_a': 0.0, 'max_len_b': 200, 'max_len_a_mt': 0.0, 'max_len_b_mt': 200, 'min_len': 1, 'match_source_len': False, 'unnormalized': False, 'no_early_stop': False, 'no_beamable_mm': False, 'lenpen': 1.0, 'lenpen_mt': 1.0, 'unkpen': 0.0, 'replace_unk': None, 'sacrebleu': False, 'score_reference': False, 'prefix_size': 0, 'no_repeat_ngram_size': 0, 'sampling': False, 'sampling_topk': -1, 'sampling_topp': -1.0, 'constraints': None, 'temperature': 1.0, 'diverse_beam_groups': -1, 'diverse_beam_strength': 0.5, 'diversity_rate': -1.0, 'print_alignment': None, 'print_step': False, 'lm_path': None, 'lm_weight': 0.0, 'iter_decode_eos_penalty': 0.0, 'iter_decode_max_iter': 10, 'iter_decode_force_max_iter': False, 'iter_decode_with_beam': 1, 'iter_decode_with_external_reranker': False, 'retain_iter_history': False, 'retain_dropout': False, 'retain_dropout_modules': None, 'decoding_format': None, 'no_seed_provided': False, 'eos_token': None}, 'eval_lm': {'_name': None, 'output_word_probs': False, 'output_word_stats': False, 'context_window': 0, 'softmax_batch': 9223372036854775807}, 'interactive': {'_name': None, 'buffer_size': 0, 'input': '-'}, 'model': {'_name': 'wav2vec2', 'extractor_mode': 'default', 'encoder_layers': 12, 'encoder_embed_dim': 768, 'encoder_ffn_embed_dim': 3072, 'encoder_attention_heads': 12, 'activation_fn': 'gelu', 'layer_type': 'transformer', 'dropout': 0.1, 'attention_dropout': 0.1, 'activation_dropout': 0.0, 'encoder_layerdrop': 0.0, 'dropout_input': 0.0, 'dropout_features': 0.0, 'final_dim': 0, 'layer_norm_first': False, 'conv_feature_layers': '[(512, 10, 5)] + [(512, 3, 2)] * 4 + [(512,2,2)] + [(512,2,2)]', 'conv_bias': False, 'logit_temp': 0.1, 'quantize_targets': False, 'quantize_input': False, 'same_quantizer': False, 'target_glu': False, 'feature_grad_mult': 1.0, 'quantizer_depth': 1, 'quantizer_factor': 3, 'latent_vars': 320, 'latent_groups': 2, 'latent_dim': 0, 'mask_length': 10, 'mask_prob': 0.65, 'mask_selection': 'static', 'mask_other': 0.0, 'no_mask_overlap': False, 'mask_min_space': 1, 'require_same_masks': True, 'mask_dropout': 0.0, 'mask_channel_length': 10, 'mask_channel_prob': 0.0, 'mask_channel_before': False, 'mask_channel_selection': 'static', 'mask_channel_other': 0.0, 'no_mask_channel_overlap': False, 'mask_channel_min_space': 1, 'num_negatives': 100, 'negatives_from_everywhere': False, 'cross_sample_negatives': 0, 'codebook_negatives': 0, 'conv_pos': 128, 'conv_pos_groups': 16, 'pos_conv_depth': 1, 'latent_temp': [2.0, 0.5, 0.999995], 'max_positions': 100000, 'checkpoint_activations': False, 'required_seq_len_multiple': 1, 'crop_seq_to_multiple': 1, 'depthwise_conv_kernel_size': 31, 'attn_type': '', 'pos_enc_type': 'abs', 'fp16': True}, 'task': {'_name': 'translation', 'data': 'data-bin_original_en-de', 'source_lang': 'en', 'target_lang': 'de', 'load_alignments': False, 'left_pad_source': True, 'left_pad_target': False, 'max_source_positions': 1024, 'max_target_positions': 1024, 'upsample_primary': -1, 'truncate_source': False, 'num_batch_buckets': 0, 'train_subset': 'train', 'dataset_impl': None, 'required_seq_len_multiple': 1, 'eval_bleu': False, 'eval_bleu_args': '{}', 'eval_bleu_detok': 'space', 'eval_bleu_detok_args': '{}', 'eval_tokenized_bleu': False, 'eval_bleu_remove_bpe': None, 'eval_bleu_print_samples': False}, 'criterion': {'_name': 'cross_entropy', 'sentence_avg': True}, 'optimizer': None, 'lr_scheduler': {'_name': 'fixed', 'force_anneal': None, 'lr_shrink': 0.1, 'warmup_updates': 0, 'lr': [0.25]}, 'scoring': {'_name': 'bleu', 'pad': 1, 'eos': 2, 'unk': 3}, 'bpe': None, 'tokenizer': None, 'ema': {'_name': None, 'store_ema': False, 'ema_decay': 0.9999, 'ema_start_update': 0, 'ema_seed_model': None, 'ema_update_freq': 1, 'ema_fp32': False}}\n",
      "2023-10-05 11:23:49 | INFO | fairseq.tasks.translation | [en] dictionary: 42024 types\n",
      "2023-10-05 11:23:49 | INFO | fairseq.tasks.translation | [de] dictionary: 42024 types\n",
      "2023-10-05 11:23:49 | INFO | fairseq_cli.generate | loading model(s) from /export/data4/vzhekova/biases-data/En-De/wmt19.en-de.joined-dict.ensemble/model1.pt:/export/data4/vzhekova/biases-data/En-De/wmt19.en-de.joined-dict.ensemble/model2.pt:/export/data4/vzhekova/biases-data/En-De/wmt19.en-de.joined-dict.ensemble/model3.pt:/export/data4/vzhekova/biases-data/En-De/wmt19.en-de.joined-dict.ensemble/model4.pt\n",
      "2023-10-05 11:24:34 | INFO | fairseq.data.data_utils | loaded 10 examples from: data-bin_original_en-de/test.en-de.en\n",
      "2023-10-05 11:24:34 | INFO | fairseq.tasks.translation | data-bin_original_en-de test en-de 10 examples\n",
      "2023-10-05 11:24:47 | INFO | fairseq_cli.generate | NOTE: hypothesis and token scores are output in base 2\n",
      "2023-10-05 11:24:47 | INFO | fairseq_cli.generate | Translated 10 sentences (295 tokens) in 6.3s (1.58 sentences/s, 46.60 tokens/s)\n",
      "Finished translation.\n"
     ]
    }
   ],
   "source": [
    "# Generate translations\n",
    "# Beam search\n",
    "!fairseq-generate data-bin_original_en-de  \\\n",
    "    --task translation \\\n",
    "    --source-lang en \\\n",
    "    --target-lang de \\\n",
    "    --path $MODELS/model1.pt:$MODELS/model2.pt:$MODELS/model3.pt:$MODELS/model4.pt \\\n",
    "    --beam $BEAM \\\n",
    "    --nbest $NBEST \\\n",
    "    --batch-size 64 \\\n",
    "    --memory-efficient-fp16 \\\n",
    "    --remove-bpe > original_en-de.decode_Beam_10.log\n",
    "\n",
    "print('Finished translation.')"
   ]
  },
  {
   "cell_type": "code",
   "execution_count": 10,
   "id": "dbb5ab07-b223-43cb-b556-8efc0a65774b",
   "metadata": {},
   "outputs": [],
   "source": [
    "# 'LC_ALL=C sort -V' sorts the results in natural order \n",
    "!grep ^H original_en-de.decode_Beam_10.log | LC_ALL=C sort -V | sed 's/^H-//g' | cut -f 3 | sed 's/ @@//g' > ./hyp_original.txt"
   ]
  },
  {
   "cell_type": "markdown",
   "id": "c991ccb1-fe5f-43ec-a705-cb23f7501d49",
   "metadata": {},
   "source": [
    "# Backtranslation German-English"
   ]
  },
  {
   "cell_type": "code",
   "execution_count": 11,
   "id": "9dca07e1-6f67-405a-bd11-b104b24b8ec9",
   "metadata": {},
   "outputs": [
    {
     "name": "stdout",
     "output_type": "stream",
     "text": [
      "Loading codes from bpecodes.de ...\n",
      "Read 30000 codes from the codes file.\n",
      "Loading vocabulary from hyp_original.txt ...\n",
      "Read 2235 words (198 unique) from text file.\n",
      "Applying BPE to hyp_original.txt ...\n",
      "Modified 2235 words from text file.\n",
      "Finished subword.\n"
     ]
    }
   ],
   "source": [
    "# Dividing tokenized text into subword units\n",
    "\n",
    "!$FASTBPE applybpe bpe.hyp_original.de hyp_original.txt bpecodes.de\n",
    "\n",
    "print('Finished subword.')"
   ]
  },
  {
   "cell_type": "code",
   "execution_count": 12,
   "id": "dc5c8273-dcab-4968-b1b0-daad6cf9ac84",
   "metadata": {},
   "outputs": [
    {
     "name": "stdout",
     "output_type": "stream",
     "text": [
      "2023-10-05 11:25:57 | INFO | fairseq_cli.preprocess | Namespace(aim_repo=None, aim_run_hash=None, align_suffix=None, alignfile=None, all_gather_list_size=16384, amp=False, amp_batch_retries=2, amp_init_scale=128, amp_scale_window=None, azureml_logging=False, bf16=False, bpe=None, cpu=False, criterion='cross_entropy', dataset_impl='mmap', destdir='data-bin_original_de-en', dict_only=False, empty_cache_freq=0, fp16=False, fp16_init_scale=128, fp16_no_flatten_grads=False, fp16_scale_tolerance=0.0, fp16_scale_window=None, joined_dictionary=False, log_file=None, log_format=None, log_interval=100, lr_scheduler='fixed', memory_efficient_bf16=False, memory_efficient_fp16=False, min_loss_scale=0.0001, model_parallel_size=1, no_progress_bar=False, nwordssrc=-1, nwordstgt=-1, on_cpu_convert_precision=False, only_source=True, optimizer=None, padding_factor=8, plasma_path='/tmp/plasma', profile=False, quantization_config_path=None, reset_logging=False, scoring='bleu', seed=1, source_lang='de', srcdict='/export/data4/vzhekova/biases-data/De-En/wmt19.de-en.joined-dict.ensemble/dict.de.txt', suppress_crashes=False, target_lang='en', task='translation', tensorboard_logdir=None, testpref='bpe.hyp_original', tgtdict='/export/data4/vzhekova/biases-data/De-En/wmt19.de-en.joined-dict.ensemble/dict.en.txt', threshold_loss_scale=None, thresholdsrc=0, thresholdtgt=0, tokenizer=None, tpu=False, trainpref=None, use_plasma_view=False, user_dir=None, validpref=None, wandb_project=None, workers=8)\n",
      "2023-10-05 11:25:57 | INFO | fairseq_cli.preprocess | [de] Dictionary: 42024 types\n",
      "2023-10-05 11:25:57 | INFO | fairseq_cli.preprocess | [de] bpe.hyp_original.de: 100 sents, 2921 tokens, 0.0% replaced (by <unk>)\n",
      "2023-10-05 11:25:57 | INFO | fairseq_cli.preprocess | Wrote preprocessed data to data-bin_original_de-en\n",
      "Finished preprocessing.\n"
     ]
    }
   ],
   "source": [
    "!fairseq-preprocess \\\n",
    "    --source-lang de \\\n",
    "    --target-lang en \\\n",
    "    --only-source \\\n",
    "    --testpref bpe.hyp_original \\\n",
    "    --srcdict /export/data4/vzhekova/biases-data/De-En/wmt19.de-en.joined-dict.ensemble/dict.de.txt \\\n",
    "    --tgtdict /export/data4/vzhekova/biases-data/De-En/wmt19.de-en.joined-dict.ensemble/dict.en.txt \\\n",
    "    --destdir data-bin_original_de-en \\\n",
    "    --workers 8\n",
    "\n",
    "print('Finished preprocessing.')"
   ]
  },
  {
   "cell_type": "code",
   "execution_count": 13,
   "id": "735a953e-e02c-4a59-9069-5dd21c82f223",
   "metadata": {},
   "outputs": [],
   "source": [
    "MODELS=\"/export/data4/vzhekova/biases-data/De-En/wmt19.de-en.joined-dict.ensemble\"\n",
    "NBEST = 10\n",
    "BEAM = 10"
   ]
  },
  {
   "cell_type": "code",
   "execution_count": 14,
   "id": "0d3103e1-be7b-4282-8285-17fe87c4b724",
   "metadata": {},
   "outputs": [
    {
     "name": "stdout",
     "output_type": "stream",
     "text": [
      "2023-10-05 11:26:28 | INFO | fairseq_cli.generate | {'_name': None, 'common': {'_name': None, 'no_progress_bar': False, 'log_interval': 100, 'log_format': None, 'log_file': None, 'aim_repo': None, 'aim_run_hash': None, 'tensorboard_logdir': None, 'wandb_project': None, 'azureml_logging': False, 'seed': 1, 'cpu': False, 'tpu': False, 'bf16': False, 'memory_efficient_bf16': False, 'fp16': True, 'memory_efficient_fp16': True, 'fp16_no_flatten_grads': False, 'fp16_init_scale': 128, 'fp16_scale_window': None, 'fp16_scale_tolerance': 0.0, 'on_cpu_convert_precision': False, 'min_loss_scale': 0.0001, 'threshold_loss_scale': None, 'amp': False, 'amp_batch_retries': 2, 'amp_init_scale': 128, 'amp_scale_window': None, 'user_dir': None, 'empty_cache_freq': 0, 'all_gather_list_size': 16384, 'model_parallel_size': 1, 'quantization_config_path': None, 'profile': False, 'reset_logging': False, 'suppress_crashes': False, 'use_plasma_view': False, 'plasma_path': '/tmp/plasma'}, 'common_eval': {'_name': None, 'path': '/export/data4/vzhekova/biases-data/De-En/wmt19.de-en.joined-dict.ensemble/model1.pt:/export/data4/vzhekova/biases-data/De-En/wmt19.de-en.joined-dict.ensemble/model2.pt:/export/data4/vzhekova/biases-data/De-En/wmt19.de-en.joined-dict.ensemble/model3.pt:/export/data4/vzhekova/biases-data/De-En/wmt19.de-en.joined-dict.ensemble/model4.pt', 'post_process': 'subword_nmt', 'quiet': False, 'model_overrides': '{}', 'results_path': None}, 'distributed_training': {'_name': None, 'distributed_world_size': 1, 'distributed_num_procs': 1, 'distributed_rank': 0, 'distributed_backend': 'nccl', 'distributed_init_method': None, 'distributed_port': -1, 'device_id': 0, 'distributed_no_spawn': False, 'ddp_backend': 'pytorch_ddp', 'ddp_comm_hook': 'none', 'bucket_cap_mb': 25, 'fix_batches_to_gpus': False, 'find_unused_parameters': False, 'gradient_as_bucket_view': False, 'fast_stat_sync': False, 'heartbeat_timeout': -1, 'broadcast_buffers': False, 'slowmo_momentum': None, 'slowmo_base_algorithm': 'localsgd', 'localsgd_frequency': 3, 'nprocs_per_node': 1, 'pipeline_model_parallel': False, 'pipeline_balance': None, 'pipeline_devices': None, 'pipeline_chunks': 0, 'pipeline_encoder_balance': None, 'pipeline_encoder_devices': None, 'pipeline_decoder_balance': None, 'pipeline_decoder_devices': None, 'pipeline_checkpoint': 'never', 'zero_sharding': 'none', 'fp16': True, 'memory_efficient_fp16': True, 'tpu': False, 'no_reshard_after_forward': False, 'fp32_reduce_scatter': False, 'cpu_offload': False, 'use_sharded_state': False, 'not_fsdp_flatten_parameters': False}, 'dataset': {'_name': None, 'num_workers': 1, 'skip_invalid_size_inputs_valid_test': False, 'max_tokens': None, 'batch_size': 64, 'required_batch_size_multiple': 8, 'required_seq_len_multiple': 1, 'dataset_impl': None, 'data_buffer_size': 10, 'train_subset': 'train', 'valid_subset': 'valid', 'combine_valid_subsets': None, 'ignore_unused_valid_subsets': False, 'validate_interval': 1, 'validate_interval_updates': 0, 'validate_after_updates': 0, 'fixed_validation_seed': None, 'disable_validation': False, 'max_tokens_valid': None, 'batch_size_valid': 64, 'max_valid_steps': None, 'curriculum': 0, 'gen_subset': 'test', 'num_shards': 1, 'shard_id': 0, 'grouped_shuffling': False, 'update_epoch_batch_itr': False, 'update_ordered_indices_seed': False}, 'optimization': {'_name': None, 'max_epoch': 0, 'max_update': 0, 'stop_time_hours': 0.0, 'clip_norm': 0.0, 'sentence_avg': False, 'update_freq': [1], 'lr': [0.25], 'stop_min_lr': -1.0, 'use_bmuf': False, 'skip_remainder_batch': False}, 'checkpoint': {'_name': None, 'save_dir': 'checkpoints', 'restore_file': 'checkpoint_last.pt', 'continue_once': None, 'finetune_from_model': None, 'reset_dataloader': False, 'reset_lr_scheduler': False, 'reset_meters': False, 'reset_optimizer': False, 'optimizer_overrides': '{}', 'save_interval': 1, 'save_interval_updates': 0, 'keep_interval_updates': -1, 'keep_interval_updates_pattern': -1, 'keep_last_epochs': -1, 'keep_best_checkpoints': -1, 'no_save': False, 'no_epoch_checkpoints': False, 'no_last_checkpoints': False, 'no_save_optimizer_state': False, 'best_checkpoint_metric': 'loss', 'maximize_best_checkpoint_metric': False, 'patience': -1, 'checkpoint_suffix': '', 'checkpoint_shard_count': 1, 'load_checkpoint_on_all_dp_ranks': False, 'write_checkpoints_asynchronously': False, 'model_parallel_size': 1}, 'bmuf': {'_name': None, 'block_lr': 1.0, 'block_momentum': 0.875, 'global_sync_iter': 50, 'warmup_iterations': 500, 'use_nbm': False, 'average_sync': False, 'distributed_world_size': 1}, 'generation': {'_name': None, 'beam': 10, 'beam_mt': 0, 'nbest': 10, 'max_len_a': 0.0, 'max_len_b': 200, 'max_len_a_mt': 0.0, 'max_len_b_mt': 200, 'min_len': 1, 'match_source_len': False, 'unnormalized': False, 'no_early_stop': False, 'no_beamable_mm': False, 'lenpen': 1.0, 'lenpen_mt': 1.0, 'unkpen': 0.0, 'replace_unk': None, 'sacrebleu': False, 'score_reference': False, 'prefix_size': 0, 'no_repeat_ngram_size': 0, 'sampling': False, 'sampling_topk': -1, 'sampling_topp': -1.0, 'constraints': None, 'temperature': 1.0, 'diverse_beam_groups': -1, 'diverse_beam_strength': 0.5, 'diversity_rate': -1.0, 'print_alignment': None, 'print_step': False, 'lm_path': None, 'lm_weight': 0.0, 'iter_decode_eos_penalty': 0.0, 'iter_decode_max_iter': 10, 'iter_decode_force_max_iter': False, 'iter_decode_with_beam': 1, 'iter_decode_with_external_reranker': False, 'retain_iter_history': False, 'retain_dropout': False, 'retain_dropout_modules': None, 'decoding_format': None, 'no_seed_provided': False, 'eos_token': None}, 'eval_lm': {'_name': None, 'output_word_probs': False, 'output_word_stats': False, 'context_window': 0, 'softmax_batch': 9223372036854775807}, 'interactive': {'_name': None, 'buffer_size': 0, 'input': '-'}, 'model': {'_name': 'wav2vec2', 'extractor_mode': 'default', 'encoder_layers': 12, 'encoder_embed_dim': 768, 'encoder_ffn_embed_dim': 3072, 'encoder_attention_heads': 12, 'activation_fn': 'gelu', 'layer_type': 'transformer', 'dropout': 0.1, 'attention_dropout': 0.1, 'activation_dropout': 0.0, 'encoder_layerdrop': 0.0, 'dropout_input': 0.0, 'dropout_features': 0.0, 'final_dim': 0, 'layer_norm_first': False, 'conv_feature_layers': '[(512, 10, 5)] + [(512, 3, 2)] * 4 + [(512,2,2)] + [(512,2,2)]', 'conv_bias': False, 'logit_temp': 0.1, 'quantize_targets': False, 'quantize_input': False, 'same_quantizer': False, 'target_glu': False, 'feature_grad_mult': 1.0, 'quantizer_depth': 1, 'quantizer_factor': 3, 'latent_vars': 320, 'latent_groups': 2, 'latent_dim': 0, 'mask_length': 10, 'mask_prob': 0.65, 'mask_selection': 'static', 'mask_other': 0.0, 'no_mask_overlap': False, 'mask_min_space': 1, 'require_same_masks': True, 'mask_dropout': 0.0, 'mask_channel_length': 10, 'mask_channel_prob': 0.0, 'mask_channel_before': False, 'mask_channel_selection': 'static', 'mask_channel_other': 0.0, 'no_mask_channel_overlap': False, 'mask_channel_min_space': 1, 'num_negatives': 100, 'negatives_from_everywhere': False, 'cross_sample_negatives': 0, 'codebook_negatives': 0, 'conv_pos': 128, 'conv_pos_groups': 16, 'pos_conv_depth': 1, 'latent_temp': [2.0, 0.5, 0.999995], 'max_positions': 100000, 'checkpoint_activations': False, 'required_seq_len_multiple': 1, 'crop_seq_to_multiple': 1, 'depthwise_conv_kernel_size': 31, 'attn_type': '', 'pos_enc_type': 'abs', 'fp16': True}, 'task': {'_name': 'translation', 'data': 'data-bin_original_de-en', 'source_lang': 'de', 'target_lang': 'en', 'load_alignments': False, 'left_pad_source': True, 'left_pad_target': False, 'max_source_positions': 1024, 'max_target_positions': 1024, 'upsample_primary': -1, 'truncate_source': False, 'num_batch_buckets': 0, 'train_subset': 'train', 'dataset_impl': None, 'required_seq_len_multiple': 1, 'eval_bleu': False, 'eval_bleu_args': '{}', 'eval_bleu_detok': 'space', 'eval_bleu_detok_args': '{}', 'eval_tokenized_bleu': False, 'eval_bleu_remove_bpe': None, 'eval_bleu_print_samples': False}, 'criterion': {'_name': 'cross_entropy', 'sentence_avg': True}, 'optimizer': None, 'lr_scheduler': {'_name': 'fixed', 'force_anneal': None, 'lr_shrink': 0.1, 'warmup_updates': 0, 'lr': [0.25]}, 'scoring': {'_name': 'bleu', 'pad': 1, 'eos': 2, 'unk': 3}, 'bpe': None, 'tokenizer': None, 'ema': {'_name': None, 'store_ema': False, 'ema_decay': 0.9999, 'ema_start_update': 0, 'ema_seed_model': None, 'ema_update_freq': 1, 'ema_fp32': False}}\n",
      "2023-10-05 11:26:29 | INFO | fairseq.tasks.translation | [de] dictionary: 42024 types\n",
      "2023-10-05 11:26:29 | INFO | fairseq.tasks.translation | [en] dictionary: 42024 types\n",
      "2023-10-05 11:26:29 | INFO | fairseq_cli.generate | loading model(s) from /export/data4/vzhekova/biases-data/De-En/wmt19.de-en.joined-dict.ensemble/model1.pt:/export/data4/vzhekova/biases-data/De-En/wmt19.de-en.joined-dict.ensemble/model2.pt:/export/data4/vzhekova/biases-data/De-En/wmt19.de-en.joined-dict.ensemble/model3.pt:/export/data4/vzhekova/biases-data/De-En/wmt19.de-en.joined-dict.ensemble/model4.pt\n",
      "2023-10-05 11:27:08 | INFO | fairseq.data.data_utils | loaded 100 examples from: data-bin_original_de-en/test.de-en.de\n",
      "2023-10-05 11:27:08 | INFO | fairseq.tasks.translation | data-bin_original_de-en test de-en 100 examples\n",
      "2023-10-05 11:27:27 | INFO | fairseq_cli.generate | NOTE: hypothesis and token scores are output in base 2\n",
      "2023-10-05 11:27:27 | INFO | fairseq_cli.generate | Translated 100 sentences (2,571 tokens) in 12.3s (8.16 sentences/s, 209.87 tokens/s)\n",
      "Finished translation.\n"
     ]
    }
   ],
   "source": [
    "# Generate backtranslations\n",
    "!fairseq-generate data-bin_original_de-en  \\\n",
    "    --task translation \\\n",
    "    --source-lang de \\\n",
    "    --target-lang en \\\n",
    "    --path $MODELS/model1.pt:$MODELS/model2.pt:$MODELS/model3.pt:$MODELS/model4.pt \\\n",
    "    --beam $BEAM \\\n",
    "    --nbest $NBEST \\\n",
    "    --batch-size 64 \\\n",
    "    --memory-efficient-fp16 \\\n",
    "    --remove-bpe > original_de-en.decode_Beam_10_backtranslation.log\n",
    "\n",
    "print('Finished translation.')"
   ]
  },
  {
   "cell_type": "code",
   "execution_count": 15,
   "id": "07101bae-8870-4068-bcc1-28604d30f233",
   "metadata": {},
   "outputs": [],
   "source": [
    "# 'LC_ALL=C sort -V' sorts the results in natural order \n",
    "!grep ^H original_de-en.decode_Beam_10_backtranslation.log | LC_ALL=C sort -V | sed 's/^H-//g' | cut -f 3 | sed 's/ @@//g' > ./hyp_original_back.txt"
   ]
  },
  {
   "cell_type": "code",
   "execution_count": 16,
   "id": "34a2b3ca-bd4e-4cd4-83a0-5331803af816",
   "metadata": {},
   "outputs": [
    {
     "name": "stdout",
     "output_type": "stream",
     "text": [
      "Finished detokenizing.\n"
     ]
    }
   ],
   "source": [
    "# Detokenize text        \n",
    "from sacremoses import MosesPunctNormalizer\n",
    "from sacremoses import MosesTokenizer, MosesDetokenizer\n",
    "from __future__ import print_function\n",
    "\n",
    "md_en = MosesDetokenizer(lang='en')\n",
    "\n",
    "with open('hyp_original_back.txt', encoding='utf8') as fin, open('original_back.txt','w', encoding='utf8') as fout:\n",
    "    for line in fin:\n",
    "        tokens = md_en.detokenize(line.split(), return_str=True)\n",
    "        print(tokens, end='\\n', file=fout)\n",
    "\n",
    "print('Finished detokenizing.')"
   ]
  },
  {
   "cell_type": "markdown",
   "id": "21aefd5e-b839-436a-9f92-68c9bdde9d33",
   "metadata": {},
   "source": [
    "# Statistics on translations"
   ]
  },
  {
   "cell_type": "code",
   "execution_count": 26,
   "id": "c8ef7eb2-e55e-4bd2-b22b-f9d06e9508bd",
   "metadata": {},
   "outputs": [
    {
     "name": "stdout",
     "output_type": "stream",
     "text": [
      "10\n",
      "10\n"
     ]
    }
   ],
   "source": [
    "# List with original source sentences\n",
    "source = []\n",
    "with open('en_original.txt', 'r') as fin:\n",
    "    for line in fin:\n",
    "        source.append(line.strip())\n",
    "          \n",
    "# List with nbest sentences for every source in original\n",
    "nbest_original = []\n",
    "counter = 0\n",
    "temp = []\n",
    "with open('hyp_original.txt', 'r') as fin:\n",
    "    for line in fin:\n",
    "        temp.append(line.strip())\n",
    "        counter += 1\n",
    "        if (counter == 10):\n",
    "            nbest_original.append(temp)\n",
    "            counter = 0\n",
    "            temp = []\n",
    "            \n",
    "print(len(source))\n",
    "print(len(nbest_original))"
   ]
  },
  {
   "cell_type": "code",
   "execution_count": 27,
   "id": "5db24268-9dd2-44fa-a743-7c12826a7c6a",
   "metadata": {},
   "outputs": [],
   "source": [
    "# Count unique sentences in source nbest list for each source sentence\n",
    "def count_unique_sentences(nbest_sentences):\n",
    "    unique_sent = []\n",
    "    for source_nbest in nbest_sentences:\n",
    "        num_values = len(set(source_nbest))\n",
    "        #print(num_values)\n",
    "        unique_sent.append(num_values)\n",
    "\n",
    "    #print(unique_sent)\n",
    "    return unique_sent "
   ]
  },
  {
   "cell_type": "code",
   "execution_count": 28,
   "id": "b5b7dc62-f469-454e-8c74-22b36f4abcb5",
   "metadata": {},
   "outputs": [
    {
     "name": "stdout",
     "output_type": "stream",
     "text": [
      "[10, 10, 10, 10, 10, 10, 10, 10, 10, 10]\n"
     ]
    }
   ],
   "source": [
    "# Value should be 10, because beam search generates 10 unique sentences\n",
    "print(count_unique_sentences(nbest_original))"
   ]
  },
  {
   "cell_type": "markdown",
   "id": "0538a059-9919-4b6e-8f93-b0f88e92fc90",
   "metadata": {},
   "source": [
    "# Statistics on backtranslations"
   ]
  },
  {
   "cell_type": "code",
   "execution_count": 29,
   "id": "839ccdf2-a396-403c-8400-9748ed0f3fb7",
   "metadata": {},
   "outputs": [
    {
     "name": "stdout",
     "output_type": "stream",
     "text": [
      "10\n"
     ]
    }
   ],
   "source": [
    "# List with original source sentences\n",
    "source = []\n",
    "with open('en_original.txt', 'r') as fin:\n",
    "    for line in fin:\n",
    "        source.append(line.strip())      \n",
    "    \n",
    "# List with nbest sentences for every source in original \n",
    "nbest_original = []\n",
    "counter = 0\n",
    "temp = []\n",
    "with open('original_back.txt', 'r') as fin:\n",
    "    for line in fin:\n",
    "        temp.append(line.strip())\n",
    "        counter += 1\n",
    "        if (counter == 100):\n",
    "            nbest_original.append(temp)\n",
    "            counter = 0\n",
    "            temp = []\n",
    "            \n",
    "print(len(nbest_original))"
   ]
  },
  {
   "cell_type": "code",
   "execution_count": 30,
   "id": "177c95d7-17a4-4abf-a987-e97f074a0cb9",
   "metadata": {},
   "outputs": [
    {
     "name": "stdout",
     "output_type": "stream",
     "text": [
      "[32, 63, 68, 61, 26, 67, 70, 48, 33, 48]\n"
     ]
    }
   ],
   "source": [
    "print(count_unique_sentences(nbest_original))"
   ]
  },
  {
   "cell_type": "markdown",
   "id": "7c76762c-a0e5-4a47-bdb8-1920e4e74ff2",
   "metadata": {},
   "source": [
    "## Average results from masking"
   ]
  },
  {
   "cell_type": "code",
   "execution_count": 35,
   "id": "bab5258d-b2fe-4926-997c-8ba9ac894904",
   "metadata": {},
   "outputs": [
    {
     "name": "stdout",
     "output_type": "stream",
     "text": [
      "[[30, 66, 36, 33, 32, 20, 32, 36, 32], [54, 64, 64, 64, 79, 64, 64, 64, 64, 75, 63], [69, 70, 66, 83, 74, 68, 68, 68, 79, 68, 66, 68, 61, 38, 51, 68, 68, 68, 64, 74, 68], [53, 49, 40, 54, 58, 44, 58, 51, 57, 39, 69, 63, 57, 32, 61, 57, 57, 40, 57, 55, 57], [44, 26, 26, 28, 26, 26, 26, 26, 26, 29, 26, 22, 26, 26, 26, 26, 36, 26, 45, 26, 49, 26, 27, 45, 26, 67, 26], [44, 70, 70, 43, 54, 75, 59, 70, 70, 56, 70, 71, 70, 72, 67, 68, 70, 73, 70, 70, 70, 47, 59, 67, 66, 67, 72, 67, 67, 67], [70, 70, 66, 68, 70, 70, 67, 70, 51, 59, 70, 56, 56, 70, 70, 62, 70, 70, 73, 70, 70, 70, 70, 90, 60, 48, 70], [47, 48, 48, 47, 48, 60, 46, 51, 33, 50, 48, 66, 48, 48, 48], [37, 53, 63, 48, 31, 46, 31, 31, 39, 27, 31, 39, 32, 31, 31, 36, 35, 24, 19, 31], [44, 35, 35, 35, 35, 65, 35, 35, 35, 74, 56, 35, 36, 63, 48, 69, 35, 35, 35, 35, 35, 52, 35, 47, 73, 35, 35, 35, 38, 32, 35, 44, 37, 28, 35, 28, 39, 29, 34]]\n",
      "[[39, 53, 38, 35, 50, 32, 29, 28], [58, 70, 64, 64, 64, 74, 64, 63, 72, 28], [77, 89, 70, 84, 71, 64, 72, 77, 77, 63, 84, 55, 53, 63, 75, 76, 69, 91, 83], [53, 53, 46, 45, 44, 42, 34, 55, 61, 68, 64, 45, 61, 53, 49, 33, 63, 65], [30, 26, 28, 27, 27, 24, 38, 26, 27, 26, 27, 27, 37, 27, 27, 21, 26, 26, 36, 25, 34, 28, 51], [76, 43, 75, 70, 70, 72, 80, 41, 67, 71, 60, 70, 56, 70, 70, 70, 70, 54, 61, 36, 79, 70, 61, 60, 67, 50, 59], [70, 51, 68, 67, 63, 67, 77, 65, 69, 83, 76, 66, 64, 51, 52, 78, 71, 70, 46, 97, 71, 71, 89, 69, 55], [42, 50, 66, 67, 53, 46, 48, 46, 46, 52, 46, 68, 44, 65], [45, 52, 37, 31, 35, 37, 30, 37, 36, 29, 33, 31, 32, 32, 38, 33, 33, 20, 28], [53, 58, 52, 58, 42, 50, 48, 48, 63, 62, 53, 33, 49, 55, 58, 62, 43, 78, 62, 48, 39, 51, 52, 46, 78, 62, 52, 58, 40, 47, 48, 50, 23]]\n",
      "[[41, 52, 52, 28, 55, 28, 21, 30], [54, 69, 66, 66, 72, 74, 63, 60, 57, 41], [68, 61, 69, 79, 70, 65, 60, 73, 72, 66, 81, 77, 88, 68, 80, 74, 71, 79, 89], [39, 49, 39, 35, 50, 44, 56, 45, 58, 51, 48, 61, 77, 57, 58, 43, 65, 65], [43, 29, 34, 37, 27, 54, 26, 51, 27, 27, 38, 23, 45, 34, 42, 36, 46, 45, 40, 24, 41, 56, 63], [68, 67, 72, 49, 68, 52, 66, 61, 68, 67, 56, 49, 74, 65, 70, 35, 49, 67, 63, 58, 58, 62, 85, 69, 74, 63, 50], [58, 70, 68, 63, 68, 63, 74, 64, 64, 57, 48, 79, 75, 68, 52, 63, 85, 47, 83, 99, 77, 90, 70, 70, 60], [45, 60, 51, 59, 35, 48, 83, 42, 47, 57, 42, 56, 43, 82], [25, 39, 42, 24, 37, 31, 36, 38, 36, 31, 33, 38, 34, 41, 27, 31, 37, 18, 26], [45, 48, 58, 53, 47, 60, 50, 55, 51, 32, 52, 69, 75, 64, 50, 85, 42, 64, 47, 64, 43, 38, 81, 55, 81, 66, 59, 58, 48, 36, 50, 48, 51]]\n"
     ]
    }
   ],
   "source": [
    "unique_1st = []\n",
    "with open('unique_1st.txt', 'r') as fin:\n",
    "    for line in fin:\n",
    "        unique_1st.append([int(i) for i in line.strip().split(\",\")])    \n",
    "        \n",
    "print(unique_1st)\n",
    "\n",
    "unique_2nd = []\n",
    "with open('unique_2nd.txt', 'r') as fin:\n",
    "    for line in fin:\n",
    "        unique_2nd.append([int(i) for i in line.strip().split(\",\")])    \n",
    "        \n",
    "print(unique_2nd)\n",
    "\n",
    "unique_3rd = []\n",
    "with open('unique_3rd.txt', 'r') as fin:\n",
    "    for line in fin:\n",
    "        unique_3rd.append([int(i) for i in line.strip().split(\",\")])    \n",
    "        \n",
    "print(unique_3rd)\n",
    "\n"
   ]
  },
  {
   "cell_type": "code",
   "execution_count": 68,
   "id": "5d417c77-bcf1-4195-b714-c9396040fa3b",
   "metadata": {},
   "outputs": [
    {
     "name": "stdout",
     "output_type": "stream",
     "text": [
      "[[36.666666666666664, 57.0, 42.0, 32.0, 45.666666666666664, 26.666666666666668, 27.333333333333332, 31.333333333333332], [55.333333333333336, 67.66666666666667, 64.66666666666667, 64.66666666666667, 71.66666666666667, 70.66666666666667, 63.666666666666664, 62.333333333333336, 64.33333333333333, 48.0], [71.33333333333333, 73.33333333333333, 68.33333333333333, 82.0, 71.66666666666667, 65.66666666666667, 66.66666666666667, 72.66666666666667, 76.0, 65.66666666666667, 77.0, 66.66666666666667, 67.33333333333333, 56.333333333333336, 68.66666666666667, 72.66666666666667, 69.33333333333333, 79.33333333333333, 78.66666666666667], [48.333333333333336, 50.333333333333336, 41.666666666666664, 44.666666666666664, 50.666666666666664, 43.333333333333336, 49.333333333333336, 50.333333333333336, 58.666666666666664, 52.666666666666664, 60.333333333333336, 56.333333333333336, 65.0, 47.333333333333336, 56.0, 44.333333333333336, 61.666666666666664, 56.666666666666664], [39.0, 27.0, 29.333333333333332, 30.666666666666668, 26.666666666666668, 34.666666666666664, 30.0, 34.333333333333336, 26.666666666666668, 27.333333333333332, 30.333333333333332, 24.0, 36.0, 29.0, 31.666666666666668, 27.666666666666668, 36.0, 32.333333333333336, 40.333333333333336, 25.0, 41.333333333333336, 36.666666666666664, 47.0], [62.666666666666664, 60.0, 72.33333333333333, 54.0, 64.0, 66.33333333333333, 68.33333333333333, 57.333333333333336, 68.33333333333333, 64.66666666666667, 62.0, 63.333333333333336, 66.66666666666667, 69.0, 69.0, 57.666666666666664, 63.0, 64.66666666666667, 64.66666666666667, 54.666666666666664, 69.0, 59.666666666666664, 68.33333333333333, 65.33333333333333, 69.0, 60.0, 60.333333333333336], [66.0, 63.666666666666664, 67.33333333333333, 66.0, 67.0, 66.66666666666667, 72.66666666666667, 66.33333333333333, 61.333333333333336, 66.33333333333333, 64.66666666666667, 67.0, 65.0, 63.0, 58.0, 67.66666666666667, 75.33333333333333, 62.333333333333336, 67.33333333333333, 88.66666666666667, 72.66666666666667, 77.0, 76.33333333333333, 76.33333333333333, 58.333333333333336], [44.666666666666664, 52.666666666666664, 55.0, 57.666666666666664, 45.333333333333336, 51.333333333333336, 59.0, 46.333333333333336, 42.0, 53.0, 45.333333333333336, 63.333333333333336, 45.0, 65.0], [35.666666666666664, 48.0, 47.333333333333336, 34.333333333333336, 34.333333333333336, 38.0, 32.333333333333336, 35.333333333333336, 37.0, 29.0, 32.333333333333336, 36.0, 32.666666666666664, 34.666666666666664, 32.0, 33.333333333333336, 35.0, 20.666666666666668, 24.333333333333332], [47.333333333333336, 47.0, 48.333333333333336, 48.666666666666664, 41.333333333333336, 58.333333333333336, 44.333333333333336, 46.0, 49.666666666666664, 56.0, 53.666666666666664, 45.666666666666664, 53.333333333333336, 60.666666666666664, 52.0, 72.0, 40.0, 59.0, 48.0, 49.0, 39.0, 47.0, 56.0, 49.333333333333336, 77.33333333333333, 54.333333333333336, 48.666666666666664, 50.333333333333336, 42.0, 38.333333333333336, 44.333333333333336, 47.333333333333336, 37.0]]\n"
     ]
    }
   ],
   "source": [
    "unique_average = []\n",
    "for i in range(0, len(source)):\n",
    "    average = map(lambda x: (x[0] + x[1] + x[2])/3, zip(unique_1st[i], unique_2nd[i], unique_3rd[i]))\n",
    "    unique_average.append(list(average))\n",
    "\n",
    "print(unique_average)"
   ]
  },
  {
   "cell_type": "code",
   "execution_count": 74,
   "id": "9c3597e4-7ab2-43a7-af4c-fe5adb00f578",
   "metadata": {},
   "outputs": [
    {
     "name": "stdout",
     "output_type": "stream",
     "text": [
      "[[39, 53, 38, 33, 50, 28, 29, 30], [54, 69, 64, 64, 72, 74, 64, 63, 64, 41], [69, 70, 69, 83, 71, 65, 68, 73, 77, 66, 81, 68, 61, 63, 75, 74, 69, 79, 83], [53, 49, 40, 45, 50, 44, 56, 51, 58, 51, 64, 61, 61, 53, 58, 43, 63, 65], [43, 26, 28, 28, 27, 26, 26, 26, 27, 27, 27, 23, 37, 27, 27, 26, 36, 26, 40, 25, 41, 28, 51], [68, 67, 72, 49, 68, 72, 66, 61, 68, 67, 60, 70, 70, 70, 70, 68, 70, 67, 63, 58, 70, 62, 61, 67, 67, 63, 59], [70, 70, 68, 67, 68, 67, 74, 65, 64, 59, 70, 66, 64, 68, 52, 63, 71, 70, 73, 97, 71, 71, 70, 70, 60], [45, 50, 51, 59, 48, 48, 48, 46, 46, 52, 46, 66, 44, 65], [37, 52, 42, 31, 35, 37, 31, 37, 36, 29, 33, 38, 32, 32, 31, 33, 35, 20, 26], [45, 48, 52, 53, 42, 60, 48, 48, 51, 62, 53, 35, 49, 63, 50, 69, 42, 64, 47, 48, 39, 51, 52, 47, 78, 62, 52, 58, 40, 36, 48, 48, 37]]\n"
     ]
    }
   ],
   "source": [
    "import statistics\n",
    "\n",
    "unique_median = []\n",
    "for i in range(0, len(source)):\n",
    "    med = map(lambda x: statistics.median([x[0], x[1], x[2]]), zip(unique_1st[i], unique_2nd[i], unique_3rd[i]))\n",
    "    unique_median.append(list(med))\n",
    "\n",
    "print(unique_median)"
   ]
  },
  {
   "cell_type": "markdown",
   "id": "745a4cb7-84a0-467a-b148-caa1a7663821",
   "metadata": {},
   "source": [
    "## Subtract original sentences value from average"
   ]
  },
  {
   "cell_type": "code",
   "execution_count": 50,
   "id": "e56a5670-5ecd-4f4c-97fa-1cdd8ba75697",
   "metadata": {},
   "outputs": [
    {
     "name": "stdout",
     "output_type": "stream",
     "text": [
      "[32, 63, 68, 61, 26, 67, 70, 48, 33, 48]\n"
     ]
    }
   ],
   "source": [
    "unique_original = count_unique_sentences(nbest_original)\n",
    "\n",
    "print(unique_original)"
   ]
  },
  {
   "cell_type": "code",
   "execution_count": 80,
   "id": "b12e0eaa-5027-4f32-9389-249f330acb27",
   "metadata": {},
   "outputs": [
    {
     "name": "stdout",
     "output_type": "stream",
     "text": [
      "[4.666666666666664, 25.0, 10.0, 0.0, 13.666666666666664, -5.333333333333332, -4.666666666666668, -0.6666666666666679]\n",
      "['So', 'now', 'Thomson', 'becomes', 'the', 'more', 'likely', 'suspect', '.']\n",
      "(25.0, 1, 'now')\n",
      "\n",
      "[-7.666666666666664, 4.666666666666671, 1.6666666666666714, 1.6666666666666714, 8.666666666666671, 7.666666666666671, 0.6666666666666643, -0.6666666666666643, 1.3333333333333286, -15.0]\n",
      "['There', 'was', 'one', 'black', 'professor', 'and', 'one', 'black', 'assistant', 'dean', '.']\n",
      "(8.666666666666671, 4, 'professor')\n",
      "\n",
      "[3.3333333333333286, 5.333333333333329, 0.3333333333333286, 14.0, 3.6666666666666714, -2.3333333333333286, -1.3333333333333286, 4.666666666666671, 8.0, -2.3333333333333286, 9.0, -1.3333333333333286, -0.6666666666666714, -11.666666666666664, 0.6666666666666714, 4.666666666666671, 1.3333333333333286, 11.333333333333329, 10.666666666666671]\n",
      "['We', 'have', 'our', 'cognitive', 'biases', ',', 'so', 'that', 'I', 'can', 'take', 'a', 'perfect', 'history', 'on', 'a', 'patient', 'with', 'chest', 'pain', '.']\n",
      "(14.0, 3, 'cognitive')\n",
      "\n",
      "[-12.666666666666664, -10.666666666666664, -19.333333333333336, -16.333333333333336, -10.333333333333336, -17.666666666666664, -11.666666666666664, -10.666666666666664, -2.3333333333333357, -8.333333333333336, -0.6666666666666643, -4.666666666666664, 4.0, -13.666666666666664, -5.0, -16.666666666666664, 0.6666666666666643, -4.333333333333336]\n",
      "['That', '&apos;s', 'the', 'officer', 'who', 'emailed', 'me', 'back', ',', 'saying', 'I', 'think', 'you', 'can', 'have', 'a', 'few', 'classes', 'with', 'us', '.']\n",
      "(4.0, 12, 'you')\n",
      "\n",
      "[13.0, 1.0, 3.333333333333332, 4.666666666666668, 0.6666666666666679, 8.666666666666664, 4.0, 8.333333333333336, 0.6666666666666679, 1.3333333333333321, 4.333333333333332, -2.0, 10.0, 3.0, 5.666666666666668, 1.6666666666666679, 10.0, 6.333333333333336, 14.333333333333336, -1.0, 15.333333333333336, 10.666666666666664, 21.0]\n",
      "['Steve', ',', 'a', 'physician', ',', 'told', 'me', 'about', 'a', 'doctor', 'that', 'he', 'worked', 'with', 'who', 'was', 'never', 'very', 'respectful', ',', 'especially', 'to', 'junior', 'staff', 'and', 'nurses', '.']\n",
      "(21.0, 22, 'junior')\n",
      "\n",
      "[-4.333333333333336, -7.0, 5.333333333333329, -13.0, -3.0, -0.6666666666666714, 1.3333333333333286, -9.666666666666664, 1.3333333333333286, -2.3333333333333286, -5.0, -3.6666666666666643, -0.3333333333333286, 2.0, 2.0, -9.333333333333336, -4.0, -2.3333333333333286, -2.3333333333333286, -12.333333333333336, 2.0, -7.333333333333336, 1.3333333333333286, -1.6666666666666714, 2.0, -7.0, -6.666666666666664]\n",
      "['What', 'do', 'you', 'think', 'a', 'batting', 'average', 'for', 'a', 'cardiac', 'surgeon', 'or', 'a', 'nurse', 'practitioner', 'or', 'an', 'orthopedic', 'surgeon', ',', 'an', 'OBGYN', ',', 'a', 'paramedic', 'is', 'supposed', 'to', 'be', '?']\n",
      "(5.333333333333329, 2, 'you')\n",
      "\n",
      "[-4.0, -6.333333333333336, -2.6666666666666714, -4.0, -3.0, -3.3333333333333286, 2.6666666666666714, -3.6666666666666714, -8.666666666666664, -3.6666666666666714, -5.333333333333329, -3.0, -5.0, -7.0, -12.0, -2.3333333333333286, 5.333333333333329, -7.666666666666664, -2.6666666666666714, 18.66666666666667, 2.6666666666666714, 7.0, 6.333333333333329, 6.333333333333329, -11.666666666666664]\n",
      "['Fortunately', 'for', 'Mama', 'Jane', 'and', 'her', 'friend', ',', 'a', 'donor', 'had', 'provided', 'treatment', 'so', 'that', 'we', 'could', 'take', 'them', 'to', 'the', 'nearest', 'hospital', 'three', 'hours', 'away', '.']\n",
      "(18.66666666666667, 19, 'to')\n",
      "\n",
      "[-3.3333333333333357, 4.666666666666664, 7.0, 9.666666666666664, -2.6666666666666643, 3.3333333333333357, 11.0, -1.6666666666666643, -6.0, 5.0, -2.6666666666666643, 15.333333333333336, -3.0, 17.0]\n",
      "['And', 'there', 'was', 'perpetual', 'victim', 'blaming', 'when', 'these', 'victims', 'came', 'to', 'report', 'their', 'crimes', '.']\n",
      "(17.0, 13, 'crimes')\n",
      "\n",
      "[2.6666666666666643, 15.0, 14.333333333333336, 1.3333333333333357, 1.3333333333333357, 5.0, -0.6666666666666643, 2.3333333333333357, 4.0, -4.0, -0.6666666666666643, 3.0, -0.3333333333333357, 1.6666666666666643, -1.0, 0.3333333333333357, 2.0, -12.333333333333332, -8.666666666666668]\n",
      "['This', 'one', 'comes', 'from', 'a', 'note', 'that', 'a', 'student', 'sent', 'me', 'after', 'I', 'gave', 'a', 'lecture', 'about', 'arousal', 'nonconcordance', '.']\n",
      "(15.0, 1, 'one')\n",
      "\n",
      "[-0.6666666666666643, -1.0, 0.3333333333333357, 0.6666666666666643, -6.666666666666664, 10.333333333333336, -3.6666666666666643, -2.0, 1.6666666666666643, 8.0, 5.666666666666664, -2.3333333333333357, 5.333333333333336, 12.666666666666664, 4.0, 24.0, -8.0, 11.0, 0.0, 1.0, -9.0, -1.0, 8.0, 1.3333333333333357, 29.33333333333333, 6.333333333333336, 0.6666666666666643, 2.3333333333333357, -6.0, -9.666666666666664, -3.6666666666666643, -0.6666666666666643, -11.0]\n",
      "['At', 'the', 'end', 'of', 'a', 'conference', 'in', 'a', 'hotel', 'lobby', 'once', ',', 'I', '&apos;m', 'literally', 'on', 'my', 'way', 'out', 'the', 'door', 'and', 'a', 'colleague', 'chases', 'me', 'down', '.', '&quot;', 'Emily', ',', 'I', 'just', 'have', 'a', 'really', 'quick', 'question', '.']\n",
      "(29.33333333333333, 24, 'chases')\n",
      "\n"
     ]
    }
   ],
   "source": [
    "# List with original source sentences\n",
    "samples = []\n",
    "with open('tok.en_original.en', 'r') as fin:\n",
    "    for line in fin:\n",
    "        samples.append(line.strip().split(\" \"))\n",
    "\n",
    "unique_result = []\n",
    "for c in range(0, len(unique_original)):\n",
    "    subtracted = [el - unique_original[c] for el in unique_average[c]]\n",
    "    print(subtracted)\n",
    "    unique_result.append(subtracted)\n",
    "    print(samples[c])\n",
    "    idx = subtracted.index(max(subtracted))\n",
    "    print((max(subtracted), idx, samples[c][idx]), end='\\n\\n')"
   ]
  },
  {
   "cell_type": "code",
   "execution_count": null,
   "id": "f9a31cf8-bb4b-4fd5-b0f2-709699841455",
   "metadata": {},
   "outputs": [],
   "source": []
  }
 ],
 "metadata": {
  "kernelspec": {
   "display_name": "Python 3 (ipykernel)",
   "language": "python",
   "name": "python3"
  },
  "language_info": {
   "codemirror_mode": {
    "name": "ipython",
    "version": 3
   },
   "file_extension": ".py",
   "mimetype": "text/x-python",
   "name": "python",
   "nbconvert_exporter": "python",
   "pygments_lexer": "ipython3",
   "version": "3.8.17"
  }
 },
 "nbformat": 4,
 "nbformat_minor": 5
}
