{
 "cells": [
  {
   "cell_type": "code",
   "execution_count": 9,
   "id": "ea107ba1-8d64-4983-8383-c9647dac0715",
   "metadata": {
    "scrolled": true
   },
   "outputs": [
    {
     "name": "stdout",
     "output_type": "stream",
     "text": [
      "huggingface/tokenizers: The current process just got forked, after parallelism has already been used. Disabling parallelism to avoid deadlocks...\n",
      "To disable this warning, you can either:\n",
      "\t- Avoid using `tokenizers` before the fork if possible\n",
      "\t- Explicitly set the environment variable TOKENIZERS_PARALLELISM=(true | false)\n",
      "\n",
      "     active environment : bert\n",
      "    active env location : /home/vzhekova/miniconda3/envs/bert\n",
      "            shell level : 1\n",
      "       user config file : /home/vzhekova/.condarc\n",
      " populated config files : /home/vzhekova/.condarc\n",
      "          conda version : 23.7.2\n",
      "    conda-build version : not installed\n",
      "         python version : 3.9.16.final.0\n",
      "       virtual packages : __archspec=1=x86_64\n",
      "                          __cuda=11.2=0\n",
      "                          __glibc=2.23=0\n",
      "                          __linux=4.4.0=0\n",
      "                          __unix=0=0\n",
      "       base environment : /home/vzhekova/miniconda3  (writable)\n",
      "      conda av data dir : /home/vzhekova/miniconda3/etc/conda\n",
      "  conda av metadata url : None\n",
      "           channel URLs : https://repo.anaconda.com/pkgs/main/linux-64\n",
      "                          https://repo.anaconda.com/pkgs/main/noarch\n",
      "                          https://repo.anaconda.com/pkgs/r/linux-64\n",
      "                          https://repo.anaconda.com/pkgs/r/noarch\n",
      "          package cache : /home/vzhekova/miniconda3/pkgs\n",
      "                          /home/vzhekova/.conda/pkgs\n",
      "       envs directories : /home/vzhekova/miniconda3/envs\n",
      "                          /home/vzhekova/.conda/envs\n",
      "               platform : linux-64\n",
      "             user-agent : conda/23.7.2 requests/2.31.0 CPython/3.9.16 Linux/4.4.0-133-generic ubuntu/16.04.5 glibc/2.23\n",
      "                UID:GID : 12591:131\n",
      "             netrc file : None\n",
      "           offline mode : False\n",
      "\n",
      "\n"
     ]
    }
   ],
   "source": [
    "!conda info"
   ]
  },
  {
   "cell_type": "code",
   "execution_count": 24,
   "id": "57f93f58-b85b-4cc7-b82f-549cb93f7683",
   "metadata": {},
   "outputs": [],
   "source": [
    "PATH=\"/export/data4/vzhekova/biases-data/Test_De/Statistics/BERT\""
   ]
  },
  {
   "cell_type": "code",
   "execution_count": 6,
   "id": "818d4dec-995b-42dd-b824-050d02d80cdc",
   "metadata": {},
   "outputs": [
    {
     "name": "stderr",
     "output_type": "stream",
     "text": [
      "Some weights of the model checkpoint at bert-base-uncased were not used when initializing BertForMaskedLM: ['bert.pooler.dense.weight', 'cls.seq_relationship.weight', 'bert.pooler.dense.bias', 'cls.seq_relationship.bias']\n",
      "- This IS expected if you are initializing BertForMaskedLM from the checkpoint of a model trained on another task or with another architecture (e.g. initializing a BertForSequenceClassification model from a BertForPreTraining model).\n",
      "- This IS NOT expected if you are initializing BertForMaskedLM from the checkpoint of a model that you expect to be exactly identical (initializing a BertForSequenceClassification model from a BertForSequenceClassification model).\n"
     ]
    },
    {
     "name": "stdout",
     "output_type": "stream",
     "text": [
      "fashion -> 0.10731080919504166\n",
      "role -> 0.08774487674236298\n",
      "new -> 0.05338389426469803\n",
      "super -> 0.04667220637202263\n",
      "fine -> 0.027095934376120567\n",
      "fashion\n"
     ]
    }
   ],
   "source": [
    "# Test\n",
    "from transformers import pipeline\n",
    "unmasker = pipeline('fill-mask', model='bert-base-uncased')\n",
    "filled = unmasker(\"Hello I'm a [MASK] model.\")\n",
    "for r in filled:\n",
    "    print(r['token_str'], \"->\", r['score'])\n",
    "print(filled[0]['token_str'])"
   ]
  },
  {
   "cell_type": "markdown",
   "id": "50e0424e-2872-4563-a88c-db70bc90af3c",
   "metadata": {},
   "source": [
    "# Extract sentences from MuST-SHE"
   ]
  },
  {
   "cell_type": "code",
   "execution_count": 25,
   "id": "f5ab101e-7d44-4e9c-a64a-bfc427189f86",
   "metadata": {},
   "outputs": [
    {
     "name": "stdout",
     "output_type": "stream",
     "text": [
      "/export/data4/vzhekova/biases-data/Test_De/Statistics/BERT\n"
     ]
    }
   ],
   "source": [
    "%cd $PATH"
   ]
  },
  {
   "cell_type": "code",
   "execution_count": 43,
   "id": "4fc32b51-7307-4824-826b-370853158ea9",
   "metadata": {},
   "outputs": [],
   "source": [
    "# Extract the 4th category of gender phenomena: 14M, 20F => 34 sentences total\n",
    "!awk -F '\\t' '$10 == \"4F\" || $10 == \"4M\" {print $5, $10}' en-fr.tsv > data.txt"
   ]
  },
  {
   "cell_type": "markdown",
   "id": "9b0bd409-9beb-4b36-aa19-fb7f97d462bc",
   "metadata": {},
   "source": [
    "# Masking with BERT"
   ]
  },
  {
   "cell_type": "markdown",
   "id": "d6f34040-fbed-44a1-857a-a12813e18c6e",
   "metadata": {},
   "source": [
    "- For each sentence unmask each word"
   ]
  },
  {
   "cell_type": "code",
   "execution_count": 52,
   "id": "b1c66417-a2a5-47ab-8729-5243376992a9",
   "metadata": {},
   "outputs": [
    {
     "name": "stderr",
     "output_type": "stream",
     "text": [
      "Some weights of the model checkpoint at bert-base-uncased were not used when initializing BertForMaskedLM: ['bert.pooler.dense.bias', 'bert.pooler.dense.weight', 'cls.seq_relationship.weight', 'cls.seq_relationship.bias']\n",
      "- This IS expected if you are initializing BertForMaskedLM from the checkpoint of a model trained on another task or with another architecture (e.g. initializing a BertForSequenceClassification model from a BertForPreTraining model).\n",
      "- This IS NOT expected if you are initializing BertForMaskedLM from the checkpoint of a model that you expect to be exactly identical (initializing a BertForSequenceClassification model from a BertForSequenceClassification model).\n"
     ]
    },
    {
     "ename": "OSError",
     "evalue": "[Errno 28] No space left on device",
     "output_type": "error",
     "traceback": [
      "\u001b[0;31m---------------------------------------------------------------------------\u001b[0m",
      "\u001b[0;31mTypeError\u001b[0m                                 Traceback (most recent call last)",
      "Cell \u001b[0;32mIn[52], line 16\u001b[0m\n\u001b[1;32m     15\u001b[0m \u001b[38;5;66;03m#print(unmasked[0]['token_str'])\u001b[39;00m\n\u001b[0;32m---> 16\u001b[0m newSentence \u001b[38;5;241m=\u001b[39m \u001b[38;5;28mlist\u001b[39m(\u001b[38;5;28mmap\u001b[39m(\u001b[38;5;28;01mlambda\u001b[39;00m x: x\u001b[38;5;241m.\u001b[39mreplace(\u001b[38;5;124m'\u001b[39m\u001b[38;5;124m[MASK]\u001b[39m\u001b[38;5;124m'\u001b[39m, unmasked[\u001b[38;5;241m0\u001b[39m][\u001b[38;5;124m'\u001b[39m\u001b[38;5;124mtoken_str\u001b[39m\u001b[38;5;124m'\u001b[39m]), sentenceWithMask))\n\u001b[1;32m     17\u001b[0m \u001b[38;5;66;03m#print(newSentence)\u001b[39;00m\n",
      "Cell \u001b[0;32mIn[52], line 16\u001b[0m, in \u001b[0;36m<lambda>\u001b[0;34m(x)\u001b[0m\n\u001b[1;32m     15\u001b[0m \u001b[38;5;66;03m#print(unmasked[0]['token_str'])\u001b[39;00m\n\u001b[0;32m---> 16\u001b[0m newSentence \u001b[38;5;241m=\u001b[39m \u001b[38;5;28mlist\u001b[39m(\u001b[38;5;28mmap\u001b[39m(\u001b[38;5;28;01mlambda\u001b[39;00m x: x\u001b[38;5;241m.\u001b[39mreplace(\u001b[38;5;124m'\u001b[39m\u001b[38;5;124m[MASK]\u001b[39m\u001b[38;5;124m'\u001b[39m, \u001b[43munmasked\u001b[49m\u001b[43m[\u001b[49m\u001b[38;5;241;43m0\u001b[39;49m\u001b[43m]\u001b[49m\u001b[43m[\u001b[49m\u001b[38;5;124;43m'\u001b[39;49m\u001b[38;5;124;43mtoken_str\u001b[39;49m\u001b[38;5;124;43m'\u001b[39;49m\u001b[43m]\u001b[49m), sentenceWithMask))\n\u001b[1;32m     17\u001b[0m \u001b[38;5;66;03m#print(newSentence)\u001b[39;00m\n",
      "\u001b[0;31mTypeError\u001b[0m: list indices must be integers or slices, not str",
      "\nDuring handling of the above exception, another exception occurred:\n",
      "\u001b[0;31mOSError\u001b[0m                                   Traceback (most recent call last)",
      "\u001b[0;31mOSError\u001b[0m: [Errno 28] No space left on device",
      "\nDuring handling of the above exception, another exception occurred:\n",
      "\u001b[0;31mOSError\u001b[0m                                   Traceback (most recent call last)",
      "Cell \u001b[0;32mIn[52], line 7\u001b[0m\n\u001b[1;32m      2\u001b[0m unmasker \u001b[38;5;241m=\u001b[39m pipeline(\u001b[38;5;124m'\u001b[39m\u001b[38;5;124mfill-mask\u001b[39m\u001b[38;5;124m'\u001b[39m, model\u001b[38;5;241m=\u001b[39m\u001b[38;5;124m'\u001b[39m\u001b[38;5;124mbert-base-uncased\u001b[39m\u001b[38;5;124m'\u001b[39m)\n\u001b[1;32m      4\u001b[0m \u001b[38;5;66;03m# filled = unmasker(\"Hello I'm a [MASK] model.\")\u001b[39;00m\n\u001b[1;32m      5\u001b[0m \u001b[38;5;66;03m# print(filled[0]['token_str'])\u001b[39;00m\n\u001b[0;32m----> 7\u001b[0m \u001b[38;5;28;43;01mwith\u001b[39;49;00m\u001b[43m \u001b[49m\u001b[38;5;28;43mopen\u001b[39;49m\u001b[43m(\u001b[49m\u001b[38;5;124;43m'\u001b[39;49m\u001b[38;5;124;43msamples.txt\u001b[39;49m\u001b[38;5;124;43m'\u001b[39;49m\u001b[43m)\u001b[49m\u001b[43m \u001b[49m\u001b[38;5;28;43;01mas\u001b[39;49;00m\u001b[43m \u001b[49m\u001b[43min_file\u001b[49m\u001b[43m,\u001b[49m\u001b[43m \u001b[49m\u001b[38;5;28;43mopen\u001b[39;49m\u001b[43m(\u001b[49m\u001b[38;5;124;43m'\u001b[39;49m\u001b[38;5;124;43mtest.txt\u001b[39;49m\u001b[38;5;124;43m'\u001b[39;49m\u001b[43m,\u001b[49m\u001b[43m \u001b[49m\u001b[38;5;124;43m'\u001b[39;49m\u001b[38;5;124;43mw\u001b[39;49m\u001b[38;5;124;43m'\u001b[39;49m\u001b[43m)\u001b[49m\u001b[43m \u001b[49m\u001b[38;5;28;43;01mas\u001b[39;49;00m\u001b[43m \u001b[49m\u001b[43mout_file\u001b[49m\u001b[43m:\u001b[49m\u001b[43m \u001b[49m\n\u001b[1;32m      8\u001b[0m \u001b[43m    \u001b[49m\u001b[38;5;28;43;01mfor\u001b[39;49;00m\u001b[43m \u001b[49m\u001b[43mline\u001b[49m\u001b[43m \u001b[49m\u001b[38;5;129;43;01min\u001b[39;49;00m\u001b[43m \u001b[49m\u001b[43min_file\u001b[49m\u001b[43m:\u001b[49m\n\u001b[1;32m      9\u001b[0m \u001b[43m        \u001b[49m\u001b[43msentence\u001b[49m\u001b[43m \u001b[49m\u001b[38;5;241;43m=\u001b[39;49m\u001b[43m \u001b[49m\u001b[43mline\u001b[49m\u001b[38;5;241;43m.\u001b[39;49m\u001b[43msplit\u001b[49m\u001b[43m(\u001b[49m\u001b[38;5;124;43m'\u001b[39;49m\u001b[38;5;124;43m \u001b[39;49m\u001b[38;5;124;43m'\u001b[39;49m\u001b[43m)\u001b[49m\n",
      "\u001b[0;31mOSError\u001b[0m: [Errno 28] No space left on device"
     ]
    }
   ],
   "source": [
    "from transformers import pipeline\n",
    "unmasker = pipeline('fill-mask', model='bert-base-uncased')\n",
    "\n",
    "# filled = unmasker(\"Hello I'm a [MASK] model.\")\n",
    "# print(filled[0]['token_str'])\n",
    "\n",
    "with open('samples.txt') as in_file, open('test.txt', 'w') as out_file: \n",
    "    for line in in_file:\n",
    "        sentence = line.split(' ')\n",
    "        #print(sentence)\n",
    "        for token in sentence:\n",
    "            sentenceWithMask = list(map(lambda x: x.replace(token, '[MASK]'), sentence))\n",
    "            #print(sentenceWithMask)\n",
    "            unmasked = unmasker(' '.join(sentenceWithMask))\n",
    "            #print(unmasked[0]['token_str'])\n",
    "            newSentence = list(map(lambda x: x.replace('[MASK]', unmasked[0]['token_str']), sentenceWithMask))\n",
    "            #print(newSentence)\n",
    "            print(' '.join(newSentence), end='', file=out_file)"
   ]
  },
  {
   "cell_type": "code",
   "execution_count": null,
   "id": "97ba342a-f2e3-4789-8ee7-cf405b69cb36",
   "metadata": {},
   "outputs": [],
   "source": []
  }
 ],
 "metadata": {
  "kernelspec": {
   "display_name": "Python 3 (ipykernel)",
   "language": "python",
   "name": "python3"
  },
  "language_info": {
   "codemirror_mode": {
    "name": "ipython",
    "version": 3
   },
   "file_extension": ".py",
   "mimetype": "text/x-python",
   "name": "python",
   "nbconvert_exporter": "python",
   "pygments_lexer": "ipython3",
   "version": "3.11.4"
  }
 },
 "nbformat": 4,
 "nbformat_minor": 5
}
