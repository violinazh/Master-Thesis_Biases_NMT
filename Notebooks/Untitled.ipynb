{
 "cells": [
  {
   "cell_type": "code",
   "execution_count": 1,
   "id": "d84421c3-9d15-40f3-8ed4-7df78da6d6bc",
   "metadata": {},
   "outputs": [],
   "source": [
    "import torch\n",
    "\n",
    "PATH=\"/export/data4/vzhekova/biases-data/Test_De/Statistics\"\n",
    "FASTBPE=\"/home/vzhekova/fastBPE/fast\" # path to the fastBPE tool"
   ]
  },
  {
   "cell_type": "code",
   "execution_count": 2,
   "id": "d00cd1d0-be64-41c0-aac7-dbf8804cd7ba",
   "metadata": {},
   "outputs": [
    {
     "name": "stdout",
     "output_type": "stream",
     "text": [
      "/export/data4/vzhekova/biases-data/Test_De/Statistics\n"
     ]
    }
   ],
   "source": [
    "%cd $PATH"
   ]
  },
  {
   "cell_type": "code",
   "execution_count": 3,
   "id": "97932f21-421e-4e13-a880-c07dc761dd3c",
   "metadata": {},
   "outputs": [],
   "source": [
    "import csv"
   ]
  },
  {
   "cell_type": "code",
   "execution_count": 21,
   "id": "ce969ae0-6962-4f72-9fd8-b0eeeff7300b",
   "metadata": {},
   "outputs": [],
   "source": [
    "# Extract tokens\n",
    "with open('en.csv') as csv_file, open('tokens.txt', 'w') as out_file:\n",
    "    csv_reader = csv.reader(csv_file)\n",
    "    for row in csv_reader:\n",
    "        position = int(row[1])\n",
    "        sentence = row[2].split(\" \")\n",
    "        print(sentence[position], end='\\n', file=out_file)"
   ]
  },
  {
   "cell_type": "code",
   "execution_count": 11,
   "id": "cbc16cf5-e397-4abf-a0ad-eeebc9967e22",
   "metadata": {},
   "outputs": [],
   "source": [
    "# Extract gender ambiguous words\n",
    "with open('en.csv') as csv_file, open('words.txt', 'w') as out_file:\n",
    "    csv_reader = csv.reader(csv_file)\n",
    "    for row in csv_reader:\n",
    "        print(row[3], end='\\n', file=out_file)"
   ]
  },
  {
   "cell_type": "code",
   "execution_count": 24,
   "id": "32c9d8df-1e84-4e24-9c23-f0f674060f4a",
   "metadata": {},
   "outputs": [],
   "source": [
    "# Modify gender ambiguous words with gender\n",
    "\n",
    "# List with source words\n",
    "words = set()\n",
    "with open('words.txt', 'r') as fin:\n",
    "    for line in fin:\n",
    "        words.add(line.strip())\n",
    "        \n",
    "#print(len(words))\n",
    "\n",
    "with open('en.csv') as csv_file, open('en_disambiguated.txt', 'w') as out_file:\n",
    "    csv_reader = csv.reader(csv_file)\n",
    "    for row in csv_reader:\n",
    "        modified = row[0] + \" \" + row[3]\n",
    "        position = int(row[1])\n",
    "        sentence = row[2].split(\" \")\n",
    "        sentence[position] = modified\n",
    "        for token in sentence:\n",
    "            if (token.replace(',', '') in words): # tokens often contain \",\"\n",
    "                token_pos = sentence.index(token)\n",
    "                sentence[token_pos] = \"male \" + token\n",
    "        print(' '.join(sentence), end='\\n', file=out_file)"
   ]
  },
  {
   "cell_type": "code",
   "execution_count": 17,
   "id": "b06af54c-ced3-4176-87cb-5f6f7d0aa343",
   "metadata": {},
   "outputs": [],
   "source": [
    "# Modify gender ambiguous words with gender; does not cover all cases unfortunately\n",
    "with open('en.csv') as csv_file, open('en_disambiguated.txt', 'w') as out_file:\n",
    "    csv_reader = csv.reader(csv_file)\n",
    "    \n",
    "    counter = 0\n",
    "    temp_sent = []\n",
    "    temp_gender = []\n",
    "    temp_words = []\n",
    "    \n",
    "    for row in csv_reader:\n",
    "        counter += 1\n",
    "        temp_gender.append(row[0])\n",
    "        if (row[3] == \"construction worker\"): # special case for 2-part word\n",
    "            temp_words.append(\"construction\")\n",
    "        else:\n",
    "            temp_words.append(row[3])    \n",
    "        temp_sent.append(row[2].split(\" \"))\n",
    "        \n",
    "        if (counter == 2): # write 2 sentences to file\n",
    "            for sent in temp_sent:\n",
    "                for token in sent:\n",
    "                    if (temp_words[0] in token):\n",
    "                        sent[sent.index(token)] = temp_gender[0] + \" \" + temp_words[0]\n",
    "                    elif (temp_words[1] in token):\n",
    "                        sent[sent.index(token)] = temp_gender[1] + \" \" + temp_words[1]\n",
    "                print(' '.join(sent), end='\\n', file=out_file)\n",
    "            \n",
    "            # reset all temp variables\n",
    "            counter = 0\n",
    "            temp_sent = []\n",
    "            temp_gender = []\n",
    "            temp_words = []"
   ]
  },
  {
   "cell_type": "code",
   "execution_count": null,
   "id": "e899a981-ee72-4ba1-8a90-a0faea6d9e80",
   "metadata": {},
   "outputs": [],
   "source": []
  }
 ],
 "metadata": {
  "kernelspec": {
   "display_name": "Python 3 (ipykernel)",
   "language": "python",
   "name": "python3"
  },
  "language_info": {
   "codemirror_mode": {
    "name": "ipython",
    "version": 3
   },
   "file_extension": ".py",
   "mimetype": "text/x-python",
   "name": "python",
   "nbconvert_exporter": "python",
   "pygments_lexer": "ipython3",
   "version": "3.8.13"
  }
 },
 "nbformat": 4,
 "nbformat_minor": 5
}
