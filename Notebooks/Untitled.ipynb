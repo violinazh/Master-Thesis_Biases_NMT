{
 "cells": [
  {
   "cell_type": "code",
   "execution_count": 16,
   "id": "e046296e-1c59-4686-89ea-72610bc7f4f7",
   "metadata": {},
   "outputs": [
    {
     "name": "stdout",
     "output_type": "stream",
     "text": [
      "Reinigungskraft Reinigungskraft ['Fem']\n",
      "Entwicklerin Entwicklerin ['Fem']\n"
     ]
    }
   ],
   "source": [
    "import spacy\n",
    "\n",
    "nlp = spacy.load('de_core_news_sm')\n",
    "doc = nlp(\"Entwickler\") \n",
    "for token in doc:\n",
    "     print(token, token.lemma_, token.morph.get(\"Gender\")) \n",
    "doc = nlp(\"Entwicklerin\") \n",
    "for token in doc:\n",
    "     print(token, token.lemma_, token.morph.get(\"Gender\"))   "
   ]
  },
  {
   "cell_type": "code",
   "execution_count": null,
   "id": "0c2e7449-eb4d-4f69-8ee1-b2ddc19f87e9",
   "metadata": {},
   "outputs": [],
   "source": []
  }
 ],
 "metadata": {
  "kernelspec": {
   "display_name": "Python 3 (ipykernel)",
   "language": "python",
   "name": "python3"
  },
  "language_info": {
   "codemirror_mode": {
    "name": "ipython",
    "version": 3
   },
   "file_extension": ".py",
   "mimetype": "text/x-python",
   "name": "python",
   "nbconvert_exporter": "python",
   "pygments_lexer": "ipython3",
   "version": "3.8.17"
  }
 },
 "nbformat": 4,
 "nbformat_minor": 5
}
